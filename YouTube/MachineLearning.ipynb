{
 "cells": [
  {
   "cell_type": "markdown",
   "metadata": {},
   "source": [
    "# Linear Regression"
   ]
  },
  {
   "cell_type": "code",
   "execution_count": 2,
   "metadata": {},
   "outputs": [],
   "source": [
    "import pandas as pd\n",
    "from sklearn import linear_model\n",
    "from sklearn.metrics import r2_score\n",
    "import matplotlib.pyplot as plt\n",
    "import numpy as np"
   ]
  },
  {
   "cell_type": "code",
   "execution_count": 253,
   "metadata": {},
   "outputs": [],
   "source": [
    "df = pd.read_csv('Book1.csv')\n",
    "area = df[['area']]\n",
    "price = df['price']"
   ]
  },
  {
   "cell_type": "code",
   "execution_count": 254,
   "metadata": {},
   "outputs": [],
   "source": [
    "reg = linear_model.LinearRegression()\n",
    "reg.fit(area,price)\n",
    "predictedprice = reg.predict(area)"
   ]
  },
  {
   "cell_type": "code",
   "execution_count": 255,
   "metadata": {},
   "outputs": [
    {
     "data": {
      "image/png": "[encoded data removed]",
      "text/plain": [
       "<Figure size 432x288 with 1 Axes>"
      ]
     },
     "metadata": {
      "needs_background": "light"
     },
     "output_type": "display_data"
    }
   ],
   "source": [
    "plt.scatter(area,price)\n",
    "plt.title('Price Prediction of a home')\n",
    "plt.xlabel('area')\n",
    "plt.ylabel('price')\n",
    "plt.plot(area,predictedprice)\n",
    "plt.show()"
   ]
  },
  {
   "cell_type": "code",
   "execution_count": 256,
   "metadata": {},
   "outputs": [
    {
     "data": {
      "text/plain": [
       "array([15.53072626])"
      ]
     },
     "execution_count": 256,
     "metadata": {},
     "output_type": "execute_result"
    }
   ],
   "source": [
    "reg.coef_ #the value of m"
   ]
  },
  {
   "cell_type": "code",
   "execution_count": 257,
   "metadata": {},
   "outputs": [
    {
     "data": {
      "text/plain": [
       "-831.0055865921759"
      ]
     },
     "execution_count": 257,
     "metadata": {},
     "output_type": "execute_result"
    }
   ],
   "source": [
    "reg.intercept_ #the value of b"
   ]
  },
  {
   "cell_type": "code",
   "execution_count": 258,
   "metadata": {},
   "outputs": [
    {
     "data": {
      "text/plain": [
       "0.9829349799524965"
      ]
     },
     "execution_count": 258,
     "metadata": {},
     "output_type": "execute_result"
    }
   ],
   "source": [
    "r2_score(price,predictedprice) #how much our model is accurate"
   ]
  },
  {
   "cell_type": "code",
   "execution_count": 259,
   "metadata": {},
   "outputs": [
    {
     "data": {
      "text/plain": [
       "array([3206.98324022])"
      ]
     },
     "execution_count": 259,
     "metadata": {},
     "output_type": "execute_result"
    }
   ],
   "source": [
    "reg.predict([[260]])"
   ]
  },
  {
   "cell_type": "markdown",
   "metadata": {},
   "source": [
    "# Multiple Variable"
   ]
  },
  {
   "cell_type": "code",
   "execution_count": 260,
   "metadata": {},
   "outputs": [
    {
     "data": {
      "text/html": [
       "<div>\n",
       "<style scoped>\n",
       "    .dataframe tbody tr th:only-of-type {\n",
       "        vertical-align: middle;\n",
       "    }\n",
       "\n",
       "    .dataframe tbody tr th {\n",
       "        vertical-align: top;\n",
       "    }\n",
       "\n",
       "    .dataframe thead th {\n",
       "        text-align: right;\n",
       "    }\n",
       "</style>\n",
       "<table border=\"1\" class=\"dataframe\">\n",
       "  <thead>\n",
       "    <tr style=\"text-align: right;\">\n",
       "      <th></th>\n",
       "      <th>area</th>\n",
       "      <th>age</th>\n",
       "      <th>bedrooms</th>\n",
       "      <th>price</th>\n",
       "    </tr>\n",
       "  </thead>\n",
       "  <tbody>\n",
       "    <tr>\n",
       "      <th>0</th>\n",
       "      <td>200</td>\n",
       "      <td>10</td>\n",
       "      <td>2.0</td>\n",
       "      <td>2500</td>\n",
       "    </tr>\n",
       "    <tr>\n",
       "      <th>1</th>\n",
       "      <td>250</td>\n",
       "      <td>12</td>\n",
       "      <td>5.0</td>\n",
       "      <td>3000</td>\n",
       "    </tr>\n",
       "    <tr>\n",
       "      <th>2</th>\n",
       "      <td>350</td>\n",
       "      <td>15</td>\n",
       "      <td>8.0</td>\n",
       "      <td>5000</td>\n",
       "    </tr>\n",
       "    <tr>\n",
       "      <th>3</th>\n",
       "      <td>500</td>\n",
       "      <td>30</td>\n",
       "      <td>NaN</td>\n",
       "      <td>6000</td>\n",
       "    </tr>\n",
       "    <tr>\n",
       "      <th>4</th>\n",
       "      <td>700</td>\n",
       "      <td>32</td>\n",
       "      <td>10.0</td>\n",
       "      <td>10000</td>\n",
       "    </tr>\n",
       "    <tr>\n",
       "      <th>5</th>\n",
       "      <td>800</td>\n",
       "      <td>35</td>\n",
       "      <td>12.0</td>\n",
       "      <td>12000</td>\n",
       "    </tr>\n",
       "  </tbody>\n",
       "</table>\n",
       "</div>"
      ],
      "text/plain": [
       "   area  age  bedrooms  price\n",
       "0   200   10       2.0   2500\n",
       "1   250   12       5.0   3000\n",
       "2   350   15       8.0   5000\n",
       "3   500   30       NaN   6000\n",
       "4   700   32      10.0  10000\n",
       "5   800   35      12.0  12000"
      ]
     },
     "execution_count": 260,
     "metadata": {},
     "output_type": "execute_result"
    }
   ],
   "source": [
    "df = pd.read_csv('multiplevariable.csv')\n",
    "df"
   ]
  },
  {
   "cell_type": "code",
   "execution_count": 261,
   "metadata": {},
   "outputs": [
    {
     "data": {
      "text/plain": [
       "7"
      ]
     },
     "execution_count": 261,
     "metadata": {},
     "output_type": "execute_result"
    }
   ],
   "source": [
    "import math\n",
    "bedroom = math.floor(df.bedrooms.mean())\n",
    "bedroom"
   ]
  },
  {
   "cell_type": "code",
   "execution_count": 262,
   "metadata": {},
   "outputs": [],
   "source": [
    "df.bedrooms = df.bedrooms.fillna(bedroom)"
   ]
  },
  {
   "cell_type": "code",
   "execution_count": 263,
   "metadata": {},
   "outputs": [],
   "source": [
    "features = df[['area','age','bedrooms']]\n",
    "price = df.price"
   ]
  },
  {
   "cell_type": "code",
   "execution_count": 264,
   "metadata": {},
   "outputs": [],
   "source": [
    "reg = linear_model.LinearRegression()"
   ]
  },
  {
   "cell_type": "code",
   "execution_count": 265,
   "metadata": {},
   "outputs": [
    {
     "data": {
      "text/plain": [
       "array([821.07737137])"
      ]
     },
     "execution_count": 265,
     "metadata": {},
     "output_type": "execute_result"
    }
   ],
   "source": [
    "reg.fit(features,price)\n",
    "reg.predict([[230,23,12]])"
   ]
  },
  {
   "cell_type": "code",
   "execution_count": 266,
   "metadata": {},
   "outputs": [
    {
     "data": {
      "text/plain": [
       "array([  22.79457097, -158.98704087,  -20.33202975])"
      ]
     },
     "execution_count": 266,
     "metadata": {},
     "output_type": "execute_result"
    }
   ],
   "source": [
    "reg.coef_"
   ]
  },
  {
   "cell_type": "code",
   "execution_count": 267,
   "metadata": {},
   "outputs": [
    {
     "data": {
      "text/plain": [
       "-520.9876543209848"
      ]
     },
     "execution_count": 267,
     "metadata": {},
     "output_type": "execute_result"
    }
   ],
   "source": [
    "reg.intercept_"
   ]
  },
  {
   "cell_type": "markdown",
   "metadata": {},
   "source": [
    "# Gradient Descent"
   ]
  },
  {
   "cell_type": "code",
   "execution_count": 268,
   "metadata": {},
   "outputs": [
    {
     "name": "stdout",
     "output_type": "stream",
     "text": [
      "m value : 4.340000000000001 b value : 1.2600000000000002 and cost : 89.0\n",
      "m value : 1.4671999999999992 b value : 0.5207999999999996 and cost : 38.82960000000004\n",
      "m value : 3.328976000000001 b value : 1.0916640000000002 and cost : 17.194573440000028\n",
      "m value : 2.083854079999999 b value : 0.8006611199999998 and cost : 7.852899119616018\n",
      "m value : 2.878441126400001 b value : 1.0733498496000002 and cost : 3.807896852794995\n",
      "m value : 2.3348348549119993 b value : 0.9741355975679997 and cost : 2.0455353703196275\n",
      "m value : 2.6700522273689606 b value : 1.11712597484544 and cost : 1.2674046781862842\n",
      "m value : 2.4289788877856764 b value : 1.0993064028721151 and cost : 0.9141408495650529\n",
      "m value : 2.5666427113894463 b value : 1.185232373600035 and cost : 0.7447433460834745\n",
      "m value : 2.456215338937684 b value : 1.2013099025124625 and cost : 0.655356033717585\n",
      "m value : 2.5090935579184164 b value : 1.2615160738068905 and cost : 0.6012027822872151\n",
      "m value : 2.4552527277251612 b value : 1.291084529148191 and cost : 0.5629593152683938\n",
      "m value : 2.4719080247861727 b value : 1.3391265494228763 and cost : 0.5322670162877721\n",
      "m value : 2.4427365158578587 b value : 1.3734474620934811 and cost : 0.5054925843755451\n",
      "m value : 2.4440743473574944 b value : 1.4152154807400932 and cost : 0.4810397848287141\n",
      "m value : 2.425809350516114 b value : 1.4505740875463324 and cost : 0.45819135172106285\n",
      "m value : 2.420821833951839 b value : 1.488653788073078 and cost : 0.4366100423109829\n",
      "m value : 2.407521618675314 b value : 1.5234970874830747 and cost : 0.4161236397068253\n",
      "m value : 2.4000695491724393 b value : 1.5590484153918123 and cost : 0.396632275909914\n",
      "m value : 2.3891621089823216 b value : 1.592752426584534 and cost : 0.3780684501092162\n",
      "m value : 2.3808964419840417 b value : 1.6263190010901243 and cost : 0.3603797494432663\n",
      "m value : 2.3712619408707654 b value : 1.6586578353042094 and cost : 0.3435213520080254\n",
      "m value : 2.3628822611020186 b value : 1.6905157231958987 and cost : 0.3274527463006757\n",
      "m value : 2.354026975262632 b value : 1.721432972285625 and cost : 0.3121362693795268\n",
      "m value : 2.3458235849982163 b value : 1.751741026555332 and cost : 0.29753643075453834\n",
      "m value : 2.337524032947724 b value : 1.7812513771383347 and cost : 0.28361957691936984\n",
      "m value : 2.329611443810129 b value : 1.810116090500924 and cost : 0.2703537046909404\n",
      "m value : 2.3217610623321425 b value : 1.8382630314305404 and cost : 0.2577083406227935\n",
      "m value : 2.3141785531398162 b value : 1.865766560850765 and cost : 0.24565445076056236\n",
      "m value : 2.3067216257471777 b value : 1.892604250012935 and cost : 0.23416436525938653\n",
      "m value : 2.2994765370910915 b value : 1.9188165721973094 and cost : 0.22321171111103721\n",
      "m value : 2.2923797096479404 b value : 1.9444021065114276 and cost : 0.21277134999221145\n",
      "m value : 2.285466072055313 b value : 1.9693863335476929 and cost : 0.20281931987046686\n",
      "m value : 2.2787060610001 b value : 1.9937764965877844 and cost : 0.19333277970786014\n",
      "m value : 2.2721125984930763 b value : 2.0175912414454524 and cost : 0.18428995690882358\n",
      "m value : 2.265670875406649 b value : 2.0408411762759973 and cost : 0.17567009729407215\n",
      "m value : 2.259384433244491 b value : 2.0635416439265652 and cost : 0.16745341744369446\n",
      "m value : 2.2532449155988172 b value : 2.08570435181416 and cost : 0.15962105928193038\n",
      "m value : 2.2472519178146917 b value : 2.1073428780086743 and cost : 0.1521550467916044\n",
      "m value : 2.2413999556164232 b value : 2.1284690696052895 and cost : 0.1450382447555195\n",
      "m value : 2.23568701473291 b value : 2.149095418501651 and cost : 0.138254319428653\n",
      "m value : 2.2301089362735356 b value : 2.1692335137235976 and cost : 0.1317877010502888\n",
      "m value : 2.22466309864838 b value : 2.188895068567409 and cost : 0.12562354810976378\n",
      "m value : 2.219345997931563 b value : 2.2080912575356524 and cost : 0.11974771328371075\n",
      "m value : 2.2141548329519822 b value : 2.2268331623494046 and cost : 0.1141467109665614\n",
      "m value : 2.20908646201918 b value : 2.2451314897806554 and cost : 0.10880768631977378\n",
      "m value : 2.2041380848017673 b value : 2.262996767163308 and cost : 0.10371838576873889\n",
      "m value : 2.199306791998456 b value : 2.2804392241437026 and cost : 0.09886712887964438\n",
      "m value : 2.194589858180479 b value : 2.297468880124233 and cost : 0.09424278155175853\n",
      "m value : 2.1899845469303636 b value : 2.314095496471039 and cost : 0.08983473046359602\n",
      "m value : 2.1854882361397676 b value : 2.3303286172543407 and cost : 0.08563285871432734\n",
      "m value : 2.181098333237702 b value : 2.3461775516600305 and cost : 0.08162752260451833\n",
      "m value : 2.176812328354428 b value : 2.3616513944677915 and cost : 0.07780952950291159\n",
      "m value : 2.1726277570121364 b value : 2.3767590213334406 and cost : 0.07417011674845725\n",
      "m value : 2.1685422222534014 b value : 2.3915091004016618 and cost : 0.07070093153916268\n",
      "m value : 2.164553377814465 b value : 2.4059100929990005 and cost : 0.06739401176160774\n",
      "m value : 2.1606589369206084 b value : 2.419970261297065 and cost : 0.06424176771713198\n",
      "m value : 2.156856664318104 b value : 2.4336976712088205 and cost : 0.06123696470274451\n",
      "m value : 2.153144379360519 b value : 2.447100198225982 and cost : 0.0583727064067875\n",
      "m value : 2.149519951890407 b value : 2.4601855311429266 and cost : 0.05564241908123672\n",
      "m value : 2.145981302899151 b value : 2.472961176988946 and cost : 0.053039836454318784\n",
      "m value : 2.1425264020991013 b value : 2.48543446499285 and cost : 0.050558985348815366\n",
      "m value : 2.1391532675694878 b value : 2.4976125510122285 and cost : 0.04819417197304673\n",
      "m value : 2.135859964087341 b value : 2.5095024214913315 and cost : 0.04593996885307406\n",
      "m value : 2.1326446023664767 b value : 2.521110897565862 and cost : 0.04379120237612444\n",
      "m value : 2.129505337744441 b value : 2.532444638912721 and cost : 0.04174294091665115\n",
      "m value : 2.1264403692746594 b value : 2.543510147612275 and cost : 0.039790483517781985\n",
      "m value : 2.1234479385945284 b value : 2.5543137718511995 and cost : 0.03792934910216932\n",
      "m value : 2.120526328981451 b value : 2.56486170958233 and cost : 0.03615526618748715\n",
      "m value : 2.117673864325438 b value : 2.5751600120685945 and cost : 0.034464163082969464\n",
      "m value : 2.1148889081954536 b value : 2.5852145873623074 and cost : 0.03285215854448871\n",
      "m value : 2.1121698628822863 b value : 2.595031203689494 and cost : 0.03131555286672679\n",
      "m value : 2.109515168493978 b value : 2.6046154927624046 and cost : 0.029850819391996138\n",
      "m value : 2.1069233020530422 b value : 2.613972953008197 and cost : 0.028454596416222156\n",
      "m value : 2.1043927766279142 b value : 2.6231089527247717 and cost : 0.027123679473507935\n",
      "m value : 2.101922140476522 b value : 2.6320287331595797 and cost : 0.025855013981578592\n",
      "m value : 2.099509976215655 b value : 2.640737411517099 and cost : 0.02464568823121993\n",
      "m value : 2.0971549000063647 b value : 2.6492399838941303 and cost : 0.023492926703627928\n",
      "m value : 2.094855560761028 b value : 2.6575413281462787 and cost : 0.02239408370032409\n",
      "m value : 2.092610639367608 b value : 2.665646206686168 and cost : 0.021346637271024847\n",
      "m value : 2.0904188479333015 b value : 2.6735592692157093 and cost : 0.02034818342552304\n",
      "m value : 2.0882789290454196 b value : 2.6812850553935235 and cost : 0.019396430616298765\n",
      "m value : 2.0861896550501937 b value : 2.688827997439354 and cost : 0.018489194479198046\n",
      "m value : 2.0841498273483667 b value : 2.6961924226767633 and cost : 0.017624392820107502\n",
      "m value : 2.082158275707642 b value : 2.7033825560157023 and cost : 0.016800040836117913\n",
      "m value : 2.0802138575912785 b value : 2.7104025223762944 and cost : 0.016014246560212154\n",
      "m value : 2.0783154575026654 b value : 2.717256349055276 and cost : 0.015265206519017383\n",
      "m value : 2.0764619863453446 b value : 2.723947968036418 and cost : 0.014551201593661665\n",
      "m value : 2.0746523807982182 b value : 2.7304812182462745 and cost : 0.013870593074230565\n",
      "m value : 2.072885602705527 b value : 2.7368598477565445 and cost : 0.013221818898770383\n",
      "m value : 2.0711606384812664 b value : 2.743087515934307 and cost : 0.012603390068205862\n",
      "m value : 2.069476498527707 b value : 2.749167795541372 and cost : 0.01201388722894411\n",
      "m value : 2.067832216667662 b value : 2.7551041747839426 and cost : 0.011451957415321887\n",
      "m value : 2.0662268495902065 b value : 2.7609000593137725 and cost : 0.010916310944419928\n",
      "m value : 2.0646594763095036 b value : 2.7665587741819575 and cost : 0.010405718456115154\n",
      "m value : 2.063129197636446 b value : 2.7720835657464917 and cost : 0.009919008091582965\n",
      "m value : 2.061635135662793 b value : 2.7774776035346758 and cost : 0.009455062803767159\n",
      "m value : 2.060176433257528 b value : 2.782743982061448 and cost : 0.009012817793650419\n",
      "m value : 2.0587522535751273 b value : 2.787885722604684 and cost : 0.008591258066437851\n",
      "m value : 2.0573617795754644 b value : 2.7929057749384745 and cost : 0.008189416102046723\n",
      "m value : 2.0560042135550898 b value : 2.797807019025393 and cost : 0.007806369634554507\n",
      "m value : 2.0546787766895864 b value : 2.8025922666687 and cost : 0.0074412395355103085\n",
      "m value : 2.053384708586769 b value : 2.807264263125456 and cost : 0.00709318779625042\n",
      "m value : 2.0521212668504534 b value : 2.8118256886814494 and cost : 0.006761415604587893\n",
      "m value : 2.0508877266545467 b value : 2.816279160188856 and cost : 0.0064451615114618195\n",
      "m value : 2.049683380327225 b value : 2.8206272325675066 and cost : 0.006143699683338966\n",
      "m value : 2.0485075369449457 b value : 2.824872400270621 and cost : 0.005856338236355247\n",
      "m value : 2.0473595219360683 b value : 2.829017098715857 and cost : 0.00558241764837648\n",
      "m value : 2.046238676693863 b value : 2.8330637056824886 and cost : 0.005321309245331439\n",
      "m value : 2.045144358198669 b value : 2.837014542675518 and cost : 0.005072413758344417\n",
      "m value : 2.0440759386490015 b value : 2.8408718762575043 and cost : 0.004835159948355864\n",
      "m value : 2.0430328051013875 b value : 2.844637919348873 and cost : 0.00460900329507328\n",
      "m value : 2.042014359118724 b value : 2.848314832497448 and cost : 0.004393424747245312\n",
      "m value : 2.041020016426961 b value : 2.8519047251179415 and cost : 0.00418792953138927\n",
      "m value : 2.0400492065799054 b value : 2.855409656702106 and cost : 0.003992046016238065\n",
      "m value : 2.0391013726319667 b value : 2.8588316380002508 and cost : 0.0038053246303013863\n",
      "m value : 2.038175970818633 b value : 2.8621726321747896 and cost : 0.003627336830055949\n",
      "m value : 2.0372724702445266 b value : 2.8654345559264933 and cost : 0.0034576741163968036\n",
      "m value : 2.0363903525788283 b value : 2.868619280594083 and cost : 0.0032959470970926625\n",
      "m value : 2.0355291117579184 b value : 2.8717286332278036 and cost : 0.003141784593093477\n",
      "m value : 2.0346882536950464 b value : 2.8747643976375854 and cost : 0.002994832786638698\n",
      "m value : 2.033867295996889 b value : 2.877728315416404 and cost : 0.002854754409211369\n",
      "m value : 2.0330657676867903 b value : 2.880622086939414 and cost : 0.0027212279674748135\n",
      "m value : 2.0322832089345795 b value : 2.883447372339444 and cost : 0.002593947005414351\n",
      "m value : 2.0315191707927607 b value : 2.8862057924593985 and cost : 0.0024726194009911636\n",
      "m value : 2.030773214938962 b value : 2.888898929782123 and cost : 0.0023569666956944593\n",
      "m value : 2.0300449134244687 b value : 2.8915283293382616 and cost : 0.002246723455452094\n",
      "m value : 2.0293338484287173 b value : 2.8940954995926282 and cost : 0.0021416366614341693\n",
      "m value : 2.028639612019589 b value : 2.896601913309599 and cost : 0.0020414651293503383\n",
      "m value : 2.0279618059193902 b value : 2.899049008398028 and cost : 0.0019459789559086484\n",
      "m value : 2.0273000412763578 b value : 2.90143818873616 and cost : 0.0018549589911655033\n",
      "m value : 2.0266539384415796 b value : 2.9037708249770273 and cost : 0.001768196335555528\n",
      "m value : 2.0260231267511957 b value : 2.90604825533478 and cost : 0.0016854918604467498\n",
      "m value : 2.0254072443137465 b value : 2.9082717863524086 and cost : 0.0016066557511214955\n",
      "m value : 2.024805937802565 b value : 2.910442693651298 and cost : 0.00153150707113327\n",
      "m value : 2.0242188622530697 b value : 2.912562222663039 and cost : 0.0014598733470402505\n",
      "m value : 2.023645680864866 b value : 2.9146315893439243 and cost : 0.001391590172562171\n",
      "m value : 2.023086064808524 b value : 2.916651980872531 and cost : 0.0013265008312520446\n",
      "m value : 2.0225396930369337 b value : 2.9186245563307964 and cost : 0.0012644559368169132\n",
      "m value : 2.0220062521011215 b value : 2.920550447368973 and cost : 0.0012053130902620422\n",
      "m value : 2.0214854359704257 b value : 2.922430758854846 and cost : 0.0011489365530713946\n",
      "m value : 2.0209769458569347 b value : 2.924266569507589 and cost : 0.0010951969356746381\n",
      "m value : 2.020480490044068 b value : 2.926058932516614 and cost : 0.0010439709004859189\n",
      "m value : 2.0199957837192253 b value : 2.9278088761457792 and cost : 0.0009951408788320313\n",
      "m value : 2.019522548810391 b value : 2.9295174043232954 and cost : 0.0009485948011209833\n",
      "m value : 2.019060513826605 b value : 2.93118549721767 and cost : 0.0009042258396317924\n",
      "m value : 2.018609413702212 b value : 2.932814111800022 and cost : 0.0008619321633342123\n",
      "m value : 2.018168989644796 b value : 2.9344041823930898 and cost : 0.0008216167041770507\n",
      "m value : 2.0177389889867126 b value : 2.935956621207243 and cost : 0.0007831869343075095\n",
      "m value : 2.017319165040133 b value : 2.9374723188638097 and cost : 0.0007465546537108989\n",
      "m value : 2.016909276955528 b value : 2.9389521449060205 and cost : 0.0007116357877831622\n",
      "m value : 2.0165090895834865 b value : 2.940396948297856 and cost : 0.0006783501943715111\n",
      "m value : 2.016118373339818 b value : 2.941807557911092 and cost : 0.0006466214798406204\n",
      "m value : 2.0157369040738398 b value : 2.9431847830008153 and cost : 0.0006163768237416941\n",
      "m value : 2.015364462939784 b value : 2.9445294136696885 and cost : 0.0005875468116826643\n",
      "m value : 2.0150008362712475 b value : 2.945842221321223 and cost : 0.0005600652760155473\n",
      "m value : 2.0146458154586124 b value : 2.9471239591023277 and cost : 0.0005338691439751747\n",
      "m value : 2.0142991968293718 b value : 2.9483753623353848 and cost : 0.0005088982929212402\n",
      "m value : 2.0139607815312774 b value : 2.9495971489400947 and cost : 0.0004850954123510787\n",
      "m value : 2.0136303754182703 b value : 2.950790019845345 and cost : 0.00046240587236650406\n",
      "m value : 2.0133077889390893 b value : 2.951954659391323 and cost : 0.00044077759829291515\n",
      "m value : 2.0129928370285364 b value : 2.9530917357221202 and cost : 0.00042016095116303775\n",
      "m value : 2.0126853390012998 b value : 2.9542019011690384 and cost : 0.00040050861379053955\n",
      "m value : 2.012385118448302 b value : 2.955285792624827 and cost : 0.0003817754821727143\n",
      "m value : 2.0120920031354896 b value : 2.9563440319090644 and cost : 0.0003639185619724099\n",
      "m value : 2.011805824905029 b value : 2.9573772261248896 and cost : 0.00034689686984180337\n",
      "m value : 2.011526419578831 b value : 2.958385968007293 and cost : 0.00033067133936182504\n",
      "m value : 2.0112536268643684 b value : 2.9593708362631626 and cost : 0.0003152047313808627\n",
      "m value : 2.0109872902627126 b value : 2.960332395903285 and cost : 0.00030046154854734635\n",
      "m value : 2.0107272569787558 b value : 2.961271198566486 and cost : 0.00028640795383994786\n",
      "m value : 2.0104733778335477 b value : 2.9621877828361005 and cost : 0.0002730116929084082\n",
      "m value : 2.010225507178722 b value : 2.9630826745489562 and cost : 0.0002602420200465648\n",
      "m value : 2.0099835028129283 b value : 2.9639563870970393 and cost : 0.0002480696276281531\n",
      "m value : 2.0097472259002624 b value : 2.9648094217220238 and cost : 0.00023646657884285154\n",
      "m value : 2.0095165408906084 b value : 2.96564226780283 and cost : 0.00022540624357877105\n",
      "m value : 2.009291315441883 b value : 2.9664554031363783 and cost : 0.00021486323730364926\n",
      "m value : 2.009071420344104 b value : 2.9672492942116944 and cost : 0.00020481336280496547\n",
      "m value : 2.0088567294452724 b value : 2.9680243964775337 and cost : 0.0001952335546550074\n",
      "m value : 2.008647119578989 b value : 2.9687811546036644 and cost : 0.0001861018262735596\n",
      "m value : 2.008442470493807 b value : 2.969520002735976 and cost : 0.0001773972194664836\n",
      "m value : 2.008242664784234 b value : 2.9702413647455406 and cost : 0.00016909975632469192\n",
      "m value : 2.0080475878233868 b value : 2.9709456544717865 and cost : 0.00016119039337294185\n",
      "m value : 2.0078571276972204 b value : 2.971633275959914 and cost : 0.0001536509778632452\n",
      "m value : 2.007671175140337 b value : 2.9723046236926933 and cost : 0.00014646420611249674\n",
      "m value : 2.007489623473287 b value : 2.972960082816775 and cost : 0.00013961358378896207\n",
      "m value : 2.00731236854138 b value : 2.973600029363646 and cost : 0.00013308338805608912\n",
      "m value : 2.007139308654924 b value : 2.974224830465356 and cost : 0.00012685863148716438\n",
      "m value : 2.0069703445308913 b value : 2.9748348445651382 and cost : 0.00012092502766774192\n",
      "m value : 2.0068053792359604 b value : 2.9754304216230443 and cost : 0.00011526895840684086\n",
      "m value : 2.006644318130903 b value : 2.976011903316715 and cost : 0.00010987744248199567\n",
      "m value : 2.006487068816292 b value : 2.9765796232373956 and cost : 0.0001047381058461121\n",
      "m value : 2.0063335410794965 b value : 2.9771339070813174 and cost : 9.983915322771795e-05\n",
      "m value : 2.006183646842919 b value : 2.9776750728365444 and cost : 9.516934105982435e-05\n",
      "m value : 2.006037300113475 b value : 2.978203430965402 and cost : 9.071795167476824e-05\n",
      "m value : 2.0058944169332547 b value : 2.9787192845825863 and cost : 8.647476870614858e-05\n",
      "m value : 2.005754915331356 b value : 2.9792229296290573 and cost : 8.24300536413268e-05\n",
      "m value : 2.005618715276864 b value : 2.97971465504182 and cost : 7.857452347053443e-05\n",
      "m value : 2.0054857386329292 b value : 2.9801947429196822 and cost : 7.489932938157636e-05\n",
      "m value : 2.0053559091119517 b value : 2.9806634686850964 and cost : 7.139603645084587e-05\n",
      "m value : 2.0052291522318058 b value : 2.981121101242163 and cost : 6.805660428442106e-05\n",
      "m value : 2.0051053952731164 b value : 2.9815679031309017 and cost : 6.48733685645801e-05\n",
      "m value : 2.0049845672375386 b value : 2.9820041306778666 and cost : 6.183902345946763e-05\n",
      "m value : 2.004866598807025 b value : 2.9824300341431993 and cost : 5.894660485548369e-05\n",
      "m value : 2.0047514223040626 b value : 2.9828458578642008 and cost : 5.618947437399366e-05\n",
      "m value : 2.004638971652842 b value : 2.9832518403955066 and cost : 5.356130413560513e-05\n",
      "m value : 2.0045291823413525 b value : 2.983648214645942 and cost : 5.105606223706307e-05\n",
      "m value : 2.004421991384374 b value : 2.984035208012142 and cost : 4.866799890748014e-05\n",
      "m value : 2.0043173372873384 b value : 2.984413042509005 and cost : 4.639163331204688e-05\n",
      "m value : 2.0042151600110554 b value : 2.9847819348970623 and cost : 4.4221740972959635e-05\n",
      "m value : 2.004115400937264 b value : 2.9851420968068303 and cost : 4.215334177880983e-05\n",
      "m value : 2.0040180028350085 b value : 2.9854937348602233 and cost : 4.018168855468313e-05\n",
      "m value : 2.0039229098278013 b value : 2.9858370507890886 and cost : 3.830225616695789e-05\n",
      "m value : 2.00383006736157 b value : 2.9861722415509395 and cost : 3.651073113770588e-05\n",
      "m value : 2.003739422173358 b value : 2.9864994994419485 and cost : 3.480300174483959e-05\n",
      "m value : 2.0036509222607686 b value : 2.9868190122072655 and cost : 3.3175148585301886e-05\n",
      "m value : 2.0035645168521334 b value : 2.9871309631487257 and cost : 3.162343557966313e-05\n",
      "m value : 2.003480156377383 b value : 2.987435531230008 and cost : 3.0144301397470974e-05\n",
      "m value : 2.0033977924396096 b value : 2.987732891179306 and cost : 2.8734351283639692e-05\n",
      "m value : 2.0033173777873023 b value : 2.9880232135895675 and cost : 2.7390349267163267e-05\n",
      "m value : 2.0032388662872385 b value : 2.988306665016361 and cost : 2.6109210734277258e-05\n",
      "m value : 2.0031622128980193 b value : 2.9885834080734304 and cost : 2.4887995348939213e-05\n",
      "m value : 2.003087373644229 b value : 2.988853601525982 and cost : 2.372390030447784e-05\n",
      "m value : 2.0030143055912037 b value : 2.9891174003817684 and cost : 2.261425389092552e-05\n",
      "m value : 2.0029429668204073 b value : 2.9893749559800153 and cost : 2.155650936311725e-05\n",
      "m value : 2.0028733164053736 b value : 2.989626416078242 and cost : 2.054823909572102e-05\n",
      "m value : 2.0028053143882367 b value : 2.9898719249370314 and cost : 1.9587129011593066e-05\n",
      "m value : 2.0027389217567992 b value : 2.990111623402788 and cost : 1.8670973270731653e-05\n",
      "m value : 2.0026741004221575 b value : 2.9903456489885416 and cost : 1.779766920767064e-05\n",
      "m value : 2.0026108131968474 b value : 2.9905741359528397 and cost : 1.6965212505674036e-05\n",
      "m value : 2.00254902377351 b value : 2.9907972153767663 and cost : 1.6171692596613363e-05\n",
      "m value : 2.002488696704063 b value : 2.991015015239145 and cost : 1.5415288276045224e-05\n",
      "m value : 2.002429797379365 b value : 2.991227660489958 and cost : 1.4694263523375158e-05\n",
      "m value : 2.0023722920093605 b value : 2.991435273122031 and cost : 1.4006963517501876e-05\n",
      "m value : 2.0023161476036924 b value : 2.991637972241015 and cost : 1.3351810838872056e-05\n",
      "m value : 2.0022613319527798 b value : 2.9918358741337223 and cost : 1.272730184913373e-05\n",
      "m value : 2.0022078136093353 b value : 2.9920290923348336 and cost : 1.213200324013727e-05\n",
      "m value : 2.002155561870329 b value : 2.992217737692036 and cost : 1.156454874437988e-05\n",
      "m value : 2.002104546759367 b value : 2.992401918429613 and cost : 1.1023635999259035e-05\n",
      "m value : 2.0020547390095045 b value : 2.992581740210533 and cost : 1.0508023558053749e-05\n",
      "m value : 2.0020061100464437 b value : 2.9927573061970665 and cost : 1.00165280406592e-05\n",
      "m value : 2.001958631972152 b value : 2.992928717109971 and cost : 9.54802141763682e-06\n",
      "m value : 2.0019122775488505 b value : 2.993096071286271 and cost : 9.101428421257998e-06\n",
      "m value : 2.0018670201833872 b value : 2.993259464735676 and cost : 8.675724077697363e-06\n",
      "m value : 2.0018228339119872 b value : 2.9934189911956586 and cost : 8.269931354564912e-06\n",
      "m value : 2.00177969338535 b value : 2.9935747421852317 and cost : 7.883118918575224e-06\n",
      "m value : 2.001737573854114 b value : 2.993726807057452 and cost : 7.514398998016877e-06\n",
      "m value : 2.0016964511546482 b value : 2.993875273050681 and cost : 7.162925345238827e-06\n",
      "m value : 2.001656301695204 b value : 2.9940202253386334 and cost : 6.827891294432345e-06\n",
      "m value : 2.0016171024423635 b value : 2.994161747079239 and cost : 6.508527910258929e-06\n",
      "m value : 2.0015788309078433 b value : 2.9942999194623527 and cost : 6.204102223060733e-06\n",
      "m value : 2.0015414651355767 b value : 2.9944348217563292 and cost : 5.91391554663822e-06\n",
      "m value : 2.0015049836891303 b value : 2.994566531353501 and cost : 5.637301874678945e-06\n",
      "m value : 2.0014693656393994 b value : 2.994695123814576 and cost : 5.373626352226835e-06\n",
      "m value : 2.001434590552602 b value : 2.9948206729119877 and cost : 5.1222838186224324e-06\n",
      "m value : 2.0014006384785596 b value : 2.9949432506722165 and cost : 4.882697418592785e-06\n",
      "m value : 2.001367489939247 b value : 2.995062927417111 and cost : 4.65431727833463e-06\n",
      "m value : 2.00133512591762 b value : 2.995179771804232 and cost : 4.436619243476398e-06\n",
      "m value : 2.0013035278467077 b value : 2.995293850866239 and cost : 4.229103676108634e-06\n",
      "m value : 2.001272677598957 b value : 2.9954052300493483 and cost : 4.031294308066723e-06\n",
      "m value : 2.001242557475837 b value : 2.9955139732508775 and cost : 3.842737147837384e-06\n",
      "m value : 2.001213150197679 b value : 2.9956201428559033 and cost : 3.6629994386246764e-06\n",
      "m value : 2.001184438893774 b value : 2.9957237997730517 and cost : 3.4916686651095147e-06\n",
      "m value : 2.0011564070926804 b value : 2.9958250034694394 and cost : 3.3283516067051344e-06\n",
      "m value : 2.0011290387127882 b value : 2.995923812004792 and cost : 3.172673435072067e-06\n",
      "m value : 2.001102318053082 b value : 2.9960202820647504 and cost : 3.0242768538428547e-06\n",
      "m value : 2.001076229784141 b value : 2.9961144689933907 and cost : 2.8828212786042793e-06\n",
      "m value : 2.00105075893934 b value : 2.996206426824977 and cost : 2.7479820552183338e-06\n",
      "m value : 2.0010258909062664 b value : 2.9962962083149574 and cost : 2.619449714709909e-06\n",
      "m value : 2.001001611418334 b value : 2.9963838649702312 and cost : 2.4969292630099413e-06\n",
      "m value : 2.0009779065466025 b value : 2.9964694470786983 and cost : 2.3801395039044738e-06\n",
      "m value : 2.0009547626917814 b value : 2.9965530037381076 and cost : 2.2688123936752713e-06\n",
      "m value : 2.000932166576433 b value : 2.9966345828842242 and cost : 2.1626924259054647e-06\n",
      "m value : 2.000910105237352 b value : 2.996714231318331 and cost : 2.0615360450739158e-06\n",
      "m value : 2.0008885660181313 b value : 2.996791994734077 and cost : 1.965111087562789e-06\n",
      "m value : 2.000867536561897 b value : 2.996867917743691 and cost : 1.8731962488319003e-06\n",
      "m value : 2.0008470048042253 b value : 2.996942043903578 and cost : 1.785580575492032e-06\n",
      "m value : 2.0008269589662153 b value : 2.997014415739302 and cost : 1.7020629811559676e-06\n",
      "m value : 2.0008073875477366 b value : 2.9970850747699895 and cost : 1.622451784917301e-06\n",
      "m value : 2.0007882793208265 b value : 2.9971540615321417 and cost : 1.5465642714308063e-06\n",
      "m value : 2.0007696233232544 b value : 2.997221415602895 and cost : 1.4742262715604382e-06\n",
      "m value : 2.000751408852227 b value : 2.997287175622723 and cost : 1.4052717626470931e-06\n",
      "m value : 2.0007336254582535 b value : 2.9973513793176063 and cost : 1.3395424874663362e-06\n",
      "m value : 2.0007162629391484 b value : 2.997414063520675 and cost : 1.2768875910133194e-06\n",
      "m value : 2.0006993113341767 b value : 2.997475264193338 and cost : 1.217163274281915e-06\n",
      "m value : 2.0006827609183424 b value : 2.9975350164459162 and cost : 1.1602324642271054e-06\n",
      "m value : 2.0006666021968105 b value : 2.997593354557784 and cost : 1.1059644991657933e-06\n",
      "m value : 2.000650825899453 b value : 2.997650311997034 and cost : 1.0542348289063343e-06\n",
      "m value : 2.000635422975541 b value : 2.997705921439679 and cost : 1.0049247288835827e-06\n",
      "m value : 2.0006203845885424 b value : 2.997760214788397 and cost : 9.579210276805094e-07\n",
      "m value : 2.0006057021110606 b value : 2.9978132231908337 and cost : 9.131158472831782e-07\n",
      "m value : 2.000591367119877 b value : 2.9978649770574717 and cost : 8.704063555011085e-07\n",
      "m value : 2.0005773713911283 b value : 2.997915506079077 and cost : 8.296945299442958e-07\n",
      "m value : 2.000563706895578 b value : 2.9979648392437324 and cost : 7.908869330618217e-07\n",
      "m value : 2.0005503657940205 b value : 2.9980130048534672 and cost : 7.538944976894212e-07\n",
      "m value : 2.000537340432773 b value : 2.9980600305404934 and cost : 7.186323226322723e-07\n",
      "m value : 2.0005246233392953 b value : 2.9981059432830595 and cost : 6.850194778116851e-07\n",
      "m value : 2.000512207217896 b value : 2.9981507694209273 and cost : 6.529788185182024e-07\n",
      "m value : 2.0005000849455468 b value : 2.998194534670481 and cost : 6.224368083597271e-07\n",
      "m value : 2.000488249567803 b value : 2.998237264139484 and cost : 5.933233504876504e-07\n",
      "m value : 2.000476694294803 b value : 2.9982789823414793 and cost : 5.655716267206369e-07\n",
      "m value : 2.0004654124973853 b value : 2.998319713209855 and cost : 5.391179441828204e-07\n",
      "m value : 2.0004543977032725 b value : 2.9983594801115734 and cost : 5.139015891333153e-07\n",
      "m value : 2.0004436435933717 b value : 2.9983983058605785 and cost : 4.898646876125435e-07\n",
      "m value : 2.0004331439981367 b value : 2.9984362127308817 and cost : 4.669520726218234e-07\n",
      "m value : 2.000422892894036 b value : 2.998473222469341 and cost : 4.451111575096969e-07\n",
      "m value : 2.0004128844000975 b value : 2.998509356308138 and cost : 4.242918152760482e-07\n",
      "m value : 2.0004031127745296 b value : 2.9985446349769576 and cost : 4.04446263528795e-07\n",
      "m value : 2.000393572411432 b value : 2.998579078714881 and cost : 3.855289548221822e-07\n",
      "m value : 2.0003842578375766 b value : 2.998612707281996 and cost : 3.674964721125943e-07\n",
      "m value : 2.00037516370927 b value : 2.9986455399707346 and cost : 3.5030742912073566e-07\n",
      "m value : 2.0003662848092856 b value : 2.9986775956169383 and cost : 3.33922375340174e-07\n",
      "m value : 2.000357616043872 b value : 2.998708892610667 and cost : 3.1830370549859735e-07\n",
      "m value : 2.000349152439829 b value : 2.9987394489067474 and cost : 3.0341557324846556e-07\n",
      "m value : 2.0003408891416585 b value : 2.9987692820350746 and cost : 2.8922380889473074e-07\n",
      "m value : 2.000332821408773 b value : 2.998798409110668 and cost : 2.7569584097438314e-07\n",
      "m value : 2.000324944612782 b value : 2.9988268468434898 and cost : 2.6280062150207436e-07\n",
      "m value : 2.0003172542348318 b value : 2.998854611548033 and cost : 2.505085547091052e-07\n",
      "m value : 2.000309745863017 b value : 2.9988817191526786 and cost : 2.3879142912147827e-07\n",
      "m value : 2.0003024151898456 b value : 2.9989081852088364 and cost : 2.2762235281012405e-07\n",
      "m value : 2.0002952580097717 b value : 2.998934024899864 and cost : 2.1697569167096006e-07\n",
      "m value : 2.0002882702167804 b value : 2.998959253049779 and cost : 2.0682701059338196e-07\n",
      "m value : 2.000281447802031 b value : 2.9989838841317624 and cost : 1.9715301738064613e-07\n",
      "m value : 2.000274786851563 b value : 2.9990079322764625 and cost : 1.8793150928739202e-07\n",
      "m value : 2.0002682835440417 b value : 2.999031411280101 and cost : 1.7914132206705762e-07\n",
      "m value : 2.0002619341485754 b value : 2.9990543346123895 and cost : 1.7076228139486558e-07\n",
      "m value : 2.000255735022566 b value : 2.9990767154242532 and cost : 1.627751565676506e-07\n",
      "m value : 2.0002496826096277 b value : 2.99909856655538 and cost : 1.5516161636662612e-07\n",
      "m value : 2.0002437734375413 b value : 2.999119900541583 and cost : 1.479041869843763e-07\n",
      "m value : 2.000238004116263 b value : 2.999140729621994 and cost : 1.4098621192437313e-07\n",
      "m value : 2.0002323713359806 b value : 2.9991610657460845 and cost : 1.343918137680346e-07\n",
      "m value : 2.0002268718652148 b value : 2.9991809205805207 and cost : 1.2810585773904708e-07\n",
      "m value : 2.0002215025489654 b value : 2.9992003055158576 and cost : 1.221139169631058e-07\n",
      "m value : 2.0002162603068983 b value : 2.999219231673072 and cost : 1.1640223936115709e-07\n",
      "m value : 2.000211142131585 b value : 2.9992377099099445 and cost : 1.1095771608367707e-07\n",
      "m value : 2.0002061450867674 b value : 2.999255750827287 and cost : 1.0576785142688412e-07\n",
      "m value : 2.000201266305685 b value : 2.9992733647750245 and cost : 1.0082073415281503e-07\n",
      "m value : 2.0001965029894198 b value : 2.999290561858133 and cost : 9.61050101519019e-08\n",
      "m value : 2.000191852405297 b value : 2.9993073519424382 and cost : 9.160985638389446e-08\n",
      "m value : 2.0001873118853157 b value : 2.999323744660272 and cost : 8.732495603963134e-08\n",
      "m value : 2.0001828788246154 b value : 2.9993397494160012 and cost : 8.324047486076834e-08\n",
      "m value : 2.0001785506799874 b value : 2.9993553753914224 and cost : 7.934703857054633e-08\n",
      "m value : 2.0001743249684094 b value : 2.9993706315510287 and cost : 7.563571135858654e-08\n",
      "m value : 2.000170199265627 b value : 2.9993855266471527 and cost : 7.20979753721214e-08\n",
      "m value : 2.000166171204757 b value : 2.999400069224988 and cost : 6.872571116723268e-08\n",
      "m value : 2.0001622384749362 b value : 2.9994142676274915 and cost : 6.551117907355368e-08\n",
      "m value : 2.000158398819988 b value : 2.9994281300001697 and cost : 6.244700143100475e-08\n",
      "m value : 2.000154650037135 b value : 2.999441664295751 and cost : 5.9526145657395713e-08\n",
      "m value : 2.000150989975732 b value : 2.9994548782787493 and cost : 5.674190810831278e-08\n",
      "m value : 2.00014741653603 b value : 2.9994677795299167 and cost : 5.408789869064048e-08\n",
      "m value : 2.000143927667979 b value : 2.9994803754505956 and cost : 5.155802619813297e-08\n",
      "m value : 2.0001405213700414 b value : 2.9994926732669613 and cost : 4.914648432981369e-08\n",
      "m value : 2.000137195688054 b value : 2.9995046800341694 and cost : 4.6847738365772106e-08\n",
      "m value : 2.0001339487140997 b value : 2.999516402640403 and cost : 4.465651246309912e-08\n",
      "m value : 2.000130778585417 b value : 2.9995278478108247 and cost : 4.2567777547484715e-08\n",
      "m value : 2.0001276834833286 b value : 2.999539022111434 and cost : 4.057673977210041e-08\n",
      "m value : 2.0001246616322 b value : 2.9995499319528354 and cost : 3.8678829513542093e-08\n",
      "m value : 2.000121711298421 b value : 2.9995605835939143 and cost : 3.6869690885246275e-08\n",
      "m value : 2.000118830789409 b value : 2.9995709831454294 and cost : 3.5145171740761474e-08\n",
      "m value : 2.0001160184526388 b value : 2.9995811365735174 and cost : 3.350131414261743e-08\n",
      "m value : 2.0001132726746977 b value : 2.999591049703117 and cost : 3.193434527940876e-08\n",
      "m value : 2.0001105918803543 b value : 2.9996007282213073 and cost : 3.044066880746109e-08\n",
      "m value : 2.0001079745316592 b value : 2.9996101776805753 and cost : 2.9016856595497343e-08\n",
      "m value : 2.0001054191270624 b value : 2.999619403501998 and cost : 2.7659640857717707e-08\n",
      "m value : 2.000102924200547 b value : 2.999628410978352 and cost : 2.6365906653815232e-08\n",
      "m value : 2.000100488320797 b value : 2.9996372052771534 and cost : 2.513268473898365e-08\n",
      "m value : 2.000098110090365 b value : 2.9996457914436174 and cost : 2.3957144750741306e-08\n",
      "m value : 2.0000957881448835 b value : 2.9996541744035574 and cost : 2.283658871185426e-08\n",
      "m value : 2.000093521152269 b value : 2.999662358966208 and cost : 2.17684448385365e-08\n",
      "m value : 2.0000913078119673 b value : 2.999670349826986 and cost : 2.0750261637985247e-08\n",
      "m value : 2.000089146854204 b value : 2.999678151570182 and cost : 1.977970228162354e-08\n",
      "m value : 2.0000870370392536 b value : 2.9996857686715908 and cost : 1.8854539242826275e-08\n",
      "m value : 2.000084977156735 b value : 2.9996932055010816 and cost : 1.7972649183508102e-08\n",
      "m value : 2.000082966024909 b value : 2.9997004663251015 and cost : 1.71320080808373e-08\n",
      "m value : 2.000081002490006 b value : 2.9997075553091253 and cost : 1.6330686583085518e-08\n",
      "m value : 2.000079085425564 b value : 2.999714476520045 and cost : 1.556684558034479e-08\n",
      "m value : 2.0000772137317764 b value : 2.999721233928502 and cost : 1.483873198417507e-08\n",
      "m value : 2.0000753863348697 b value : 2.9997278314111657 and cost : 1.4144674703559569e-08\n",
      "m value : 2.0000736021864807 b value : 2.9997342727529572 and cost : 1.3483080810767504e-08\n",
      "m value : 2.0000718602630583 b value : 2.9997405616492214 and cost : 1.2852431884005778e-08\n",
      "m value : 2.0000701595652752 b value : 2.999746701707846 and cost : 1.2251280523516512e-08\n",
      "m value : 2.000068499117456 b value : 2.999752696451332 and cost : 1.1678247028921797e-08\n",
      "m value : 2.0000668779670145 b value : 2.999758549318814 and cost : 1.1132016233498815e-08\n",
      "m value : 2.00006529518391 b value : 2.999764263668034 and cost : 1.0611334485250924e-08\n",
      "m value : 2.0000637498601144 b value : 2.999769842777267 and cost : 1.0115006769095687e-08\n",
      "m value : 2.000062241109086 b value : 2.999775289847202 and cost : 9.641893965526352e-09\n",
      "m value : 2.0000607680652687 b value : 2.9997806080027773 and cost : 9.190910235115892e-09\n",
      "m value : 2.0000593298835887 b value : 2.9997858002949758 and cost : 8.76102052684642e-09\n",
      "m value : 2.000057925738972 b value : 2.9997908697025717 and cost : 8.35123820272458e-09\n",
      "m value : 2.000056554825875 b value : 2.999795819133843 and cost : 7.960622772624519e-09\n",
      "m value : 2.000055216357813 b value : 2.9998006514282376 and cost : 7.588277736802801e-09\n",
      "m value : 2.0000539095669208 b value : 2.9998053693580027 and cost : 7.23334852748818e-09\n",
      "m value : 2.000052633703502 b value : 2.9998099756297756 and cost : 6.895020548230733e-09\n",
      "m value : 2.0000513880356032 b value : 2.9998144728861362 and cost : 6.572517303599605e-09\n",
      "m value : 2.000050171848597 b value : 2.999818863707124 and cost : 6.265098617797506e-09\n",
      "m value : 2.0000489844447658 b value : 2.9998231506117157 and cost : 5.97205893536357e-09\n",
      "m value : 2.000047825142906 b value : 2.999827336059274 and cost : 5.692725702022757e-09\n",
      "m value : 2.0000466932779357 b value : 2.999831422450955 and cost : 5.426457821205824e-09\n",
      "m value : 2.0000455882005137 b value : 2.9998354121310884 and cost : 5.172644182565883e-09\n",
      "m value : 2.000044509276665 b value : 2.99983930738852 and cost : 4.93070225938144e-09\n",
      "m value : 2.0000434558874223 b value : 2.999843110457928 and cost : 4.700076771602989e-09\n",
      "m value : 2.0000424274284625 b value : 2.999846823521101 and cost : 4.480238411680604e-09\n",
      "m value : 2.000041423309768 b value : 2.9998504487081927 and cost : 4.270682629527178e-09\n",
      "m value : 2.0000404429552843 b value : 2.999853988098943 and cost : 4.070928474282863e-09\n",
      "m value : 2.0000394858025903 b value : 2.9998574437238714 and cost : 3.880517491153813e-09\n",
      "m value : 2.0000385513025756 b value : 2.9998608175654415 and cost : 3.6990126685153284e-09\n",
      "m value : 2.0000376389191237 b value : 2.999864111559198 and cost : 3.525997435386008e-09\n",
      "m value : 2.00003674812881 b value : 2.9998673275948784 and cost : 3.3610747052783223e-09\n",
      "m value : 2.000035878420594 b value : 2.9998704675174954 and cost : 3.2038659644903365e-09\n",
      "m value : 2.0000350292955313 b value : 2.9998735331283966 and cost : 3.0540104039696038e-09\n",
      "m value : 2.000034200266487 b value : 2.999876526186298 and cost : 2.911164090891408e-09\n",
      "m value : 2.0000333908578516 b value : 2.999879448408292 and cost : 2.7749991790923737e-09\n",
      "m value : 2.0000326006052775 b value : 2.999882301470833 and cost : 2.645203157031898e-09\n",
      "m value : 2.0000318290554002 b value : 2.9998850870107 and cost : 2.521478130433093e-09\n",
      "m value : 2.00003107576559 b value : 2.999887806625934 and cost : 2.403540138431663e-09\n",
      "m value : 2.000030340303689 b value : 2.9998904618767552 and cost : 2.291118502012968e-09\n",
      "m value : 2.0000296222477707 b value : 2.99989305428646 and cost : 2.183955202721968e-09\n",
      "m value : 2.0000289211858906 b value : 2.999895585342292 and cost : 2.081804290478648e-09\n",
      "m value : 2.000028236715856 b value : 2.999898056496297 and cost : 1.9844313191113314e-09\n",
      "m value : 2.0000275684449926 b value : 2.9999004691661555 and cost : 1.8916128083294915e-09\n",
      "m value : 2.0000269159899187 b value : 2.999902824735997 and cost : 1.8031357307036933e-09\n",
      "m value : 2.0000262789763252 b value : 2.9999051245571913 and cost : 1.7187970228697822e-09\n",
      "m value : 2.0000256570387642 b value : 2.999907369949128 and cost : 1.6384031193794426e-09\n",
      "m value : 2.0000250498204335 b value : 2.9999095621999694 and cost : 1.5617695084325738e-09\n",
      "m value : 2.000024456972979 b value : 2.999911702567392 and cost : 1.4887203086060618e-09\n",
      "m value : 2.000023878156287 b value : 2.999913792279306 and cost : 1.4190878649683072e-09\n",
      "m value : 2.0000233130382963 b value : 2.9999158325345627 and cost : 1.3527123643465038e-09\n",
      "m value : 2.0000227612948036 b value : 2.9999178245036395 and cost : 1.2894414685398182e-09\n",
      "m value : 2.000022222609277 b value : 2.9999197693293125 and cost : 1.2291299648586915e-09\n",
      "m value : 2.000021696672679 b value : 2.999921668127312 and cost : 1.1716394325335943e-09\n",
      "m value : 2.000021183183282 b value : 2.9999235219869633 and cost : 1.1168379252716618e-09\n",
      "m value : 2.0000206818465034 b value : 2.99992533197181 and cost : 1.0645996684027542e-09\n",
      "m value : 2.0000201923747274 b value : 2.9999270991202254 and cost : 1.0148047700720747e-09\n",
      "m value : 2.000019714487152 b value : 2.999928824446008 and cost : 9.6733894615719e-10\n",
      "m value : 2.000019247909614 b value : 2.999930508938963 and cost : 9.220932581350823e-10\n",
      "m value : 2.0000187923744437 b value : 2.9999321535654704 and cost : 8.789638627170493e-10\n",
      "m value : 2.0000183476203026 b value : 2.9999337592690383 and cost : 8.378517738487639e-10\n",
      "m value : 2.0000179133920404 b value : 2.9999353269708458 and cost : 7.986626352940686e-10\n",
      "m value : 2.000017489440543 b value : 2.9999368575702703 and cost : 7.613065042263362e-10\n",
      "m value : 2.0000170755225932 b value : 2.999938351945404 and cost : 7.256976447499854e-10\n",
      "m value : 2.00001667140073 b value : 2.9999398109535584 and cost : 6.917543311250941e-10\n",
      "m value : 2.0000162768431116 b value : 2.999941235431754 and cost : 6.593986601265314e-10\n",
      "m value : 2.000015891623383 b value : 2.9999426261972015 and cost : 6.285563724560201e-10\n",
      "m value : 2.000015515520549 b value : 2.9999439840477726 and cost : 5.991566820348368e-10\n",
      "m value : 2.000015148318839 b value : 2.9999453097624538 and cost : 5.711321137775953e-10\n",
      "m value : 2.0000147898075964 b value : 2.999946604101798 and cost : 5.4441834861759e-10\n",
      "m value : 2.000014439781143 b value : 2.9999478678083555 and cost : 5.189540758547528e-10\n",
      "m value : 2.0000140980386734 b value : 2.999949101607106 and cost : 4.946808525816542e-10\n",
      "m value : 2.000013764384132 b value : 2.9999503062058683 and cost : 4.715429693934309e-10\n",
      "m value : 2.0000134386261044 b value : 2.999951482295711 and cost : 4.4948732264513735e-10\n",
      "m value : 2.000013120577705 b value : 2.999952630551348 and cost : 4.284632924800621e-10\n",
      "m value : 2.000012810056473 b value : 2.999953751631523 and cost : 4.084226267415286e-10\n",
      "m value : 2.000012506884265 b value : 2.9999548461793912 and cost : 3.8931933019333834e-10\n",
      "m value : 2.0000122108871525 b value : 2.999955914822885 and cost : 3.711095589116231e-10\n",
      "m value : 2.0000119218953256 b value : 2.999956958175077 and cost : 3.537515197437311e-10\n",
      "m value : 2.0000116397429917 b value : 2.9999579768345295 and cost : 3.3720537426695403e-10\n",
      "m value : 2.000011364268282 b value : 2.999958971385639 and cost : 3.214331475503325e-10\n",
      "m value : 2.00001109531316 b value : 2.9999599423989713 and cost : 3.0639864079489584e-10\n",
      "m value : 2.000010832723326 b value : 2.999960890431588 and cost : 2.9206734836687513e-10\n",
      "m value : 2.0000105763481373 b value : 2.999961816027369 and cost : 2.7840637856396237e-10\n",
      "m value : 2.000010326040511 b value : 2.99996271971732 and cost : 2.6538437815612693e-10\n",
      "m value : 2.0000100816568493 b value : 2.9999636020198803 and cost : 2.52971460401735e-10\n",
      "m value : 2.0000098430569517 b value : 2.9999644634412204 and cost : 2.411391364434807e-10\n",
      "m value : 2.0000096101039335 b value : 2.9999653044755297 and cost : 2.298602499739996e-10\n",
      "m value : 2.0000093826641536 b value : 2.9999661256053036 and cost : 2.1910891489162254e-10\n",
      "m value : 2.0000091606071297 b value : 2.9999669273016165 and cost : 2.088604557906032e-10\n",
      "m value : 2.000008943805471 b value : 2.9999677100243956 and cost : 1.9909135153463107e-10\n",
      "m value : 2.0000087321347997 b value : 2.9999684742226824 and cost : 1.8977918104633225e-10\n",
      "m value : 2.0000085254736812 b value : 2.999969220334891 and cost : 1.8090257203275685e-10\n",
      "m value : 2.0000083237035575 b value : 2.99996994878906 and cost : 1.7244115179363216e-10\n",
      "m value : 2.000008126708674 b value : 2.9999706600030973 and cost : 1.6437550055550983e-10\n",
      "m value : 2.0000079343760153 b value : 2.9999713543850204 and cost : 1.5668710689637086e-10\n",
      "m value : 2.0000077465952435 b value : 2.9999720323331913 and cost : 1.4935832519780465e-10\n",
      "m value : 2.000007563258628 b value : 2.999972694236542 and cost : 1.4237233523113927e-10\n",
      "m value : 2.0000073842609933 b value : 2.9999733404748024 and cost : 1.3571310342344128e-10\n",
      "m value : 2.0000072094996466 b value : 2.999973971418713 and cost : 1.2936534625268745e-10\n",
      "m value : 2.0000070388743314 b value : 2.9999745874302413 and cost : 1.2331449497354193e-10\n",
      "m value : 2.00000687228716 b value : 2.999975188862788 and cost : 1.1754666231026738e-10\n",
      "m value : 2.000006709642563 b value : 2.9999757760613908 and cost : 1.1204861052589986e-10\n",
      "m value : 2.0000065508472322 b value : 2.9999763493629197 and cost : 1.0680772107733633e-10\n",
      "m value : 2.0000063958100687 b value : 2.9999769090962736 and cost : 1.0181196561105e-10\n",
      "m value : 2.000006244442128 b value : 2.9999774555825662 and cost : 9.704987839451243e-11\n",
      "m value : 2.000006096656573 b value : 2.999977989135313 and cost : 9.251052996574116e-11\n",
      "m value : 2.000005952368619 b value : 2.9999785100606084 and cost : 8.818350210531726e-11\n",
      "m value : 2.00000581149549 b value : 2.9999790186573034 and cost : 8.405886384649153e-11\n",
      "m value : 2.000005673956368 b value : 2.999979515217175 and cost : 8.012714875223685e-11\n",
      "m value : 2.0000055396723475 b value : 2.999980000025096 and cost : 7.637933316854479e-11\n",
      "m value : 2.000005408566392 b value : 2.9999804733591966 and cost : 7.280681550096315e-11\n",
      "m value : 2.0000052805632857 b value : 2.9999809354910245 and cost : 6.94013964550884e-11\n",
      "m value : 2.0000051555895957 b value : 2.9999813866857012 and cost : 6.61552602977538e-11\n",
      "m value : 2.0000050335736237 b value : 2.999981827202073 and cost : 6.306095681897375e-11\n",
      "m value : 2.0000049144453724 b value : 2.999982257292861 and cost : 6.011138428666112e-11\n",
      "m value : 2.0000047981364975 b value : 2.999982677204804 and cost : 5.7299773162728176e-11\n",
      "m value : 2.000004684580274 b value : 2.9999830871788027 and cost : 5.4619670525367867e-11\n",
      "m value : 2.000004573711555 b value : 2.9999834874500553 and cost : 5.206492527692564e-11\n",
      "m value : 2.000004465466737 b value : 2.9999838782481945 and cost : 4.962967404417194e-11\n",
      "m value : 2.0000043597837203 b value : 2.999984259797418 and cost : 4.7308327675289766e-11\n",
      "m value : 2.000004256601876 b value : 2.999984632316617 and cost : 4.509555845646708e-11\n",
      "m value : 2.000004155862008 b value : 2.9999849960195024 and cost : 4.298628789156276e-11\n",
      "m value : 2.0000040575063247 b value : 2.999985351114729 and cost : 4.0975674988041464e-11\n",
      "m value : 2.0000039614783987 b value : 2.9999856978060104 and cost : 3.905910518541252e-11\n",
      "m value : 2.00000386772314 b value : 2.9999860362922415 and cost : 3.723217978791305e-11\n",
      "m value : 2.000003776186763 b value : 2.999986366767609 and cost : 3.54907058272417e-11\n",
      "m value : 2.000003686816752 b value : 2.999986689421703 and cost : 3.3830686434157224e-11\n",
      "m value : 2.0000035995618384 b value : 2.999987004439629 and cost : 3.224831172908978e-11\n",
      "m value : 2.000003514371963 b value : 2.999987312002109 and cost : 3.0739949985201156e-11\n",
      "m value : 2.0000034311982544 b value : 2.9999876122855893 and cost : 2.9302139393325265e-11\n",
      "m value : 2.0000033499929946 b value : 2.9999879054623397 and cost : 2.7931580023916074e-11\n",
      "m value : 2.0000032707096005 b value : 2.9999881917005546 and cost : 2.662512630507877e-11\n",
      "m value : 2.000003193302583 b value : 2.999988471164445 and cost : 2.5379779818223144e-11\n",
      "m value : 2.0000031177275384 b value : 2.999988744014338 and cost : 2.4192682363687747e-11\n",
      "m value : 2.0000030439411076 b value : 2.9999890104067646 and cost : 2.306110944338761e-11\n",
      "m value : 2.000002971900961 b value : 2.9999892704945523 and cost : 2.1982463981005024e-11\n",
      "m value : 2.000002901565769 b value : 2.9999895244269115 and cost : 2.0954270389582706e-11\n",
      "m value : 2.000002832895182 b value : 2.999989772349521 and cost : 1.997416885757931e-11\n",
      "m value : 2.000002765849803 b value : 2.9999900144046117 and cost : 1.9039909963464873e-11\n",
      "m value : 2.00000270039117 b value : 2.9999902507310487 and cost : 1.8149349493460994e-11\n",
      "m value : 2.000002636481728 b value : 2.9999904814644105 and cost : 1.7300443525605313e-11\n",
      "m value : 2.0000025740848146 b value : 2.9999907067370675 and cost : 1.6491243738709342e-11\n",
      "m value : 2.000002513164632 b value : 2.999990926678256 and cost : 1.5719892936487397e-11\n",
      "m value : 2.0000024536862315 b value : 2.9999911414141547 and cost : 1.498462080309013e-11\n",
      "m value : 2.00000239561549 b value : 2.9999913510679557 and cost : 1.4283739812498353e-11\n",
      "m value : 2.0000023389190944 b value : 2.9999915557599364 and cost : 1.3615641375808699e-11\n",
      "m value : 2.0000022835645157 b value : 2.9999917556075255 and cost : 1.2978792147137814e-11\n",
      "m value : 2.0000022295200006 b value : 2.9999919507253754 and cost : 1.2371730497752124e-11\n",
      "m value : 2.0000021767545424 b value : 2.9999921412254227 and cost : 1.1793063150278525e-11\n",
      "m value : 2.0000021252378697 b value : 2.9999923272169555 and cost : 1.1241462020599145e-11\n",
      "m value : 2.000002074940429 b value : 2.9999925088066766 and cost : 1.0715661128416907e-11\n",
      "m value : 2.0000020258333646 b value : 2.999992686098762 and cost : 1.0214453703175422e-11\n",
      "m value : 2.0000019778885028 b value : 2.999992859194922 and cost : 9.736689431879005e-12\n",
      "m value : 2.0000019310783412 b value : 2.999993028194462 and cost : 9.281271797859544e-12\n",
      "m value : 2.000001885376022 b value : 2.9999931931943338 and cost : 8.847155577851804e-12\n",
      "m value : 2.000001840755328 b value : 2.999993354289198 and cost : 8.433344428047806e-12\n",
      "m value : 2.00000179719066 b value : 2.999993511571472 and cost : 8.03888861229174e-12\n",
      "m value : 2.000001754657025 b value : 2.999993665131389 and cost : 7.662882822405923e-12\n",
      "m value : 2.0000017131300236 b value : 2.999993815057044 and cost : 7.304464081433466e-12\n",
      "m value : 2.000001672585829 b value : 2.999993961434448 and cost : 6.962809791303034e-12\n",
      "m value : 2.000001633001184 b value : 2.9999941043475773 and cost : 6.637135816537538e-12\n",
      "m value : 2.000001594353378 b value : 2.9999942438784193 and cost : 6.326694703608425e-12\n",
      "m value : 2.00000155662024 b value : 2.999994380107022 and cost : 6.030773967936976e-12\n",
      "m value : 2.0000015197801213 b value : 2.999994513111538 and cost : 5.748694436181708e-12\n",
      "m value : 2.0000014838118885 b value : 2.999994642968272 and cost : 5.479808707044332e-12\n",
      "m value : 2.000001448694906 b value : 2.9999947697517206 and cost : 5.223499669134144e-12\n",
      "m value : 2.000001414409028 b value : 2.9999948935346192 and cost : 4.979179065724101e-12\n",
      "m value : 2.000001380934585 b value : 2.9999950143879808 and cost : 4.746286154191719e-12\n",
      "m value : 2.0000013482523724 b value : 2.999995132381138 and cost : 4.524286426451094e-12\n",
      "m value : 2.000001316343641 b value : 2.999995247581782 and cost : 4.3126703696154156e-12\n",
      "m value : 2.000001285190085 b value : 2.999995360056003 and cost : 4.1109523098500826e-12\n",
      "m value : 2.000001254773833 b value : 2.999995469868327 and cost : 3.918669275988529e-12\n",
      "m value : 2.000001225077433 b value : 2.9999955770817515 and cost : 3.735379967404018e-12\n",
      "m value : 2.0000011960838506 b value : 2.9999956817577846 and cost : 3.560663712623717e-12\n",
      "m value : 2.000001167776451 b value : 2.9999957839564777 and cost : 3.3941195242320143e-12\n",
      "m value : 2.0000011401389957 b value : 2.9999958837364615 and cost : 3.2353651672939763e-12\n",
      "m value : 2.0000011131556286 b value : 2.999995981154979 and cost : 3.08403628218911e-12\n",
      "m value : 2.0000010868108697 b value : 2.9999960762679176 and cost : 2.939785556766782e-12\n",
      "m value : 2.000001061089605 b value : 2.999996169129844 and cost : 2.8022819239329265e-12\n",
      "m value : 2.000001035977079 b value : 2.9999962597940315 and cost : 2.671209796721699e-12\n",
      "m value : 2.000001011458884 b value : 2.999996348312494 and cost : 2.546268351559661e-12\n",
      "m value : 2.000000987520955 b value : 2.9999964347360133 and cost : 2.4271708400225654e-12\n",
      "m value : 2.0000009641495584 b value : 2.99999651911417 and cost : 2.3136439162432355e-12\n",
      "m value : 2.000000941331287 b value : 2.999996601495372 and cost : 2.2054270273648748e-12\n",
      "m value : 2.0000009190530488 b value : 2.9999966819268793 and cost : 2.1022718052451296e-12\n",
      "m value : 2.0000008973020647 b value : 2.999996760454836 and cost : 2.0039415000796457e-12\n",
      "m value : 2.0000008760658536 b value : 2.9999968371242915 and cost : 1.910210433087389e-12\n",
      "m value : 2.0000008553322366 b value : 2.999996911979232 and cost : 1.820863481180041e-12\n",
      "m value : 2.000000835089315 b value : 2.9999969850626003 and cost : 1.7356955878361841e-12\n",
      "m value : 2.000000815325478 b value : 2.999997056416324 and cost : 1.6545112816078026e-12\n",
      "m value : 2.0000007960293855 b value : 2.999997126081338 and cost : 1.5771242379982144e-12\n",
      "m value : 2.0000007771899697 b value : 2.9999971940976087 and cost : 1.5033568456151006e-12\n",
      "m value : 2.000000758796421 b value : 2.999997260504156 and cost : 1.4330398011711413e-12\n",
      "m value : 2.0000007408381872 b value : 2.9999973253390775 and cost : 1.3660117222104278e-12\n",
      "m value : 2.0000007233049666 b value : 2.999997388639568 and cost : 1.3021187713318946e-12\n",
      "m value : 2.0000007061866993 b value : 2.9999974504419424 and cost : 1.241214306525187e-12\n",
      "m value : 2.0000006894735667 b value : 2.9999975107816566 and cost : 1.1831585497029969e-12\n",
      "m value : 2.0000006731559785 b value : 2.9999975696933268 and cost : 1.127818254149246e-12\n",
      "m value : 2.0000006572245743 b value : 2.99999762721075 and cost : 1.0750664118562105e-12\n",
      "m value : 2.0000006416702147 b value : 2.999997683366924 and cost : 1.0247819481182959e-12\n",
      "m value : 2.000000626483976 b value : 2.9999977381940646 and cost : 9.768494587754657e-13\n",
      "m value : 2.000000611657146 b value : 2.999997791723626 and cost : 9.311589313287526e-13\n",
      "m value : 2.0000005971812183 b value : 2.999997843986317 and cost : 8.876055037973972e-13\n",
      "m value : 2.000000583047889 b value : 2.999997895012121 and cost : 8.460892163745964e-13\n",
      "m value : 2.000000569249049 b value : 2.9999979448303105 and cost : 8.065147852881191e-13\n",
      "m value : 2.0000005557767833 b value : 2.9999979934694663 and cost : 7.687913827571665e-13\n",
      "m value : 2.0000005426233614 b value : 2.9999980409574922 and cost : 7.328324297256702e-13\n",
      "m value : 2.000000529781238 b value : 2.9999980873216314 and cost : 6.985553990249704e-13\n",
      "m value : 2.000000517243046 b value : 2.999998132588483 and cost : 6.658816187613241e-13\n",
      "m value : 2.000000505001592 b value : 2.999998176784016 and cost : 6.347361021918747e-13\n",
      "m value : 2.0000004930498534 b value : 2.9999982199335853 and cost : 6.050473650059137e-13\n",
      "m value : 2.0000004813809733 b value : 2.9999982620619448 and cost : 5.767472689370092e-13\n",
      "m value : 2.0000004699882576 b value : 2.9999983031932635 and cost : 5.497708645166451e-13\n",
      "m value : 2.00000045886517 b value : 2.9999983433511384 and cost : 5.240562370810853e-13\n",
      "m value : 2.0000004480053306 b value : 2.9999983825586076 and cost : 4.995443680352056e-13\n",
      "m value : 2.0000004374025058 b value : 2.9999984208381636 and cost : 4.761790023601451e-13\n",
      "m value : 2.000000427050618 b value : 2.9999984582117682 and cost : 4.539065126529242e-13\n",
      "m value : 2.0000004169437235 b value : 2.999998494700861 and cost : 4.3267578254074943e-13\n",
      "m value : 2.0000004070760276 b value : 2.9999985303263763 and cost : 4.1243808454377833e-13\n",
      "m value : 2.000000397441867 b value : 2.999998565108752 and cost : 3.9314697123002057e-13\n",
      "m value : 2.000000388035716 b value : 2.9999985990679425 and cost : 3.7475816845331773e-13\n",
      "m value : 2.0000003788521776 b value : 2.9999986322234298 and cost : 3.57229471050964e-13\n",
      "m value : 2.000000369885984 b value : 2.999998664594235 and cost : 3.4052065080889824e-13\n",
      "m value : 2.0000003611319896 b value : 2.999998696198929 and cost : 3.245933578427636e-13\n",
      "m value : 2.0000003525851753 b value : 2.999998727055643 and cost : 3.0941103725977753e-13\n",
      "m value : 2.000000344240635 b value : 2.9999987571820794 and cost : 2.9493884487117813e-13\n",
      "m value : 2.000000336093583 b value : 2.9999987865955213 and cost : 2.811435657319299e-13\n",
      "m value : 2.0000003281393464 b value : 2.9999988153128436 and cost : 2.6799353774575935e-13\n",
      "m value : 2.0000003203733585 b value : 2.99999884335052 and cost : 2.5545858100636284e-13\n",
      "m value : 2.000000312791168 b value : 2.9999988707246366 and cost : 2.4350992580882537e-13\n",
      "m value : 2.0000003053884217 b value : 2.999998897450897 and cost : 2.321201498473531e-13\n",
      "m value : 2.0000002981608755 b value : 2.9999989235446343 and cost : 2.2126311154981455e-13\n",
      "m value : 2.0000002911043806 b value : 2.9999989490208177 and cost : 2.1091389318664447e-13\n",
      "m value : 2.000000284214891 b value : 2.9999989738940633 and cost : 2.010487427418169e-13\n",
      "m value : 2.000000277488452 b value : 2.9999989981786404 and cost : 1.9164501878233966e-13\n",
      "m value : 2.000000270921207 b value : 2.9999990218884807 and cost : 1.8268113774283258e-13\n",
      "m value : 2.0000002645093864 b value : 2.9999990450371863 and cost : 1.7413652850005602e-13\n",
      "m value : 2.000000258249313 b value : 2.999999067638038 and cost : 1.6599157884528373e-13\n",
      "m value : 2.000000252137395 b value : 2.9999990897040014 and cost : 1.5822759550752525e-13\n",
      "m value : 2.000000246170126 b value : 2.9999991112477353 and cost : 1.5082675996605884e-13\n",
      "m value : 2.0000002403440833 b value : 2.9999991322815993 and cost : 1.4377208638548623e-13\n",
      "m value : 2.000000234655923 b value : 2.9999991528176606 and cost : 1.3704738361379604e-13\n",
      "m value : 2.000000229102384 b value : 2.9999991728677005 and cost : 1.3063721754886723e-13\n",
      "m value : 2.0000002236802787 b value : 2.999999192443221 and cost : 1.2452687634950606e-13\n",
      "m value : 2.000000218386497 b value : 2.999999211555453 and cost : 1.1870233670615105e-13\n",
      "m value : 2.0000002132180015 b value : 2.999999230215361 and cost : 1.1315023030783594e-13\n",
      "m value : 2.0000002081718278 b value : 2.99999924843365 and cost : 1.0785781451381426e-13\n",
      "m value : 2.0000002032450803 b value : 2.9999992662207715 and cost : 1.028129424635187e-13\n",
      "m value : 2.0000001984349325 b value : 2.99999928358693 and cost : 9.800403621915059e-14\n",
      "m value : 2.0000001937386256 b value : 2.999999300542088 and cost : 9.342005867060603e-14\n",
      "m value : 2.0000001891534653 b value : 2.999999317095973 and cost : 8.905048901529453e-14\n",
      "m value : 2.00000018467682 b value : 2.9999993332580814 and cost : 8.488529887856425e-14\n",
      "m value : 2.000000180306123 b value : 2.9999993490376857 and cost : 8.091492860607541e-14\n",
      "m value : 2.0000001760388653 b value : 2.999999364443838 and cost : 7.71302660724051e-14\n",
      "m value : 2.000000171872601 b value : 2.999999379485377 and cost : 7.352262463219085e-14\n",
      "m value : 2.000000167804937 b value : 2.9999993941709318 and cost : 7.008372473593591e-14\n",
      "m value : 2.0000001638335427 b value : 2.999999408508928 and cost : 6.68056738352968e-14\n",
      "m value : 2.0000001599561372 b value : 2.99999942250759 and cost : 6.36809481678457e-14\n",
      "m value : 2.000000156170498 b value : 2.99999943617495 and cost : 6.070237661307337e-14\n",
      "m value : 2.0000001524744526 b value : 2.999999449518848 and cost : 5.786312270918973e-14\n",
      "m value : 2.0000001488658796 b value : 2.999999462546939 and cost : 5.515667049413603e-14\n",
      "m value : 2.0000001453427108 b value : 2.999999475266698 and cost : 5.257680807348789e-14\n",
      "m value : 2.000000141902923 b value : 2.9999994876854217 and cost : 5.011761431809126e-14\n",
      "m value : 2.0000001385445443 b value : 2.999999499810235 and cost : 4.7773445328253517e-14\n",
      "m value : 2.0000001352656476 b value : 2.9999995116480935 and cost : 4.553892099787811e-14\n",
      "m value : 2.000000132064351 b value : 2.9999995232057883 and cost : 4.340891286641089e-14\n",
      "m value : 2.000000128938819 b value : 2.9999995344899504 and cost : 4.1378532407465756e-14\n",
      "m value : 2.000000125887259 b value : 2.999999545507053 and cost : 3.944311950772478e-14\n",
      "m value : 2.000000122907918 b value : 2.999999556263417 and cost : 3.7598232621800753e-14\n",
      "m value : 2.0000001199990893 b value : 2.999999566765213 and cost : 3.583963711948754e-14\n",
      "m value : 2.0000001171591024 b value : 2.9999995770184653 and cost : 3.416329719561381e-14\n",
      "m value : 2.0000001143863293 b value : 2.9999995870290572 and cost : 3.2565365115825583e-14\n",
      "m value : 2.000000111679178 b value : 2.999999596802731 and cost : 3.104217369253675e-14\n",
      "m value : 2.000000109036097 b value : 2.999999606345094 and cost : 2.959022711687889e-14\n",
      "m value : 2.000000106455568 b value : 2.99999961566162 and cost : 2.820619285636791e-14\n",
      "m value : 2.000000103936113 b value : 2.999999624757655 and cost : 2.6886894568173306e-14\n",
      "m value : 2.0000001014762843 b value : 2.999999633638416 and cost : 2.562930437129821e-14\n",
      "m value : 2.000000099074672 b value : 2.9999996423089983 and cost : 2.443053574235839e-14\n",
      "m value : 2.000000096729898 b value : 2.9999996507743765 and cost : 2.328783767870886e-14\n",
      "m value : 2.0000000944406167 b value : 2.9999996590394065 and cost : 2.2198587414338795e-14\n",
      "m value : 2.000000092205516 b value : 2.9999996671088307 and cost : 2.116028498922815e-14\n",
      "m value : 2.0000000900233124 b value : 2.9999996749872775 and cost : 2.0170547317236182e-14\n",
      "m value : 2.0000000878927544 b value : 2.999999682679267 and cost : 1.9227103232595567e-14\n",
      "m value : 2.0000000858126206 b value : 2.999999690189213 and cost : 1.832778714482211e-14\n",
      "m value : 2.0000000837817153 b value : 2.9999996975214227 and cost : 1.7470534971497362e-14\n",
      "m value : 2.000000081798876 b value : 2.999999704680103 and cost : 1.6653379435739338e-14\n",
      "m value : 2.0000000798629634 b value : 2.9999997116693606 and cost : 1.5874445108379714e-14\n",
      "m value : 2.000000077972868 b value : 2.9999997184932057 and cost : 1.5131944013136258e-14\n",
      "m value : 2.000000076127505 b value : 2.9999997251555524 and cost : 1.4424172065013265e-14\n",
      "m value : 2.000000074325815 b value : 2.999999731660223 and cost : 1.374950524611463e-14\n",
      "m value : 2.0000000725667664 b value : 2.9999997380109495 and cost : 1.3106394717113703e-14\n",
      "m value : 2.0000000708493473 b value : 2.9999997442113746 and cost : 1.2493364648455214e-14\n",
      "m value : 2.0000000691725752 b value : 2.999999750265056 and cost : 1.1909008076042007e-14\n",
      "m value : 2.0000000675354856 b value : 2.9999997561754665 and cost : 1.1351983835708211e-14\n",
      "m value : 2.000000065937142 b value : 2.9999997619459973 and cost : 1.0821013400473205e-14\n",
      "m value : 2.0000000643766245 b value : 2.999999767579958 and cost : 1.0314878407369194e-14\n",
      "m value : 2.0000000628530405 b value : 2.9999997730805816 and cost : 9.832416885841371e-15\n",
      "m value : 2.000000061365514 b value : 2.999999778451023 and cost : 9.372521783777144e-15\n",
      "m value : 2.0000000599131926 b value : 2.999999783694364 and cost : 8.934137508618316e-15\n",
      "m value : 2.0000000584952433 b value : 2.999999788813612 and cost : 8.51625794547705e-15\n",
      "m value : 2.0000000571108516 b value : 2.9999997938117042 and cost : 8.117923968083493e-15\n",
      "m value : 2.0000000557592243 b value : 2.999999798691508 and cost : 7.73822136494245e-15\n",
      "m value : 2.0000000544395853 b value : 2.9999998034558226 and cost : 7.37627889263638e-15\n",
      "m value : 2.0000000531511786 b value : 2.9999998081073818 and cost : 7.03126550474033e-15\n",
      "m value : 2.000000051893263 b value : 2.9999998126488534 and cost : 6.702389701969328e-15\n",
      "m value : 2.000000050665119 b value : 2.9999998170828435 and cost : 6.388896353809125e-15\n",
      "m value : 2.0000000494660415 b value : 2.9999998214118953 and cost : 6.0900662010000104e-15\n",
      "m value : 2.0000000482953415 b value : 2.9999998256384925 and cost : 5.805213472536656e-15\n",
      "m value : 2.000000047152349 b value : 2.99999982976506 and cost : 5.533684057057194e-15\n",
      "m value : 2.0000000460364062 b value : 2.9999998337939653 and cost : 5.274855187750373e-15\n",
      "m value : 2.000000044946875 b value : 2.9999998377275197 and cost : 5.028132499300782e-15\n",
      "m value : 2.000000043883129 b value : 2.999999841567979 and cost : 4.7929498399316925e-15\n",
      "m value : 2.000000042844559 b value : 2.999999845317548 and cost : 4.568767494026558e-15\n",
      "m value : 2.000000041830568 b value : 2.9999998489783763 and cost : 4.355070920053987e-15\n",
      "m value : 2.0000000408405754 b value : 2.9999998525525653 and cost : 4.151369638895422e-15\n",
      "m value : 2.0000000398740116 b value : 2.9999998560421646 and cost : 3.957196159039973e-15\n",
      "m value : 2.0000000389303247 b value : 2.9999998594491766 and cost : 3.772104816723711e-15\n",
      "m value : 2.0000000380089706 b value : 2.9999998627755557 and cost : 3.5956707591231095e-15\n",
      "m value : 2.0000000371094226 b value : 2.9999998660232103 and cost : 3.4274891575793663e-15\n",
      "m value : 2.000000036231163 b value : 2.9999998691940033 and cost : 3.2671740803431094e-15\n",
      "m value : 2.0000000353736906 b value : 2.9999998722897545 and cost : 3.1143573370536223e-15\n",
      "m value : 2.00000003453651 b value : 2.999999875312239 and cost : 2.9686883906276785e-15\n",
      "m value : 2.000000033719144 b value : 2.9999998782631914 and cost : 2.829832898706908e-15\n",
      "m value : 2.0000000329211223 b value : 2.999999881144304 and cost : 2.6974720489709894e-15\n",
      "m value : 2.0000000321419864 b value : 2.9999998839572304 and cost : 2.5713022327765594e-15\n",
      "m value : 2.000000031381291 b value : 2.9999998867035838 and cost : 2.451033825971344e-15\n",
      "m value : 2.0000000306385974 b value : 2.9999998893849398 and cost : 2.3363907658211395e-15\n",
      "m value : 2.000000029913483 b value : 2.9999998920028372 and cost : 2.2271099262413444e-15\n",
      "m value : 2.0000000292055278 b value : 2.999999894558777 and cost : 2.1229405218522695e-15\n",
      "m value : 2.000000028514329 b value : 2.9999998970542268 and cost : 2.0236434470375812e-15\n",
      "m value : 2.0000000278394867 b value : 2.999999899490617 and cost : 1.928990890637631e-15\n",
      "m value : 2.000000027180618 b value : 2.999999901869346 and cost : 1.838765513131949e-15\n",
      "m value : 2.0000000265373408 b value : 2.999999904191778 and cost : 1.7527602682554008e-15\n",
      "m value : 2.000000025909289 b value : 2.999999906459246 and cost : 1.6707777853406454e-15\n",
      "m value : 2.0000000252961008 b value : 2.9999999086730504 and cost : 1.592629901662186e-15\n",
      "m value : 2.0000000246974245 b value : 2.999999910834461 and cost : 1.5181372544461912e-15\n",
      "m value : 2.000000024112917 b value : 2.9999999129447183 and cost : 1.4471288856795671e-15\n",
      "m value : 2.0000000235422433 b value : 2.9999999150050325 and cost : 1.3794418042297817e-15\n",
      "m value : 2.0000000229850747 b value : 2.9999999170165856 and cost : 1.314920688346019e-15\n",
      "m value : 2.0000000224410934 b value : 2.9999999189805324 and cost : 1.2534174597304646e-15\n",
      "m value : 2.0000000219099863 b value : 2.9999999208979986 and cost : 1.194790869651033e-15\n",
      "m value : 2.000000021391448 b value : 2.9999999227700846 and cost : 1.1389065171805218e-15\n",
      "m value : 2.0000000208851825 b value : 2.9999999245978644 and cost : 1.0856360577728374e-15\n",
      "m value : 2.0000000203908987 b value : 2.9999999263823867 and cost : 1.034857182407993e-15\n",
      "m value : 2.0000000199083123 b value : 2.999999928124675 and cost : 9.86453479479562e-16\n",
      "m value : 2.000000019437148 b value : 2.9999999298257296 and cost : 9.403137215195317e-16\n",
      "m value : 2.0000000189771336 b value : 2.999999931486525 and cost : 8.963321154007494e-16\n",
      "m value : 2.0000000185280076 b value : 2.9999999331080156 and cost : 8.544076185562136e-16\n",
      "m value : 2.0000000180895094 b value : 2.99999993469113 and cost : 8.14444129102039e-16\n",
      "m value : 2.00000001766139 b value : 2.9999999362367777 and cost : 7.763498470461945e-16\n",
      "m value : 2.0000000172434027 b value : 2.999999937745845 and cost : 7.400373598902647e-16\n",
      "m value : 2.000000016835308 b value : 2.9999999392191974 and cost : 7.054233328059717e-16\n",
      "m value : 2.000000016436871 b value : 2.9999999406576805 and cost : 6.724283185442187e-16\n",
      "m value : 2.000000016047864 b value : 2.9999999420621193 and cost : 6.40976589980474e-16\n",
      "m value : 2.0000000156680633 b value : 2.9999999434333198 and cost : 6.10995971186933e-16\n",
      "m value : 2.0000000152972515 b value : 2.9999999447720684 and cost : 5.824176475203368e-16\n",
      "m value : 2.0000000149352153 b value : 2.999999946079133 and cost : 5.551760109683815e-16\n",
      "m value : 2.000000014581748 b value : 2.9999999473552643 and cost : 5.292085757730509e-16\n",
      "m value : 2.0000000142366448 b value : 2.999999948601193 and cost : 5.044556948409623e-16\n",
      "m value : 2.0000000138997107 b value : 2.999999949817635 and cost : 4.808606068323269e-16\n",
      "m value : 2.0000000135707494 b value : 2.9999999510052877 and cost : 4.583691642882925e-16\n",
      "m value : 2.0000000132495743 b value : 2.9999999521648326 and cost : 4.369296885007159e-16\n",
      "m value : 2.0000000129360003 b value : 2.999999953296935 and cost : 4.1649302458784846e-16\n",
      "m value : 2.000000012629847 b value : 2.999999954402244 and cost : 3.9701225506230813e-16\n",
      "m value : 2.0000000123309403 b value : 2.9999999554813943 and cost : 3.7844265065511606e-16\n",
      "m value : 2.0000000120391066 b value : 2.9999999565350044 and cost : 3.607416152883493e-16\n",
      "m value : 2.0000000117541807 b value : 2.999999957563679 and cost : 3.438685164613239e-16\n",
      "m value : 2.000000011475997 b value : 2.999999958568008 and cost : 3.2778463675134184e-16\n",
      "m value : 2.0000000112043983 b value : 2.999999959548568 and cost : 3.124530452894962e-16\n",
      "m value : 2.0000000109392264 b value : 2.9999999605059213 and cost : 2.9783856769537514e-16\n",
      "m value : 2.000000010680331 b value : 2.999999961440617 and cost : 2.839076643787491e-16\n",
      "m value : 2.0000000104275624 b value : 2.9999999623531917 and cost : 2.706283440464061e-16\n",
      "m value : 2.000000010180776 b value : 2.9999999632441687 and cost : 2.5797015182395513e-16\n",
      "m value : 2.0000000099398303 b value : 2.999999964114059 and cost : 2.4590401226824354e-16\n",
      "m value : 2.000000009704587 b value : 2.999999964963362 and cost : 2.344022735745879e-16\n",
      "m value : 2.000000009474911 b value : 2.999999965792565 and cost : 2.2343848842342516e-16\n",
      "m value : 2.000000009250671 b value : 2.999999966602143 and cost : 2.1298751979357577e-16\n",
      "m value : 2.0000000090317376 b value : 2.9999999673925615 and cost : 2.030253801916344e-16\n",
      "m value : 2.000000008817986 b value : 2.999999968164273 and cost : 1.9352920153486833e-16\n",
      "m value : 2.000000008609293 b value : 2.9999999689177206 and cost : 1.844771898910576e-16\n",
      "m value : 2.0000000084055394 b value : 2.9999999696533366 and cost : 1.758485798455617e-16\n",
      "m value : 2.0000000082066074 b value : 2.999999970371543 and cost : 1.6762355349628626e-16\n",
      "m value : 2.000000008012384 b value : 2.999999971072752 and cost : 1.5978322720473606e-16\n",
      "m value : 2.0000000078227567 b value : 2.999999971757365 and cost : 1.523096362178388e-16\n",
      "m value : 2.000000007637618 b value : 2.999999972425776 and cost : 1.4518559834181675e-16\n",
      "m value : 2.00000000745686 b value : 2.999999973078368 and cost : 1.3839478519010842e-16\n",
      "m value : 2.0000000072803807 b value : 2.999999973715515 and cost : 1.3192159782100906e-16\n",
      "m value : 2.000000007108078 b value : 2.9999999743375834 and cost : 1.2575117780176674e-16\n",
      "m value : 2.0000000069398527 b value : 2.9999999749449286 and cost : 1.198693755798753e-16\n",
      "m value : 2.0000000067756094 b value : 2.9999999755379005 and cost : 1.142626893688596e-16\n",
      "m value : 2.000000006615253 b value : 2.9999999761168388 and cost : 1.0891823754169615e-16\n",
      "m value : 2.0000000064586914 b value : 2.999999976682075 and cost : 1.0382375261159216e-16\n",
      "m value : 2.0000000063058354 b value : 2.999999977233934 and cost : 9.896757974595893e-17\n",
      "m value : 2.0000000061565966 b value : 2.9999999777727324 and cost : 9.433853125946564e-17\n",
      "m value : 2.00000000601089 b value : 2.999999978298779 and cost : 8.992600782874496e-17\n",
      "m value : 2.0000000058686322 b value : 2.9999999788123763 and cost : 8.571986315400617e-17\n",
      "m value : 2.0000000057297407 b value : 2.9999999793138183 and cost : 8.171045160874414e-17\n",
      "m value : 2.0000000055941363 b value : 2.9999999798033925 and cost : 7.788858370452532e-17\n",
      "m value : 2.0000000054617413 b value : 2.9999999802813804 and cost : 7.424547863306372e-17\n",
      "m value : 2.00000000533248 b value : 2.999999980748056 and cost : 7.077276308826705e-17\n",
      "m value : 2.0000000052062776 b value : 2.9999999812036866 and cost : 6.746248264180941e-17\n",
      "m value : 2.000000005083062 b value : 2.999999981648534 and cost : 6.430703515998181e-17\n",
      "m value : 2.000000004962762 b value : 2.999999982082853 and cost : 6.129918192072068e-17\n",
      "m value : 2.00000000484531 b value : 2.9999999825068935 and cost : 5.843201135066106e-17\n",
      "m value : 2.000000004730637 b value : 2.9999999829208983 and cost : 5.569895151389907e-17\n",
      "m value : 2.0000000046186788 b value : 2.999999983325105 and cost : 5.309372130266783e-17\n",
      "m value : 2.000000004509369 b value : 2.9999999837197455 and cost : 5.061034783855522e-17\n",
      "m value : 2.0000000044026476 b value : 2.999999984105046 and cost : 4.824313248640051e-17\n",
      "m value : 2.0000000042984505 b value : 2.9999999844812275 and cost : 4.598663807382294e-17\n",
      "m value : 2.000000004196721 b value : 2.9999999848485066 and cost : 4.383569153233376e-17\n",
      "m value : 2.0000000040973975 b value : 2.9999999852070927 and cost : 4.178534970369387e-17\n",
      "m value : 2.0000000040004267 b value : 2.9999999855571926 and cost : 3.9830908973287604e-17\n",
      "m value : 2.000000003905749 b value : 2.9999999858990063 and cost : 3.796788520369147e-17\n",
      "m value : 2.000000003813313 b value : 2.999999986232731 and cost : 3.6191995620494896e-17\n",
      "m value : 2.000000003723064 b value : 2.999999986558557 and cost : 3.449917346931345e-17\n",
      "m value : 2.0000000036349515 b value : 2.9999999868766722 and cost : 3.288553560424943e-17\n",
      "m value : 2.000000003548924 b value : 2.9999999871872585 and cost : 3.134736784687075e-17\n",
      "m value : 2.000000003464933 b value : 2.999999987490494 and cost : 2.988114731013565e-17\n",
      "m value : 2.000000003382929 b value : 2.9999999877865533 and cost : 2.848350582733572e-17\n",
      "m value : 2.000000003302866 b value : 2.9999999880756056 and cost : 2.7151239835402194e-17\n",
      "m value : 2.000000003224698 b value : 2.9999999883578172 and cost : 2.5881283031923412e-17\n",
      "m value : 2.00000000314838 b value : 2.9999999886333497 and cost : 2.467073116393162e-17\n",
      "m value : 2.000000003073868 b value : 2.999999988902361 and cost : 2.3516795235159576e-17\n",
      "m value : 2.0000000030011194 b value : 2.999999989165006 and cost : 2.24168379931587e-17\n",
      "m value : 2.0000000029300926 b value : 2.9999999894214353 and cost : 2.1368322570089203e-17\n",
      "m value : 2.0000000028607468 b value : 2.9999999896717955 and cost : 2.0368858605046082e-17\n",
      "m value : 2.0000000027930427 b value : 2.9999999899162306 and cost : 1.941613554255713e-17\n",
      "m value : 2.00000000272694 b value : 2.9999999901548806 and cost : 1.8507974237419e-17\n",
      "m value : 2.0000000026624027 b value : 2.9999999903878827 and cost : 1.7642297837065126e-17\n",
      "m value : 2.000000002599392 b value : 2.99999999061537 and cost : 1.6817107036813175e-17\n",
      "m value : 2.000000002537873 b value : 2.9999999908374737 and cost : 1.603051426827358e-17\n",
      "m value : 2.0000000024778095 b value : 2.9999999910543207 and cost : 1.5280712275765967e-17\n",
      "m value : 2.0000000024191684 b value : 2.999999991266036 and cost : 1.4565982012122595e-17\n",
      "m value : 2.000000002361914 b value : 2.99999999147274 and cost : 1.3884682410864876e-17\n",
      "m value : 2.000000002306015 b value : 2.9999999916745526 and cost : 1.3235251852230834e-17\n",
      "m value : 2.0000000022514395 b value : 2.9999999918715887 and cost : 1.2616190694726618e-17\n",
      "m value : 2.0000000021981554 b value : 2.999999992063962 and cost : 1.2026090277758944e-17\n",
      "m value : 2.0000000021461317 b value : 2.999999992251782 and cost : 1.146359178614523e-17\n",
      "m value : 2.0000000020953403 b value : 2.999999992435157 and cost : 1.092739853226989e-17\n",
      "m value : 2.0000000020457502 b value : 2.999999992614192 and cost : 1.0416287648420233e-17\n",
      "m value : 2.000000001997334 b value : 2.99999999278899 and cost : 9.929082171722943e-18\n",
      "m value : 2.000000001950064 b value : 2.9999999929596513 and cost : 9.464667730817849e-18\n",
      "m value : 2.0000000019039117 b value : 2.999999993126273 and cost : 9.021970981078478e-18\n",
      "m value : 2.0000000018588526 b value : 2.999999993288952 and cost : 8.599983479537051e-18\n",
      "m value : 2.00000000181486 b value : 2.9999999934477803 and cost : 8.197733367270947e-18\n",
      "m value : 2.000000001771908 b value : 2.99999999360285 and cost : 7.814297593672537e-18\n",
      "m value : 2.0000000017299726 b value : 2.99999999375425 and cost : 7.448799857317123e-18\n",
      "m value : 2.0000000016890302 b value : 2.9999999939020663 and cost : 7.100393265601327e-18\n",
      "m value : 2.000000001649056 b value : 2.999999994046384 and cost : 6.7682833518891394e-18\n",
      "m value : 2.0000000016100286 b value : 2.999999994187287 and cost : 6.451709497313795e-18\n",
      "m value : 2.0000000015719235 b value : 2.9999999943248548 and cost : 6.149942143973586e-18\n",
      "m value : 2.0000000015347226 b value : 2.9999999944591673 and cost : 5.8622855314837185e-18\n",
      "m value : 2.0000000014983996 b value : 2.9999999945903006 and cost : 5.588087365915051e-18\n",
      "m value : 2.0000000014629378 b value : 2.9999999947183307 and cost : 5.326714001388306e-18\n",
      "m value : 2.000000001428315 b value : 2.9999999948433307 and cost : 5.077566695741831e-18\n",
      "m value : 2.000000001394511 b value : 2.999999994965372 and cost : 4.840070463245435e-18\n",
      "m value : 2.000000001361508 b value : 2.9999999950845253 and cost : 4.613683763141848e-18\n",
      "m value : 2.000000001329285 b value : 2.9999999952008585 and cost : 4.397888185611771e-18\n",
      "m value : 2.0000000012978254 b value : 2.9999999953144387 and cost : 4.192182926758226e-18\n",
      "m value : 2.00000000126711 b value : 2.9999999954253305 and cost : 3.996101543271918e-18\n",
      "m value : 2.000000001237122 b value : 2.999999995533598 and cost : 3.809190424627442e-18\n",
      "m value : 2.000000001207843 b value : 2.9999999956393033 and cost : 3.631020730858247e-18\n",
      "m value : 2.000000001179257 b value : 2.9999999957425065 and cost : 3.461185828159791e-18\n",
      "m value : 2.0000000011513483 b value : 2.9999999958432677 and cost : 3.299294467431802e-18\n",
      "m value : 2.000000001124099 b value : 2.9999999959416437 and cost : 3.144976667444976e-18\n",
      "m value : 2.0000000010974963 b value : 2.999999996037692 and cost : 2.997874369052795e-18\n",
      "m value : 2.000000001071521 b value : 2.999999996131467 and cost : 2.8576539460075192e-18\n",
      "m value : 2.0000000010461623 b value : 2.9999999962230226 and cost : 2.7239923924222535e-18\n",
      "m value : 2.0000000010214025 b value : 2.999999996312411 and cost : 2.596580652851333e-18\n",
      "m value : 2.00000000099723 b value : 2.9999999963996844 and cost : 2.47512978551101e-18\n",
      "m value : 2.0000000009736287 b value : 2.9999999964848922 and cost : 2.3593592963462686e-18\n",
      "m value : 2.000000000950586 b value : 2.9999999965680835 and cost : 2.2490042569702655e-18\n",
      "m value : 2.0000000009280883 b value : 2.9999999966493056 and cost : 2.1438114829574643e-18\n",
      "m value : 2.000000000906124 b value : 2.9999999967286057 and cost : 2.0435382707506346e-18\n",
      "m value : 2.0000000008846786 b value : 2.9999999968060287 and cost : 1.947955152146356e-18\n",
      "m value : 2.0000000008637415 b value : 2.99999999688162 and cost : 1.8568426951057445e-18\n",
      "m value : 2.000000000843299 b value : 2.9999999969554216 and cost : 1.7699920118097495e-18\n",
      "m value : 2.0000000008233414 b value : 2.999999997027477 and cost : 1.6872034926606201e-18\n",
      "m value : 2.0000000008038556 b value : 2.999999997097827 and cost : 1.6082877279661615e-18\n",
      "m value : 2.000000000784831 b value : 2.999999997166512 and cost : 1.5330623604558782e-18\n",
      "m value : 2.0000000007662564 b value : 2.999999997233571 and cost : 1.4613551203439464e-18\n",
      "m value : 2.0000000007481216 b value : 2.9999999972990437 and cost : 1.393003300037152e-18\n",
      "m value : 2.0000000007304157 b value : 2.9999999973629663 and cost : 1.327847283528242e-18\n",
      "m value : 2.0000000007131296 b value : 2.9999999974253764 and cost : 1.2657404104747167e-18\n",
      "m value : 2.000000000696252 b value : 2.9999999974863094 and cost : 1.206537094015522e-18\n",
      "m value : 2.000000000679774 b value : 2.9999999975458005 and cost : 1.1501030869969317e-18\n",
      "m value : 2.000000000663686 b value : 2.9999999976038834 and cost : 1.0963091967002501e-18\n",
      "m value : 2.0000000006479786 b value : 2.9999999976605918 and cost : 1.0450310724181357e-18\n",
      "m value : 2.000000000632643 b value : 2.9999999977159577 and cost : 9.9615089014958e-19\n",
      "m value : 2.0000000006176704 b value : 2.9999999977700136 and cost : 9.495575102067424e-19\n",
      "m value : 2.0000000006030523 b value : 2.99999999782279 and cost : 9.051436854040219e-19\n",
      "m value : 2.0000000005887797 b value : 2.9999999978743173 and cost : 8.628072921853088e-19\n",
      "m value : 2.0000000005748455 b value : 2.9999999979246255 and cost : 8.224510839132585e-19\n",
      "m value : 2.000000000561241 b value : 2.9999999979737426 and cost : 7.839820904748298e-19\n",
      "m value : 2.0000000005479586 b value : 2.9999999980216976 and cost : 7.473120606123181e-19\n",
      "m value : 2.0000000005349894 b value : 2.9999999980685175 and cost : 7.123584824473075e-19\n",
      "m value : 2.0000000005223284 b value : 2.9999999981142293 and cost : 6.790389790660166e-19\n",
      "m value : 2.0000000005099663 b value : 2.9999999981588594 and cost : 6.472785790635622e-19\n",
      "m value : 2.0000000004978973 b value : 2.9999999982024335 and cost : 6.170029943640478e-19\n",
      "m value : 2.0000000004861134 b value : 2.999999998244976 and cost : 5.88143290005281e-19\n",
      "m value : 2.000000000474609 b value : 2.9999999982865115 and cost : 5.606337699420069e-19\n",
      "m value : 2.000000000463376 b value : 2.999999998327064 and cost : 5.344108785701925e-19\n",
      "m value : 2.0000000004524097 b value : 2.999999998366657 and cost : 5.094155148213052e-19\n",
      "m value : 2.0000000004417027 b value : 2.999999998405313 and cost : 4.855875949675523e-19\n",
      "m value : 2.0000000004312493 b value : 2.999999998443054 and cost : 4.628752340420604e-19\n",
      "m value : 2.0000000004210428 b value : 2.9999999984799017 and cost : 4.412251587509204e-19\n",
      "m value : 2.000000000411078 b value : 2.9999999985158774 and cost : 4.2058735821685376e-19\n",
      "m value : 2.0000000004013496 b value : 2.9999999985510017 and cost : 4.0091496362538655e-19\n",
      "m value : 2.00000000039185 b value : 2.9999999985852948 and cost : 3.8216373632985225e-19\n",
      "m value : 2.000000000382577 b value : 2.9999999986187764 and cost : 3.6428787658433546e-19\n",
      "m value : 2.0000000003735225 b value : 2.9999999986514654 and cost : 3.4724906428060505e-19\n",
      "m value : 2.0000000003646825 b value : 2.9999999986833807 and cost : 3.310067078854809e-19\n",
      "m value : 2.0000000003560516 b value : 2.9999999987145407 and cost : 3.1552503757422425e-19\n",
      "m value : 2.000000000347625 b value : 2.9999999987449635 and cost : 3.007667803031499e-19\n",
      "m value : 2.000000000339398 b value : 2.999999998774666 and cost : 2.866987584580222e-19\n",
      "m value : 2.0000000003313656 b value : 2.999999998803666 and cost : 2.732891737720373e-19\n",
      "m value : 2.000000000323523 b value : 2.999999998831979 and cost : 2.6050631063208174e-19\n",
      "m value : 2.000000000315866 b value : 2.9999999988596224 and cost : 2.4832151618318624e-19\n",
      "m value : 2.000000000308391 b value : 2.9999999988866115 and cost : 2.367068375348669e-19\n",
      "m value : 2.000000000301092 b value : 2.9999999989129615 and cost : 2.2563506538087347e-19\n",
      "m value : 2.000000000293966 b value : 2.999999998938688 and cost : 2.1508168607020896e-19\n",
      "m value : 2.000000000287009 b value : 2.9999999989638058 and cost : 2.0502127530189164e-19\n",
      "m value : 2.0000000002802163 b value : 2.9999999989883293 and cost : 1.9543225698579452e-19\n",
      "m value : 2.0000000002735847 b value : 2.9999999990122723 and cost : 1.8629079089276097e-19\n",
      "m value : 2.00000000026711 b value : 2.9999999990356487 and cost : 1.7757738233316943e-19\n",
      "m value : 2.0000000002607883 b value : 2.999999999058472 and cost : 1.6927139027297214e-19\n",
      "m value : 2.000000000254616 b value : 2.999999999080755 and cost : 1.6135424694862625e-19\n",
      "m value : 2.0000000002485905 b value : 2.9999999991025104 and cost : 1.5380687121269595e-19\n",
      "m value : 2.000000000242707 b value : 2.999999999123751 and cost : 1.4661300002898165e-19\n",
      "m value : 2.0000000002369624 b value : 2.999999999144489 and cost : 1.397551198540858e-19\n",
      "m value : 2.000000000231355 b value : 2.999999999164736 and cost : 1.3321846842150008e-19\n",
      "m value : 2.0000000002258793 b value : 2.999999999184504 and cost : 1.2698718808733085e-19\n",
      "m value : 2.000000000220534 b value : 2.999999999203804 and cost : 1.2104795868165353e-19\n",
      "m value : 2.0000000002153135 b value : 2.999999999222647 and cost : 1.1538626899767606e-19\n",
      "m value : 2.000000000210219 b value : 2.999999999241045 and cost : 1.099889854214539e-19\n",
      "m value : 2.000000000205243 b value : 2.9999999992590065 and cost : 1.0484443134730613e-19\n",
      "m value : 2.000000000200386 b value : 2.9999999992765436 and cost : 9.994079056767739e-20\n",
      "m value : 2.0000000001956435 b value : 2.9999999992936655 and cost : 9.52658232134766e-20\n",
      "m value : 2.000000000191013 b value : 2.999999999310382 and cost : 9.081013874728136e-20\n",
      "m value : 2.0000000001864926 b value : 2.999999999326703 and cost : 8.656281009944209e-20\n",
      "m value : 2.0000000001820784 b value : 2.999999999342638 and cost : 8.251386142077945e-20\n",
      "m value : 2.00000000017777 b value : 2.9999999993581956 and cost : 7.865428684690307e-20\n",
      "m value : 2.000000000173562 b value : 2.999999999373385 and cost : 7.497534653830356e-20\n",
      "m value : 2.0000000001694547 b value : 2.9999999993882147 and cost : 7.146851631316136e-20\n",
      "m value : 2.000000000165444 b value : 2.999999999402694 and cost : 6.81257549433982e-20\n",
      "m value : 2.000000000161529 b value : 2.99999999941683 and cost : 6.493934258697068e-20\n",
      "m value : 2.000000000157706 b value : 2.999999999430632 and cost : 6.190194564675169e-20\n",
      "m value : 2.0000000001539737 b value : 2.999999999444107 and cost : 5.900626729868076e-20\n",
      "m value : 2.000000000150329 b value : 2.999999999457263 and cost : 5.624664970439241e-20\n",
      "m value : 2.000000000146772 b value : 2.999999999470108 and cost : 5.3615656212968566e-20\n",
      "m value : 2.000000000143298 b value : 2.9999999994826485 and cost : 5.110779488144107e-20\n",
      "m value : 2.0000000001399068 b value : 2.9999999994948925 and cost : 4.8717477898311444e-20\n",
      "m value : 2.0000000001365956 b value : 2.999999999506847 and cost : 4.643879709866528e-20\n",
      "m value : 2.0000000001333627 b value : 2.999999999518518 and cost : 4.426667151382017e-20\n",
      "m value : 2.0000000001302065 b value : 2.9999999995299134 and cost : 4.219619322482835e-20\n",
      "m value : 2.0000000001271245 b value : 2.9999999995410387 and cost : 4.0222602116245613e-20\n",
      "m value : 2.0000000001241163 b value : 2.999999999551901 and cost : 3.8341255138481693e-20\n",
      "m value : 2.0000000001211786 b value : 2.999999999562506 and cost : 3.65477890797817e-20\n",
      "m value : 2.0000000001183107 b value : 2.99999999957286 and cost : 3.4838461329366975e-20\n",
      "m value : 2.000000000115511 b value : 2.999999999582969 and cost : 3.320882229158474e-20\n",
      "m value : 2.000000000112777 b value : 2.9999999995928386 and cost : 3.165555179540425e-20\n",
      "m value : 2.000000000110108 b value : 2.999999999602475 and cost : 3.0175064928074947e-20\n",
      "m value : 2.0000000001075025 b value : 2.999999999611883 and cost : 2.8763438031296114e-20\n",
      "m value : 2.000000000104958 b value : 2.9999999996210684 and cost : 2.741820695603533e-20\n",
      "m value : 2.0000000001024745 b value : 2.999999999630037 and cost : 2.6135683628308204e-20\n",
      "m value : 2.0000000001000484 b value : 2.9999999996387925 and cost : 2.491331139851474e-20\n",
      "m value : 2.000000000097681 b value : 2.999999999647341 and cost : 2.3747885720229246e-20\n",
      "m value : 2.0000000000953686 b value : 2.9999999996556874 and cost : 2.263730426446649e-20\n",
      "m value : 2.000000000093112 b value : 2.9999999996638365 and cost : 2.1578355648374392e-20\n",
      "m value : 2.0000000000909077 b value : 2.9999999996717923 and cost : 2.0569166405400283e-20\n",
      "m value : 2.000000000088757 b value : 2.9999999996795603 and cost : 1.9606972194802822e-20\n",
      "m value : 2.0000000000866556 b value : 2.999999999687144 and cost : 1.8689965032741988e-20\n",
      "m value : 2.000000000084605 b value : 2.9999999996945483 and cost : 1.7815722360825553e-20\n",
      "m value : 2.000000000082603 b value : 2.999999999701777 and cost : 1.698230305568754e-20\n",
      "m value : 2.000000000080648 b value : 2.999999999708835 and cost : 1.6187998991130068e-20\n",
      "m value : 2.0000000000787392 b value : 2.999999999715726 and cost : 1.5430960486965574e-20\n",
      "m value : 2.000000000076876 b value : 2.999999999722454 and cost : 1.4709144359528518e-20\n",
      "m value : 2.0000000000750564 b value : 2.9999999997290225 and cost : 1.402107968173563e-20\n",
      "m value : 2.00000000007328 b value : 2.9999999997354356 and cost : 1.336536411922152e-20\n",
      "m value : 2.000000000071546 b value : 2.999999999741697 and cost : 1.2740177170501334e-20\n",
      "m value : 2.0000000000698526 b value : 2.99999999974781 and cost : 1.2144293336687819e-20\n",
      "m value : 2.0000000000681992 b value : 2.9999999997537787 and cost : 1.1576336769578258e-20\n",
      "m value : 2.0000000000665854 b value : 2.999999999759606 and cost : 1.1034849753774048e-20\n",
      "m value : 2.0000000000650093 b value : 2.9999999997652953 and cost : 1.0518599397814624e-20\n",
      "m value : 2.000000000063471 b value : 2.99999999977085 and cost : 1.0026667327504613e-20\n",
      "m value : 2.0000000000619687 b value : 2.999999999776273 and cost : 9.557693485743353e-21\n",
      "m value : 2.0000000000605023 b value : 2.999999999781568 and cost : 9.11065175318868e-21\n",
      "m value : 2.00000000005907 b value : 2.9999999997867377 and cost : 8.684565880076045e-21\n",
      "m value : 2.000000000057672 b value : 2.9999999997917848 and cost : 8.278341510752757e-21\n",
      "m value : 2.000000000056308 b value : 2.999999999796713 and cost : 7.891042999229466e-21\n",
      "m value : 2.0000000000549742 b value : 2.9999999998015237 and cost : 7.522013715201378e-21\n",
      "m value : 2.000000000053674 b value : 2.9999999998062212 and cost : 7.170226785333075e-21\n",
      "m value : 2.0000000000524034 b value : 2.9999999998108073 and cost : 6.83479432269436e-21\n",
      "m value : 2.000000000051163 b value : 2.999999999815285 and cost : 6.5150735392805155e-21\n",
      "m value : 2.000000000049952 b value : 2.9999999998196567 and cost : 6.210370955042826e-21\n",
      "m value : 2.0000000000487703 b value : 2.999999999823925 and cost : 5.9198859498421e-21\n",
      "m value : 2.0000000000476157 b value : 2.9999999998280917 and cost : 5.642948823526068e-21\n",
      "m value : 2.000000000046489 b value : 2.9999999998321605 and cost : 5.379020508468461e-21\n",
      "m value : 2.000000000045388 b value : 2.9999999998361324 and cost : 5.127429484772673e-21\n",
      "m value : 2.0000000000443148 b value : 2.9999999998400106 and cost : 4.887638168817573e-21\n",
      "m value : 2.0000000000432654 b value : 2.999999999843797 and cost : 4.659032205669821e-21\n",
      "m value : 2.000000000042242 b value : 2.999999999847494 and cost : 4.441057899539842e-21\n",
      "m value : 2.0000000000412417 b value : 2.999999999851103 and cost : 4.233390777422277e-21\n",
      "m value : 2.000000000040266 b value : 2.999999999854627 and cost : 4.035380277403732e-21\n",
      "m value : 2.000000000039313 b value : 2.9999999998580673 and cost : 3.846629042988727e-21\n",
      "m value : 2.0000000000383826 b value : 2.9999999998614264 and cost : 3.666725219838294e-21\n",
      "m value : 2.000000000037474 b value : 2.999999999864706 and cost : 3.495243599933833e-21\n",
      "m value : 2.0000000000365876 b value : 2.9999999998679083 and cost : 3.3317502719121473e-21\n",
      "m value : 2.000000000035721 b value : 2.9999999998710343 and cost : 3.175883694825033e-21\n",
      "m value : 2.000000000034876 b value : 2.9999999998740865 and cost : 3.0273459908503737e-21\n",
      "m value : 2.0000000000340505 b value : 2.9999999998770663 and cost : 2.8857542009930702e-21\n",
      "m value : 2.000000000033245 b value : 2.999999999879976 and cost : 2.7507950447640604e-21\n",
      "m value : 2.000000000032458 b value : 2.9999999998828164 and cost : 2.622070943682405e-21\n",
      "m value : 2.00000000003169 b value : 2.9999999998855897 and cost : 2.4994239638505736e-21\n",
      "m value : 2.0000000000309393 b value : 2.9999999998882974 and cost : 2.3825428516787147e-21\n",
      "m value : 2.000000000030208 b value : 2.9999999998909415 and cost : 2.2711170876909334e-21\n",
      "m value : 2.000000000029492 b value : 2.9999999998935225 and cost : 2.164911130327161e-21\n",
      "m value : 2.000000000028795 b value : 2.9999999998960427 and cost : 2.0635763404592966e-21\n",
      "m value : 2.0000000000281126 b value : 2.999999999898503 and cost : 1.9670667180302346e-21\n",
      "m value : 2.0000000000274483 b value : 2.9999999999009055 and cost : 1.8750912969015666e-21\n",
      "m value : 2.0000000000267972 b value : 2.9999999999032503 and cost : 1.7873525998347444e-21\n",
      "m value : 2.000000000026164 b value : 2.9999999999055404 and cost : 1.7037975697807766e-21\n",
      "m value : 2.0000000000255445 b value : 2.999999999907776 and cost : 1.6240721312555202e-21\n",
      "m value : 2.0000000000249396 b value : 2.9999999999099587 and cost : 1.5480961492438682e-21\n"
     ]
    }
   ],
   "source": [
    "def gradientDescent(x,y):\n",
    "    m = b = 0\n",
    "    n = len(x)\n",
    "    learning_rate = 0.07\n",
    "    iterations = 1000\n",
    "    for i in range(iterations):\n",
    "        y_predicted = m*x + b\n",
    "        cost = (1/n)*sum((y-y_predicted)**2)\n",
    "        m_derivative = -(2/n)*sum((x*(y-y_predicted)))\n",
    "        b_derivative = -(2/n)*sum(y-y_predicted)\n",
    "        m = m - learning_rate*m_derivative\n",
    "        b = b - learning_rate*b_derivative\n",
    "        print('m value : {} b value : {} and cost : {}'.format(m,b,cost))\n",
    "x = np.array([1,2,3,4,5])\n",
    "y = np.array([5,7,9,11,13])\n",
    "gradientDescent(x,y)"
   ]
  },
  {
   "cell_type": "markdown",
   "metadata": {},
   "source": [
    "# Save a model"
   ]
  },
  {
   "cell_type": "code",
   "execution_count": 269,
   "metadata": {},
   "outputs": [],
   "source": [
    "import pickle\n",
    "with open('model_pickle','wb') as f: #to save the model\n",
    "    pickle.dump(reg,f)"
   ]
  },
  {
   "cell_type": "code",
   "execution_count": 270,
   "metadata": {},
   "outputs": [],
   "source": [
    "with open('model_pickle','rb') as f: # to use the model\n",
    "     model = pickle.load(f)"
   ]
  },
  {
   "cell_type": "code",
   "execution_count": 271,
   "metadata": {},
   "outputs": [
    {
     "data": {
      "text/plain": [
       "array([2712.25902922])"
      ]
     },
     "execution_count": 271,
     "metadata": {},
     "output_type": "execute_result"
    }
   ],
   "source": [
    "model.predict([[230,12,5]])"
   ]
  },
  {
   "cell_type": "code",
   "execution_count": 272,
   "metadata": {},
   "outputs": [
    {
     "data": {
      "text/plain": [
       "['model_joblib']"
      ]
     },
     "execution_count": 272,
     "metadata": {},
     "output_type": "execute_result"
    }
   ],
   "source": [
    "import joblib\n",
    "joblib.dump(reg,'model_joblib')"
   ]
  },
  {
   "cell_type": "code",
   "execution_count": 273,
   "metadata": {},
   "outputs": [],
   "source": [
    "model = joblib.load('model_joblib')"
   ]
  },
  {
   "cell_type": "code",
   "execution_count": 274,
   "metadata": {},
   "outputs": [
    {
     "data": {
      "text/plain": [
       "array([2712.25902922])"
      ]
     },
     "execution_count": 274,
     "metadata": {},
     "output_type": "execute_result"
    }
   ],
   "source": [
    "model.predict([[230,12,5]])"
   ]
  },
  {
   "cell_type": "markdown",
   "metadata": {},
   "source": [
    "# One Hot Encoding"
   ]
  },
  {
   "cell_type": "code",
   "execution_count": 275,
   "metadata": {},
   "outputs": [],
   "source": [
    "df = pd.read_csv('onehotencoding.csv')"
   ]
  },
  {
   "cell_type": "code",
   "execution_count": 276,
   "metadata": {},
   "outputs": [
    {
     "data": {
      "text/html": [
       "<div>\n",
       "<style scoped>\n",
       "    .dataframe tbody tr th:only-of-type {\n",
       "        vertical-align: middle;\n",
       "    }\n",
       "\n",
       "    .dataframe tbody tr th {\n",
       "        vertical-align: top;\n",
       "    }\n",
       "\n",
       "    .dataframe thead th {\n",
       "        text-align: right;\n",
       "    }\n",
       "</style>\n",
       "<table border=\"1\" class=\"dataframe\">\n",
       "  <thead>\n",
       "    <tr style=\"text-align: right;\">\n",
       "      <th></th>\n",
       "      <th>monroe township</th>\n",
       "      <th>robinsville</th>\n",
       "      <th>west windsor</th>\n",
       "    </tr>\n",
       "  </thead>\n",
       "  <tbody>\n",
       "    <tr>\n",
       "      <th>0</th>\n",
       "      <td>1</td>\n",
       "      <td>0</td>\n",
       "      <td>0</td>\n",
       "    </tr>\n",
       "    <tr>\n",
       "      <th>1</th>\n",
       "      <td>1</td>\n",
       "      <td>0</td>\n",
       "      <td>0</td>\n",
       "    </tr>\n",
       "    <tr>\n",
       "      <th>2</th>\n",
       "      <td>1</td>\n",
       "      <td>0</td>\n",
       "      <td>0</td>\n",
       "    </tr>\n",
       "    <tr>\n",
       "      <th>3</th>\n",
       "      <td>1</td>\n",
       "      <td>0</td>\n",
       "      <td>0</td>\n",
       "    </tr>\n",
       "    <tr>\n",
       "      <th>4</th>\n",
       "      <td>1</td>\n",
       "      <td>0</td>\n",
       "      <td>0</td>\n",
       "    </tr>\n",
       "    <tr>\n",
       "      <th>5</th>\n",
       "      <td>0</td>\n",
       "      <td>0</td>\n",
       "      <td>1</td>\n",
       "    </tr>\n",
       "    <tr>\n",
       "      <th>6</th>\n",
       "      <td>0</td>\n",
       "      <td>0</td>\n",
       "      <td>1</td>\n",
       "    </tr>\n",
       "    <tr>\n",
       "      <th>7</th>\n",
       "      <td>0</td>\n",
       "      <td>0</td>\n",
       "      <td>1</td>\n",
       "    </tr>\n",
       "    <tr>\n",
       "      <th>8</th>\n",
       "      <td>0</td>\n",
       "      <td>0</td>\n",
       "      <td>1</td>\n",
       "    </tr>\n",
       "    <tr>\n",
       "      <th>9</th>\n",
       "      <td>0</td>\n",
       "      <td>1</td>\n",
       "      <td>0</td>\n",
       "    </tr>\n",
       "    <tr>\n",
       "      <th>10</th>\n",
       "      <td>0</td>\n",
       "      <td>1</td>\n",
       "      <td>0</td>\n",
       "    </tr>\n",
       "    <tr>\n",
       "      <th>11</th>\n",
       "      <td>0</td>\n",
       "      <td>1</td>\n",
       "      <td>0</td>\n",
       "    </tr>\n",
       "    <tr>\n",
       "      <th>12</th>\n",
       "      <td>0</td>\n",
       "      <td>1</td>\n",
       "      <td>0</td>\n",
       "    </tr>\n",
       "  </tbody>\n",
       "</table>\n",
       "</div>"
      ],
      "text/plain": [
       "    monroe township  robinsville  west windsor\n",
       "0                 1            0             0\n",
       "1                 1            0             0\n",
       "2                 1            0             0\n",
       "3                 1            0             0\n",
       "4                 1            0             0\n",
       "5                 0            0             1\n",
       "6                 0            0             1\n",
       "7                 0            0             1\n",
       "8                 0            0             1\n",
       "9                 0            1             0\n",
       "10                0            1             0\n",
       "11                0            1             0\n",
       "12                0            1             0"
      ]
     },
     "execution_count": 276,
     "metadata": {},
     "output_type": "execute_result"
    }
   ],
   "source": [
    "dummies = pd.get_dummies(df.town)\n",
    "dummies"
   ]
  },
  {
   "cell_type": "code",
   "execution_count": 277,
   "metadata": {},
   "outputs": [
    {
     "data": {
      "text/html": [
       "<div>\n",
       "<style scoped>\n",
       "    .dataframe tbody tr th:only-of-type {\n",
       "        vertical-align: middle;\n",
       "    }\n",
       "\n",
       "    .dataframe tbody tr th {\n",
       "        vertical-align: top;\n",
       "    }\n",
       "\n",
       "    .dataframe thead th {\n",
       "        text-align: right;\n",
       "    }\n",
       "</style>\n",
       "<table border=\"1\" class=\"dataframe\">\n",
       "  <thead>\n",
       "    <tr style=\"text-align: right;\">\n",
       "      <th></th>\n",
       "      <th>town</th>\n",
       "      <th>area</th>\n",
       "      <th>price</th>\n",
       "      <th>monroe township</th>\n",
       "      <th>robinsville</th>\n",
       "      <th>west windsor</th>\n",
       "    </tr>\n",
       "  </thead>\n",
       "  <tbody>\n",
       "    <tr>\n",
       "      <th>0</th>\n",
       "      <td>monroe township</td>\n",
       "      <td>2600</td>\n",
       "      <td>550000</td>\n",
       "      <td>1</td>\n",
       "      <td>0</td>\n",
       "      <td>0</td>\n",
       "    </tr>\n",
       "    <tr>\n",
       "      <th>1</th>\n",
       "      <td>monroe township</td>\n",
       "      <td>3000</td>\n",
       "      <td>565000</td>\n",
       "      <td>1</td>\n",
       "      <td>0</td>\n",
       "      <td>0</td>\n",
       "    </tr>\n",
       "    <tr>\n",
       "      <th>2</th>\n",
       "      <td>monroe township</td>\n",
       "      <td>3200</td>\n",
       "      <td>610000</td>\n",
       "      <td>1</td>\n",
       "      <td>0</td>\n",
       "      <td>0</td>\n",
       "    </tr>\n",
       "    <tr>\n",
       "      <th>3</th>\n",
       "      <td>monroe township</td>\n",
       "      <td>3600</td>\n",
       "      <td>680000</td>\n",
       "      <td>1</td>\n",
       "      <td>0</td>\n",
       "      <td>0</td>\n",
       "    </tr>\n",
       "    <tr>\n",
       "      <th>4</th>\n",
       "      <td>monroe township</td>\n",
       "      <td>4000</td>\n",
       "      <td>725000</td>\n",
       "      <td>1</td>\n",
       "      <td>0</td>\n",
       "      <td>0</td>\n",
       "    </tr>\n",
       "    <tr>\n",
       "      <th>5</th>\n",
       "      <td>west windsor</td>\n",
       "      <td>2600</td>\n",
       "      <td>585000</td>\n",
       "      <td>0</td>\n",
       "      <td>0</td>\n",
       "      <td>1</td>\n",
       "    </tr>\n",
       "    <tr>\n",
       "      <th>6</th>\n",
       "      <td>west windsor</td>\n",
       "      <td>2800</td>\n",
       "      <td>615000</td>\n",
       "      <td>0</td>\n",
       "      <td>0</td>\n",
       "      <td>1</td>\n",
       "    </tr>\n",
       "    <tr>\n",
       "      <th>7</th>\n",
       "      <td>west windsor</td>\n",
       "      <td>3300</td>\n",
       "      <td>650000</td>\n",
       "      <td>0</td>\n",
       "      <td>0</td>\n",
       "      <td>1</td>\n",
       "    </tr>\n",
       "    <tr>\n",
       "      <th>8</th>\n",
       "      <td>west windsor</td>\n",
       "      <td>3600</td>\n",
       "      <td>710000</td>\n",
       "      <td>0</td>\n",
       "      <td>0</td>\n",
       "      <td>1</td>\n",
       "    </tr>\n",
       "    <tr>\n",
       "      <th>9</th>\n",
       "      <td>robinsville</td>\n",
       "      <td>2600</td>\n",
       "      <td>575000</td>\n",
       "      <td>0</td>\n",
       "      <td>1</td>\n",
       "      <td>0</td>\n",
       "    </tr>\n",
       "    <tr>\n",
       "      <th>10</th>\n",
       "      <td>robinsville</td>\n",
       "      <td>2900</td>\n",
       "      <td>600000</td>\n",
       "      <td>0</td>\n",
       "      <td>1</td>\n",
       "      <td>0</td>\n",
       "    </tr>\n",
       "    <tr>\n",
       "      <th>11</th>\n",
       "      <td>robinsville</td>\n",
       "      <td>3100</td>\n",
       "      <td>620000</td>\n",
       "      <td>0</td>\n",
       "      <td>1</td>\n",
       "      <td>0</td>\n",
       "    </tr>\n",
       "    <tr>\n",
       "      <th>12</th>\n",
       "      <td>robinsville</td>\n",
       "      <td>3600</td>\n",
       "      <td>695000</td>\n",
       "      <td>0</td>\n",
       "      <td>1</td>\n",
       "      <td>0</td>\n",
       "    </tr>\n",
       "  </tbody>\n",
       "</table>\n",
       "</div>"
      ],
      "text/plain": [
       "               town  area   price  monroe township  robinsville  west windsor\n",
       "0   monroe township  2600  550000                1            0             0\n",
       "1   monroe township  3000  565000                1            0             0\n",
       "2   monroe township  3200  610000                1            0             0\n",
       "3   monroe township  3600  680000                1            0             0\n",
       "4   monroe township  4000  725000                1            0             0\n",
       "5      west windsor  2600  585000                0            0             1\n",
       "6      west windsor  2800  615000                0            0             1\n",
       "7      west windsor  3300  650000                0            0             1\n",
       "8      west windsor  3600  710000                0            0             1\n",
       "9       robinsville  2600  575000                0            1             0\n",
       "10      robinsville  2900  600000                0            1             0\n",
       "11      robinsville  3100  620000                0            1             0\n",
       "12      robinsville  3600  695000                0            1             0"
      ]
     },
     "execution_count": 277,
     "metadata": {},
     "output_type": "execute_result"
    }
   ],
   "source": [
    "new_df = pd.concat([df,dummies],axis='columns')\n",
    "new_df"
   ]
  },
  {
   "cell_type": "code",
   "execution_count": 278,
   "metadata": {},
   "outputs": [
    {
     "data": {
      "text/html": [
       "<div>\n",
       "<style scoped>\n",
       "    .dataframe tbody tr th:only-of-type {\n",
       "        vertical-align: middle;\n",
       "    }\n",
       "\n",
       "    .dataframe tbody tr th {\n",
       "        vertical-align: top;\n",
       "    }\n",
       "\n",
       "    .dataframe thead th {\n",
       "        text-align: right;\n",
       "    }\n",
       "</style>\n",
       "<table border=\"1\" class=\"dataframe\">\n",
       "  <thead>\n",
       "    <tr style=\"text-align: right;\">\n",
       "      <th></th>\n",
       "      <th>area</th>\n",
       "      <th>price</th>\n",
       "      <th>monroe township</th>\n",
       "      <th>robinsville</th>\n",
       "    </tr>\n",
       "  </thead>\n",
       "  <tbody>\n",
       "    <tr>\n",
       "      <th>0</th>\n",
       "      <td>2600</td>\n",
       "      <td>550000</td>\n",
       "      <td>1</td>\n",
       "      <td>0</td>\n",
       "    </tr>\n",
       "    <tr>\n",
       "      <th>1</th>\n",
       "      <td>3000</td>\n",
       "      <td>565000</td>\n",
       "      <td>1</td>\n",
       "      <td>0</td>\n",
       "    </tr>\n",
       "    <tr>\n",
       "      <th>2</th>\n",
       "      <td>3200</td>\n",
       "      <td>610000</td>\n",
       "      <td>1</td>\n",
       "      <td>0</td>\n",
       "    </tr>\n",
       "    <tr>\n",
       "      <th>3</th>\n",
       "      <td>3600</td>\n",
       "      <td>680000</td>\n",
       "      <td>1</td>\n",
       "      <td>0</td>\n",
       "    </tr>\n",
       "    <tr>\n",
       "      <th>4</th>\n",
       "      <td>4000</td>\n",
       "      <td>725000</td>\n",
       "      <td>1</td>\n",
       "      <td>0</td>\n",
       "    </tr>\n",
       "    <tr>\n",
       "      <th>5</th>\n",
       "      <td>2600</td>\n",
       "      <td>585000</td>\n",
       "      <td>0</td>\n",
       "      <td>0</td>\n",
       "    </tr>\n",
       "    <tr>\n",
       "      <th>6</th>\n",
       "      <td>2800</td>\n",
       "      <td>615000</td>\n",
       "      <td>0</td>\n",
       "      <td>0</td>\n",
       "    </tr>\n",
       "    <tr>\n",
       "      <th>7</th>\n",
       "      <td>3300</td>\n",
       "      <td>650000</td>\n",
       "      <td>0</td>\n",
       "      <td>0</td>\n",
       "    </tr>\n",
       "    <tr>\n",
       "      <th>8</th>\n",
       "      <td>3600</td>\n",
       "      <td>710000</td>\n",
       "      <td>0</td>\n",
       "      <td>0</td>\n",
       "    </tr>\n",
       "    <tr>\n",
       "      <th>9</th>\n",
       "      <td>2600</td>\n",
       "      <td>575000</td>\n",
       "      <td>0</td>\n",
       "      <td>1</td>\n",
       "    </tr>\n",
       "    <tr>\n",
       "      <th>10</th>\n",
       "      <td>2900</td>\n",
       "      <td>600000</td>\n",
       "      <td>0</td>\n",
       "      <td>1</td>\n",
       "    </tr>\n",
       "    <tr>\n",
       "      <th>11</th>\n",
       "      <td>3100</td>\n",
       "      <td>620000</td>\n",
       "      <td>0</td>\n",
       "      <td>1</td>\n",
       "    </tr>\n",
       "    <tr>\n",
       "      <th>12</th>\n",
       "      <td>3600</td>\n",
       "      <td>695000</td>\n",
       "      <td>0</td>\n",
       "      <td>1</td>\n",
       "    </tr>\n",
       "  </tbody>\n",
       "</table>\n",
       "</div>"
      ],
      "text/plain": [
       "    area   price  monroe township  robinsville\n",
       "0   2600  550000                1            0\n",
       "1   3000  565000                1            0\n",
       "2   3200  610000                1            0\n",
       "3   3600  680000                1            0\n",
       "4   4000  725000                1            0\n",
       "5   2600  585000                0            0\n",
       "6   2800  615000                0            0\n",
       "7   3300  650000                0            0\n",
       "8   3600  710000                0            0\n",
       "9   2600  575000                0            1\n",
       "10  2900  600000                0            1\n",
       "11  3100  620000                0            1\n",
       "12  3600  695000                0            1"
      ]
     },
     "execution_count": 278,
     "metadata": {},
     "output_type": "execute_result"
    }
   ],
   "source": [
    "final_df = new_df.drop(['town','west windsor'],axis='columns')\n",
    "final_df"
   ]
  },
  {
   "cell_type": "code",
   "execution_count": 279,
   "metadata": {},
   "outputs": [
    {
     "data": {
      "text/plain": [
       "LinearRegression()"
      ]
     },
     "execution_count": 279,
     "metadata": {},
     "output_type": "execute_result"
    }
   ],
   "source": [
    "y = final_df['price']\n",
    "x = final_df.drop(['price'],axis='columns')\n",
    "model = linear_model.LinearRegression()\n",
    "model.fit(x,y)"
   ]
  },
  {
   "cell_type": "code",
   "execution_count": 280,
   "metadata": {},
   "outputs": [
    {
     "data": {
      "text/plain": [
       "array([590775.63964739])"
      ]
     },
     "execution_count": 280,
     "metadata": {},
     "output_type": "execute_result"
    }
   ],
   "source": [
    "model.predict([[2800,0,1]]) #predict the price of 2800 sqft area a home in robinsville"
   ]
  },
  {
   "cell_type": "code",
   "execution_count": 281,
   "metadata": {},
   "outputs": [
    {
     "data": {
      "text/plain": [
       "array([681241.66845839])"
      ]
     },
     "execution_count": 281,
     "metadata": {},
     "output_type": "execute_result"
    }
   ],
   "source": [
    "model.predict([[3400,0,0]]) #predict the price of 3400 sqft area a home in west windsor "
   ]
  },
  {
   "cell_type": "code",
   "execution_count": 282,
   "metadata": {},
   "outputs": [
    {
     "data": {
      "text/plain": [
       "0.9573929037221873"
      ]
     },
     "execution_count": 282,
     "metadata": {},
     "output_type": "execute_result"
    }
   ],
   "source": [
    "model.score(x,y) #how much my model is accurate"
   ]
  },
  {
   "cell_type": "markdown",
   "metadata": {},
   "source": [
    "# Train and Test Set"
   ]
  },
  {
   "cell_type": "code",
   "execution_count": 283,
   "metadata": {},
   "outputs": [
    {
     "data": {
      "text/html": [
       "<div>\n",
       "<style scoped>\n",
       "    .dataframe tbody tr th:only-of-type {\n",
       "        vertical-align: middle;\n",
       "    }\n",
       "\n",
       "    .dataframe tbody tr th {\n",
       "        vertical-align: top;\n",
       "    }\n",
       "\n",
       "    .dataframe thead th {\n",
       "        text-align: right;\n",
       "    }\n",
       "</style>\n",
       "<table border=\"1\" class=\"dataframe\">\n",
       "  <thead>\n",
       "    <tr style=\"text-align: right;\">\n",
       "      <th></th>\n",
       "      <th>Car Model</th>\n",
       "      <th>Mileage</th>\n",
       "      <th>Sell Price</th>\n",
       "      <th>Age(yrs)</th>\n",
       "    </tr>\n",
       "  </thead>\n",
       "  <tbody>\n",
       "    <tr>\n",
       "      <th>0</th>\n",
       "      <td>BMW X5</td>\n",
       "      <td>69000</td>\n",
       "      <td>18000</td>\n",
       "      <td>6</td>\n",
       "    </tr>\n",
       "    <tr>\n",
       "      <th>1</th>\n",
       "      <td>BMW X5</td>\n",
       "      <td>35000</td>\n",
       "      <td>34000</td>\n",
       "      <td>3</td>\n",
       "    </tr>\n",
       "    <tr>\n",
       "      <th>2</th>\n",
       "      <td>BMW X5</td>\n",
       "      <td>57000</td>\n",
       "      <td>26100</td>\n",
       "      <td>5</td>\n",
       "    </tr>\n",
       "    <tr>\n",
       "      <th>3</th>\n",
       "      <td>BMW X5</td>\n",
       "      <td>22500</td>\n",
       "      <td>40000</td>\n",
       "      <td>2</td>\n",
       "    </tr>\n",
       "    <tr>\n",
       "      <th>4</th>\n",
       "      <td>BMW X5</td>\n",
       "      <td>46000</td>\n",
       "      <td>31500</td>\n",
       "      <td>4</td>\n",
       "    </tr>\n",
       "    <tr>\n",
       "      <th>5</th>\n",
       "      <td>Audi A5</td>\n",
       "      <td>59000</td>\n",
       "      <td>29400</td>\n",
       "      <td>5</td>\n",
       "    </tr>\n",
       "    <tr>\n",
       "      <th>6</th>\n",
       "      <td>Audi A5</td>\n",
       "      <td>52000</td>\n",
       "      <td>32000</td>\n",
       "      <td>5</td>\n",
       "    </tr>\n",
       "    <tr>\n",
       "      <th>7</th>\n",
       "      <td>Audi A5</td>\n",
       "      <td>72000</td>\n",
       "      <td>19300</td>\n",
       "      <td>6</td>\n",
       "    </tr>\n",
       "    <tr>\n",
       "      <th>8</th>\n",
       "      <td>Audi A5</td>\n",
       "      <td>91000</td>\n",
       "      <td>12000</td>\n",
       "      <td>8</td>\n",
       "    </tr>\n",
       "    <tr>\n",
       "      <th>9</th>\n",
       "      <td>Mercedez Benz C class</td>\n",
       "      <td>67000</td>\n",
       "      <td>22000</td>\n",
       "      <td>6</td>\n",
       "    </tr>\n",
       "    <tr>\n",
       "      <th>10</th>\n",
       "      <td>Mercedez Benz C class</td>\n",
       "      <td>83000</td>\n",
       "      <td>20000</td>\n",
       "      <td>7</td>\n",
       "    </tr>\n",
       "    <tr>\n",
       "      <th>11</th>\n",
       "      <td>Mercedez Benz C class</td>\n",
       "      <td>79000</td>\n",
       "      <td>21000</td>\n",
       "      <td>7</td>\n",
       "    </tr>\n",
       "    <tr>\n",
       "      <th>12</th>\n",
       "      <td>Mercedez Benz C class</td>\n",
       "      <td>59000</td>\n",
       "      <td>33000</td>\n",
       "      <td>5</td>\n",
       "    </tr>\n",
       "  </tbody>\n",
       "</table>\n",
       "</div>"
      ],
      "text/plain": [
       "                Car Model  Mileage  Sell Price  Age(yrs)\n",
       "0                  BMW X5    69000       18000         6\n",
       "1                  BMW X5    35000       34000         3\n",
       "2                  BMW X5    57000       26100         5\n",
       "3                  BMW X5    22500       40000         2\n",
       "4                  BMW X5    46000       31500         4\n",
       "5                 Audi A5    59000       29400         5\n",
       "6                 Audi A5    52000       32000         5\n",
       "7                 Audi A5    72000       19300         6\n",
       "8                 Audi A5    91000       12000         8\n",
       "9   Mercedez Benz C class    67000       22000         6\n",
       "10  Mercedez Benz C class    83000       20000         7\n",
       "11  Mercedez Benz C class    79000       21000         7\n",
       "12  Mercedez Benz C class    59000       33000         5"
      ]
     },
     "execution_count": 283,
     "metadata": {},
     "output_type": "execute_result"
    }
   ],
   "source": [
    "df = pd.read_csv('carprises.csv')\n",
    "df"
   ]
  },
  {
   "cell_type": "code",
   "execution_count": 284,
   "metadata": {},
   "outputs": [
    {
     "data": {
      "text/plain": [
       "<matplotlib.collections.PathCollection at 0x257c53afe80>"
      ]
     },
     "execution_count": 284,
     "metadata": {},
     "output_type": "execute_result"
    },
    {
     "data": {
      "image/png": "[encoded data removed]",
      "text/plain": [
       "<Figure size 432x288 with 1 Axes>"
      ]
     },
     "metadata": {
      "needs_background": "light"
     },
     "output_type": "display_data"
    }
   ],
   "source": [
    "plt.scatter(df.Mileage,df['Sell Price'])"
   ]
  },
  {
   "cell_type": "code",
   "execution_count": 285,
   "metadata": {},
   "outputs": [
    {
     "data": {
      "text/plain": [
       "<matplotlib.collections.PathCollection at 0x257c4b15f70>"
      ]
     },
     "execution_count": 285,
     "metadata": {},
     "output_type": "execute_result"
    },
    {
     "data": {
      "image/png": "[encoded data removed]",
      "text/plain": [
       "<Figure size 432x288 with 1 Axes>"
      ]
     },
     "metadata": {
      "needs_background": "light"
     },
     "output_type": "display_data"
    }
   ],
   "source": [
    "plt.scatter(df['Age(yrs)'],df['Sell Price'])"
   ]
  },
  {
   "cell_type": "code",
   "execution_count": 286,
   "metadata": {},
   "outputs": [],
   "source": [
    "x = df[['Mileage','Age(yrs)']]\n",
    "y = df['Sell Price']"
   ]
  },
  {
   "cell_type": "code",
   "execution_count": 287,
   "metadata": {},
   "outputs": [],
   "source": [
    "from sklearn.model_selection import train_test_split\n",
    "x_train,x_test,y_train,y_test = train_test_split(x,y,test_size=0.2,random_state=10)  #random_state actually select the same value for x_train,y_train,x_test,y_test each time when we run it"
   ]
  },
  {
   "cell_type": "code",
   "execution_count": 288,
   "metadata": {},
   "outputs": [
    {
     "data": {
      "text/plain": [
       "LinearRegression()"
      ]
     },
     "execution_count": 288,
     "metadata": {},
     "output_type": "execute_result"
    }
   ],
   "source": [
    "model.fit(x_train,y_train)"
   ]
  },
  {
   "cell_type": "code",
   "execution_count": 289,
   "metadata": {},
   "outputs": [
    {
     "data": {
      "text/plain": [
       "array([41842.49106079, 22531.68057211, 18423.93325387])"
      ]
     },
     "execution_count": 289,
     "metadata": {},
     "output_type": "execute_result"
    }
   ],
   "source": [
    "model.predict(x_test)"
   ]
  },
  {
   "cell_type": "code",
   "execution_count": 290,
   "metadata": {},
   "outputs": [
    {
     "data": {
      "text/plain": [
       "0.9224816911971743"
      ]
     },
     "execution_count": 290,
     "metadata": {},
     "output_type": "execute_result"
    }
   ],
   "source": [
    "model.score(x_test,y_test)"
   ]
  },
  {
   "cell_type": "markdown",
   "metadata": {},
   "source": [
    "# Logistic Regression : Binary Classification"
   ]
  },
  {
   "cell_type": "code",
   "execution_count": 291,
   "metadata": {},
   "outputs": [],
   "source": [
    "from sklearn.model_selection import train_test_split\n",
    "from sklearn.linear_model import LogisticRegression"
   ]
  },
  {
   "cell_type": "code",
   "execution_count": 292,
   "metadata": {},
   "outputs": [
    {
     "data": {
      "text/plain": [
       "[<matplotlib.lines.Line2D at 0x257c4bc45e0>]"
      ]
     },
     "execution_count": 292,
     "metadata": {},
     "output_type": "execute_result"
    },
    {
     "data": {
      "image/png": "[encoded data removed]",
      "text/plain": [
       "<Figure size 432x288 with 1 Axes>"
      ]
     },
     "metadata": {
      "needs_background": "light"
     },
     "output_type": "display_data"
    }
   ],
   "source": [
    "df = pd.read_csv('insurance.csv')\n",
    "plt.plot(df.age,df.bought_insurance,'+r',markersize=10)"
   ]
  },
  {
   "cell_type": "code",
   "execution_count": 293,
   "metadata": {},
   "outputs": [],
   "source": [
    "x = df[['age']]\n",
    "y = df['bought_insurance']\n",
    "x_train,x_test,y_train,y_test = train_test_split(x,y,test_size=0.2,random_state=10)"
   ]
  },
  {
   "cell_type": "code",
   "execution_count": 294,
   "metadata": {},
   "outputs": [
    {
     "data": {
      "text/plain": [
       "LogisticRegression()"
      ]
     },
     "execution_count": 294,
     "metadata": {},
     "output_type": "execute_result"
    }
   ],
   "source": [
    "model = linear_model.LogisticRegression()\n",
    "model.fit(x_train,y_train)"
   ]
  },
  {
   "cell_type": "code",
   "execution_count": 295,
   "metadata": {},
   "outputs": [
    {
     "data": {
      "text/plain": [
       "array([1, 1, 0, 0, 0, 0], dtype=int64)"
      ]
     },
     "execution_count": 295,
     "metadata": {},
     "output_type": "execute_result"
    }
   ],
   "source": [
    "model.predict(x_test)"
   ]
  },
  {
   "cell_type": "code",
   "execution_count": 296,
   "metadata": {},
   "outputs": [
    {
     "data": {
      "text/plain": [
       "1.0"
      ]
     },
     "execution_count": 296,
     "metadata": {},
     "output_type": "execute_result"
    }
   ],
   "source": [
    "model.score(x_test,y_test)"
   ]
  },
  {
   "cell_type": "code",
   "execution_count": 297,
   "metadata": {},
   "outputs": [
    {
     "data": {
      "text/plain": [
       "array([[0.07149888, 0.92850112],\n",
       "       [0.10786116, 0.89213884],\n",
       "       [0.88695589, 0.11304411],\n",
       "       [0.78084024, 0.21915976],\n",
       "       [0.73981614, 0.26018386],\n",
       "       [0.79952814, 0.20047186]])"
      ]
     },
     "execution_count": 297,
     "metadata": {},
     "output_type": "execute_result"
    }
   ],
   "source": [
    "model.predict_proba(x_test)"
   ]
  },
  {
   "cell_type": "markdown",
   "metadata": {},
   "source": [
    "# Logistic Regression : Multiclass Classification"
   ]
  },
  {
   "cell_type": "code",
   "execution_count": 298,
   "metadata": {},
   "outputs": [
    {
     "data": {
      "text/plain": [
       "['DESCR', 'data', 'feature_names', 'frame', 'images', 'target', 'target_names']"
      ]
     },
     "execution_count": 298,
     "metadata": {},
     "output_type": "execute_result"
    }
   ],
   "source": [
    "from sklearn.datasets import load_digits\n",
    "from sklearn.model_selection import train_test_split\n",
    "from sklearn.linear_model import LogisticRegression\n",
    "from sklearn.metrics import confusion_matrix\n",
    "digits = load_digits()\n",
    "dir(digits)"
   ]
  },
  {
   "cell_type": "code",
   "execution_count": 299,
   "metadata": {},
   "outputs": [
    {
     "data": {
      "text/plain": [
       "(1797, 8, 8)"
      ]
     },
     "execution_count": 299,
     "metadata": {},
     "output_type": "execute_result"
    }
   ],
   "source": [
    "np.shape(digits.images)"
   ]
  },
  {
   "cell_type": "code",
   "execution_count": 300,
   "metadata": {},
   "outputs": [],
   "source": [
    "def showall(index):\n",
    "    plt.gray()\n",
    "    plt.matshow(digits.images[index])\n",
    "    print('Data : ',digits.data[index])\n",
    "    print('Images : ',digits.images[index])\n",
    "    print('Target : ',digits.target[index])\n",
    "    print('Target_names :',digits.target_names[index])\n",
    "    print('DESCRIPTION :',digits.DESCR[index])"
   ]
  },
  {
   "cell_type": "code",
   "execution_count": 301,
   "metadata": {},
   "outputs": [
    {
     "name": "stdout",
     "output_type": "stream",
     "text": [
      "Data :  [ 0.  0.  5. 13.  9.  1.  0.  0.  0.  0. 13. 15. 10. 15.  5.  0.  0.  3.\n",
      " 15.  2.  0. 11.  8.  0.  0.  4. 12.  0.  0.  8.  8.  0.  0.  5.  8.  0.\n",
      "  0.  9.  8.  0.  0.  4. 11.  0.  1. 12.  7.  0.  0.  2. 14.  5. 10. 12.\n",
      "  0.  0.  0.  0.  6. 13. 10.  0.  0.  0.]\n",
      "Images :  [[ 0.  0.  5. 13.  9.  1.  0.  0.]\n",
      " [ 0.  0. 13. 15. 10. 15.  5.  0.]\n",
      " [ 0.  3. 15.  2.  0. 11.  8.  0.]\n",
      " [ 0.  4. 12.  0.  0.  8.  8.  0.]\n",
      " [ 0.  5.  8.  0.  0.  9.  8.  0.]\n",
      " [ 0.  4. 11.  0.  1. 12.  7.  0.]\n",
      " [ 0.  2. 14.  5. 10. 12.  0.  0.]\n",
      " [ 0.  0.  6. 13. 10.  0.  0.  0.]]\n",
      "Target :  0\n",
      "Target_names : 0\n",
      "DESCRIPTION : .\n"
     ]
    },
    {
     "data": {
      "text/plain": [
       "<Figure size 432x288 with 0 Axes>"
      ]
     },
     "metadata": {},
     "output_type": "display_data"
    },
    {
     "data": {
      "image/png": "[encoded data removed]",
      "text/plain": [
       "<Figure size 288x288 with 1 Axes>"
      ]
     },
     "metadata": {
      "needs_background": "light"
     },
     "output_type": "display_data"
    }
   ],
   "source": [
    "showall(0)"
   ]
  },
  {
   "cell_type": "code",
   "execution_count": 302,
   "metadata": {},
   "outputs": [],
   "source": [
    "x_train,x_test,y_train,y_test = train_test_split(digits.data,digits.target,test_size=0.2,random_state=10)"
   ]
  },
  {
   "cell_type": "code",
   "execution_count": 303,
   "metadata": {},
   "outputs": [
    {
     "name": "stderr",
     "output_type": "stream",
     "text": [
      "c:\\users\\kousi\\appdata\\local\\programs\\python\\python38\\lib\\site-packages\\sklearn\\linear_model\\_logistic.py:763: ConvergenceWarning: lbfgs failed to converge (status=1):\n",
      "STOP: TOTAL NO. of ITERATIONS REACHED LIMIT.\n",
      "\n",
      "Increase the number of iterations (max_iter) or scale the data as shown in:\n",
      "    https://scikit-learn.org/stable/modules/preprocessing.html\n",
      "Please also refer to the documentation for alternative solver options:\n",
      "    https://scikit-learn.org/stable/modules/linear_model.html#logistic-regression\n",
      "  n_iter_i = _check_optimize_result(\n"
     ]
    },
    {
     "data": {
      "text/plain": [
       "LogisticRegression()"
      ]
     },
     "execution_count": 303,
     "metadata": {},
     "output_type": "execute_result"
    }
   ],
   "source": [
    "model = LogisticRegression()\n",
    "model.fit(x_train,y_train)"
   ]
  },
  {
   "cell_type": "code",
   "execution_count": 304,
   "metadata": {},
   "outputs": [
    {
     "data": {
      "text/plain": [
       "0.95"
      ]
     },
     "execution_count": 304,
     "metadata": {},
     "output_type": "execute_result"
    }
   ],
   "source": [
    "model.score(x_test,y_test)"
   ]
  },
  {
   "cell_type": "code",
   "execution_count": 305,
   "metadata": {},
   "outputs": [
    {
     "data": {
      "text/plain": [
       "array([5, 2, 5, 4, 8, 2, 4, 3, 3, 0, 8, 7, 0, 1, 8, 6, 9, 7, 9, 7, 1, 8,\n",
       "       6, 7, 8, 8, 5, 2, 5, 9, 3, 3, 7, 3, 4, 1, 9, 2, 7, 4, 2, 1, 0, 9,\n",
       "       2, 3, 6, 1, 9, 4, 4, 5, 8, 4, 8, 5, 9, 7, 8, 0, 4, 5, 8, 4, 7, 9,\n",
       "       0, 7, 4, 3, 9, 3, 3, 8, 0, 7, 3, 6, 5, 2, 0, 8, 8, 0, 1, 1, 2, 8,\n",
       "       8, 8, 2, 6, 3, 4, 7, 9, 8, 2, 9, 2, 5, 0, 8, 0, 4, 8, 8, 0, 6, 7,\n",
       "       3, 3, 9, 1, 5, 4, 6, 0, 8, 8, 1, 2, 7, 9, 8, 5, 2, 3, 3, 8, 7, 6,\n",
       "       2, 5, 4, 3, 3, 7, 6, 7, 2, 7, 4, 9, 5, 1, 9, 4, 6, 1, 1, 1, 4, 0,\n",
       "       8, 9, 1, 2, 3, 5, 0, 3, 4, 1, 5, 4, 9, 3, 5, 6, 4, 0, 8, 6, 7, 0,\n",
       "       9, 9, 4, 7, 5, 5, 2, 0, 6, 7, 5, 3, 9, 7, 1, 3, 2, 8, 3, 3, 1, 7,\n",
       "       1, 1, 1, 9, 1, 6, 7, 6, 9, 5, 2, 3, 5, 2, 9, 5, 4, 8, 2, 9, 1, 5,\n",
       "       0, 2, 3, 9, 0, 2, 0, 2, 1, 0, 5, 0, 6, 4, 2, 1, 9, 0, 9, 0, 6, 9,\n",
       "       4, 4, 9, 4, 5, 6, 1, 6, 7, 0, 8, 6, 2, 0, 1, 2, 3, 8, 4, 4, 3, 5,\n",
       "       7, 9, 7, 2, 0, 2, 0, 9, 2, 8, 6, 3, 1, 0, 6, 6, 6, 7, 1, 6, 1, 7,\n",
       "       6, 0, 6, 3, 7, 1, 6, 2, 2, 0, 8, 4, 7, 3, 3, 0, 0, 2, 3, 9, 7, 4,\n",
       "       6, 7, 9, 7, 6, 0, 5, 6, 2, 7, 1, 0, 5, 8, 6, 4, 7, 2, 1, 1, 0, 6,\n",
       "       6, 5, 0, 2, 9, 8, 7, 9, 6, 7, 0, 8, 3, 5, 9, 4, 1, 5, 5, 4, 7, 3,\n",
       "       9, 2, 7, 3, 3, 6, 6, 3])"
      ]
     },
     "execution_count": 305,
     "metadata": {},
     "output_type": "execute_result"
    }
   ],
   "source": [
    "y_predicted = model.predict(x_test)\n",
    "y_predicted"
   ]
  },
  {
   "cell_type": "code",
   "execution_count": 306,
   "metadata": {},
   "outputs": [
    {
     "data": {
      "text/plain": [
       "array([[37,  0,  0,  0,  0,  0,  0,  0,  0,  0],\n",
       "       [ 0, 31,  1,  0,  1,  0,  0,  0,  1,  0],\n",
       "       [ 0,  0, 34,  0,  0,  0,  0,  0,  0,  0],\n",
       "       [ 0,  0,  1, 38,  0,  1,  0,  0,  0,  0],\n",
       "       [ 1,  1,  0,  0, 31,  0,  0,  0,  1,  0],\n",
       "       [ 0,  1,  0,  0,  0, 30,  0,  1,  0,  0],\n",
       "       [ 0,  1,  0,  0,  0,  0, 36,  0,  0,  0],\n",
       "       [ 0,  0,  0,  0,  1,  0,  0, 38,  0,  1],\n",
       "       [ 0,  0,  1,  0,  0,  0,  1,  0, 31,  0],\n",
       "       [ 0,  0,  0,  0,  0,  1,  0,  0,  2, 36]], dtype=int64)"
      ]
     },
     "execution_count": 306,
     "metadata": {},
     "output_type": "execute_result"
    }
   ],
   "source": [
    "cm = confusion_matrix(y_test,y_predicted)\n",
    "cm"
   ]
  },
  {
   "cell_type": "code",
   "execution_count": 307,
   "metadata": {},
   "outputs": [
    {
     "data": {
      "text/plain": [
       "Text(69.0, 0.5, 'Truth')"
      ]
     },
     "execution_count": 307,
     "metadata": {},
     "output_type": "execute_result"
    },
    {
     "data": {
      "image/png": "[encoded data removed]",
      "text/plain": [
       "<Figure size 720x504 with 2 Axes>"
      ]
     },
     "metadata": {
      "needs_background": "light"
     },
     "output_type": "display_data"
    }
   ],
   "source": [
    "import seaborn as sn #this is for the confusion matrix visualization\n",
    "plt.figure(figsize = (10,7)) #at first column my model is predicted for 1 times that the given data is 0 but in truth the data is 4\n",
    "sn.heatmap(cm,annot=True)\n",
    "plt.xlabel('Predicted')\n",
    "plt.ylabel('Truth')"
   ]
  },
  {
   "cell_type": "code",
   "execution_count": 308,
   "metadata": {},
   "outputs": [
    {
     "data": {
      "text/plain": [
       "360"
      ]
     },
     "execution_count": 308,
     "metadata": {},
     "output_type": "execute_result"
    }
   ],
   "source": [
    "len(y_test)"
   ]
  },
  {
   "cell_type": "code",
   "execution_count": 309,
   "metadata": {},
   "outputs": [
    {
     "data": {
      "text/plain": [
       "<matplotlib.image.AxesImage at 0x257c51ad0d0>"
      ]
     },
     "execution_count": 309,
     "metadata": {},
     "output_type": "execute_result"
    },
    {
     "data": {
      "image/png": "[encoded data removed]",
      "text/plain": [
       "<Figure size 432x288 with 1 Axes>"
      ]
     },
     "metadata": {
      "needs_background": "light"
     },
     "output_type": "display_data"
    }
   ],
   "source": [
    "plt.imshow(x_test[3].reshape(8,8))"
   ]
  },
  {
   "cell_type": "markdown",
   "metadata": {},
   "source": [
    "# Decision Tree"
   ]
  },
  {
   "cell_type": "code",
   "execution_count": 351,
   "metadata": {},
   "outputs": [
    {
     "data": {
      "text/plain": [
       "(891, 12)"
      ]
     },
     "execution_count": 351,
     "metadata": {},
     "output_type": "execute_result"
    }
   ],
   "source": [
    "df = pd.read_csv('titanic.csv')\n",
    "np.shape(df)"
   ]
  },
  {
   "cell_type": "code",
   "execution_count": 352,
   "metadata": {},
   "outputs": [
    {
     "data": {
      "text/plain": [
       "Index(['PassengerId', 'Survived', 'Pclass', 'Name', 'Sex', 'Age', 'SibSp',\n",
       "       'Parch', 'Ticket', 'Fare', 'Cabin', 'Embarked'],\n",
       "      dtype='object')"
      ]
     },
     "execution_count": 352,
     "metadata": {},
     "output_type": "execute_result"
    }
   ],
   "source": [
    "df.columns"
   ]
  },
  {
   "cell_type": "code",
   "execution_count": 353,
   "metadata": {},
   "outputs": [
    {
     "data": {
      "text/html": [
       "<div>\n",
       "<style scoped>\n",
       "    .dataframe tbody tr th:only-of-type {\n",
       "        vertical-align: middle;\n",
       "    }\n",
       "\n",
       "    .dataframe tbody tr th {\n",
       "        vertical-align: top;\n",
       "    }\n",
       "\n",
       "    .dataframe thead th {\n",
       "        text-align: right;\n",
       "    }\n",
       "</style>\n",
       "<table border=\"1\" class=\"dataframe\">\n",
       "  <thead>\n",
       "    <tr style=\"text-align: right;\">\n",
       "      <th></th>\n",
       "      <th>PassengerId</th>\n",
       "      <th>Survived</th>\n",
       "      <th>Pclass</th>\n",
       "      <th>Name</th>\n",
       "      <th>Sex</th>\n",
       "      <th>Age</th>\n",
       "      <th>SibSp</th>\n",
       "      <th>Parch</th>\n",
       "      <th>Ticket</th>\n",
       "      <th>Fare</th>\n",
       "      <th>Cabin</th>\n",
       "      <th>Embarked</th>\n",
       "    </tr>\n",
       "  </thead>\n",
       "  <tbody>\n",
       "    <tr>\n",
       "      <th>0</th>\n",
       "      <td>1</td>\n",
       "      <td>0</td>\n",
       "      <td>3</td>\n",
       "      <td>Braund, Mr. Owen Harris</td>\n",
       "      <td>male</td>\n",
       "      <td>22.0</td>\n",
       "      <td>1</td>\n",
       "      <td>0</td>\n",
       "      <td>A/5 21171</td>\n",
       "      <td>7.2500</td>\n",
       "      <td>NaN</td>\n",
       "      <td>S</td>\n",
       "    </tr>\n",
       "    <tr>\n",
       "      <th>1</th>\n",
       "      <td>2</td>\n",
       "      <td>1</td>\n",
       "      <td>1</td>\n",
       "      <td>Cumings, Mrs. John Bradley (Florence Briggs Th...</td>\n",
       "      <td>female</td>\n",
       "      <td>38.0</td>\n",
       "      <td>1</td>\n",
       "      <td>0</td>\n",
       "      <td>PC 17599</td>\n",
       "      <td>71.2833</td>\n",
       "      <td>C85</td>\n",
       "      <td>C</td>\n",
       "    </tr>\n",
       "    <tr>\n",
       "      <th>2</th>\n",
       "      <td>3</td>\n",
       "      <td>1</td>\n",
       "      <td>3</td>\n",
       "      <td>Heikkinen, Miss. Laina</td>\n",
       "      <td>female</td>\n",
       "      <td>26.0</td>\n",
       "      <td>0</td>\n",
       "      <td>0</td>\n",
       "      <td>STON/O2. 3101282</td>\n",
       "      <td>7.9250</td>\n",
       "      <td>NaN</td>\n",
       "      <td>S</td>\n",
       "    </tr>\n",
       "    <tr>\n",
       "      <th>3</th>\n",
       "      <td>4</td>\n",
       "      <td>1</td>\n",
       "      <td>1</td>\n",
       "      <td>Futrelle, Mrs. Jacques Heath (Lily May Peel)</td>\n",
       "      <td>female</td>\n",
       "      <td>35.0</td>\n",
       "      <td>1</td>\n",
       "      <td>0</td>\n",
       "      <td>113803</td>\n",
       "      <td>53.1000</td>\n",
       "      <td>C123</td>\n",
       "      <td>S</td>\n",
       "    </tr>\n",
       "    <tr>\n",
       "      <th>4</th>\n",
       "      <td>5</td>\n",
       "      <td>0</td>\n",
       "      <td>3</td>\n",
       "      <td>Allen, Mr. William Henry</td>\n",
       "      <td>male</td>\n",
       "      <td>35.0</td>\n",
       "      <td>0</td>\n",
       "      <td>0</td>\n",
       "      <td>373450</td>\n",
       "      <td>8.0500</td>\n",
       "      <td>NaN</td>\n",
       "      <td>S</td>\n",
       "    </tr>\n",
       "    <tr>\n",
       "      <th>...</th>\n",
       "      <td>...</td>\n",
       "      <td>...</td>\n",
       "      <td>...</td>\n",
       "      <td>...</td>\n",
       "      <td>...</td>\n",
       "      <td>...</td>\n",
       "      <td>...</td>\n",
       "      <td>...</td>\n",
       "      <td>...</td>\n",
       "      <td>...</td>\n",
       "      <td>...</td>\n",
       "      <td>...</td>\n",
       "    </tr>\n",
       "    <tr>\n",
       "      <th>886</th>\n",
       "      <td>887</td>\n",
       "      <td>0</td>\n",
       "      <td>2</td>\n",
       "      <td>Montvila, Rev. Juozas</td>\n",
       "      <td>male</td>\n",
       "      <td>27.0</td>\n",
       "      <td>0</td>\n",
       "      <td>0</td>\n",
       "      <td>211536</td>\n",
       "      <td>13.0000</td>\n",
       "      <td>NaN</td>\n",
       "      <td>S</td>\n",
       "    </tr>\n",
       "    <tr>\n",
       "      <th>887</th>\n",
       "      <td>888</td>\n",
       "      <td>1</td>\n",
       "      <td>1</td>\n",
       "      <td>Graham, Miss. Margaret Edith</td>\n",
       "      <td>female</td>\n",
       "      <td>19.0</td>\n",
       "      <td>0</td>\n",
       "      <td>0</td>\n",
       "      <td>112053</td>\n",
       "      <td>30.0000</td>\n",
       "      <td>B42</td>\n",
       "      <td>S</td>\n",
       "    </tr>\n",
       "    <tr>\n",
       "      <th>888</th>\n",
       "      <td>889</td>\n",
       "      <td>0</td>\n",
       "      <td>3</td>\n",
       "      <td>Johnston, Miss. Catherine Helen \"Carrie\"</td>\n",
       "      <td>female</td>\n",
       "      <td>NaN</td>\n",
       "      <td>1</td>\n",
       "      <td>2</td>\n",
       "      <td>W./C. 6607</td>\n",
       "      <td>23.4500</td>\n",
       "      <td>NaN</td>\n",
       "      <td>S</td>\n",
       "    </tr>\n",
       "    <tr>\n",
       "      <th>889</th>\n",
       "      <td>890</td>\n",
       "      <td>1</td>\n",
       "      <td>1</td>\n",
       "      <td>Behr, Mr. Karl Howell</td>\n",
       "      <td>male</td>\n",
       "      <td>26.0</td>\n",
       "      <td>0</td>\n",
       "      <td>0</td>\n",
       "      <td>111369</td>\n",
       "      <td>30.0000</td>\n",
       "      <td>C148</td>\n",
       "      <td>C</td>\n",
       "    </tr>\n",
       "    <tr>\n",
       "      <th>890</th>\n",
       "      <td>891</td>\n",
       "      <td>0</td>\n",
       "      <td>3</td>\n",
       "      <td>Dooley, Mr. Patrick</td>\n",
       "      <td>male</td>\n",
       "      <td>32.0</td>\n",
       "      <td>0</td>\n",
       "      <td>0</td>\n",
       "      <td>370376</td>\n",
       "      <td>7.7500</td>\n",
       "      <td>NaN</td>\n",
       "      <td>Q</td>\n",
       "    </tr>\n",
       "  </tbody>\n",
       "</table>\n",
       "<p>891 rows × 12 columns</p>\n",
       "</div>"
      ],
      "text/plain": [
       "     PassengerId  Survived  Pclass  \\\n",
       "0              1         0       3   \n",
       "1              2         1       1   \n",
       "2              3         1       3   \n",
       "3              4         1       1   \n",
       "4              5         0       3   \n",
       "..           ...       ...     ...   \n",
       "886          887         0       2   \n",
       "887          888         1       1   \n",
       "888          889         0       3   \n",
       "889          890         1       1   \n",
       "890          891         0       3   \n",
       "\n",
       "                                                  Name     Sex   Age  SibSp  \\\n",
       "0                              Braund, Mr. Owen Harris    male  22.0      1   \n",
       "1    Cumings, Mrs. John Bradley (Florence Briggs Th...  female  38.0      1   \n",
       "2                               Heikkinen, Miss. Laina  female  26.0      0   \n",
       "3         Futrelle, Mrs. Jacques Heath (Lily May Peel)  female  35.0      1   \n",
       "4                             Allen, Mr. William Henry    male  35.0      0   \n",
       "..                                                 ...     ...   ...    ...   \n",
       "886                              Montvila, Rev. Juozas    male  27.0      0   \n",
       "887                       Graham, Miss. Margaret Edith  female  19.0      0   \n",
       "888           Johnston, Miss. Catherine Helen \"Carrie\"  female   NaN      1   \n",
       "889                              Behr, Mr. Karl Howell    male  26.0      0   \n",
       "890                                Dooley, Mr. Patrick    male  32.0      0   \n",
       "\n",
       "     Parch            Ticket     Fare Cabin Embarked  \n",
       "0        0         A/5 21171   7.2500   NaN        S  \n",
       "1        0          PC 17599  71.2833   C85        C  \n",
       "2        0  STON/O2. 3101282   7.9250   NaN        S  \n",
       "3        0            113803  53.1000  C123        S  \n",
       "4        0            373450   8.0500   NaN        S  \n",
       "..     ...               ...      ...   ...      ...  \n",
       "886      0            211536  13.0000   NaN        S  \n",
       "887      0            112053  30.0000   B42        S  \n",
       "888      2        W./C. 6607  23.4500   NaN        S  \n",
       "889      0            111369  30.0000  C148        C  \n",
       "890      0            370376   7.7500   NaN        Q  \n",
       "\n",
       "[891 rows x 12 columns]"
      ]
     },
     "execution_count": 353,
     "metadata": {},
     "output_type": "execute_result"
    }
   ],
   "source": [
    "df"
   ]
  },
  {
   "cell_type": "code",
   "execution_count": 354,
   "metadata": {},
   "outputs": [
    {
     "data": {
      "text/plain": [
       "PassengerId      0\n",
       "Survived         0\n",
       "Pclass           0\n",
       "Name             0\n",
       "Sex              0\n",
       "Age            177\n",
       "SibSp            0\n",
       "Parch            0\n",
       "Ticket           0\n",
       "Fare             0\n",
       "Cabin          687\n",
       "Embarked         2\n",
       "dtype: int64"
      ]
     },
     "execution_count": 354,
     "metadata": {},
     "output_type": "execute_result"
    }
   ],
   "source": [
    "df.isnull().sum()"
   ]
  },
  {
   "cell_type": "code",
   "execution_count": 355,
   "metadata": {},
   "outputs": [
    {
     "data": {
      "text/html": [
       "<div>\n",
       "<style scoped>\n",
       "    .dataframe tbody tr th:only-of-type {\n",
       "        vertical-align: middle;\n",
       "    }\n",
       "\n",
       "    .dataframe tbody tr th {\n",
       "        vertical-align: top;\n",
       "    }\n",
       "\n",
       "    .dataframe thead th {\n",
       "        text-align: right;\n",
       "    }\n",
       "</style>\n",
       "<table border=\"1\" class=\"dataframe\">\n",
       "  <thead>\n",
       "    <tr style=\"text-align: right;\">\n",
       "      <th></th>\n",
       "      <th>Survived</th>\n",
       "      <th>Pclass</th>\n",
       "      <th>Sex</th>\n",
       "      <th>Age</th>\n",
       "      <th>Fare</th>\n",
       "    </tr>\n",
       "  </thead>\n",
       "  <tbody>\n",
       "    <tr>\n",
       "      <th>0</th>\n",
       "      <td>0</td>\n",
       "      <td>3</td>\n",
       "      <td>male</td>\n",
       "      <td>22.0</td>\n",
       "      <td>7.2500</td>\n",
       "    </tr>\n",
       "    <tr>\n",
       "      <th>1</th>\n",
       "      <td>1</td>\n",
       "      <td>1</td>\n",
       "      <td>female</td>\n",
       "      <td>38.0</td>\n",
       "      <td>71.2833</td>\n",
       "    </tr>\n",
       "    <tr>\n",
       "      <th>2</th>\n",
       "      <td>1</td>\n",
       "      <td>3</td>\n",
       "      <td>female</td>\n",
       "      <td>26.0</td>\n",
       "      <td>7.9250</td>\n",
       "    </tr>\n",
       "    <tr>\n",
       "      <th>3</th>\n",
       "      <td>1</td>\n",
       "      <td>1</td>\n",
       "      <td>female</td>\n",
       "      <td>35.0</td>\n",
       "      <td>53.1000</td>\n",
       "    </tr>\n",
       "    <tr>\n",
       "      <th>4</th>\n",
       "      <td>0</td>\n",
       "      <td>3</td>\n",
       "      <td>male</td>\n",
       "      <td>35.0</td>\n",
       "      <td>8.0500</td>\n",
       "    </tr>\n",
       "    <tr>\n",
       "      <th>...</th>\n",
       "      <td>...</td>\n",
       "      <td>...</td>\n",
       "      <td>...</td>\n",
       "      <td>...</td>\n",
       "      <td>...</td>\n",
       "    </tr>\n",
       "    <tr>\n",
       "      <th>886</th>\n",
       "      <td>0</td>\n",
       "      <td>2</td>\n",
       "      <td>male</td>\n",
       "      <td>27.0</td>\n",
       "      <td>13.0000</td>\n",
       "    </tr>\n",
       "    <tr>\n",
       "      <th>887</th>\n",
       "      <td>1</td>\n",
       "      <td>1</td>\n",
       "      <td>female</td>\n",
       "      <td>19.0</td>\n",
       "      <td>30.0000</td>\n",
       "    </tr>\n",
       "    <tr>\n",
       "      <th>888</th>\n",
       "      <td>0</td>\n",
       "      <td>3</td>\n",
       "      <td>female</td>\n",
       "      <td>NaN</td>\n",
       "      <td>23.4500</td>\n",
       "    </tr>\n",
       "    <tr>\n",
       "      <th>889</th>\n",
       "      <td>1</td>\n",
       "      <td>1</td>\n",
       "      <td>male</td>\n",
       "      <td>26.0</td>\n",
       "      <td>30.0000</td>\n",
       "    </tr>\n",
       "    <tr>\n",
       "      <th>890</th>\n",
       "      <td>0</td>\n",
       "      <td>3</td>\n",
       "      <td>male</td>\n",
       "      <td>32.0</td>\n",
       "      <td>7.7500</td>\n",
       "    </tr>\n",
       "  </tbody>\n",
       "</table>\n",
       "<p>891 rows × 5 columns</p>\n",
       "</div>"
      ],
      "text/plain": [
       "     Survived  Pclass     Sex   Age     Fare\n",
       "0           0       3    male  22.0   7.2500\n",
       "1           1       1  female  38.0  71.2833\n",
       "2           1       3  female  26.0   7.9250\n",
       "3           1       1  female  35.0  53.1000\n",
       "4           0       3    male  35.0   8.0500\n",
       "..        ...     ...     ...   ...      ...\n",
       "886         0       2    male  27.0  13.0000\n",
       "887         1       1  female  19.0  30.0000\n",
       "888         0       3  female   NaN  23.4500\n",
       "889         1       1    male  26.0  30.0000\n",
       "890         0       3    male  32.0   7.7500\n",
       "\n",
       "[891 rows x 5 columns]"
      ]
     },
     "execution_count": 355,
     "metadata": {},
     "output_type": "execute_result"
    }
   ],
   "source": [
    "df.drop(['PassengerId','Name','SibSp','Parch','Ticket','Cabin','Embarked'],axis='columns',inplace = True)\n",
    "df"
   ]
  },
  {
   "cell_type": "code",
   "execution_count": 356,
   "metadata": {},
   "outputs": [
    {
     "data": {
      "text/plain": [
       "Survived      0\n",
       "Pclass        0\n",
       "Sex           0\n",
       "Age         177\n",
       "Fare          0\n",
       "dtype: int64"
      ]
     },
     "execution_count": 356,
     "metadata": {},
     "output_type": "execute_result"
    }
   ],
   "source": [
    "df.isnull().sum()"
   ]
  },
  {
   "cell_type": "code",
   "execution_count": 357,
   "metadata": {},
   "outputs": [
    {
     "data": {
      "text/html": [
       "<div>\n",
       "<style scoped>\n",
       "    .dataframe tbody tr th:only-of-type {\n",
       "        vertical-align: middle;\n",
       "    }\n",
       "\n",
       "    .dataframe tbody tr th {\n",
       "        vertical-align: top;\n",
       "    }\n",
       "\n",
       "    .dataframe thead th {\n",
       "        text-align: right;\n",
       "    }\n",
       "</style>\n",
       "<table border=\"1\" class=\"dataframe\">\n",
       "  <thead>\n",
       "    <tr style=\"text-align: right;\">\n",
       "      <th></th>\n",
       "      <th>Pclass</th>\n",
       "      <th>Sex</th>\n",
       "      <th>Age</th>\n",
       "      <th>Fare</th>\n",
       "    </tr>\n",
       "  </thead>\n",
       "  <tbody>\n",
       "    <tr>\n",
       "      <th>0</th>\n",
       "      <td>3</td>\n",
       "      <td>male</td>\n",
       "      <td>22.0</td>\n",
       "      <td>7.2500</td>\n",
       "    </tr>\n",
       "    <tr>\n",
       "      <th>1</th>\n",
       "      <td>1</td>\n",
       "      <td>female</td>\n",
       "      <td>38.0</td>\n",
       "      <td>71.2833</td>\n",
       "    </tr>\n",
       "    <tr>\n",
       "      <th>2</th>\n",
       "      <td>3</td>\n",
       "      <td>female</td>\n",
       "      <td>26.0</td>\n",
       "      <td>7.9250</td>\n",
       "    </tr>\n",
       "    <tr>\n",
       "      <th>3</th>\n",
       "      <td>1</td>\n",
       "      <td>female</td>\n",
       "      <td>35.0</td>\n",
       "      <td>53.1000</td>\n",
       "    </tr>\n",
       "    <tr>\n",
       "      <th>4</th>\n",
       "      <td>3</td>\n",
       "      <td>male</td>\n",
       "      <td>35.0</td>\n",
       "      <td>8.0500</td>\n",
       "    </tr>\n",
       "    <tr>\n",
       "      <th>...</th>\n",
       "      <td>...</td>\n",
       "      <td>...</td>\n",
       "      <td>...</td>\n",
       "      <td>...</td>\n",
       "    </tr>\n",
       "    <tr>\n",
       "      <th>886</th>\n",
       "      <td>2</td>\n",
       "      <td>male</td>\n",
       "      <td>27.0</td>\n",
       "      <td>13.0000</td>\n",
       "    </tr>\n",
       "    <tr>\n",
       "      <th>887</th>\n",
       "      <td>1</td>\n",
       "      <td>female</td>\n",
       "      <td>19.0</td>\n",
       "      <td>30.0000</td>\n",
       "    </tr>\n",
       "    <tr>\n",
       "      <th>888</th>\n",
       "      <td>3</td>\n",
       "      <td>female</td>\n",
       "      <td>NaN</td>\n",
       "      <td>23.4500</td>\n",
       "    </tr>\n",
       "    <tr>\n",
       "      <th>889</th>\n",
       "      <td>1</td>\n",
       "      <td>male</td>\n",
       "      <td>26.0</td>\n",
       "      <td>30.0000</td>\n",
       "    </tr>\n",
       "    <tr>\n",
       "      <th>890</th>\n",
       "      <td>3</td>\n",
       "      <td>male</td>\n",
       "      <td>32.0</td>\n",
       "      <td>7.7500</td>\n",
       "    </tr>\n",
       "  </tbody>\n",
       "</table>\n",
       "<p>891 rows × 4 columns</p>\n",
       "</div>"
      ],
      "text/plain": [
       "     Pclass     Sex   Age     Fare\n",
       "0         3    male  22.0   7.2500\n",
       "1         1  female  38.0  71.2833\n",
       "2         3  female  26.0   7.9250\n",
       "3         1  female  35.0  53.1000\n",
       "4         3    male  35.0   8.0500\n",
       "..      ...     ...   ...      ...\n",
       "886       2    male  27.0  13.0000\n",
       "887       1  female  19.0  30.0000\n",
       "888       3  female   NaN  23.4500\n",
       "889       1    male  26.0  30.0000\n",
       "890       3    male  32.0   7.7500\n",
       "\n",
       "[891 rows x 4 columns]"
      ]
     },
     "execution_count": 357,
     "metadata": {},
     "output_type": "execute_result"
    }
   ],
   "source": [
    "target = df.Survived\n",
    "inputs = df.drop('Survived',axis='columns')\n",
    "inputs"
   ]
  },
  {
   "cell_type": "code",
   "execution_count": 358,
   "metadata": {},
   "outputs": [
    {
     "data": {
      "text/html": [
       "<div>\n",
       "<style scoped>\n",
       "    .dataframe tbody tr th:only-of-type {\n",
       "        vertical-align: middle;\n",
       "    }\n",
       "\n",
       "    .dataframe tbody tr th {\n",
       "        vertical-align: top;\n",
       "    }\n",
       "\n",
       "    .dataframe thead th {\n",
       "        text-align: right;\n",
       "    }\n",
       "</style>\n",
       "<table border=\"1\" class=\"dataframe\">\n",
       "  <thead>\n",
       "    <tr style=\"text-align: right;\">\n",
       "      <th></th>\n",
       "      <th>Pclass</th>\n",
       "      <th>Sex</th>\n",
       "      <th>Age</th>\n",
       "      <th>Fare</th>\n",
       "    </tr>\n",
       "  </thead>\n",
       "  <tbody>\n",
       "    <tr>\n",
       "      <th>0</th>\n",
       "      <td>3</td>\n",
       "      <td>0</td>\n",
       "      <td>22.0</td>\n",
       "      <td>7.2500</td>\n",
       "    </tr>\n",
       "    <tr>\n",
       "      <th>1</th>\n",
       "      <td>1</td>\n",
       "      <td>1</td>\n",
       "      <td>38.0</td>\n",
       "      <td>71.2833</td>\n",
       "    </tr>\n",
       "    <tr>\n",
       "      <th>2</th>\n",
       "      <td>3</td>\n",
       "      <td>1</td>\n",
       "      <td>26.0</td>\n",
       "      <td>7.9250</td>\n",
       "    </tr>\n",
       "    <tr>\n",
       "      <th>3</th>\n",
       "      <td>1</td>\n",
       "      <td>1</td>\n",
       "      <td>35.0</td>\n",
       "      <td>53.1000</td>\n",
       "    </tr>\n",
       "    <tr>\n",
       "      <th>4</th>\n",
       "      <td>3</td>\n",
       "      <td>0</td>\n",
       "      <td>35.0</td>\n",
       "      <td>8.0500</td>\n",
       "    </tr>\n",
       "    <tr>\n",
       "      <th>...</th>\n",
       "      <td>...</td>\n",
       "      <td>...</td>\n",
       "      <td>...</td>\n",
       "      <td>...</td>\n",
       "    </tr>\n",
       "    <tr>\n",
       "      <th>886</th>\n",
       "      <td>2</td>\n",
       "      <td>0</td>\n",
       "      <td>27.0</td>\n",
       "      <td>13.0000</td>\n",
       "    </tr>\n",
       "    <tr>\n",
       "      <th>887</th>\n",
       "      <td>1</td>\n",
       "      <td>1</td>\n",
       "      <td>19.0</td>\n",
       "      <td>30.0000</td>\n",
       "    </tr>\n",
       "    <tr>\n",
       "      <th>888</th>\n",
       "      <td>3</td>\n",
       "      <td>1</td>\n",
       "      <td>NaN</td>\n",
       "      <td>23.4500</td>\n",
       "    </tr>\n",
       "    <tr>\n",
       "      <th>889</th>\n",
       "      <td>1</td>\n",
       "      <td>0</td>\n",
       "      <td>26.0</td>\n",
       "      <td>30.0000</td>\n",
       "    </tr>\n",
       "    <tr>\n",
       "      <th>890</th>\n",
       "      <td>3</td>\n",
       "      <td>0</td>\n",
       "      <td>32.0</td>\n",
       "      <td>7.7500</td>\n",
       "    </tr>\n",
       "  </tbody>\n",
       "</table>\n",
       "<p>891 rows × 4 columns</p>\n",
       "</div>"
      ],
      "text/plain": [
       "     Pclass  Sex   Age     Fare\n",
       "0         3    0  22.0   7.2500\n",
       "1         1    1  38.0  71.2833\n",
       "2         3    1  26.0   7.9250\n",
       "3         1    1  35.0  53.1000\n",
       "4         3    0  35.0   8.0500\n",
       "..      ...  ...   ...      ...\n",
       "886       2    0  27.0  13.0000\n",
       "887       1    1  19.0  30.0000\n",
       "888       3    1   NaN  23.4500\n",
       "889       1    0  26.0  30.0000\n",
       "890       3    0  32.0   7.7500\n",
       "\n",
       "[891 rows x 4 columns]"
      ]
     },
     "execution_count": 358,
     "metadata": {},
     "output_type": "execute_result"
    }
   ],
   "source": [
    "inputs.Sex = inputs.Sex.map({'male':0,'female':1}) #this is one type of label encoding\n",
    "inputs"
   ]
  },
  {
   "cell_type": "code",
   "execution_count": 333,
   "metadata": {},
   "outputs": [],
   "source": [
    "from sklearn.preprocessing import LabelEncoder"
   ]
  },
  {
   "cell_type": "code",
   "execution_count": 346,
   "metadata": {},
   "outputs": [],
   "source": [
    "le_sex = LabelEncoder() #this is another type of label encoding"
   ]
  },
  {
   "cell_type": "code",
   "execution_count": 347,
   "metadata": {},
   "outputs": [
    {
     "data": {
      "text/html": [
       "<div>\n",
       "<style scoped>\n",
       "    .dataframe tbody tr th:only-of-type {\n",
       "        vertical-align: middle;\n",
       "    }\n",
       "\n",
       "    .dataframe tbody tr th {\n",
       "        vertical-align: top;\n",
       "    }\n",
       "\n",
       "    .dataframe thead th {\n",
       "        text-align: right;\n",
       "    }\n",
       "</style>\n",
       "<table border=\"1\" class=\"dataframe\">\n",
       "  <thead>\n",
       "    <tr style=\"text-align: right;\">\n",
       "      <th></th>\n",
       "      <th>Pclass</th>\n",
       "      <th>Sex</th>\n",
       "      <th>Age</th>\n",
       "      <th>Fare</th>\n",
       "      <th>sex</th>\n",
       "    </tr>\n",
       "  </thead>\n",
       "  <tbody>\n",
       "    <tr>\n",
       "      <th>0</th>\n",
       "      <td>3</td>\n",
       "      <td>male</td>\n",
       "      <td>22.0</td>\n",
       "      <td>7.2500</td>\n",
       "      <td>1</td>\n",
       "    </tr>\n",
       "    <tr>\n",
       "      <th>1</th>\n",
       "      <td>1</td>\n",
       "      <td>female</td>\n",
       "      <td>38.0</td>\n",
       "      <td>71.2833</td>\n",
       "      <td>0</td>\n",
       "    </tr>\n",
       "    <tr>\n",
       "      <th>2</th>\n",
       "      <td>3</td>\n",
       "      <td>female</td>\n",
       "      <td>26.0</td>\n",
       "      <td>7.9250</td>\n",
       "      <td>0</td>\n",
       "    </tr>\n",
       "    <tr>\n",
       "      <th>3</th>\n",
       "      <td>1</td>\n",
       "      <td>female</td>\n",
       "      <td>35.0</td>\n",
       "      <td>53.1000</td>\n",
       "      <td>0</td>\n",
       "    </tr>\n",
       "    <tr>\n",
       "      <th>4</th>\n",
       "      <td>3</td>\n",
       "      <td>male</td>\n",
       "      <td>35.0</td>\n",
       "      <td>8.0500</td>\n",
       "      <td>1</td>\n",
       "    </tr>\n",
       "    <tr>\n",
       "      <th>...</th>\n",
       "      <td>...</td>\n",
       "      <td>...</td>\n",
       "      <td>...</td>\n",
       "      <td>...</td>\n",
       "      <td>...</td>\n",
       "    </tr>\n",
       "    <tr>\n",
       "      <th>886</th>\n",
       "      <td>2</td>\n",
       "      <td>male</td>\n",
       "      <td>27.0</td>\n",
       "      <td>13.0000</td>\n",
       "      <td>1</td>\n",
       "    </tr>\n",
       "    <tr>\n",
       "      <th>887</th>\n",
       "      <td>1</td>\n",
       "      <td>female</td>\n",
       "      <td>19.0</td>\n",
       "      <td>30.0000</td>\n",
       "      <td>0</td>\n",
       "    </tr>\n",
       "    <tr>\n",
       "      <th>888</th>\n",
       "      <td>3</td>\n",
       "      <td>female</td>\n",
       "      <td>NaN</td>\n",
       "      <td>23.4500</td>\n",
       "      <td>0</td>\n",
       "    </tr>\n",
       "    <tr>\n",
       "      <th>889</th>\n",
       "      <td>1</td>\n",
       "      <td>male</td>\n",
       "      <td>26.0</td>\n",
       "      <td>30.0000</td>\n",
       "      <td>1</td>\n",
       "    </tr>\n",
       "    <tr>\n",
       "      <th>890</th>\n",
       "      <td>3</td>\n",
       "      <td>male</td>\n",
       "      <td>32.0</td>\n",
       "      <td>7.7500</td>\n",
       "      <td>1</td>\n",
       "    </tr>\n",
       "  </tbody>\n",
       "</table>\n",
       "<p>891 rows × 5 columns</p>\n",
       "</div>"
      ],
      "text/plain": [
       "     Pclass     Sex   Age     Fare  sex\n",
       "0         3    male  22.0   7.2500    1\n",
       "1         1  female  38.0  71.2833    0\n",
       "2         3  female  26.0   7.9250    0\n",
       "3         1  female  35.0  53.1000    0\n",
       "4         3    male  35.0   8.0500    1\n",
       "..      ...     ...   ...      ...  ...\n",
       "886       2    male  27.0  13.0000    1\n",
       "887       1  female  19.0  30.0000    0\n",
       "888       3  female   NaN  23.4500    0\n",
       "889       1    male  26.0  30.0000    1\n",
       "890       3    male  32.0   7.7500    1\n",
       "\n",
       "[891 rows x 5 columns]"
      ]
     },
     "execution_count": 347,
     "metadata": {},
     "output_type": "execute_result"
    }
   ],
   "source": [
    "inputs['sex'] = le_sex.fit_transform(inputs['Sex']) \n",
    "inputs"
   ]
  },
  {
   "cell_type": "code",
   "execution_count": 350,
   "metadata": {},
   "outputs": [
    {
     "data": {
      "text/html": [
       "<div>\n",
       "<style scoped>\n",
       "    .dataframe tbody tr th:only-of-type {\n",
       "        vertical-align: middle;\n",
       "    }\n",
       "\n",
       "    .dataframe tbody tr th {\n",
       "        vertical-align: top;\n",
       "    }\n",
       "\n",
       "    .dataframe thead th {\n",
       "        text-align: right;\n",
       "    }\n",
       "</style>\n",
       "<table border=\"1\" class=\"dataframe\">\n",
       "  <thead>\n",
       "    <tr style=\"text-align: right;\">\n",
       "      <th></th>\n",
       "      <th>Pclass</th>\n",
       "      <th>Sex</th>\n",
       "      <th>Age</th>\n",
       "      <th>Fare</th>\n",
       "      <th>sex</th>\n",
       "    </tr>\n",
       "  </thead>\n",
       "  <tbody>\n",
       "    <tr>\n",
       "      <th>0</th>\n",
       "      <td>3</td>\n",
       "      <td>male</td>\n",
       "      <td>22.0</td>\n",
       "      <td>7.2500</td>\n",
       "      <td>1</td>\n",
       "    </tr>\n",
       "    <tr>\n",
       "      <th>1</th>\n",
       "      <td>1</td>\n",
       "      <td>female</td>\n",
       "      <td>38.0</td>\n",
       "      <td>71.2833</td>\n",
       "      <td>0</td>\n",
       "    </tr>\n",
       "    <tr>\n",
       "      <th>2</th>\n",
       "      <td>3</td>\n",
       "      <td>female</td>\n",
       "      <td>26.0</td>\n",
       "      <td>7.9250</td>\n",
       "      <td>0</td>\n",
       "    </tr>\n",
       "    <tr>\n",
       "      <th>3</th>\n",
       "      <td>1</td>\n",
       "      <td>female</td>\n",
       "      <td>35.0</td>\n",
       "      <td>53.1000</td>\n",
       "      <td>0</td>\n",
       "    </tr>\n",
       "    <tr>\n",
       "      <th>4</th>\n",
       "      <td>3</td>\n",
       "      <td>male</td>\n",
       "      <td>35.0</td>\n",
       "      <td>8.0500</td>\n",
       "      <td>1</td>\n",
       "    </tr>\n",
       "    <tr>\n",
       "      <th>...</th>\n",
       "      <td>...</td>\n",
       "      <td>...</td>\n",
       "      <td>...</td>\n",
       "      <td>...</td>\n",
       "      <td>...</td>\n",
       "    </tr>\n",
       "    <tr>\n",
       "      <th>886</th>\n",
       "      <td>2</td>\n",
       "      <td>male</td>\n",
       "      <td>27.0</td>\n",
       "      <td>13.0000</td>\n",
       "      <td>1</td>\n",
       "    </tr>\n",
       "    <tr>\n",
       "      <th>887</th>\n",
       "      <td>1</td>\n",
       "      <td>female</td>\n",
       "      <td>19.0</td>\n",
       "      <td>30.0000</td>\n",
       "      <td>0</td>\n",
       "    </tr>\n",
       "    <tr>\n",
       "      <th>888</th>\n",
       "      <td>3</td>\n",
       "      <td>female</td>\n",
       "      <td>NaN</td>\n",
       "      <td>23.4500</td>\n",
       "      <td>0</td>\n",
       "    </tr>\n",
       "    <tr>\n",
       "      <th>889</th>\n",
       "      <td>1</td>\n",
       "      <td>male</td>\n",
       "      <td>26.0</td>\n",
       "      <td>30.0000</td>\n",
       "      <td>1</td>\n",
       "    </tr>\n",
       "    <tr>\n",
       "      <th>890</th>\n",
       "      <td>3</td>\n",
       "      <td>male</td>\n",
       "      <td>32.0</td>\n",
       "      <td>7.7500</td>\n",
       "      <td>1</td>\n",
       "    </tr>\n",
       "  </tbody>\n",
       "</table>\n",
       "<p>891 rows × 5 columns</p>\n",
       "</div>"
      ],
      "text/plain": [
       "     Pclass     Sex   Age     Fare  sex\n",
       "0         3    male  22.0   7.2500    1\n",
       "1         1  female  38.0  71.2833    0\n",
       "2         3  female  26.0   7.9250    0\n",
       "3         1  female  35.0  53.1000    0\n",
       "4         3    male  35.0   8.0500    1\n",
       "..      ...     ...   ...      ...  ...\n",
       "886       2    male  27.0  13.0000    1\n",
       "887       1  female  19.0  30.0000    0\n",
       "888       3  female   NaN  23.4500    0\n",
       "889       1    male  26.0  30.0000    1\n",
       "890       3    male  32.0   7.7500    1\n",
       "\n",
       "[891 rows x 5 columns]"
      ]
     },
     "execution_count": 350,
     "metadata": {},
     "output_type": "execute_result"
    }
   ],
   "source": [
    "inputs.drop('Sex',axis='columns')\n",
    "inputs"
   ]
  },
  {
   "cell_type": "code",
   "execution_count": 364,
   "metadata": {},
   "outputs": [
    {
     "data": {
      "text/html": [
       "<div>\n",
       "<style scoped>\n",
       "    .dataframe tbody tr th:only-of-type {\n",
       "        vertical-align: middle;\n",
       "    }\n",
       "\n",
       "    .dataframe tbody tr th {\n",
       "        vertical-align: top;\n",
       "    }\n",
       "\n",
       "    .dataframe thead th {\n",
       "        text-align: right;\n",
       "    }\n",
       "</style>\n",
       "<table border=\"1\" class=\"dataframe\">\n",
       "  <thead>\n",
       "    <tr style=\"text-align: right;\">\n",
       "      <th></th>\n",
       "      <th>Pclass</th>\n",
       "      <th>Sex</th>\n",
       "      <th>Age</th>\n",
       "      <th>Fare</th>\n",
       "    </tr>\n",
       "  </thead>\n",
       "  <tbody>\n",
       "    <tr>\n",
       "      <th>0</th>\n",
       "      <td>3</td>\n",
       "      <td>0</td>\n",
       "      <td>22.000000</td>\n",
       "      <td>7.2500</td>\n",
       "    </tr>\n",
       "    <tr>\n",
       "      <th>1</th>\n",
       "      <td>1</td>\n",
       "      <td>1</td>\n",
       "      <td>38.000000</td>\n",
       "      <td>71.2833</td>\n",
       "    </tr>\n",
       "    <tr>\n",
       "      <th>2</th>\n",
       "      <td>3</td>\n",
       "      <td>1</td>\n",
       "      <td>26.000000</td>\n",
       "      <td>7.9250</td>\n",
       "    </tr>\n",
       "    <tr>\n",
       "      <th>3</th>\n",
       "      <td>1</td>\n",
       "      <td>1</td>\n",
       "      <td>35.000000</td>\n",
       "      <td>53.1000</td>\n",
       "    </tr>\n",
       "    <tr>\n",
       "      <th>4</th>\n",
       "      <td>3</td>\n",
       "      <td>0</td>\n",
       "      <td>35.000000</td>\n",
       "      <td>8.0500</td>\n",
       "    </tr>\n",
       "    <tr>\n",
       "      <th>...</th>\n",
       "      <td>...</td>\n",
       "      <td>...</td>\n",
       "      <td>...</td>\n",
       "      <td>...</td>\n",
       "    </tr>\n",
       "    <tr>\n",
       "      <th>886</th>\n",
       "      <td>2</td>\n",
       "      <td>0</td>\n",
       "      <td>27.000000</td>\n",
       "      <td>13.0000</td>\n",
       "    </tr>\n",
       "    <tr>\n",
       "      <th>887</th>\n",
       "      <td>1</td>\n",
       "      <td>1</td>\n",
       "      <td>19.000000</td>\n",
       "      <td>30.0000</td>\n",
       "    </tr>\n",
       "    <tr>\n",
       "      <th>888</th>\n",
       "      <td>3</td>\n",
       "      <td>1</td>\n",
       "      <td>29.699118</td>\n",
       "      <td>23.4500</td>\n",
       "    </tr>\n",
       "    <tr>\n",
       "      <th>889</th>\n",
       "      <td>1</td>\n",
       "      <td>0</td>\n",
       "      <td>26.000000</td>\n",
       "      <td>30.0000</td>\n",
       "    </tr>\n",
       "    <tr>\n",
       "      <th>890</th>\n",
       "      <td>3</td>\n",
       "      <td>0</td>\n",
       "      <td>32.000000</td>\n",
       "      <td>7.7500</td>\n",
       "    </tr>\n",
       "  </tbody>\n",
       "</table>\n",
       "<p>891 rows × 4 columns</p>\n",
       "</div>"
      ],
      "text/plain": [
       "     Pclass  Sex        Age     Fare\n",
       "0         3    0  22.000000   7.2500\n",
       "1         1    1  38.000000  71.2833\n",
       "2         3    1  26.000000   7.9250\n",
       "3         1    1  35.000000  53.1000\n",
       "4         3    0  35.000000   8.0500\n",
       "..      ...  ...        ...      ...\n",
       "886       2    0  27.000000  13.0000\n",
       "887       1    1  19.000000  30.0000\n",
       "888       3    1  29.699118  23.4500\n",
       "889       1    0  26.000000  30.0000\n",
       "890       3    0  32.000000   7.7500\n",
       "\n",
       "[891 rows x 4 columns]"
      ]
     },
     "execution_count": 364,
     "metadata": {},
     "output_type": "execute_result"
    }
   ],
   "source": [
    "inputs.Age = inputs['Age'].fillna(inputs.Age.mean())\n",
    "inputs"
   ]
  },
  {
   "cell_type": "code",
   "execution_count": 366,
   "metadata": {},
   "outputs": [],
   "source": [
    "from sklearn.model_selection import train_test_split\n",
    "x_train,x_test,y_train,y_test = train_test_split(inputs,target,test_size=0.2,random_state=10)"
   ]
  },
  {
   "cell_type": "code",
   "execution_count": 375,
   "metadata": {},
   "outputs": [],
   "source": [
    "from sklearn.tree import DecisionTreeClassifier\n",
    "from sklearn import tree\n",
    "dtree = DecisionTreeClassifier()"
   ]
  },
  {
   "cell_type": "code",
   "execution_count": 376,
   "metadata": {},
   "outputs": [
    {
     "data": {
      "text/plain": [
       "DecisionTreeClassifier()"
      ]
     },
     "execution_count": 376,
     "metadata": {},
     "output_type": "execute_result"
    }
   ],
   "source": [
    "dtree.fit(x_train,y_train)"
   ]
  },
  {
   "cell_type": "code",
   "execution_count": 377,
   "metadata": {},
   "outputs": [
    {
     "data": {
      "text/plain": [
       "0.7877094972067039"
      ]
     },
     "execution_count": 377,
     "metadata": {},
     "output_type": "execute_result"
    }
   ],
   "source": [
    "dtree.score(x_test,y_test)"
   ]
  },
  {
   "cell_type": "code",
   "execution_count": 378,
   "metadata": {},
   "outputs": [
    {
     "data": {
      "text/plain": [
       "array([0, 0, 0, 0, 1, 0, 0, 0, 0, 0, 0, 1, 1, 0, 1, 0, 0, 0, 1, 0, 0, 0,\n",
       "       1, 1, 1, 0, 1, 0, 0, 1, 1, 0, 0, 0, 1, 1, 1, 0, 0, 0, 0, 0, 0, 1,\n",
       "       0, 1, 1, 0, 1, 0, 1, 0, 0, 1, 1, 1, 0, 1, 1, 0, 0, 1, 1, 1, 0, 0,\n",
       "       0, 0, 0, 1, 0, 0, 0, 0, 1, 0, 0, 0, 0, 0, 0, 0, 0, 0, 0, 0, 1, 1,\n",
       "       0, 0, 0, 0, 1, 0, 1, 0, 0, 0, 1, 0, 1, 0, 1, 1, 1, 1, 0, 1, 1, 1,\n",
       "       1, 0, 1, 0, 0, 0, 1, 1, 1, 1, 1, 0, 1, 1, 0, 1, 1, 0, 0, 1, 1, 0,\n",
       "       0, 0, 1, 0, 0, 0, 1, 0, 0, 0, 1, 1, 0, 0, 0, 0, 0, 0, 0, 1, 1, 0,\n",
       "       0, 1, 0, 0, 0, 0, 0, 1, 0, 0, 0, 1, 1, 0, 1, 0, 1, 1, 0, 0, 0, 0,\n",
       "       0, 0, 0], dtype=int64)"
      ]
     },
     "execution_count": 378,
     "metadata": {},
     "output_type": "execute_result"
    }
   ],
   "source": [
    "dtree.predict(x_test)"
   ]
  },
  {
   "cell_type": "code",
   "execution_count": 379,
   "metadata": {},
   "outputs": [
    {
     "data": {
      "text/plain": [
       "[Text(161.8342239425982, 213.25846153846155, 'X[1] <= 0.5\\ngini = 0.477\\nsamples = 712\\nvalue = [432, 280]'),\n",
       " Text(77.49941465256798, 204.89538461538461, 'X[0] <= 1.5\\ngini = 0.318\\nsamples = 454\\nvalue = [364, 90]'),\n",
       " Text(27.64712990936556, 196.53230769230768, 'X[3] <= 26.144\\ngini = 0.465\\nsamples = 98\\nvalue = [62, 36]'),\n",
       " Text(24.949848942598187, 188.16923076923078, 'gini = 0.0\\nsamples = 9\\nvalue = [9, 0]'),\n",
       " Text(30.34441087613293, 188.16923076923078, 'X[3] <= 30.598\\ngini = 0.482\\nsamples = 89\\nvalue = [53, 36]'),\n",
       " Text(20.229607250755286, 179.80615384615385, 'X[2] <= 54.0\\ngini = 0.473\\nsamples = 26\\nvalue = [10, 16]'),\n",
       " Text(13.486404833836858, 171.44307692307692, 'X[3] <= 27.135\\ngini = 0.408\\nsamples = 21\\nvalue = [6, 15]'),\n",
       " Text(8.091842900302115, 163.07999999999998, 'X[2] <= 31.85\\ngini = 0.153\\nsamples = 12\\nvalue = [1, 11]'),\n",
       " Text(5.394561933534743, 154.71692307692308, 'X[2] <= 28.85\\ngini = 0.444\\nsamples = 3\\nvalue = [1, 2]'),\n",
       " Text(2.6972809667673716, 146.35384615384615, 'gini = 0.0\\nsamples = 1\\nvalue = [0, 1]'),\n",
       " Text(8.091842900302115, 146.35384615384615, 'gini = 0.5\\nsamples = 2\\nvalue = [1, 1]'),\n",
       " Text(10.789123867069486, 154.71692307692308, 'gini = 0.0\\nsamples = 9\\nvalue = [0, 9]'),\n",
       " Text(18.8809667673716, 163.07999999999998, 'X[3] <= 29.85\\ngini = 0.494\\nsamples = 9\\nvalue = [5, 4]'),\n",
       " Text(16.18368580060423, 154.71692307692308, 'gini = 0.0\\nsamples = 5\\nvalue = [5, 0]'),\n",
       " Text(21.578247734138973, 154.71692307692308, 'gini = 0.0\\nsamples = 4\\nvalue = [0, 4]'),\n",
       " Text(26.972809667673715, 171.44307692307692, 'X[3] <= 28.275\\ngini = 0.32\\nsamples = 5\\nvalue = [4, 1]'),\n",
       " Text(24.275528700906346, 163.07999999999998, 'gini = 0.0\\nsamples = 4\\nvalue = [4, 0]'),\n",
       " Text(29.670090634441088, 163.07999999999998, 'gini = 0.0\\nsamples = 1\\nvalue = [0, 1]'),\n",
       " Text(40.45921450151057, 179.80615384615385, 'X[3] <= 387.665\\ngini = 0.433\\nsamples = 63\\nvalue = [43, 20]'),\n",
       " Text(37.7619335347432, 171.44307692307692, 'X[2] <= 60.5\\ngini = 0.416\\nsamples = 61\\nvalue = [43, 18]'),\n",
       " Text(35.064652567975834, 163.07999999999998, 'X[3] <= 134.642\\ngini = 0.444\\nsamples = 54\\nvalue = [36, 18]'),\n",
       " Text(32.36737160120846, 154.71692307692308, 'X[3] <= 116.638\\ngini = 0.469\\nsamples = 48\\nvalue = [30, 18]'),\n",
       " Text(29.670090634441088, 146.35384615384615, 'X[2] <= 28.5\\ngini = 0.454\\nsamples = 46\\nvalue = [30, 16]'),\n",
       " Text(18.8809667673716, 137.99076923076922, 'X[2] <= 24.5\\ngini = 0.486\\nsamples = 12\\nvalue = [5, 7]'),\n",
       " Text(13.486404833836858, 129.6276923076923, 'X[3] <= 109.892\\ngini = 0.444\\nsamples = 6\\nvalue = [4, 2]'),\n",
       " Text(10.789123867069486, 121.26461538461538, 'X[3] <= 70.323\\ngini = 0.32\\nsamples = 5\\nvalue = [4, 1]'),\n",
       " Text(8.091842900302115, 112.90153846153846, 'X[3] <= 58.229\\ngini = 0.5\\nsamples = 2\\nvalue = [1, 1]'),\n",
       " Text(5.394561933534743, 104.53846153846153, 'gini = 0.0\\nsamples = 1\\nvalue = [1, 0]'),\n",
       " Text(10.789123867069486, 104.53846153846153, 'gini = 0.0\\nsamples = 1\\nvalue = [0, 1]'),\n",
       " Text(13.486404833836858, 112.90153846153846, 'gini = 0.0\\nsamples = 3\\nvalue = [3, 0]'),\n",
       " Text(16.18368580060423, 121.26461538461538, 'gini = 0.0\\nsamples = 1\\nvalue = [0, 1]'),\n",
       " Text(24.275528700906346, 129.6276923076923, 'X[3] <= 50.1\\ngini = 0.278\\nsamples = 6\\nvalue = [1, 5]'),\n",
       " Text(21.578247734138973, 121.26461538461538, 'X[3] <= 41.3\\ngini = 0.5\\nsamples = 2\\nvalue = [1, 1]'),\n",
       " Text(18.8809667673716, 112.90153846153846, 'gini = 0.0\\nsamples = 1\\nvalue = [0, 1]'),\n",
       " Text(24.275528700906346, 112.90153846153846, 'gini = 0.0\\nsamples = 1\\nvalue = [1, 0]'),\n",
       " Text(26.972809667673715, 121.26461538461538, 'gini = 0.0\\nsamples = 4\\nvalue = [0, 4]'),\n",
       " Text(40.45921450151057, 137.99076923076922, 'X[2] <= 59.0\\ngini = 0.389\\nsamples = 34\\nvalue = [25, 9]'),\n",
       " Text(37.7619335347432, 129.6276923076923, 'X[3] <= 37.0\\ngini = 0.367\\nsamples = 33\\nvalue = [25, 8]'),\n",
       " Text(32.36737160120846, 121.26461538461538, 'X[2] <= 51.5\\ngini = 0.49\\nsamples = 7\\nvalue = [4, 3]'),\n",
       " Text(29.670090634441088, 112.90153846153846, 'X[2] <= 42.5\\ngini = 0.444\\nsamples = 6\\nvalue = [4, 2]'),\n",
       " Text(26.972809667673715, 104.53846153846153, 'X[3] <= 30.848\\ngini = 0.5\\nsamples = 4\\nvalue = [2, 2]'),\n",
       " Text(24.275528700906346, 96.17538461538462, 'gini = 0.0\\nsamples = 1\\nvalue = [1, 0]'),\n",
       " Text(29.670090634441088, 96.17538461538462, 'X[2] <= 34.85\\ngini = 0.444\\nsamples = 3\\nvalue = [1, 2]'),\n",
       " Text(26.972809667673715, 87.81230769230768, 'X[3] <= 33.25\\ngini = 0.5\\nsamples = 2\\nvalue = [1, 1]'),\n",
       " Text(24.275528700906346, 79.44923076923078, 'gini = 0.0\\nsamples = 1\\nvalue = [1, 0]'),\n",
       " Text(29.670090634441088, 79.44923076923078, 'gini = 0.0\\nsamples = 1\\nvalue = [0, 1]'),\n",
       " Text(32.36737160120846, 87.81230769230768, 'gini = 0.0\\nsamples = 1\\nvalue = [0, 1]'),\n",
       " Text(32.36737160120846, 104.53846153846153, 'gini = 0.0\\nsamples = 2\\nvalue = [2, 0]'),\n",
       " Text(35.064652567975834, 112.90153846153846, 'gini = 0.0\\nsamples = 1\\nvalue = [0, 1]'),\n",
       " Text(43.156495468277946, 121.26461538461538, 'X[3] <= 52.277\\ngini = 0.311\\nsamples = 26\\nvalue = [21, 5]'),\n",
       " Text(40.45921450151057, 112.90153846153846, 'gini = 0.0\\nsamples = 9\\nvalue = [9, 0]'),\n",
       " Text(45.85377643504532, 112.90153846153846, 'X[2] <= 49.5\\ngini = 0.415\\nsamples = 17\\nvalue = [12, 5]'),\n",
       " Text(43.156495468277946, 104.53846153846153, 'X[3] <= 52.827\\ngini = 0.486\\nsamples = 12\\nvalue = [7, 5]'),\n",
       " Text(40.45921450151057, 96.17538461538462, 'gini = 0.0\\nsamples = 1\\nvalue = [0, 1]'),\n",
       " Text(45.85377643504532, 96.17538461538462, 'X[2] <= 47.0\\ngini = 0.463\\nsamples = 11\\nvalue = [7, 4]'),\n",
       " Text(40.45921450151057, 87.81230769230768, 'X[2] <= 41.0\\ngini = 0.375\\nsamples = 8\\nvalue = [6, 2]'),\n",
       " Text(37.7619335347432, 79.44923076923078, 'X[2] <= 37.5\\ngini = 0.48\\nsamples = 5\\nvalue = [3, 2]'),\n",
       " Text(35.064652567975834, 71.08615384615385, 'X[3] <= 61.8\\ngini = 0.375\\nsamples = 4\\nvalue = [3, 1]'),\n",
       " Text(32.36737160120846, 62.72307692307692, 'X[3] <= 55.05\\ngini = 0.5\\nsamples = 2\\nvalue = [1, 1]'),\n",
       " Text(29.670090634441088, 54.360000000000014, 'gini = 0.0\\nsamples = 1\\nvalue = [1, 0]'),\n",
       " Text(35.064652567975834, 54.360000000000014, 'gini = 0.0\\nsamples = 1\\nvalue = [0, 1]'),\n",
       " Text(37.7619335347432, 62.72307692307692, 'gini = 0.0\\nsamples = 2\\nvalue = [2, 0]'),\n",
       " Text(40.45921450151057, 71.08615384615385, 'gini = 0.0\\nsamples = 1\\nvalue = [0, 1]'),\n",
       " Text(43.156495468277946, 79.44923076923078, 'gini = 0.0\\nsamples = 3\\nvalue = [3, 0]'),\n",
       " Text(51.24833836858006, 87.81230769230768, 'X[3] <= 99.994\\ngini = 0.444\\nsamples = 3\\nvalue = [1, 2]'),\n",
       " Text(48.55105740181269, 79.44923076923078, 'gini = 0.0\\nsamples = 2\\nvalue = [0, 2]'),\n",
       " Text(53.94561933534743, 79.44923076923078, 'gini = 0.0\\nsamples = 1\\nvalue = [1, 0]'),\n",
       " Text(48.55105740181269, 104.53846153846153, 'gini = 0.0\\nsamples = 5\\nvalue = [5, 0]'),\n",
       " Text(43.156495468277946, 129.6276923076923, 'gini = 0.0\\nsamples = 1\\nvalue = [0, 1]'),\n",
       " Text(35.064652567975834, 146.35384615384615, 'gini = 0.0\\nsamples = 2\\nvalue = [0, 2]'),\n",
       " Text(37.7619335347432, 154.71692307692308, 'gini = 0.0\\nsamples = 6\\nvalue = [6, 0]'),\n",
       " Text(40.45921450151057, 163.07999999999998, 'gini = 0.0\\nsamples = 7\\nvalue = [7, 0]'),\n",
       " Text(43.156495468277946, 171.44307692307692, 'gini = 0.0\\nsamples = 2\\nvalue = [0, 2]'),\n",
       " Text(127.3516993957704, 196.53230769230768, 'X[2] <= 13.0\\ngini = 0.257\\nsamples = 356\\nvalue = [302, 54]'),\n",
       " Text(104.60392749244713, 188.16923076923078, 'X[3] <= 20.8\\ngini = 0.499\\nsamples = 25\\nvalue = [12, 13]'),\n",
       " Text(101.90664652567976, 179.80615384615385, 'gini = 0.0\\nsamples = 9\\nvalue = [0, 9]'),\n",
       " Text(107.30120845921451, 179.80615384615385, 'X[0] <= 2.5\\ngini = 0.375\\nsamples = 16\\nvalue = [12, 4]'),\n",
       " Text(104.60392749244713, 171.44307692307692, 'gini = 0.0\\nsamples = 4\\nvalue = [0, 4]'),\n",
       " Text(109.99848942598187, 171.44307692307692, 'gini = 0.0\\nsamples = 12\\nvalue = [12, 0]'),\n",
       " Text(150.09947129909366, 188.16923076923078, 'X[3] <= 51.698\\ngini = 0.217\\nsamples = 331\\nvalue = [290, 41]'),\n",
       " Text(132.63036253776434, 179.80615384615385, 'X[3] <= 23.35\\ngini = 0.206\\nsamples = 317\\nvalue = [280, 37]'),\n",
       " Text(115.39305135951662, 171.44307692307692, 'X[3] <= 22.887\\ngini = 0.219\\nsamples = 288\\nvalue = [252, 36]'),\n",
       " Text(112.69577039274924, 163.07999999999998, 'X[3] <= 7.91\\ngini = 0.214\\nsamples = 287\\nvalue = [252, 35]'),\n",
       " Text(86.31299093655589, 154.71692307692308, 'X[2] <= 29.35\\ngini = 0.166\\nsamples = 131\\nvalue = [119, 12]'),\n",
       " Text(67.43202416918429, 146.35384615384615, 'X[2] <= 26.5\\ngini = 0.255\\nsamples = 60\\nvalue = [51, 9]'),\n",
       " Text(56.6429003021148, 137.99076923076922, 'X[2] <= 19.5\\ngini = 0.19\\nsamples = 47\\nvalue = [42, 5]'),\n",
       " Text(53.94561933534743, 129.6276923076923, 'gini = 0.0\\nsamples = 13\\nvalue = [13, 0]'),\n",
       " Text(59.340181268882176, 129.6276923076923, 'X[3] <= 7.798\\ngini = 0.251\\nsamples = 34\\nvalue = [29, 5]'),\n",
       " Text(56.6429003021148, 121.26461538461538, 'X[3] <= 7.133\\ngini = 0.32\\nsamples = 25\\nvalue = [20, 5]'),\n",
       " Text(53.94561933534743, 112.90153846153846, 'gini = 0.0\\nsamples = 5\\nvalue = [5, 0]'),\n",
       " Text(59.340181268882176, 112.90153846153846, 'X[3] <= 7.227\\ngini = 0.375\\nsamples = 20\\nvalue = [15, 5]'),\n",
       " Text(53.94561933534743, 104.53846153846153, 'X[2] <= 24.5\\ngini = 0.444\\nsamples = 3\\nvalue = [1, 2]'),\n",
       " Text(51.24833836858006, 96.17538461538462, 'gini = 0.0\\nsamples = 2\\nvalue = [0, 2]'),\n",
       " Text(56.6429003021148, 96.17538461538462, 'gini = 0.0\\nsamples = 1\\nvalue = [1, 0]'),\n",
       " Text(64.73474320241692, 104.53846153846153, 'X[2] <= 20.25\\ngini = 0.291\\nsamples = 17\\nvalue = [14, 3]'),\n",
       " Text(62.03746223564955, 96.17538461538462, 'gini = 0.0\\nsamples = 1\\nvalue = [0, 1]'),\n",
       " Text(67.43202416918429, 96.17538461538462, 'X[3] <= 7.754\\ngini = 0.219\\nsamples = 16\\nvalue = [14, 2]'),\n",
       " Text(64.73474320241692, 87.81230769230768, 'gini = 0.0\\nsamples = 11\\nvalue = [11, 0]'),\n",
       " Text(70.12930513595167, 87.81230769230768, 'X[2] <= 21.5\\ngini = 0.48\\nsamples = 5\\nvalue = [3, 2]'),\n",
       " Text(67.43202416918429, 79.44923076923078, 'gini = 0.0\\nsamples = 1\\nvalue = [0, 1]'),\n",
       " Text(72.82658610271903, 79.44923076923078, 'X[3] <= 7.785\\ngini = 0.375\\nsamples = 4\\nvalue = [3, 1]'),\n",
       " Text(70.12930513595167, 71.08615384615385, 'X[2] <= 25.5\\ngini = 0.5\\nsamples = 2\\nvalue = [1, 1]'),\n",
       " Text(67.43202416918429, 62.72307692307692, 'gini = 0.0\\nsamples = 1\\nvalue = [0, 1]'),\n",
       " Text(72.82658610271903, 62.72307692307692, 'gini = 0.0\\nsamples = 1\\nvalue = [1, 0]'),\n",
       " Text(75.5238670694864, 71.08615384615385, 'gini = 0.0\\nsamples = 2\\nvalue = [2, 0]'),\n",
       " Text(62.03746223564955, 121.26461538461538, 'gini = 0.0\\nsamples = 9\\nvalue = [9, 0]'),\n",
       " Text(78.22114803625378, 137.99076923076922, 'X[3] <= 7.01\\ngini = 0.426\\nsamples = 13\\nvalue = [9, 4]'),\n",
       " Text(75.5238670694864, 129.6276923076923, 'gini = 0.0\\nsamples = 1\\nvalue = [0, 1]'),\n",
       " Text(80.91842900302115, 129.6276923076923, 'X[2] <= 28.75\\ngini = 0.375\\nsamples = 12\\nvalue = [9, 3]'),\n",
       " Text(75.5238670694864, 121.26461538461538, 'X[2] <= 27.5\\ngini = 0.245\\nsamples = 7\\nvalue = [6, 1]'),\n",
       " Text(72.82658610271903, 112.90153846153846, 'X[3] <= 7.846\\ngini = 0.5\\nsamples = 2\\nvalue = [1, 1]'),\n",
       " Text(70.12930513595167, 104.53846153846153, 'gini = 0.0\\nsamples = 1\\nvalue = [0, 1]'),\n",
       " Text(75.5238670694864, 104.53846153846153, 'gini = 0.0\\nsamples = 1\\nvalue = [1, 0]'),\n",
       " Text(78.22114803625378, 112.90153846153846, 'gini = 0.0\\nsamples = 5\\nvalue = [5, 0]'),\n",
       " Text(86.31299093655589, 121.26461538461538, 'X[3] <= 7.885\\ngini = 0.48\\nsamples = 5\\nvalue = [3, 2]'),\n",
       " Text(83.61570996978853, 112.90153846153846, 'X[3] <= 7.763\\ngini = 0.375\\nsamples = 4\\nvalue = [3, 1]'),\n",
       " Text(80.91842900302115, 104.53846153846153, 'X[3] <= 7.398\\ngini = 0.5\\nsamples = 2\\nvalue = [1, 1]'),\n",
       " Text(78.22114803625378, 96.17538461538462, 'gini = 0.0\\nsamples = 1\\nvalue = [1, 0]'),\n",
       " Text(83.61570996978853, 96.17538461538462, 'gini = 0.0\\nsamples = 1\\nvalue = [0, 1]'),\n",
       " Text(86.31299093655589, 104.53846153846153, 'gini = 0.0\\nsamples = 2\\nvalue = [2, 0]'),\n",
       " Text(89.01027190332326, 112.90153846153846, 'gini = 0.0\\nsamples = 1\\nvalue = [0, 1]'),\n",
       " Text(105.1939577039275, 146.35384615384615, 'X[2] <= 29.85\\ngini = 0.081\\nsamples = 71\\nvalue = [68, 3]'),\n",
       " Text(102.49667673716012, 137.99076923076922, 'X[3] <= 7.802\\ngini = 0.127\\nsamples = 44\\nvalue = [41, 3]'),\n",
       " Text(99.79939577039275, 129.6276923076923, 'X[3] <= 7.763\\ngini = 0.18\\nsamples = 30\\nvalue = [27, 3]'),\n",
       " Text(97.10211480362538, 121.26461538461538, 'X[3] <= 7.227\\ngini = 0.128\\nsamples = 29\\nvalue = [27, 2]'),\n",
       " Text(94.404833836858, 112.90153846153846, 'gini = 0.0\\nsamples = 9\\nvalue = [9, 0]'),\n",
       " Text(99.79939577039275, 112.90153846153846, 'X[3] <= 7.24\\ngini = 0.18\\nsamples = 20\\nvalue = [18, 2]'),\n",
       " Text(97.10211480362538, 104.53846153846153, 'gini = 0.278\\nsamples = 6\\nvalue = [5, 1]'),\n",
       " Text(102.49667673716012, 104.53846153846153, 'X[3] <= 7.744\\ngini = 0.133\\nsamples = 14\\nvalue = [13, 1]'),\n",
       " Text(99.79939577039275, 96.17538461538462, 'gini = 0.0\\nsamples = 6\\nvalue = [6, 0]'),\n",
       " Text(105.1939577039275, 96.17538461538462, 'gini = 0.219\\nsamples = 8\\nvalue = [7, 1]'),\n",
       " Text(102.49667673716012, 121.26461538461538, 'gini = 0.0\\nsamples = 1\\nvalue = [0, 1]'),\n",
       " Text(105.1939577039275, 129.6276923076923, 'gini = 0.0\\nsamples = 14\\nvalue = [14, 0]'),\n",
       " Text(107.89123867069486, 137.99076923076922, 'gini = 0.0\\nsamples = 27\\nvalue = [27, 0]'),\n",
       " Text(139.0785498489426, 154.71692307692308, 'X[3] <= 7.988\\ngini = 0.251\\nsamples = 156\\nvalue = [133, 23]'),\n",
       " Text(115.98308157099697, 146.35384615384615, 'X[2] <= 20.5\\ngini = 0.5\\nsamples = 8\\nvalue = [4, 4]'),\n",
       " Text(113.2858006042296, 137.99076923076922, 'gini = 0.0\\nsamples = 1\\nvalue = [0, 1]'),\n",
       " Text(118.68036253776435, 137.99076923076922, 'X[2] <= 41.5\\ngini = 0.49\\nsamples = 7\\nvalue = [4, 3]'),\n",
       " Text(115.98308157099697, 129.6276923076923, 'X[2] <= 26.0\\ngini = 0.444\\nsamples = 6\\nvalue = [4, 2]'),\n",
       " Text(113.2858006042296, 121.26461538461538, 'gini = 0.0\\nsamples = 1\\nvalue = [1, 0]'),\n",
       " Text(118.68036253776435, 121.26461538461538, 'X[2] <= 31.5\\ngini = 0.48\\nsamples = 5\\nvalue = [3, 2]'),\n",
       " Text(115.98308157099697, 112.90153846153846, 'gini = 0.0\\nsamples = 1\\nvalue = [0, 1]'),\n",
       " Text(121.37764350453172, 112.90153846153846, 'X[2] <= 35.5\\ngini = 0.375\\nsamples = 4\\nvalue = [3, 1]'),\n",
       " Text(118.68036253776435, 104.53846153846153, 'gini = 0.0\\nsamples = 2\\nvalue = [2, 0]'),\n",
       " Text(124.0749244712991, 104.53846153846153, 'gini = 0.5\\nsamples = 2\\nvalue = [1, 1]'),\n",
       " Text(121.37764350453172, 129.6276923076923, 'gini = 0.0\\nsamples = 1\\nvalue = [0, 1]'),\n",
       " Text(162.17401812688823, 146.35384615384615, 'X[3] <= 19.377\\ngini = 0.224\\nsamples = 148\\nvalue = [129, 19]'),\n",
       " Text(159.47673716012085, 137.99076923076922, 'X[3] <= 18.394\\ngini = 0.237\\nsamples = 138\\nvalue = [119, 19]'),\n",
       " Text(156.77945619335347, 129.6276923076923, 'X[2] <= 20.5\\ngini = 0.228\\nsamples = 137\\nvalue = [119, 18]'),\n",
       " Text(141.607250755287, 121.26461538461538, 'X[3] <= 8.104\\ngini = 0.33\\nsamples = 24\\nvalue = [19, 5]'),\n",
       " Text(132.1667673716012, 112.90153846153846, 'X[2] <= 19.5\\ngini = 0.5\\nsamples = 6\\nvalue = [3, 3]'),\n",
       " Text(129.46948640483384, 104.53846153846153, 'X[2] <= 17.0\\ngini = 0.48\\nsamples = 5\\nvalue = [2, 3]'),\n",
       " Text(126.77220543806646, 96.17538461538462, 'gini = 0.5\\nsamples = 2\\nvalue = [1, 1]'),\n",
       " Text(132.1667673716012, 96.17538461538462, 'X[2] <= 18.5\\ngini = 0.444\\nsamples = 3\\nvalue = [1, 2]'),\n",
       " Text(129.46948640483384, 87.81230769230768, 'gini = 0.0\\nsamples = 1\\nvalue = [0, 1]'),\n",
       " Text(134.86404833836858, 87.81230769230768, 'gini = 0.5\\nsamples = 2\\nvalue = [1, 1]'),\n",
       " Text(134.86404833836858, 104.53846153846153, 'gini = 0.0\\nsamples = 1\\nvalue = [1, 0]'),\n",
       " Text(151.0477341389728, 112.90153846153846, 'X[3] <= 15.121\\ngini = 0.198\\nsamples = 18\\nvalue = [16, 2]'),\n",
       " Text(145.65317220543807, 104.53846153846153, 'X[0] <= 2.5\\ngini = 0.117\\nsamples = 16\\nvalue = [15, 1]'),\n",
       " Text(142.9558912386707, 96.17538461538462, 'X[2] <= 18.5\\ngini = 0.278\\nsamples = 6\\nvalue = [5, 1]'),\n",
       " Text(140.25861027190334, 87.81230769230768, 'gini = 0.0\\nsamples = 4\\nvalue = [4, 0]'),\n",
       " Text(145.65317220543807, 87.81230769230768, 'gini = 0.5\\nsamples = 2\\nvalue = [1, 1]'),\n",
       " Text(148.35045317220545, 96.17538461538462, 'gini = 0.0\\nsamples = 10\\nvalue = [10, 0]'),\n",
       " Text(156.44229607250756, 104.53846153846153, 'X[3] <= 16.871\\ngini = 0.5\\nsamples = 2\\nvalue = [1, 1]'),\n",
       " Text(153.74501510574018, 96.17538461538462, 'gini = 0.0\\nsamples = 1\\nvalue = [0, 1]'),\n",
       " Text(159.1395770392749, 96.17538461538462, 'gini = 0.0\\nsamples = 1\\nvalue = [1, 0]'),\n",
       " Text(171.95166163141994, 121.26461538461538, 'X[2] <= 26.5\\ngini = 0.204\\nsamples = 113\\nvalue = [100, 13]'),\n",
       " Text(169.25438066465256, 112.90153846153846, 'gini = 0.0\\nsamples = 26\\nvalue = [26, 0]'),\n",
       " Text(174.64894259818732, 112.90153846153846, 'X[3] <= 8.081\\ngini = 0.254\\nsamples = 87\\nvalue = [74, 13]'),\n",
       " Text(167.23141993957705, 104.53846153846153, 'X[2] <= 44.5\\ngini = 0.091\\nsamples = 21\\nvalue = [20, 1]'),\n",
       " Text(164.53413897280967, 96.17538461538462, 'gini = 0.0\\nsamples = 17\\nvalue = [17, 0]'),\n",
       " Text(169.9287009063444, 96.17538461538462, 'X[2] <= 47.5\\ngini = 0.375\\nsamples = 4\\nvalue = [3, 1]'),\n",
       " Text(167.23141993957705, 87.81230769230768, 'gini = 0.0\\nsamples = 1\\nvalue = [0, 1]'),\n",
       " Text(172.62598187311178, 87.81230769230768, 'gini = 0.0\\nsamples = 3\\nvalue = [3, 0]'),\n",
       " Text(182.06646525679758, 104.53846153846153, 'X[3] <= 8.238\\ngini = 0.298\\nsamples = 66\\nvalue = [54, 12]'),\n",
       " Text(179.3691842900302, 96.17538461538462, 'gini = 0.0\\nsamples = 1\\nvalue = [0, 1]'),\n",
       " Text(184.76374622356497, 96.17538461538462, 'X[2] <= 31.5\\ngini = 0.281\\nsamples = 65\\nvalue = [54, 11]'),\n",
       " Text(178.02054380664651, 87.81230769230768, 'X[3] <= 15.373\\ngini = 0.367\\nsamples = 33\\nvalue = [25, 8]'),\n",
       " Text(175.32326283987916, 79.44923076923078, 'X[3] <= 15.173\\ngini = 0.408\\nsamples = 28\\nvalue = [20, 8]'),\n",
       " Text(172.62598187311178, 71.08615384615385, 'X[3] <= 14.158\\ngini = 0.355\\nsamples = 26\\nvalue = [20, 6]'),\n",
       " Text(169.9287009063444, 62.72307692307692, 'X[3] <= 13.681\\ngini = 0.397\\nsamples = 22\\nvalue = [16, 6]'),\n",
       " Text(167.23141993957705, 54.360000000000014, 'X[2] <= 28.5\\ngini = 0.363\\nsamples = 21\\nvalue = [16, 5]'),\n",
       " Text(161.8368580060423, 45.99692307692308, 'X[3] <= 9.081\\ngini = 0.219\\nsamples = 8\\nvalue = [7, 1]'),\n",
       " Text(159.1395770392749, 37.63384615384615, 'gini = 0.0\\nsamples = 1\\nvalue = [0, 1]'),\n",
       " Text(164.53413897280967, 37.63384615384615, 'gini = 0.0\\nsamples = 7\\nvalue = [7, 0]'),\n",
       " Text(172.62598187311178, 45.99692307692308, 'X[3] <= 9.492\\ngini = 0.426\\nsamples = 13\\nvalue = [9, 4]'),\n",
       " Text(169.9287009063444, 37.63384615384615, 'gini = 0.0\\nsamples = 4\\nvalue = [4, 0]'),\n",
       " Text(175.32326283987916, 37.63384615384615, 'X[2] <= 29.35\\ngini = 0.494\\nsamples = 9\\nvalue = [5, 4]'),\n",
       " Text(172.62598187311178, 29.270769230769247, 'gini = 0.0\\nsamples = 1\\nvalue = [0, 1]'),\n",
       " Text(178.02054380664651, 29.270769230769247, 'X[3] <= 11.75\\ngini = 0.469\\nsamples = 8\\nvalue = [5, 3]'),\n",
       " Text(172.62598187311178, 20.907692307692315, 'X[3] <= 10.0\\ngini = 0.375\\nsamples = 4\\nvalue = [3, 1]'),\n",
       " Text(169.9287009063444, 12.544615384615383, 'X[2] <= 29.85\\ngini = 0.5\\nsamples = 2\\nvalue = [1, 1]'),\n",
       " Text(167.23141993957705, 4.181538461538452, 'gini = 0.0\\nsamples = 1\\nvalue = [1, 0]'),\n",
       " Text(172.62598187311178, 4.181538461538452, 'gini = 0.0\\nsamples = 1\\nvalue = [0, 1]'),\n",
       " Text(175.32326283987916, 12.544615384615383, 'gini = 0.0\\nsamples = 2\\nvalue = [2, 0]'),\n",
       " Text(183.41510574018127, 20.907692307692315, 'X[2] <= 29.85\\ngini = 0.5\\nsamples = 4\\nvalue = [2, 2]'),\n",
       " Text(180.7178247734139, 12.544615384615383, 'gini = 0.0\\nsamples = 1\\nvalue = [0, 1]'),\n",
       " Text(186.11238670694866, 12.544615384615383, 'X[2] <= 30.5\\ngini = 0.444\\nsamples = 3\\nvalue = [2, 1]'),\n",
       " Text(183.41510574018127, 4.181538461538452, 'gini = 0.0\\nsamples = 2\\nvalue = [2, 0]'),\n",
       " Text(188.809667673716, 4.181538461538452, 'gini = 0.0\\nsamples = 1\\nvalue = [0, 1]'),\n",
       " Text(172.62598187311178, 54.360000000000014, 'gini = 0.0\\nsamples = 1\\nvalue = [0, 1]'),\n",
       " Text(175.32326283987916, 62.72307692307692, 'gini = 0.0\\nsamples = 4\\nvalue = [4, 0]'),\n",
       " Text(178.02054380664651, 71.08615384615385, 'gini = 0.0\\nsamples = 2\\nvalue = [0, 2]'),\n",
       " Text(180.7178247734139, 79.44923076923078, 'gini = 0.0\\nsamples = 5\\nvalue = [5, 0]'),\n",
       " Text(191.5069486404834, 87.81230769230768, 'X[2] <= 60.5\\ngini = 0.17\\nsamples = 32\\nvalue = [29, 3]'),\n",
       " Text(186.11238670694866, 79.44923076923078, 'X[3] <= 12.762\\ngini = 0.128\\nsamples = 29\\nvalue = [27, 2]'),\n",
       " Text(183.41510574018127, 71.08615384615385, 'gini = 0.0\\nsamples = 13\\nvalue = [13, 0]'),\n",
       " Text(188.809667673716, 71.08615384615385, 'X[2] <= 35.0\\ngini = 0.219\\nsamples = 16\\nvalue = [14, 2]'),\n",
       " Text(183.41510574018127, 62.72307692307692, 'X[0] <= 2.5\\ngini = 0.444\\nsamples = 3\\nvalue = [2, 1]'),\n",
       " Text(180.7178247734139, 54.360000000000014, 'gini = 0.5\\nsamples = 2\\nvalue = [1, 1]'),\n",
       " Text(186.11238670694866, 54.360000000000014, 'gini = 0.0\\nsamples = 1\\nvalue = [1, 0]'),\n",
       " Text(194.20422960725077, 62.72307692307692, 'X[2] <= 43.0\\ngini = 0.142\\nsamples = 13\\nvalue = [12, 1]'),\n",
       " Text(191.5069486404834, 54.360000000000014, 'X[2] <= 41.5\\ngini = 0.245\\nsamples = 7\\nvalue = [6, 1]'),\n",
       " Text(188.809667673716, 45.99692307692308, 'gini = 0.0\\nsamples = 5\\nvalue = [5, 0]'),\n",
       " Text(194.20422960725077, 45.99692307692308, 'gini = 0.5\\nsamples = 2\\nvalue = [1, 1]'),\n",
       " Text(196.90151057401812, 54.360000000000014, 'gini = 0.0\\nsamples = 6\\nvalue = [6, 0]'),\n",
       " Text(196.90151057401812, 79.44923076923078, 'X[2] <= 64.0\\ngini = 0.444\\nsamples = 3\\nvalue = [2, 1]'),\n",
       " Text(194.20422960725077, 71.08615384615385, 'gini = 0.0\\nsamples = 1\\nvalue = [0, 1]'),\n",
       " Text(199.5987915407855, 71.08615384615385, 'gini = 0.0\\nsamples = 2\\nvalue = [2, 0]'),\n",
       " Text(162.17401812688823, 129.6276923076923, 'gini = 0.0\\nsamples = 1\\nvalue = [0, 1]'),\n",
       " Text(164.87129909365558, 137.99076923076922, 'gini = 0.0\\nsamples = 10\\nvalue = [10, 0]'),\n",
       " Text(118.09033232628398, 163.07999999999998, 'gini = 0.0\\nsamples = 1\\nvalue = [0, 1]'),\n",
       " Text(149.8676737160121, 171.44307692307692, 'X[2] <= 32.25\\ngini = 0.067\\nsamples = 29\\nvalue = [28, 1]'),\n",
       " Text(147.1703927492447, 163.07999999999998, 'X[2] <= 31.5\\ngini = 0.142\\nsamples = 13\\nvalue = [12, 1]'),\n",
       " Text(144.47311178247733, 154.71692307692308, 'gini = 0.0\\nsamples = 12\\nvalue = [12, 0]'),\n",
       " Text(149.8676737160121, 154.71692307692308, 'gini = 0.0\\nsamples = 1\\nvalue = [0, 1]'),\n",
       " Text(152.56495468277944, 163.07999999999998, 'gini = 0.0\\nsamples = 16\\nvalue = [16, 0]'),\n",
       " Text(167.56858006042296, 179.80615384615385, 'X[3] <= 63.023\\ngini = 0.408\\nsamples = 14\\nvalue = [10, 4]'),\n",
       " Text(164.87129909365558, 171.44307692307692, 'X[2] <= 27.0\\ngini = 0.444\\nsamples = 6\\nvalue = [2, 4]'),\n",
       " Text(162.17401812688823, 163.07999999999998, 'gini = 0.0\\nsamples = 1\\nvalue = [0, 1]'),\n",
       " Text(167.56858006042296, 163.07999999999998, 'X[2] <= 28.85\\ngini = 0.48\\nsamples = 5\\nvalue = [2, 3]'),\n",
       " Text(164.87129909365558, 154.71692307692308, 'gini = 0.0\\nsamples = 1\\nvalue = [1, 0]'),\n",
       " Text(170.26586102719034, 154.71692307692308, 'X[2] <= 30.85\\ngini = 0.375\\nsamples = 4\\nvalue = [1, 3]'),\n",
       " Text(167.56858006042296, 146.35384615384615, 'gini = 0.444\\nsamples = 3\\nvalue = [1, 2]'),\n",
       " Text(172.9631419939577, 146.35384615384615, 'gini = 0.0\\nsamples = 1\\nvalue = [0, 1]'),\n",
       " Text(170.26586102719034, 171.44307692307692, 'gini = 0.0\\nsamples = 8\\nvalue = [8, 0]'),\n",
       " Text(246.1690332326284, 204.89538461538461, 'X[0] <= 2.5\\ngini = 0.388\\nsamples = 258\\nvalue = [68, 190]'),\n",
       " Text(190.1583081570997, 196.53230769230768, 'X[2] <= 3.0\\ngini = 0.11\\nsamples = 137\\nvalue = [8, 129]'),\n",
       " Text(182.4036253776435, 188.16923076923078, 'X[3] <= 88.775\\ngini = 0.5\\nsamples = 2\\nvalue = [1, 1]'),\n",
       " Text(179.70634441087614, 179.80615384615385, 'gini = 0.0\\nsamples = 1\\nvalue = [0, 1]'),\n",
       " Text(185.10090634441087, 179.80615384615385, 'gini = 0.0\\nsamples = 1\\nvalue = [1, 0]'),\n",
       " Text(197.9129909365559, 188.16923076923078, 'X[3] <= 26.125\\ngini = 0.098\\nsamples = 135\\nvalue = [7, 128]'),\n",
       " Text(190.49546827794563, 179.80615384615385, 'X[2] <= 56.0\\ngini = 0.211\\nsamples = 50\\nvalue = [6, 44]'),\n",
       " Text(187.79818731117825, 171.44307692307692, 'X[3] <= 12.825\\ngini = 0.183\\nsamples = 49\\nvalue = [5, 44]'),\n",
       " Text(185.10090634441087, 163.07999999999998, 'gini = 0.0\\nsamples = 11\\nvalue = [0, 11]'),\n",
       " Text(190.49546827794563, 163.07999999999998, 'X[2] <= 27.5\\ngini = 0.229\\nsamples = 38\\nvalue = [5, 33]'),\n",
       " Text(183.75226586102718, 154.71692307692308, 'X[2] <= 25.5\\ngini = 0.337\\nsamples = 14\\nvalue = [3, 11]'),\n",
       " Text(178.35770392749245, 146.35384615384615, 'X[3] <= 13.396\\ngini = 0.165\\nsamples = 11\\nvalue = [1, 10]'),\n",
       " Text(175.66042296072507, 137.99076923076922, 'gini = 0.0\\nsamples = 1\\nvalue = [1, 0]'),\n",
       " Text(181.05498489425983, 137.99076923076922, 'gini = 0.0\\nsamples = 10\\nvalue = [0, 10]'),\n",
       " Text(189.14682779456194, 146.35384615384615, 'X[3] <= 17.429\\ngini = 0.444\\nsamples = 3\\nvalue = [2, 1]'),\n",
       " Text(186.44954682779456, 137.99076923076922, 'gini = 0.0\\nsamples = 1\\nvalue = [0, 1]'),\n",
       " Text(191.8441087613293, 137.99076923076922, 'gini = 0.0\\nsamples = 2\\nvalue = [2, 0]'),\n",
       " Text(197.23867069486406, 154.71692307692308, 'X[2] <= 37.0\\ngini = 0.153\\nsamples = 24\\nvalue = [2, 22]'),\n",
       " Text(194.54138972809668, 146.35384615384615, 'gini = 0.0\\nsamples = 11\\nvalue = [0, 11]'),\n",
       " Text(199.9359516616314, 146.35384615384615, 'X[2] <= 39.0\\ngini = 0.26\\nsamples = 13\\nvalue = [2, 11]'),\n",
       " Text(197.23867069486406, 137.99076923076922, 'gini = 0.0\\nsamples = 1\\nvalue = [1, 0]'),\n",
       " Text(202.6332326283988, 137.99076923076922, 'X[3] <= 25.965\\ngini = 0.153\\nsamples = 12\\nvalue = [1, 11]'),\n",
       " Text(199.9359516616314, 129.6276923076923, 'gini = 0.0\\nsamples = 9\\nvalue = [0, 9]'),\n",
       " Text(205.33051359516617, 129.6276923076923, 'X[2] <= 43.0\\ngini = 0.444\\nsamples = 3\\nvalue = [1, 2]'),\n",
       " Text(202.6332326283988, 121.26461538461538, 'gini = 0.0\\nsamples = 1\\nvalue = [0, 1]'),\n",
       " Text(208.02779456193355, 121.26461538461538, 'X[2] <= 47.0\\ngini = 0.5\\nsamples = 2\\nvalue = [1, 1]'),\n",
       " Text(205.33051359516617, 112.90153846153846, 'gini = 0.0\\nsamples = 1\\nvalue = [1, 0]'),\n",
       " Text(210.7250755287009, 112.90153846153846, 'gini = 0.0\\nsamples = 1\\nvalue = [0, 1]'),\n",
       " Text(193.19274924471299, 171.44307692307692, 'gini = 0.0\\nsamples = 1\\nvalue = [1, 0]'),\n",
       " Text(205.33051359516617, 179.80615384615385, 'X[3] <= 143.592\\ngini = 0.023\\nsamples = 85\\nvalue = [1, 84]'),\n",
       " Text(202.6332326283988, 171.44307692307692, 'gini = 0.0\\nsamples = 69\\nvalue = [0, 69]'),\n",
       " Text(208.02779456193355, 171.44307692307692, 'X[3] <= 152.506\\ngini = 0.117\\nsamples = 16\\nvalue = [1, 15]'),\n",
       " Text(205.33051359516617, 163.07999999999998, 'X[2] <= 23.5\\ngini = 0.5\\nsamples = 2\\nvalue = [1, 1]'),\n",
       " Text(202.6332326283988, 154.71692307692308, 'gini = 0.0\\nsamples = 1\\nvalue = [0, 1]'),\n",
       " Text(208.02779456193355, 154.71692307692308, 'gini = 0.0\\nsamples = 1\\nvalue = [1, 0]'),\n",
       " Text(210.7250755287009, 163.07999999999998, 'gini = 0.0\\nsamples = 14\\nvalue = [0, 14]'),\n",
       " Text(302.1797583081571, 196.53230769230768, 'X[3] <= 24.808\\ngini = 0.5\\nsamples = 121\\nvalue = [60, 61]'),\n",
       " Text(283.04592145015107, 188.16923076923078, 'X[2] <= 29.85\\ngini = 0.479\\nsamples = 98\\nvalue = [39, 59]'),\n",
       " Text(260.9619335347432, 179.80615384615385, 'X[2] <= 29.35\\ngini = 0.45\\nsamples = 82\\nvalue = [28, 54]'),\n",
       " Text(230.28036253776435, 171.44307692307692, 'X[2] <= 6.5\\ngini = 0.484\\nsamples = 56\\nvalue = [23, 33]'),\n",
       " Text(216.11963746223566, 163.07999999999998, 'X[3] <= 10.798\\ngini = 0.278\\nsamples = 12\\nvalue = [2, 10]'),\n",
       " Text(213.42235649546828, 154.71692307692308, 'gini = 0.0\\nsamples = 1\\nvalue = [1, 0]'),\n",
       " Text(218.816918429003, 154.71692307692308, 'X[3] <= 20.167\\ngini = 0.165\\nsamples = 11\\nvalue = [1, 10]'),\n",
       " Text(216.11963746223566, 146.35384615384615, 'gini = 0.0\\nsamples = 9\\nvalue = [0, 9]'),\n",
       " Text(221.5141993957704, 146.35384615384615, 'X[2] <= 3.5\\ngini = 0.5\\nsamples = 2\\nvalue = [1, 1]'),\n",
       " Text(218.816918429003, 137.99076923076922, 'gini = 0.0\\nsamples = 1\\nvalue = [1, 0]'),\n",
       " Text(224.21148036253777, 137.99076923076922, 'gini = 0.0\\nsamples = 1\\nvalue = [0, 1]'),\n",
       " Text(244.44108761329306, 163.07999999999998, 'X[3] <= 7.763\\ngini = 0.499\\nsamples = 44\\nvalue = [21, 23]'),\n",
       " Text(229.6060422960725, 154.71692307692308, 'X[3] <= 6.987\\ngini = 0.298\\nsamples = 11\\nvalue = [2, 9]'),\n",
       " Text(226.90876132930515, 146.35384615384615, 'gini = 0.0\\nsamples = 1\\nvalue = [1, 0]'),\n",
       " Text(232.30332326283988, 146.35384615384615, 'X[3] <= 7.742\\ngini = 0.18\\nsamples = 10\\nvalue = [1, 9]'),\n",
       " Text(229.6060422960725, 137.99076923076922, 'gini = 0.0\\nsamples = 6\\nvalue = [0, 6]'),\n",
       " Text(235.00060422960726, 137.99076923076922, 'X[2] <= 21.5\\ngini = 0.375\\nsamples = 4\\nvalue = [1, 3]'),\n",
       " Text(232.30332326283988, 129.6276923076923, 'X[2] <= 18.5\\ngini = 0.5\\nsamples = 2\\nvalue = [1, 1]'),\n",
       " Text(229.6060422960725, 121.26461538461538, 'gini = 0.0\\nsamples = 1\\nvalue = [0, 1]'),\n",
       " Text(235.00060422960726, 121.26461538461538, 'gini = 0.0\\nsamples = 1\\nvalue = [1, 0]'),\n",
       " Text(237.6978851963746, 129.6276923076923, 'gini = 0.0\\nsamples = 2\\nvalue = [0, 2]'),\n",
       " Text(259.2761329305136, 154.71692307692308, 'X[2] <= 23.5\\ngini = 0.489\\nsamples = 33\\nvalue = [19, 14]'),\n",
       " Text(251.18429003021149, 146.35384615384615, 'X[3] <= 14.456\\ngini = 0.42\\nsamples = 20\\nvalue = [14, 6]'),\n",
       " Text(248.4870090634441, 137.99076923076922, 'X[2] <= 19.5\\ngini = 0.48\\nsamples = 15\\nvalue = [9, 6]'),\n",
       " Text(243.09244712990937, 129.6276923076923, 'X[3] <= 7.867\\ngini = 0.469\\nsamples = 8\\nvalue = [3, 5]'),\n",
       " Text(240.395166163142, 121.26461538461538, 'gini = 0.0\\nsamples = 2\\nvalue = [2, 0]'),\n",
       " Text(245.78972809667673, 121.26461538461538, 'X[2] <= 14.75\\ngini = 0.278\\nsamples = 6\\nvalue = [1, 5]'),\n",
       " Text(243.09244712990937, 112.90153846153846, 'X[3] <= 12.848\\ngini = 0.5\\nsamples = 2\\nvalue = [1, 1]'),\n",
       " Text(240.395166163142, 104.53846153846153, 'gini = 0.0\\nsamples = 1\\nvalue = [0, 1]'),\n",
       " Text(245.78972809667673, 104.53846153846153, 'gini = 0.0\\nsamples = 1\\nvalue = [1, 0]'),\n",
       " Text(248.4870090634441, 112.90153846153846, 'gini = 0.0\\nsamples = 4\\nvalue = [0, 4]'),\n",
       " Text(253.88157099697887, 129.6276923076923, 'X[3] <= 7.85\\ngini = 0.245\\nsamples = 7\\nvalue = [6, 1]'),\n",
       " Text(251.18429003021149, 121.26461538461538, 'gini = 0.0\\nsamples = 1\\nvalue = [0, 1]'),\n",
       " Text(256.5788519637462, 121.26461538461538, 'gini = 0.0\\nsamples = 6\\nvalue = [6, 0]'),\n",
       " Text(253.88157099697887, 137.99076923076922, 'gini = 0.0\\nsamples = 5\\nvalue = [5, 0]'),\n",
       " Text(267.36797583081574, 146.35384615384615, 'X[2] <= 27.5\\ngini = 0.473\\nsamples = 13\\nvalue = [5, 8]'),\n",
       " Text(261.973413897281, 137.99076923076922, 'X[3] <= 7.85\\ngini = 0.219\\nsamples = 8\\nvalue = [1, 7]'),\n",
       " Text(259.2761329305136, 129.6276923076923, 'gini = 0.0\\nsamples = 1\\nvalue = [1, 0]'),\n",
       " Text(264.67069486404836, 129.6276923076923, 'gini = 0.0\\nsamples = 7\\nvalue = [0, 7]'),\n",
       " Text(272.76253776435044, 137.99076923076922, 'X[3] <= 14.823\\ngini = 0.32\\nsamples = 5\\nvalue = [4, 1]'),\n",
       " Text(270.06525679758306, 129.6276923076923, 'gini = 0.0\\nsamples = 3\\nvalue = [3, 0]'),\n",
       " Text(275.4598187311178, 129.6276923076923, 'X[3] <= 18.16\\ngini = 0.5\\nsamples = 2\\nvalue = [1, 1]'),\n",
       " Text(272.76253776435044, 121.26461538461538, 'gini = 0.0\\nsamples = 1\\nvalue = [0, 1]'),\n",
       " Text(278.1570996978852, 121.26461538461538, 'gini = 0.0\\nsamples = 1\\nvalue = [1, 0]'),\n",
       " Text(291.64350453172204, 171.44307692307692, 'X[3] <= 14.979\\ngini = 0.311\\nsamples = 26\\nvalue = [5, 21]'),\n",
       " Text(288.94622356495466, 163.07999999999998, 'X[3] <= 7.965\\ngini = 0.401\\nsamples = 18\\nvalue = [5, 13]'),\n",
       " Text(286.2489425981873, 154.71692307692308, 'X[3] <= 7.681\\ngini = 0.231\\nsamples = 15\\nvalue = [2, 13]'),\n",
       " Text(280.8543806646526, 146.35384615384615, 'X[3] <= 7.427\\ngini = 0.5\\nsamples = 2\\nvalue = [1, 1]'),\n",
       " Text(278.1570996978852, 137.99076923076922, 'gini = 0.0\\nsamples = 1\\nvalue = [0, 1]'),\n",
       " Text(283.55166163141996, 137.99076923076922, 'gini = 0.0\\nsamples = 1\\nvalue = [1, 0]'),\n",
       " Text(291.64350453172204, 146.35384615384615, 'X[3] <= 7.769\\ngini = 0.142\\nsamples = 13\\nvalue = [1, 12]'),\n",
       " Text(288.94622356495466, 137.99076923076922, 'X[3] <= 7.744\\ngini = 0.219\\nsamples = 8\\nvalue = [1, 7]'),\n",
       " Text(286.2489425981873, 129.6276923076923, 'gini = 0.0\\nsamples = 2\\nvalue = [0, 2]'),\n",
       " Text(291.64350453172204, 129.6276923076923, 'gini = 0.278\\nsamples = 6\\nvalue = [1, 5]'),\n",
       " Text(294.3407854984894, 137.99076923076922, 'gini = 0.0\\nsamples = 5\\nvalue = [0, 5]'),\n",
       " Text(291.64350453172204, 154.71692307692308, 'gini = 0.0\\nsamples = 3\\nvalue = [3, 0]'),\n",
       " Text(294.3407854984894, 163.07999999999998, 'gini = 0.0\\nsamples = 8\\nvalue = [0, 8]'),\n",
       " Text(305.1299093655589, 179.80615384615385, 'X[2] <= 55.0\\ngini = 0.43\\nsamples = 16\\nvalue = [11, 5]'),\n",
       " Text(302.43262839879156, 171.44307692307692, 'X[2] <= 36.0\\ngini = 0.391\\nsamples = 15\\nvalue = [11, 4]'),\n",
       " Text(299.7353474320242, 163.07999999999998, 'X[3] <= 8.673\\ngini = 0.494\\nsamples = 9\\nvalue = [5, 4]'),\n",
       " Text(297.0380664652568, 154.71692307692308, 'gini = 0.0\\nsamples = 2\\nvalue = [2, 0]'),\n",
       " Text(302.43262839879156, 154.71692307692308, 'X[3] <= 13.988\\ngini = 0.49\\nsamples = 7\\nvalue = [3, 4]'),\n",
       " Text(299.7353474320242, 146.35384615384615, 'gini = 0.0\\nsamples = 2\\nvalue = [0, 2]'),\n",
       " Text(305.1299093655589, 146.35384615384615, 'X[3] <= 19.125\\ngini = 0.48\\nsamples = 5\\nvalue = [3, 2]'),\n",
       " Text(302.43262839879156, 137.99076923076922, 'gini = 0.0\\nsamples = 2\\nvalue = [2, 0]'),\n",
       " Text(307.82719033232627, 137.99076923076922, 'X[2] <= 30.5\\ngini = 0.444\\nsamples = 3\\nvalue = [1, 2]'),\n",
       " Text(305.1299093655589, 129.6276923076923, 'gini = 0.0\\nsamples = 1\\nvalue = [1, 0]'),\n",
       " Text(310.52447129909365, 129.6276923076923, 'gini = 0.0\\nsamples = 2\\nvalue = [0, 2]'),\n",
       " Text(305.1299093655589, 163.07999999999998, 'gini = 0.0\\nsamples = 6\\nvalue = [6, 0]'),\n",
       " Text(307.82719033232627, 171.44307692307692, 'gini = 0.0\\nsamples = 1\\nvalue = [0, 1]'),\n",
       " Text(321.31359516616317, 188.16923076923078, 'X[2] <= 5.5\\ngini = 0.159\\nsamples = 23\\nvalue = [21, 2]'),\n",
       " Text(315.9190332326284, 179.80615384615385, 'X[3] <= 31.331\\ngini = 0.444\\nsamples = 3\\nvalue = [2, 1]'),\n",
       " Text(313.221752265861, 171.44307692307692, 'gini = 0.0\\nsamples = 2\\nvalue = [2, 0]'),\n",
       " Text(318.6163141993958, 171.44307692307692, 'gini = 0.0\\nsamples = 1\\nvalue = [0, 1]'),\n",
       " Text(326.70815709969787, 179.80615384615385, 'X[2] <= 33.85\\ngini = 0.095\\nsamples = 20\\nvalue = [19, 1]'),\n",
       " Text(324.0108761329305, 171.44307692307692, 'gini = 0.0\\nsamples = 13\\nvalue = [13, 0]'),\n",
       " Text(329.40543806646525, 171.44307692307692, 'X[2] <= 38.5\\ngini = 0.245\\nsamples = 7\\nvalue = [6, 1]'),\n",
       " Text(326.70815709969787, 163.07999999999998, 'gini = 0.0\\nsamples = 1\\nvalue = [0, 1]'),\n",
       " Text(332.10271903323263, 163.07999999999998, 'gini = 0.0\\nsamples = 6\\nvalue = [6, 0]')]"
      ]
     },
     "execution_count": 379,
     "metadata": {},
     "output_type": "execute_result"
    },
    {
     "data": {
      "image/png": "[encoded data removed]",
      "text/plain": [
       "<Figure size 432x288 with 1 Axes>"
      ]
     },
     "metadata": {
      "needs_background": "light"
     },
     "output_type": "display_data"
    }
   ],
   "source": [
    "tree.plot_tree(dtree)"
   ]
  },
  {
   "cell_type": "code",
   "execution_count": 383,
   "metadata": {},
   "outputs": [
    {
     "data": {
      "image/png": "[encoded data removed]",
      "text/plain": [
       "<Figure size 432x288 with 1 Axes>"
      ]
     },
     "metadata": {
      "needs_background": "light"
     },
     "output_type": "display_data"
    }
   ],
   "source": [
    "import pydotplus\n",
    "import matplotlib.image as pltimg\n",
    "features = ['Pclass','Sex','Age','Fare']\n",
    "data = tree.export_graphviz(dtree, out_file=None, feature_names=features)\n",
    "graph = pydotplus.graph_from_dot_data(data)\n",
    "graph.write_png('mydecisiontree.png')\n",
    "img=pltimg.imread('mydecisiontree.png')\n",
    "imgplot = plt.imshow(img)\n",
    "plt.show()"
   ]
  },
  {
   "cell_type": "markdown",
   "metadata": {},
   "source": [
    "# Support Vector Machine"
   ]
  },
  {
   "cell_type": "code",
   "execution_count": 1,
   "metadata": {},
   "outputs": [],
   "source": [
    "from sklearn.datasets import load_iris\n",
    "iris = load_iris()"
   ]
  },
  {
   "cell_type": "code",
   "execution_count": 5,
   "metadata": {},
   "outputs": [
    {
     "data": {
      "text/plain": [
       "['DESCR',\n",
       " 'data',\n",
       " 'feature_names',\n",
       " 'filename',\n",
       " 'frame',\n",
       " 'target',\n",
       " 'target_names']"
      ]
     },
     "execution_count": 5,
     "metadata": {},
     "output_type": "execute_result"
    }
   ],
   "source": [
    "dir(iris)"
   ]
  },
  {
   "cell_type": "code",
   "execution_count": 14,
   "metadata": {},
   "outputs": [],
   "source": [
    "df = pd.DataFrame(iris.data,columns=iris.feature_names)"
   ]
  },
  {
   "cell_type": "code",
   "execution_count": 20,
   "metadata": {},
   "outputs": [],
   "source": [
    "df['target'] = iris.target"
   ]
  },
  {
   "cell_type": "code",
   "execution_count": 22,
   "metadata": {},
   "outputs": [],
   "source": [
    "df['flower_names'] = df.target.apply(lambda x : iris.target_names[x])"
   ]
  },
  {
   "cell_type": "code",
   "execution_count": 41,
   "metadata": {},
   "outputs": [
    {
     "data": {
      "text/html": [
       "<div>\n",
       "<style scoped>\n",
       "    .dataframe tbody tr th:only-of-type {\n",
       "        vertical-align: middle;\n",
       "    }\n",
       "\n",
       "    .dataframe tbody tr th {\n",
       "        vertical-align: top;\n",
       "    }\n",
       "\n",
       "    .dataframe thead th {\n",
       "        text-align: right;\n",
       "    }\n",
       "</style>\n",
       "<table border=\"1\" class=\"dataframe\">\n",
       "  <thead>\n",
       "    <tr style=\"text-align: right;\">\n",
       "      <th></th>\n",
       "      <th>sepal length (cm)</th>\n",
       "      <th>sepal width (cm)</th>\n",
       "      <th>petal length (cm)</th>\n",
       "      <th>petal width (cm)</th>\n",
       "      <th>target</th>\n",
       "      <th>flower_names</th>\n",
       "    </tr>\n",
       "  </thead>\n",
       "  <tbody>\n",
       "    <tr>\n",
       "      <th>100</th>\n",
       "      <td>6.3</td>\n",
       "      <td>3.3</td>\n",
       "      <td>6.0</td>\n",
       "      <td>2.5</td>\n",
       "      <td>2</td>\n",
       "      <td>virginica</td>\n",
       "    </tr>\n",
       "    <tr>\n",
       "      <th>101</th>\n",
       "      <td>5.8</td>\n",
       "      <td>2.7</td>\n",
       "      <td>5.1</td>\n",
       "      <td>1.9</td>\n",
       "      <td>2</td>\n",
       "      <td>virginica</td>\n",
       "    </tr>\n",
       "    <tr>\n",
       "      <th>102</th>\n",
       "      <td>7.1</td>\n",
       "      <td>3.0</td>\n",
       "      <td>5.9</td>\n",
       "      <td>2.1</td>\n",
       "      <td>2</td>\n",
       "      <td>virginica</td>\n",
       "    </tr>\n",
       "    <tr>\n",
       "      <th>103</th>\n",
       "      <td>6.3</td>\n",
       "      <td>2.9</td>\n",
       "      <td>5.6</td>\n",
       "      <td>1.8</td>\n",
       "      <td>2</td>\n",
       "      <td>virginica</td>\n",
       "    </tr>\n",
       "    <tr>\n",
       "      <th>104</th>\n",
       "      <td>6.5</td>\n",
       "      <td>3.0</td>\n",
       "      <td>5.8</td>\n",
       "      <td>2.2</td>\n",
       "      <td>2</td>\n",
       "      <td>virginica</td>\n",
       "    </tr>\n",
       "    <tr>\n",
       "      <th>105</th>\n",
       "      <td>7.6</td>\n",
       "      <td>3.0</td>\n",
       "      <td>6.6</td>\n",
       "      <td>2.1</td>\n",
       "      <td>2</td>\n",
       "      <td>virginica</td>\n",
       "    </tr>\n",
       "    <tr>\n",
       "      <th>106</th>\n",
       "      <td>4.9</td>\n",
       "      <td>2.5</td>\n",
       "      <td>4.5</td>\n",
       "      <td>1.7</td>\n",
       "      <td>2</td>\n",
       "      <td>virginica</td>\n",
       "    </tr>\n",
       "    <tr>\n",
       "      <th>107</th>\n",
       "      <td>7.3</td>\n",
       "      <td>2.9</td>\n",
       "      <td>6.3</td>\n",
       "      <td>1.8</td>\n",
       "      <td>2</td>\n",
       "      <td>virginica</td>\n",
       "    </tr>\n",
       "    <tr>\n",
       "      <th>108</th>\n",
       "      <td>6.7</td>\n",
       "      <td>2.5</td>\n",
       "      <td>5.8</td>\n",
       "      <td>1.8</td>\n",
       "      <td>2</td>\n",
       "      <td>virginica</td>\n",
       "    </tr>\n",
       "    <tr>\n",
       "      <th>109</th>\n",
       "      <td>7.2</td>\n",
       "      <td>3.6</td>\n",
       "      <td>6.1</td>\n",
       "      <td>2.5</td>\n",
       "      <td>2</td>\n",
       "      <td>virginica</td>\n",
       "    </tr>\n",
       "    <tr>\n",
       "      <th>110</th>\n",
       "      <td>6.5</td>\n",
       "      <td>3.2</td>\n",
       "      <td>5.1</td>\n",
       "      <td>2.0</td>\n",
       "      <td>2</td>\n",
       "      <td>virginica</td>\n",
       "    </tr>\n",
       "    <tr>\n",
       "      <th>111</th>\n",
       "      <td>6.4</td>\n",
       "      <td>2.7</td>\n",
       "      <td>5.3</td>\n",
       "      <td>1.9</td>\n",
       "      <td>2</td>\n",
       "      <td>virginica</td>\n",
       "    </tr>\n",
       "    <tr>\n",
       "      <th>112</th>\n",
       "      <td>6.8</td>\n",
       "      <td>3.0</td>\n",
       "      <td>5.5</td>\n",
       "      <td>2.1</td>\n",
       "      <td>2</td>\n",
       "      <td>virginica</td>\n",
       "    </tr>\n",
       "    <tr>\n",
       "      <th>113</th>\n",
       "      <td>5.7</td>\n",
       "      <td>2.5</td>\n",
       "      <td>5.0</td>\n",
       "      <td>2.0</td>\n",
       "      <td>2</td>\n",
       "      <td>virginica</td>\n",
       "    </tr>\n",
       "    <tr>\n",
       "      <th>114</th>\n",
       "      <td>5.8</td>\n",
       "      <td>2.8</td>\n",
       "      <td>5.1</td>\n",
       "      <td>2.4</td>\n",
       "      <td>2</td>\n",
       "      <td>virginica</td>\n",
       "    </tr>\n",
       "    <tr>\n",
       "      <th>115</th>\n",
       "      <td>6.4</td>\n",
       "      <td>3.2</td>\n",
       "      <td>5.3</td>\n",
       "      <td>2.3</td>\n",
       "      <td>2</td>\n",
       "      <td>virginica</td>\n",
       "    </tr>\n",
       "    <tr>\n",
       "      <th>116</th>\n",
       "      <td>6.5</td>\n",
       "      <td>3.0</td>\n",
       "      <td>5.5</td>\n",
       "      <td>1.8</td>\n",
       "      <td>2</td>\n",
       "      <td>virginica</td>\n",
       "    </tr>\n",
       "    <tr>\n",
       "      <th>117</th>\n",
       "      <td>7.7</td>\n",
       "      <td>3.8</td>\n",
       "      <td>6.7</td>\n",
       "      <td>2.2</td>\n",
       "      <td>2</td>\n",
       "      <td>virginica</td>\n",
       "    </tr>\n",
       "    <tr>\n",
       "      <th>118</th>\n",
       "      <td>7.7</td>\n",
       "      <td>2.6</td>\n",
       "      <td>6.9</td>\n",
       "      <td>2.3</td>\n",
       "      <td>2</td>\n",
       "      <td>virginica</td>\n",
       "    </tr>\n",
       "    <tr>\n",
       "      <th>119</th>\n",
       "      <td>6.0</td>\n",
       "      <td>2.2</td>\n",
       "      <td>5.0</td>\n",
       "      <td>1.5</td>\n",
       "      <td>2</td>\n",
       "      <td>virginica</td>\n",
       "    </tr>\n",
       "    <tr>\n",
       "      <th>120</th>\n",
       "      <td>6.9</td>\n",
       "      <td>3.2</td>\n",
       "      <td>5.7</td>\n",
       "      <td>2.3</td>\n",
       "      <td>2</td>\n",
       "      <td>virginica</td>\n",
       "    </tr>\n",
       "    <tr>\n",
       "      <th>121</th>\n",
       "      <td>5.6</td>\n",
       "      <td>2.8</td>\n",
       "      <td>4.9</td>\n",
       "      <td>2.0</td>\n",
       "      <td>2</td>\n",
       "      <td>virginica</td>\n",
       "    </tr>\n",
       "    <tr>\n",
       "      <th>122</th>\n",
       "      <td>7.7</td>\n",
       "      <td>2.8</td>\n",
       "      <td>6.7</td>\n",
       "      <td>2.0</td>\n",
       "      <td>2</td>\n",
       "      <td>virginica</td>\n",
       "    </tr>\n",
       "    <tr>\n",
       "      <th>123</th>\n",
       "      <td>6.3</td>\n",
       "      <td>2.7</td>\n",
       "      <td>4.9</td>\n",
       "      <td>1.8</td>\n",
       "      <td>2</td>\n",
       "      <td>virginica</td>\n",
       "    </tr>\n",
       "    <tr>\n",
       "      <th>124</th>\n",
       "      <td>6.7</td>\n",
       "      <td>3.3</td>\n",
       "      <td>5.7</td>\n",
       "      <td>2.1</td>\n",
       "      <td>2</td>\n",
       "      <td>virginica</td>\n",
       "    </tr>\n",
       "    <tr>\n",
       "      <th>125</th>\n",
       "      <td>7.2</td>\n",
       "      <td>3.2</td>\n",
       "      <td>6.0</td>\n",
       "      <td>1.8</td>\n",
       "      <td>2</td>\n",
       "      <td>virginica</td>\n",
       "    </tr>\n",
       "    <tr>\n",
       "      <th>126</th>\n",
       "      <td>6.2</td>\n",
       "      <td>2.8</td>\n",
       "      <td>4.8</td>\n",
       "      <td>1.8</td>\n",
       "      <td>2</td>\n",
       "      <td>virginica</td>\n",
       "    </tr>\n",
       "    <tr>\n",
       "      <th>127</th>\n",
       "      <td>6.1</td>\n",
       "      <td>3.0</td>\n",
       "      <td>4.9</td>\n",
       "      <td>1.8</td>\n",
       "      <td>2</td>\n",
       "      <td>virginica</td>\n",
       "    </tr>\n",
       "    <tr>\n",
       "      <th>128</th>\n",
       "      <td>6.4</td>\n",
       "      <td>2.8</td>\n",
       "      <td>5.6</td>\n",
       "      <td>2.1</td>\n",
       "      <td>2</td>\n",
       "      <td>virginica</td>\n",
       "    </tr>\n",
       "    <tr>\n",
       "      <th>129</th>\n",
       "      <td>7.2</td>\n",
       "      <td>3.0</td>\n",
       "      <td>5.8</td>\n",
       "      <td>1.6</td>\n",
       "      <td>2</td>\n",
       "      <td>virginica</td>\n",
       "    </tr>\n",
       "    <tr>\n",
       "      <th>130</th>\n",
       "      <td>7.4</td>\n",
       "      <td>2.8</td>\n",
       "      <td>6.1</td>\n",
       "      <td>1.9</td>\n",
       "      <td>2</td>\n",
       "      <td>virginica</td>\n",
       "    </tr>\n",
       "    <tr>\n",
       "      <th>131</th>\n",
       "      <td>7.9</td>\n",
       "      <td>3.8</td>\n",
       "      <td>6.4</td>\n",
       "      <td>2.0</td>\n",
       "      <td>2</td>\n",
       "      <td>virginica</td>\n",
       "    </tr>\n",
       "    <tr>\n",
       "      <th>132</th>\n",
       "      <td>6.4</td>\n",
       "      <td>2.8</td>\n",
       "      <td>5.6</td>\n",
       "      <td>2.2</td>\n",
       "      <td>2</td>\n",
       "      <td>virginica</td>\n",
       "    </tr>\n",
       "    <tr>\n",
       "      <th>133</th>\n",
       "      <td>6.3</td>\n",
       "      <td>2.8</td>\n",
       "      <td>5.1</td>\n",
       "      <td>1.5</td>\n",
       "      <td>2</td>\n",
       "      <td>virginica</td>\n",
       "    </tr>\n",
       "    <tr>\n",
       "      <th>134</th>\n",
       "      <td>6.1</td>\n",
       "      <td>2.6</td>\n",
       "      <td>5.6</td>\n",
       "      <td>1.4</td>\n",
       "      <td>2</td>\n",
       "      <td>virginica</td>\n",
       "    </tr>\n",
       "    <tr>\n",
       "      <th>135</th>\n",
       "      <td>7.7</td>\n",
       "      <td>3.0</td>\n",
       "      <td>6.1</td>\n",
       "      <td>2.3</td>\n",
       "      <td>2</td>\n",
       "      <td>virginica</td>\n",
       "    </tr>\n",
       "    <tr>\n",
       "      <th>136</th>\n",
       "      <td>6.3</td>\n",
       "      <td>3.4</td>\n",
       "      <td>5.6</td>\n",
       "      <td>2.4</td>\n",
       "      <td>2</td>\n",
       "      <td>virginica</td>\n",
       "    </tr>\n",
       "    <tr>\n",
       "      <th>137</th>\n",
       "      <td>6.4</td>\n",
       "      <td>3.1</td>\n",
       "      <td>5.5</td>\n",
       "      <td>1.8</td>\n",
       "      <td>2</td>\n",
       "      <td>virginica</td>\n",
       "    </tr>\n",
       "    <tr>\n",
       "      <th>138</th>\n",
       "      <td>6.0</td>\n",
       "      <td>3.0</td>\n",
       "      <td>4.8</td>\n",
       "      <td>1.8</td>\n",
       "      <td>2</td>\n",
       "      <td>virginica</td>\n",
       "    </tr>\n",
       "    <tr>\n",
       "      <th>139</th>\n",
       "      <td>6.9</td>\n",
       "      <td>3.1</td>\n",
       "      <td>5.4</td>\n",
       "      <td>2.1</td>\n",
       "      <td>2</td>\n",
       "      <td>virginica</td>\n",
       "    </tr>\n",
       "    <tr>\n",
       "      <th>140</th>\n",
       "      <td>6.7</td>\n",
       "      <td>3.1</td>\n",
       "      <td>5.6</td>\n",
       "      <td>2.4</td>\n",
       "      <td>2</td>\n",
       "      <td>virginica</td>\n",
       "    </tr>\n",
       "    <tr>\n",
       "      <th>141</th>\n",
       "      <td>6.9</td>\n",
       "      <td>3.1</td>\n",
       "      <td>5.1</td>\n",
       "      <td>2.3</td>\n",
       "      <td>2</td>\n",
       "      <td>virginica</td>\n",
       "    </tr>\n",
       "    <tr>\n",
       "      <th>142</th>\n",
       "      <td>5.8</td>\n",
       "      <td>2.7</td>\n",
       "      <td>5.1</td>\n",
       "      <td>1.9</td>\n",
       "      <td>2</td>\n",
       "      <td>virginica</td>\n",
       "    </tr>\n",
       "    <tr>\n",
       "      <th>143</th>\n",
       "      <td>6.8</td>\n",
       "      <td>3.2</td>\n",
       "      <td>5.9</td>\n",
       "      <td>2.3</td>\n",
       "      <td>2</td>\n",
       "      <td>virginica</td>\n",
       "    </tr>\n",
       "    <tr>\n",
       "      <th>144</th>\n",
       "      <td>6.7</td>\n",
       "      <td>3.3</td>\n",
       "      <td>5.7</td>\n",
       "      <td>2.5</td>\n",
       "      <td>2</td>\n",
       "      <td>virginica</td>\n",
       "    </tr>\n",
       "    <tr>\n",
       "      <th>145</th>\n",
       "      <td>6.7</td>\n",
       "      <td>3.0</td>\n",
       "      <td>5.2</td>\n",
       "      <td>2.3</td>\n",
       "      <td>2</td>\n",
       "      <td>virginica</td>\n",
       "    </tr>\n",
       "    <tr>\n",
       "      <th>146</th>\n",
       "      <td>6.3</td>\n",
       "      <td>2.5</td>\n",
       "      <td>5.0</td>\n",
       "      <td>1.9</td>\n",
       "      <td>2</td>\n",
       "      <td>virginica</td>\n",
       "    </tr>\n",
       "    <tr>\n",
       "      <th>147</th>\n",
       "      <td>6.5</td>\n",
       "      <td>3.0</td>\n",
       "      <td>5.2</td>\n",
       "      <td>2.0</td>\n",
       "      <td>2</td>\n",
       "      <td>virginica</td>\n",
       "    </tr>\n",
       "    <tr>\n",
       "      <th>148</th>\n",
       "      <td>6.2</td>\n",
       "      <td>3.4</td>\n",
       "      <td>5.4</td>\n",
       "      <td>2.3</td>\n",
       "      <td>2</td>\n",
       "      <td>virginica</td>\n",
       "    </tr>\n",
       "    <tr>\n",
       "      <th>149</th>\n",
       "      <td>5.9</td>\n",
       "      <td>3.0</td>\n",
       "      <td>5.1</td>\n",
       "      <td>1.8</td>\n",
       "      <td>2</td>\n",
       "      <td>virginica</td>\n",
       "    </tr>\n",
       "  </tbody>\n",
       "</table>\n",
       "</div>"
      ],
      "text/plain": [
       "     sepal length (cm)  sepal width (cm)  petal length (cm)  petal width (cm)  \\\n",
       "100                6.3               3.3                6.0               2.5   \n",
       "101                5.8               2.7                5.1               1.9   \n",
       "102                7.1               3.0                5.9               2.1   \n",
       "103                6.3               2.9                5.6               1.8   \n",
       "104                6.5               3.0                5.8               2.2   \n",
       "105                7.6               3.0                6.6               2.1   \n",
       "106                4.9               2.5                4.5               1.7   \n",
       "107                7.3               2.9                6.3               1.8   \n",
       "108                6.7               2.5                5.8               1.8   \n",
       "109                7.2               3.6                6.1               2.5   \n",
       "110                6.5               3.2                5.1               2.0   \n",
       "111                6.4               2.7                5.3               1.9   \n",
       "112                6.8               3.0                5.5               2.1   \n",
       "113                5.7               2.5                5.0               2.0   \n",
       "114                5.8               2.8                5.1               2.4   \n",
       "115                6.4               3.2                5.3               2.3   \n",
       "116                6.5               3.0                5.5               1.8   \n",
       "117                7.7               3.8                6.7               2.2   \n",
       "118                7.7               2.6                6.9               2.3   \n",
       "119                6.0               2.2                5.0               1.5   \n",
       "120                6.9               3.2                5.7               2.3   \n",
       "121                5.6               2.8                4.9               2.0   \n",
       "122                7.7               2.8                6.7               2.0   \n",
       "123                6.3               2.7                4.9               1.8   \n",
       "124                6.7               3.3                5.7               2.1   \n",
       "125                7.2               3.2                6.0               1.8   \n",
       "126                6.2               2.8                4.8               1.8   \n",
       "127                6.1               3.0                4.9               1.8   \n",
       "128                6.4               2.8                5.6               2.1   \n",
       "129                7.2               3.0                5.8               1.6   \n",
       "130                7.4               2.8                6.1               1.9   \n",
       "131                7.9               3.8                6.4               2.0   \n",
       "132                6.4               2.8                5.6               2.2   \n",
       "133                6.3               2.8                5.1               1.5   \n",
       "134                6.1               2.6                5.6               1.4   \n",
       "135                7.7               3.0                6.1               2.3   \n",
       "136                6.3               3.4                5.6               2.4   \n",
       "137                6.4               3.1                5.5               1.8   \n",
       "138                6.0               3.0                4.8               1.8   \n",
       "139                6.9               3.1                5.4               2.1   \n",
       "140                6.7               3.1                5.6               2.4   \n",
       "141                6.9               3.1                5.1               2.3   \n",
       "142                5.8               2.7                5.1               1.9   \n",
       "143                6.8               3.2                5.9               2.3   \n",
       "144                6.7               3.3                5.7               2.5   \n",
       "145                6.7               3.0                5.2               2.3   \n",
       "146                6.3               2.5                5.0               1.9   \n",
       "147                6.5               3.0                5.2               2.0   \n",
       "148                6.2               3.4                5.4               2.3   \n",
       "149                5.9               3.0                5.1               1.8   \n",
       "\n",
       "     target flower_names  \n",
       "100       2    virginica  \n",
       "101       2    virginica  \n",
       "102       2    virginica  \n",
       "103       2    virginica  \n",
       "104       2    virginica  \n",
       "105       2    virginica  \n",
       "106       2    virginica  \n",
       "107       2    virginica  \n",
       "108       2    virginica  \n",
       "109       2    virginica  \n",
       "110       2    virginica  \n",
       "111       2    virginica  \n",
       "112       2    virginica  \n",
       "113       2    virginica  \n",
       "114       2    virginica  \n",
       "115       2    virginica  \n",
       "116       2    virginica  \n",
       "117       2    virginica  \n",
       "118       2    virginica  \n",
       "119       2    virginica  \n",
       "120       2    virginica  \n",
       "121       2    virginica  \n",
       "122       2    virginica  \n",
       "123       2    virginica  \n",
       "124       2    virginica  \n",
       "125       2    virginica  \n",
       "126       2    virginica  \n",
       "127       2    virginica  \n",
       "128       2    virginica  \n",
       "129       2    virginica  \n",
       "130       2    virginica  \n",
       "131       2    virginica  \n",
       "132       2    virginica  \n",
       "133       2    virginica  \n",
       "134       2    virginica  \n",
       "135       2    virginica  \n",
       "136       2    virginica  \n",
       "137       2    virginica  \n",
       "138       2    virginica  \n",
       "139       2    virginica  \n",
       "140       2    virginica  \n",
       "141       2    virginica  \n",
       "142       2    virginica  \n",
       "143       2    virginica  \n",
       "144       2    virginica  \n",
       "145       2    virginica  \n",
       "146       2    virginica  \n",
       "147       2    virginica  \n",
       "148       2    virginica  \n",
       "149       2    virginica  "
      ]
     },
     "execution_count": 41,
     "metadata": {},
     "output_type": "execute_result"
    }
   ],
   "source": [
    "df[df['target'] == 2]"
   ]
  },
  {
   "cell_type": "code",
   "execution_count": 42,
   "metadata": {},
   "outputs": [],
   "source": [
    "df_setosa = df[df.target == 0]\n",
    "df_versicolor = df[df.target == 1]\n",
    "df_verginica = df[df.target == 2]"
   ]
  },
  {
   "cell_type": "code",
   "execution_count": 52,
   "metadata": {},
   "outputs": [
    {
     "data": {
      "text/plain": [
       "<matplotlib.collections.PathCollection at 0x25d0cbbf2e0>"
      ]
     },
     "execution_count": 52,
     "metadata": {},
     "output_type": "execute_result"
    },
    {
     "data": {
      "image/png": "[encoded data removed]",
      "text/plain": [
       "<Figure size 432x288 with 1 Axes>"
      ]
     },
     "metadata": {
      "needs_background": "light"
     },
     "output_type": "display_data"
    }
   ],
   "source": [
    "plt.scatter(df_setosa['sepal width (cm)'],df_setosa['sepal length (cm)'],color='red',marker='*')\n",
    "plt.scatter(df_versicolor['sepal width (cm)'],df_versicolor['sepal length (cm)'],color='green',marker='o')"
   ]
  },
  {
   "cell_type": "code",
   "execution_count": 53,
   "metadata": {},
   "outputs": [
    {
     "data": {
      "text/plain": [
       "<matplotlib.collections.PathCollection at 0x25d0cc14d60>"
      ]
     },
     "execution_count": 53,
     "metadata": {},
     "output_type": "execute_result"
    },
    {
     "data": {
      "image/png": "[encoded data removed]",
      "text/plain": [
       "<Figure size 432x288 with 1 Axes>"
      ]
     },
     "metadata": {
      "needs_background": "light"
     },
     "output_type": "display_data"
    }
   ],
   "source": [
    "plt.scatter(df_setosa['petal width (cm)'],df_setosa['petal length (cm)'],color='red',marker='*')\n",
    "plt.scatter(df_versicolor['petal width (cm)'],df_versicolor['petal length (cm)'],color='green',marker='o')"
   ]
  },
  {
   "cell_type": "code",
   "execution_count": 55,
   "metadata": {},
   "outputs": [],
   "source": [
    "from sklearn.svm import SVC\n",
    "from sklearn.model_selection import train_test_split\n",
    "inputs = df.drop(['target','flower_names'],axis='columns')\n",
    "target = df.target"
   ]
  },
  {
   "cell_type": "code",
   "execution_count": 56,
   "metadata": {},
   "outputs": [
    {
     "data": {
      "text/html": [
       "<div>\n",
       "<style scoped>\n",
       "    .dataframe tbody tr th:only-of-type {\n",
       "        vertical-align: middle;\n",
       "    }\n",
       "\n",
       "    .dataframe tbody tr th {\n",
       "        vertical-align: top;\n",
       "    }\n",
       "\n",
       "    .dataframe thead th {\n",
       "        text-align: right;\n",
       "    }\n",
       "</style>\n",
       "<table border=\"1\" class=\"dataframe\">\n",
       "  <thead>\n",
       "    <tr style=\"text-align: right;\">\n",
       "      <th></th>\n",
       "      <th>sepal length (cm)</th>\n",
       "      <th>sepal width (cm)</th>\n",
       "      <th>petal length (cm)</th>\n",
       "      <th>petal width (cm)</th>\n",
       "    </tr>\n",
       "  </thead>\n",
       "  <tbody>\n",
       "    <tr>\n",
       "      <th>0</th>\n",
       "      <td>5.1</td>\n",
       "      <td>3.5</td>\n",
       "      <td>1.4</td>\n",
       "      <td>0.2</td>\n",
       "    </tr>\n",
       "    <tr>\n",
       "      <th>1</th>\n",
       "      <td>4.9</td>\n",
       "      <td>3.0</td>\n",
       "      <td>1.4</td>\n",
       "      <td>0.2</td>\n",
       "    </tr>\n",
       "    <tr>\n",
       "      <th>2</th>\n",
       "      <td>4.7</td>\n",
       "      <td>3.2</td>\n",
       "      <td>1.3</td>\n",
       "      <td>0.2</td>\n",
       "    </tr>\n",
       "    <tr>\n",
       "      <th>3</th>\n",
       "      <td>4.6</td>\n",
       "      <td>3.1</td>\n",
       "      <td>1.5</td>\n",
       "      <td>0.2</td>\n",
       "    </tr>\n",
       "    <tr>\n",
       "      <th>4</th>\n",
       "      <td>5.0</td>\n",
       "      <td>3.6</td>\n",
       "      <td>1.4</td>\n",
       "      <td>0.2</td>\n",
       "    </tr>\n",
       "    <tr>\n",
       "      <th>...</th>\n",
       "      <td>...</td>\n",
       "      <td>...</td>\n",
       "      <td>...</td>\n",
       "      <td>...</td>\n",
       "    </tr>\n",
       "    <tr>\n",
       "      <th>145</th>\n",
       "      <td>6.7</td>\n",
       "      <td>3.0</td>\n",
       "      <td>5.2</td>\n",
       "      <td>2.3</td>\n",
       "    </tr>\n",
       "    <tr>\n",
       "      <th>146</th>\n",
       "      <td>6.3</td>\n",
       "      <td>2.5</td>\n",
       "      <td>5.0</td>\n",
       "      <td>1.9</td>\n",
       "    </tr>\n",
       "    <tr>\n",
       "      <th>147</th>\n",
       "      <td>6.5</td>\n",
       "      <td>3.0</td>\n",
       "      <td>5.2</td>\n",
       "      <td>2.0</td>\n",
       "    </tr>\n",
       "    <tr>\n",
       "      <th>148</th>\n",
       "      <td>6.2</td>\n",
       "      <td>3.4</td>\n",
       "      <td>5.4</td>\n",
       "      <td>2.3</td>\n",
       "    </tr>\n",
       "    <tr>\n",
       "      <th>149</th>\n",
       "      <td>5.9</td>\n",
       "      <td>3.0</td>\n",
       "      <td>5.1</td>\n",
       "      <td>1.8</td>\n",
       "    </tr>\n",
       "  </tbody>\n",
       "</table>\n",
       "<p>150 rows × 4 columns</p>\n",
       "</div>"
      ],
      "text/plain": [
       "     sepal length (cm)  sepal width (cm)  petal length (cm)  petal width (cm)\n",
       "0                  5.1               3.5                1.4               0.2\n",
       "1                  4.9               3.0                1.4               0.2\n",
       "2                  4.7               3.2                1.3               0.2\n",
       "3                  4.6               3.1                1.5               0.2\n",
       "4                  5.0               3.6                1.4               0.2\n",
       "..                 ...               ...                ...               ...\n",
       "145                6.7               3.0                5.2               2.3\n",
       "146                6.3               2.5                5.0               1.9\n",
       "147                6.5               3.0                5.2               2.0\n",
       "148                6.2               3.4                5.4               2.3\n",
       "149                5.9               3.0                5.1               1.8\n",
       "\n",
       "[150 rows x 4 columns]"
      ]
     },
     "execution_count": 56,
     "metadata": {},
     "output_type": "execute_result"
    }
   ],
   "source": [
    "inputs"
   ]
  },
  {
   "cell_type": "code",
   "execution_count": 60,
   "metadata": {},
   "outputs": [],
   "source": [
    "x_train,x_test,y_train,y_test = train_test_split(inputs,target,test_size=0.2,random_state=2)"
   ]
  },
  {
   "cell_type": "code",
   "execution_count": 74,
   "metadata": {},
   "outputs": [
    {
     "data": {
      "text/plain": [
       "SVC(kernel='poly')"
      ]
     },
     "execution_count": 74,
     "metadata": {},
     "output_type": "execute_result"
    }
   ],
   "source": [
    "model = SVC(kernel='poly')\n",
    "model.fit(x_train,y_train)"
   ]
  },
  {
   "cell_type": "code",
   "execution_count": 75,
   "metadata": {},
   "outputs": [
    {
     "data": {
      "text/plain": [
       "array([0, 0, 2, 0, 0, 2, 0, 2, 2, 0, 0, 0, 0, 0, 1, 1, 0, 1, 2, 1, 2, 1,\n",
       "       2, 1, 1, 0, 0, 2, 0, 2])"
      ]
     },
     "execution_count": 75,
     "metadata": {},
     "output_type": "execute_result"
    }
   ],
   "source": [
    "model.predict(x_test)"
   ]
  },
  {
   "cell_type": "code",
   "execution_count": 76,
   "metadata": {},
   "outputs": [
    {
     "data": {
      "text/plain": [
       "0.9666666666666667"
      ]
     },
     "execution_count": 76,
     "metadata": {},
     "output_type": "execute_result"
    }
   ],
   "source": [
    "model.score(x_test,y_test)"
   ]
  },
  {
   "cell_type": "markdown",
   "metadata": {},
   "source": [
    "# Random Forest Classifier"
   ]
  },
  {
   "cell_type": "code",
   "execution_count": 77,
   "metadata": {},
   "outputs": [],
   "source": [
    "from sklearn.datasets import load_digits\n",
    "digits = load_digits()"
   ]
  },
  {
   "cell_type": "code",
   "execution_count": 78,
   "metadata": {},
   "outputs": [
    {
     "data": {
      "text/plain": [
       "['DESCR', 'data', 'feature_names', 'frame', 'images', 'target', 'target_names']"
      ]
     },
     "execution_count": 78,
     "metadata": {},
     "output_type": "execute_result"
    }
   ],
   "source": [
    "dir(digits)"
   ]
  },
  {
   "cell_type": "code",
   "execution_count": 79,
   "metadata": {},
   "outputs": [],
   "source": [
    "df = pd.DataFrame(digits.data)"
   ]
  },
  {
   "cell_type": "code",
   "execution_count": 81,
   "metadata": {},
   "outputs": [],
   "source": [
    "df['target'] = digits.target"
   ]
  },
  {
   "cell_type": "code",
   "execution_count": 83,
   "metadata": {},
   "outputs": [],
   "source": [
    "inputs = df.drop('target',axis='columns')\n",
    "target = df.target"
   ]
  },
  {
   "cell_type": "code",
   "execution_count": 84,
   "metadata": {},
   "outputs": [],
   "source": [
    "from sklearn.ensemble import RandomForestClassifier\n",
    "model = RandomForestClassifier()"
   ]
  },
  {
   "cell_type": "code",
   "execution_count": 85,
   "metadata": {},
   "outputs": [
    {
     "data": {
      "text/plain": [
       "RandomForestClassifier()"
      ]
     },
     "execution_count": 85,
     "metadata": {},
     "output_type": "execute_result"
    }
   ],
   "source": [
    "x_train,x_test,y_train,y_test = train_test_split(inputs,target,test_size=0.2,random_state=2)\n",
    "model.fit(x_train,y_train)"
   ]
  },
  {
   "cell_type": "code",
   "execution_count": 87,
   "metadata": {},
   "outputs": [
    {
     "data": {
      "text/plain": [
       "0.9611111111111111"
      ]
     },
     "execution_count": 87,
     "metadata": {},
     "output_type": "execute_result"
    }
   ],
   "source": [
    "model.score(x_test,y_test)"
   ]
  },
  {
   "cell_type": "code",
   "execution_count": 88,
   "metadata": {},
   "outputs": [
    {
     "data": {
      "text/plain": [
       "array([4, 0, 9, 1, 8, 7, 1, 5, 1, 6, 6, 7, 6, 1, 5, 5, 7, 6, 2, 7, 4, 6,\n",
       "       4, 1, 5, 2, 9, 5, 4, 6, 5, 6, 3, 4, 0, 9, 9, 8, 4, 6, 8, 1, 5, 7,\n",
       "       9, 4, 9, 6, 1, 7, 0, 1, 9, 7, 3, 3, 1, 1, 8, 8, 9, 8, 5, 7, 4, 8,\n",
       "       3, 5, 8, 4, 3, 1, 3, 8, 7, 3, 3, 0, 8, 7, 2, 8, 5, 3, 8, 7, 6, 4,\n",
       "       6, 2, 2, 0, 1, 1, 5, 3, 5, 7, 6, 8, 2, 2, 6, 4, 6, 7, 3, 7, 3, 9,\n",
       "       4, 7, 0, 3, 5, 1, 5, 0, 3, 9, 2, 7, 3, 2, 0, 8, 1, 9, 2, 1, 5, 1,\n",
       "       0, 3, 4, 3, 0, 7, 3, 2, 2, 7, 3, 1, 6, 7, 2, 8, 3, 1, 1, 6, 4, 8,\n",
       "       2, 1, 8, 4, 1, 3, 1, 1, 9, 5, 4, 9, 7, 4, 8, 9, 5, 7, 6, 9, 4, 0,\n",
       "       4, 0, 0, 9, 0, 6, 5, 8, 8, 3, 7, 9, 2, 0, 3, 2, 7, 3, 0, 2, 1, 5,\n",
       "       2, 7, 0, 6, 9, 3, 1, 1, 3, 5, 2, 3, 5, 2, 1, 2, 9, 4, 6, 5, 5, 5,\n",
       "       9, 7, 1, 5, 9, 6, 3, 7, 1, 7, 5, 1, 7, 2, 7, 5, 5, 4, 8, 6, 6, 2,\n",
       "       8, 7, 3, 7, 8, 0, 9, 5, 7, 4, 3, 4, 1, 0, 3, 3, 5, 4, 1, 3, 1, 2,\n",
       "       5, 1, 4, 0, 3, 1, 5, 5, 7, 4, 0, 1, 0, 8, 5, 5, 5, 4, 0, 1, 8, 6,\n",
       "       2, 1, 1, 1, 7, 9, 6, 7, 9, 7, 0, 4, 9, 6, 9, 2, 7, 2, 1, 0, 8, 2,\n",
       "       8, 6, 5, 7, 8, 4, 5, 7, 8, 6, 4, 2, 6, 9, 3, 0, 0, 8, 0, 6, 6, 7,\n",
       "       1, 4, 5, 6, 9, 7, 2, 8, 5, 1, 2, 4, 1, 8, 8, 7, 6, 0, 8, 0, 6, 5,\n",
       "       5, 7, 8, 0, 4, 1, 4, 5])"
      ]
     },
     "execution_count": 88,
     "metadata": {},
     "output_type": "execute_result"
    }
   ],
   "source": [
    "model.predict(x_test)"
   ]
  },
  {
   "cell_type": "code",
   "execution_count": 91,
   "metadata": {},
   "outputs": [],
   "source": [
    "from sklearn.metrics import confusion_matrix\n",
    "cm = confusion_matrix(y_test,model.predict(x_test))"
   ]
  },
  {
   "cell_type": "code",
   "execution_count": 92,
   "metadata": {},
   "outputs": [
    {
     "data": {
      "text/plain": [
       "array([[31,  0,  0,  0,  1,  0,  0,  0,  0,  0],\n",
       "       [ 0, 44,  0,  0,  0,  0,  0,  0,  0,  0],\n",
       "       [ 0,  0, 31,  0,  0,  0,  0,  0,  0,  0],\n",
       "       [ 0,  0,  0, 35,  0,  0,  0,  1,  0,  0],\n",
       "       [ 0,  0,  0,  0, 31,  0,  0,  2,  1,  1],\n",
       "       [ 0,  0,  0,  0,  1, 42,  0,  0,  0,  0],\n",
       "       [ 0,  0,  0,  0,  1,  0, 34,  0,  0,  0],\n",
       "       [ 0,  0,  0,  0,  0,  0,  0, 39,  1,  0],\n",
       "       [ 0,  2,  0,  0,  0,  0,  0,  0, 33,  1],\n",
       "       [ 0,  0,  0,  0,  0,  1,  0,  1,  0, 26]], dtype=int64)"
      ]
     },
     "execution_count": 92,
     "metadata": {},
     "output_type": "execute_result"
    }
   ],
   "source": [
    "cm"
   ]
  },
  {
   "cell_type": "code",
   "execution_count": 96,
   "metadata": {},
   "outputs": [
    {
     "data": {
      "text/plain": [
       "Text(69.0, 0.5, 'Truth')"
      ]
     },
     "execution_count": 96,
     "metadata": {},
     "output_type": "execute_result"
    },
    {
     "data": {
      "image/png": "[encoded data removed]",
      "text/plain": [
       "<Figure size 720x504 with 2 Axes>"
      ]
     },
     "metadata": {
      "needs_background": "light"
     },
     "output_type": "display_data"
    }
   ],
   "source": [
    "import seaborn as sn\n",
    "plt.figure(figsize=(10,7))\n",
    "sn.heatmap(cm,annot=True)\n",
    "plt.xlabel('Predicted')\n",
    "plt.ylabel('Truth')"
   ]
  },
  {
   "cell_type": "markdown",
   "metadata": {},
   "source": [
    "# K-Fold Cross Validation"
   ]
  },
  {
   "cell_type": "code",
   "execution_count": 117,
   "metadata": {},
   "outputs": [],
   "source": [
    "from sklearn.model_selection import KFold\n",
    "from sklearn.datasets import load_digits\n",
    "from sklearn.linear_model import LogisticRegression\n",
    "digits = load_digits()\n",
    "kf = KFold(n_splits=5)"
   ]
  },
  {
   "cell_type": "code",
   "execution_count": 118,
   "metadata": {},
   "outputs": [
    {
     "name": "stdout",
     "output_type": "stream",
     "text": [
      "[ 3  4  5  6  7  8  9 10 11] [0 1 2]\n",
      "[ 0  1  2  6  7  8  9 10 11] [3 4 5]\n",
      "[ 0  1  2  3  4  5  8  9 10 11] [6 7]\n",
      "[ 0  1  2  3  4  5  6  7 10 11] [8 9]\n",
      "[0 1 2 3 4 5 6 7 8 9] [10 11]\n"
     ]
    }
   ],
   "source": [
    "for train_index,test_index in kf.split([1,2,3,4,5,6,7,8,9,8,7,9]):\n",
    "    print(train_index,test_index)"
   ]
  },
  {
   "cell_type": "code",
   "execution_count": 127,
   "metadata": {},
   "outputs": [],
   "source": [
    "def get_score(model,x_train,x_test,y_train,y_test):\n",
    "    model.fit(x_train,y_train)\n",
    "    return model.score(x_test,y_test)"
   ]
  },
  {
   "cell_type": "code",
   "execution_count": 128,
   "metadata": {},
   "outputs": [],
   "source": [
    "from sklearn.model_selection import StratifiedKFold\n",
    "folds = StratifiedKFold()"
   ]
  },
  {
   "cell_type": "code",
   "execution_count": 133,
   "metadata": {},
   "outputs": [
    {
     "name": "stderr",
     "output_type": "stream",
     "text": [
      "c:\\users\\kousi\\appdata\\local\\programs\\python\\python38\\lib\\site-packages\\sklearn\\linear_model\\_logistic.py:763: ConvergenceWarning: lbfgs failed to converge (status=1):\n",
      "STOP: TOTAL NO. of ITERATIONS REACHED LIMIT.\n",
      "\n",
      "Increase the number of iterations (max_iter) or scale the data as shown in:\n",
      "    https://scikit-learn.org/stable/modules/preprocessing.html\n",
      "Please also refer to the documentation for alternative solver options:\n",
      "    https://scikit-learn.org/stable/modules/linear_model.html#logistic-regression\n",
      "  n_iter_i = _check_optimize_result(\n",
      "c:\\users\\kousi\\appdata\\local\\programs\\python\\python38\\lib\\site-packages\\sklearn\\linear_model\\_logistic.py:763: ConvergenceWarning: lbfgs failed to converge (status=1):\n",
      "STOP: TOTAL NO. of ITERATIONS REACHED LIMIT.\n",
      "\n",
      "Increase the number of iterations (max_iter) or scale the data as shown in:\n",
      "    https://scikit-learn.org/stable/modules/preprocessing.html\n",
      "Please also refer to the documentation for alternative solver options:\n",
      "    https://scikit-learn.org/stable/modules/linear_model.html#logistic-regression\n",
      "  n_iter_i = _check_optimize_result(\n",
      "c:\\users\\kousi\\appdata\\local\\programs\\python\\python38\\lib\\site-packages\\sklearn\\linear_model\\_logistic.py:763: ConvergenceWarning: lbfgs failed to converge (status=1):\n",
      "STOP: TOTAL NO. of ITERATIONS REACHED LIMIT.\n",
      "\n",
      "Increase the number of iterations (max_iter) or scale the data as shown in:\n",
      "    https://scikit-learn.org/stable/modules/preprocessing.html\n",
      "Please also refer to the documentation for alternative solver options:\n",
      "    https://scikit-learn.org/stable/modules/linear_model.html#logistic-regression\n",
      "  n_iter_i = _check_optimize_result(\n",
      "c:\\users\\kousi\\appdata\\local\\programs\\python\\python38\\lib\\site-packages\\sklearn\\linear_model\\_logistic.py:763: ConvergenceWarning: lbfgs failed to converge (status=1):\n",
      "STOP: TOTAL NO. of ITERATIONS REACHED LIMIT.\n",
      "\n",
      "Increase the number of iterations (max_iter) or scale the data as shown in:\n",
      "    https://scikit-learn.org/stable/modules/preprocessing.html\n",
      "Please also refer to the documentation for alternative solver options:\n",
      "    https://scikit-learn.org/stable/modules/linear_model.html#logistic-regression\n",
      "  n_iter_i = _check_optimize_result(\n",
      "c:\\users\\kousi\\appdata\\local\\programs\\python\\python38\\lib\\site-packages\\sklearn\\linear_model\\_logistic.py:763: ConvergenceWarning: lbfgs failed to converge (status=1):\n",
      "STOP: TOTAL NO. of ITERATIONS REACHED LIMIT.\n",
      "\n",
      "Increase the number of iterations (max_iter) or scale the data as shown in:\n",
      "    https://scikit-learn.org/stable/modules/preprocessing.html\n",
      "Please also refer to the documentation for alternative solver options:\n",
      "    https://scikit-learn.org/stable/modules/linear_model.html#logistic-regression\n",
      "  n_iter_i = _check_optimize_result(\n"
     ]
    },
    {
     "name": "stdout",
     "output_type": "stream",
     "text": [
      "[0.9277777777777778, 0.8666666666666667, 0.9387186629526463, 0.935933147632312, 0.9080779944289693]\n",
      "[0.9694444444444444, 0.9472222222222222, 0.9832869080779945, 0.9888579387186629, 0.9415041782729805]\n",
      "[0.9388888888888889, 0.9138888888888889, 0.958217270194986, 0.9637883008356546, 0.9220055710306406]\n"
     ]
    }
   ],
   "source": [
    "score_lr = []\n",
    "score_svc = []\n",
    "score_rf = []\n",
    "for train_index,test_index in kf.split(digits.data):\n",
    "    x_train,x_test,y_train,y_test = digits.data[train_index],digits.data[test_index],digits.target[train_index],digits.target[test_index]\n",
    "    score_lr.append(get_score(LogisticRegression(),x_train,x_test,y_train,y_test))\n",
    "    score_svc.append(get_score(SVC(),x_train,x_test,y_train,y_test))\n",
    "    score_rf.append(get_score(RandomForestClassifier(),x_train,x_test,y_train,y_test))\n",
    "print(score_lr)\n",
    "print(score_svc)\n",
    "print(score_rf)"
   ]
  },
  {
   "cell_type": "code",
   "execution_count": 134,
   "metadata": {},
   "outputs": [
    {
     "name": "stderr",
     "output_type": "stream",
     "text": [
      "c:\\users\\kousi\\appdata\\local\\programs\\python\\python38\\lib\\site-packages\\sklearn\\linear_model\\_logistic.py:763: ConvergenceWarning: lbfgs failed to converge (status=1):\n",
      "STOP: TOTAL NO. of ITERATIONS REACHED LIMIT.\n",
      "\n",
      "Increase the number of iterations (max_iter) or scale the data as shown in:\n",
      "    https://scikit-learn.org/stable/modules/preprocessing.html\n",
      "Please also refer to the documentation for alternative solver options:\n",
      "    https://scikit-learn.org/stable/modules/linear_model.html#logistic-regression\n",
      "  n_iter_i = _check_optimize_result(\n",
      "c:\\users\\kousi\\appdata\\local\\programs\\python\\python38\\lib\\site-packages\\sklearn\\linear_model\\_logistic.py:763: ConvergenceWarning: lbfgs failed to converge (status=1):\n",
      "STOP: TOTAL NO. of ITERATIONS REACHED LIMIT.\n",
      "\n",
      "Increase the number of iterations (max_iter) or scale the data as shown in:\n",
      "    https://scikit-learn.org/stable/modules/preprocessing.html\n",
      "Please also refer to the documentation for alternative solver options:\n",
      "    https://scikit-learn.org/stable/modules/linear_model.html#logistic-regression\n",
      "  n_iter_i = _check_optimize_result(\n",
      "c:\\users\\kousi\\appdata\\local\\programs\\python\\python38\\lib\\site-packages\\sklearn\\linear_model\\_logistic.py:763: ConvergenceWarning: lbfgs failed to converge (status=1):\n",
      "STOP: TOTAL NO. of ITERATIONS REACHED LIMIT.\n",
      "\n",
      "Increase the number of iterations (max_iter) or scale the data as shown in:\n",
      "    https://scikit-learn.org/stable/modules/preprocessing.html\n",
      "Please also refer to the documentation for alternative solver options:\n",
      "    https://scikit-learn.org/stable/modules/linear_model.html#logistic-regression\n",
      "  n_iter_i = _check_optimize_result(\n",
      "c:\\users\\kousi\\appdata\\local\\programs\\python\\python38\\lib\\site-packages\\sklearn\\linear_model\\_logistic.py:763: ConvergenceWarning: lbfgs failed to converge (status=1):\n",
      "STOP: TOTAL NO. of ITERATIONS REACHED LIMIT.\n",
      "\n",
      "Increase the number of iterations (max_iter) or scale the data as shown in:\n",
      "    https://scikit-learn.org/stable/modules/preprocessing.html\n",
      "Please also refer to the documentation for alternative solver options:\n",
      "    https://scikit-learn.org/stable/modules/linear_model.html#logistic-regression\n",
      "  n_iter_i = _check_optimize_result(\n",
      "c:\\users\\kousi\\appdata\\local\\programs\\python\\python38\\lib\\site-packages\\sklearn\\linear_model\\_logistic.py:763: ConvergenceWarning: lbfgs failed to converge (status=1):\n",
      "STOP: TOTAL NO. of ITERATIONS REACHED LIMIT.\n",
      "\n",
      "Increase the number of iterations (max_iter) or scale the data as shown in:\n",
      "    https://scikit-learn.org/stable/modules/preprocessing.html\n",
      "Please also refer to the documentation for alternative solver options:\n",
      "    https://scikit-learn.org/stable/modules/linear_model.html#logistic-regression\n",
      "  n_iter_i = _check_optimize_result(\n"
     ]
    },
    {
     "data": {
      "text/plain": [
       "array([0.92222222, 0.86944444, 0.94150418, 0.93871866, 0.89693593])"
      ]
     },
     "execution_count": 134,
     "metadata": {},
     "output_type": "execute_result"
    }
   ],
   "source": [
    "from sklearn.model_selection import cross_val_score\n",
    "cross_val_score(LogisticRegression(),digits.data,digits.target)"
   ]
  },
  {
   "cell_type": "code",
   "execution_count": 139,
   "metadata": {},
   "outputs": [
    {
     "name": "stdout",
     "output_type": "stream",
     "text": [
      "[ 360  361  362 ... 1794 1795 1796] [  0   1   2   3   4   5   6   7   8   9  10  11  12  13  14  15  16  17\n",
      "  18  19  20  21  22  23  24  25  26  27  28  29  30  31  32  33  34  35\n",
      "  36  37  38  39  40  41  42  43  44  45  46  47  48  49  50  51  52  53\n",
      "  54  55  56  57  58  59  60  61  62  63  64  65  66  67  68  69  70  71\n",
      "  72  73  74  75  76  77  78  79  80  81  82  83  84  85  86  87  88  89\n",
      "  90  91  92  93  94  95  96  97  98  99 100 101 102 103 104 105 106 107\n",
      " 108 109 110 111 112 113 114 115 116 117 118 119 120 121 122 123 124 125\n",
      " 126 127 128 129 130 131 132 133 134 135 136 137 138 139 140 141 142 143\n",
      " 144 145 146 147 148 149 150 151 152 153 154 155 156 157 158 159 160 161\n",
      " 162 163 164 165 166 167 168 169 170 171 172 173 174 175 176 177 178 179\n",
      " 180 181 182 183 184 185 186 187 188 189 190 191 192 193 194 195 196 197\n",
      " 198 199 200 201 202 203 204 205 206 207 208 209 210 211 212 213 214 215\n",
      " 216 217 218 219 220 221 222 223 224 225 226 227 228 229 230 231 232 233\n",
      " 234 235 236 237 238 239 240 241 242 243 244 245 246 247 248 249 250 251\n",
      " 252 253 254 255 256 257 258 259 260 261 262 263 264 265 266 267 268 269\n",
      " 270 271 272 273 274 275 276 277 278 279 280 281 282 283 284 285 286 287\n",
      " 288 289 290 291 292 293 294 295 296 297 298 299 300 301 302 303 304 305\n",
      " 306 307 308 309 310 311 312 313 314 315 316 317 318 319 320 321 322 323\n",
      " 324 325 326 327 328 329 330 331 332 333 334 335 336 337 338 339 340 341\n",
      " 342 343 344 345 346 347 348 349 350 351 352 353 354 355 356 357 358 359]\n",
      "[   0    1    2 ... 1794 1795 1796] [360 361 362 363 364 365 366 367 368 369 370 371 372 373 374 375 376 377\n",
      " 378 379 380 381 382 383 384 385 386 387 388 389 390 391 392 393 394 395\n",
      " 396 397 398 399 400 401 402 403 404 405 406 407 408 409 410 411 412 413\n",
      " 414 415 416 417 418 419 420 421 422 423 424 425 426 427 428 429 430 431\n",
      " 432 433 434 435 436 437 438 439 440 441 442 443 444 445 446 447 448 449\n",
      " 450 451 452 453 454 455 456 457 458 459 460 461 462 463 464 465 466 467\n",
      " 468 469 470 471 472 473 474 475 476 477 478 479 480 481 482 483 484 485\n",
      " 486 487 488 489 490 491 492 493 494 495 496 497 498 499 500 501 502 503\n",
      " 504 505 506 507 508 509 510 511 512 513 514 515 516 517 518 519 520 521\n",
      " 522 523 524 525 526 527 528 529 530 531 532 533 534 535 536 537 538 539\n",
      " 540 541 542 543 544 545 546 547 548 549 550 551 552 553 554 555 556 557\n",
      " 558 559 560 561 562 563 564 565 566 567 568 569 570 571 572 573 574 575\n",
      " 576 577 578 579 580 581 582 583 584 585 586 587 588 589 590 591 592 593\n",
      " 594 595 596 597 598 599 600 601 602 603 604 605 606 607 608 609 610 611\n",
      " 612 613 614 615 616 617 618 619 620 621 622 623 624 625 626 627 628 629\n",
      " 630 631 632 633 634 635 636 637 638 639 640 641 642 643 644 645 646 647\n",
      " 648 649 650 651 652 653 654 655 656 657 658 659 660 661 662 663 664 665\n",
      " 666 667 668 669 670 671 672 673 674 675 676 677 678 679 680 681 682 683\n",
      " 684 685 686 687 688 689 690 691 692 693 694 695 696 697 698 699 700 701\n",
      " 702 703 704 705 706 707 708 709 710 711 712 713 714 715 716 717 718 719]\n",
      "[   0    1    2 ... 1794 1795 1796] [ 720  721  722  723  724  725  726  727  728  729  730  731  732  733\n",
      "  734  735  736  737  738  739  740  741  742  743  744  745  746  747\n",
      "  748  749  750  751  752  753  754  755  756  757  758  759  760  761\n",
      "  762  763  764  765  766  767  768  769  770  771  772  773  774  775\n",
      "  776  777  778  779  780  781  782  783  784  785  786  787  788  789\n",
      "  790  791  792  793  794  795  796  797  798  799  800  801  802  803\n",
      "  804  805  806  807  808  809  810  811  812  813  814  815  816  817\n",
      "  818  819  820  821  822  823  824  825  826  827  828  829  830  831\n",
      "  832  833  834  835  836  837  838  839  840  841  842  843  844  845\n",
      "  846  847  848  849  850  851  852  853  854  855  856  857  858  859\n",
      "  860  861  862  863  864  865  866  867  868  869  870  871  872  873\n",
      "  874  875  876  877  878  879  880  881  882  883  884  885  886  887\n",
      "  888  889  890  891  892  893  894  895  896  897  898  899  900  901\n",
      "  902  903  904  905  906  907  908  909  910  911  912  913  914  915\n",
      "  916  917  918  919  920  921  922  923  924  925  926  927  928  929\n",
      "  930  931  932  933  934  935  936  937  938  939  940  941  942  943\n",
      "  944  945  946  947  948  949  950  951  952  953  954  955  956  957\n",
      "  958  959  960  961  962  963  964  965  966  967  968  969  970  971\n",
      "  972  973  974  975  976  977  978  979  980  981  982  983  984  985\n",
      "  986  987  988  989  990  991  992  993  994  995  996  997  998  999\n",
      " 1000 1001 1002 1003 1004 1005 1006 1007 1008 1009 1010 1011 1012 1013\n",
      " 1014 1015 1016 1017 1018 1019 1020 1021 1022 1023 1024 1025 1026 1027\n",
      " 1028 1029 1030 1031 1032 1033 1034 1035 1036 1037 1038 1039 1040 1041\n",
      " 1042 1043 1044 1045 1046 1047 1048 1049 1050 1051 1052 1053 1054 1055\n",
      " 1056 1057 1058 1059 1060 1061 1062 1063 1064 1065 1066 1067 1068 1069\n",
      " 1070 1071 1072 1073 1074 1075 1076 1077 1078]\n",
      "[   0    1    2 ... 1794 1795 1796] [1079 1080 1081 1082 1083 1084 1085 1086 1087 1088 1089 1090 1091 1092\n",
      " 1093 1094 1095 1096 1097 1098 1099 1100 1101 1102 1103 1104 1105 1106\n",
      " 1107 1108 1109 1110 1111 1112 1113 1114 1115 1116 1117 1118 1119 1120\n",
      " 1121 1122 1123 1124 1125 1126 1127 1128 1129 1130 1131 1132 1133 1134\n",
      " 1135 1136 1137 1138 1139 1140 1141 1142 1143 1144 1145 1146 1147 1148\n",
      " 1149 1150 1151 1152 1153 1154 1155 1156 1157 1158 1159 1160 1161 1162\n",
      " 1163 1164 1165 1166 1167 1168 1169 1170 1171 1172 1173 1174 1175 1176\n",
      " 1177 1178 1179 1180 1181 1182 1183 1184 1185 1186 1187 1188 1189 1190\n",
      " 1191 1192 1193 1194 1195 1196 1197 1198 1199 1200 1201 1202 1203 1204\n",
      " 1205 1206 1207 1208 1209 1210 1211 1212 1213 1214 1215 1216 1217 1218\n",
      " 1219 1220 1221 1222 1223 1224 1225 1226 1227 1228 1229 1230 1231 1232\n",
      " 1233 1234 1235 1236 1237 1238 1239 1240 1241 1242 1243 1244 1245 1246\n",
      " 1247 1248 1249 1250 1251 1252 1253 1254 1255 1256 1257 1258 1259 1260\n",
      " 1261 1262 1263 1264 1265 1266 1267 1268 1269 1270 1271 1272 1273 1274\n",
      " 1275 1276 1277 1278 1279 1280 1281 1282 1283 1284 1285 1286 1287 1288\n",
      " 1289 1290 1291 1292 1293 1294 1295 1296 1297 1298 1299 1300 1301 1302\n",
      " 1303 1304 1305 1306 1307 1308 1309 1310 1311 1312 1313 1314 1315 1316\n",
      " 1317 1318 1319 1320 1321 1322 1323 1324 1325 1326 1327 1328 1329 1330\n",
      " 1331 1332 1333 1334 1335 1336 1337 1338 1339 1340 1341 1342 1343 1344\n",
      " 1345 1346 1347 1348 1349 1350 1351 1352 1353 1354 1355 1356 1357 1358\n",
      " 1359 1360 1361 1362 1363 1364 1365 1366 1367 1368 1369 1370 1371 1372\n",
      " 1373 1374 1375 1376 1377 1378 1379 1380 1381 1382 1383 1384 1385 1386\n",
      " 1387 1388 1389 1390 1391 1392 1393 1394 1395 1396 1397 1398 1399 1400\n",
      " 1401 1402 1403 1404 1405 1406 1407 1408 1409 1410 1411 1412 1413 1414\n",
      " 1415 1416 1417 1418 1419 1420 1421 1422 1423 1424 1425 1426 1427 1428\n",
      " 1429 1430 1431 1432 1433 1434 1435 1436 1437]\n",
      "[   0    1    2 ... 1435 1436 1437] [1438 1439 1440 1441 1442 1443 1444 1445 1446 1447 1448 1449 1450 1451\n",
      " 1452 1453 1454 1455 1456 1457 1458 1459 1460 1461 1462 1463 1464 1465\n",
      " 1466 1467 1468 1469 1470 1471 1472 1473 1474 1475 1476 1477 1478 1479\n",
      " 1480 1481 1482 1483 1484 1485 1486 1487 1488 1489 1490 1491 1492 1493\n",
      " 1494 1495 1496 1497 1498 1499 1500 1501 1502 1503 1504 1505 1506 1507\n",
      " 1508 1509 1510 1511 1512 1513 1514 1515 1516 1517 1518 1519 1520 1521\n",
      " 1522 1523 1524 1525 1526 1527 1528 1529 1530 1531 1532 1533 1534 1535\n",
      " 1536 1537 1538 1539 1540 1541 1542 1543 1544 1545 1546 1547 1548 1549\n",
      " 1550 1551 1552 1553 1554 1555 1556 1557 1558 1559 1560 1561 1562 1563\n",
      " 1564 1565 1566 1567 1568 1569 1570 1571 1572 1573 1574 1575 1576 1577\n",
      " 1578 1579 1580 1581 1582 1583 1584 1585 1586 1587 1588 1589 1590 1591\n",
      " 1592 1593 1594 1595 1596 1597 1598 1599 1600 1601 1602 1603 1604 1605\n",
      " 1606 1607 1608 1609 1610 1611 1612 1613 1614 1615 1616 1617 1618 1619\n",
      " 1620 1621 1622 1623 1624 1625 1626 1627 1628 1629 1630 1631 1632 1633\n",
      " 1634 1635 1636 1637 1638 1639 1640 1641 1642 1643 1644 1645 1646 1647\n",
      " 1648 1649 1650 1651 1652 1653 1654 1655 1656 1657 1658 1659 1660 1661\n",
      " 1662 1663 1664 1665 1666 1667 1668 1669 1670 1671 1672 1673 1674 1675\n",
      " 1676 1677 1678 1679 1680 1681 1682 1683 1684 1685 1686 1687 1688 1689\n",
      " 1690 1691 1692 1693 1694 1695 1696 1697 1698 1699 1700 1701 1702 1703\n",
      " 1704 1705 1706 1707 1708 1709 1710 1711 1712 1713 1714 1715 1716 1717\n",
      " 1718 1719 1720 1721 1722 1723 1724 1725 1726 1727 1728 1729 1730 1731\n",
      " 1732 1733 1734 1735 1736 1737 1738 1739 1740 1741 1742 1743 1744 1745\n",
      " 1746 1747 1748 1749 1750 1751 1752 1753 1754 1755 1756 1757 1758 1759\n",
      " 1760 1761 1762 1763 1764 1765 1766 1767 1768 1769 1770 1771 1772 1773\n",
      " 1774 1775 1776 1777 1778 1779 1780 1781 1782 1783 1784 1785 1786 1787\n",
      " 1788 1789 1790 1791 1792 1793 1794 1795 1796]\n"
     ]
    }
   ],
   "source": [
    "for x,y in kf.split(digits.data):\n",
    "    print(x,y)"
   ]
  },
  {
   "cell_type": "markdown",
   "metadata": {},
   "source": [
    "# K-Means Clustering"
   ]
  },
  {
   "cell_type": "code",
   "execution_count": 164,
   "metadata": {},
   "outputs": [],
   "source": [
    "from sklearn.cluster import KMeans\n",
    "from sklearn.preprocessing import MinMaxScaler"
   ]
  },
  {
   "cell_type": "code",
   "execution_count": 165,
   "metadata": {},
   "outputs": [],
   "source": [
    "df = pd.read_csv('income.csv')"
   ]
  },
  {
   "cell_type": "code",
   "execution_count": 166,
   "metadata": {},
   "outputs": [
    {
     "data": {
      "text/plain": [
       "<matplotlib.collections.PathCollection at 0x25d110b89a0>"
      ]
     },
     "execution_count": 166,
     "metadata": {},
     "output_type": "execute_result"
    },
    {
     "data": {
      "image/png": "[encoded data removed]",
      "text/plain": [
       "<Figure size 432x288 with 1 Axes>"
      ]
     },
     "metadata": {
      "needs_background": "light"
     },
     "output_type": "display_data"
    }
   ],
   "source": [
    "plt.scatter(df.Age,df.Income)"
   ]
  },
  {
   "cell_type": "code",
   "execution_count": 176,
   "metadata": {},
   "outputs": [],
   "source": [
    "scaler = MinMaxScaler()\n",
    "scaler.fit(df[['Income']])\n",
    "df['Income'] = scaler.transform(df[['Income']])\n",
    "\n",
    "scaler.fit(df[['Age']])\n",
    "df['Age'] = scaler.transform(df[['Age']])"
   ]
  },
  {
   "cell_type": "code",
   "execution_count": 178,
   "metadata": {},
   "outputs": [],
   "source": [
    "km = KMeans(n_clusters = 3)\n",
    "y_predicted = km.fit_predict(df[['Age','Income']])"
   ]
  },
  {
   "cell_type": "code",
   "execution_count": 179,
   "metadata": {},
   "outputs": [],
   "source": [
    "df['cluster'] = y_predicted"
   ]
  },
  {
   "cell_type": "code",
   "execution_count": 180,
   "metadata": {},
   "outputs": [
    {
     "data": {
      "text/plain": [
       "Text(0, 0.5, 'Age')"
      ]
     },
     "execution_count": 180,
     "metadata": {},
     "output_type": "execute_result"
    },
    {
     "data": {
      "image/png": "[encoded data removed]",
      "text/plain": [
       "<Figure size 432x288 with 1 Axes>"
      ]
     },
     "metadata": {
      "needs_background": "light"
     },
     "output_type": "display_data"
    }
   ],
   "source": [
    "df1 = df[df['cluster'] == 0]\n",
    "df2 = df[df['cluster'] == 1]\n",
    "df3 = df[df['cluster'] == 2]\n",
    "\n",
    "plt.scatter(df1.Age,df1['Income'],color='red')\n",
    "plt.scatter(df2.Age,df2['Income'],color='green')\n",
    "plt.scatter(df3.Age,df3['Income'],color='blue')\n",
    "\n",
    "plt.xlabel('Income')\n",
    "plt.ylabel('Age')"
   ]
  },
  {
   "cell_type": "code",
   "execution_count": 192,
   "metadata": {},
   "outputs": [
    {
     "data": {
      "text/plain": [
       "array([[0.79411765, 0.14102564],\n",
       "       [0.91176471, 0.94017094],\n",
       "       [0.10084034, 0.08485958],\n",
       "       [0.58823529, 0.75641026],\n",
       "       [0.17647059, 0.38461538],\n",
       "       [0.94117647, 0.15811966],\n",
       "       [0.82352941, 0.30769231],\n",
       "       [0.35294118, 0.06837607],\n",
       "       [0.68627451, 0.96296296]])"
      ]
     },
     "execution_count": 192,
     "metadata": {},
     "output_type": "execute_result"
    }
   ],
   "source": [
    "km.cluster_centers_  #this gives the centroid value for each cluster"
   ]
  },
  {
   "cell_type": "code",
   "execution_count": 193,
   "metadata": {},
   "outputs": [
    {
     "data": {
      "text/plain": [
       "0.11073569527418643"
      ]
     },
     "execution_count": 193,
     "metadata": {},
     "output_type": "execute_result"
    }
   ],
   "source": [
    "km.inertia_  #this gives the sum of squared error"
   ]
  },
  {
   "cell_type": "code",
   "execution_count": 195,
   "metadata": {},
   "outputs": [],
   "source": [
    "k_range = range(1,10)\n",
    "sse = []\n",
    "for k in k_range:\n",
    "    km = KMeans(n_clusters=k)\n",
    "    km.fit_predict(df[['Age','Income']])\n",
    "    sse.append(km.inertia_)"
   ]
  },
  {
   "cell_type": "code",
   "execution_count": 194,
   "metadata": {},
   "outputs": [
    {
     "data": {
      "text/plain": [
       "[5.434011511988176,\n",
       " 2.0911363886990766,\n",
       " 0.4750783498553095,\n",
       " 0.3491047094419565,\n",
       " 0.26217927623452125,\n",
       " 0.2105547899547249,\n",
       " 0.16869711728567785,\n",
       " 0.14090581089405504,\n",
       " 0.11073569527418643]"
      ]
     },
     "execution_count": 194,
     "metadata": {},
     "output_type": "execute_result"
    }
   ],
   "source": [
    "sse"
   ]
  },
  {
   "cell_type": "code",
   "execution_count": 196,
   "metadata": {},
   "outputs": [
    {
     "data": {
      "text/plain": [
       "[<matplotlib.lines.Line2D at 0x25d1101c760>]"
      ]
     },
     "execution_count": 196,
     "metadata": {},
     "output_type": "execute_result"
    },
    {
     "data": {
      "image/png": "[encoded data removed]",
      "text/plain": [
       "<Figure size 432x288 with 1 Axes>"
      ]
     },
     "metadata": {
      "needs_background": "light"
     },
     "output_type": "display_data"
    }
   ],
   "source": [
    "plt.xlabel('K')\n",
    "plt.ylabel('Sum of squared error')\n",
    "plt.plot(k_range,sse)"
   ]
  },
  {
   "cell_type": "markdown",
   "metadata": {},
   "source": [
    "# Naive Bayes"
   ]
  },
  {
   "cell_type": "code",
   "execution_count": 197,
   "metadata": {},
   "outputs": [],
   "source": [
    "df = pd.read_csv('titanic.csv')"
   ]
  },
  {
   "cell_type": "code",
   "execution_count": 200,
   "metadata": {},
   "outputs": [],
   "source": [
    "df.drop(['PassengerId','SibSp','Parch','Ticket','Fare','Cabin','Embarked'],inplace=True,axis='columns')"
   ]
  },
  {
   "cell_type": "code",
   "execution_count": 201,
   "metadata": {},
   "outputs": [
    {
     "data": {
      "text/html": [
       "<div>\n",
       "<style scoped>\n",
       "    .dataframe tbody tr th:only-of-type {\n",
       "        vertical-align: middle;\n",
       "    }\n",
       "\n",
       "    .dataframe tbody tr th {\n",
       "        vertical-align: top;\n",
       "    }\n",
       "\n",
       "    .dataframe thead th {\n",
       "        text-align: right;\n",
       "    }\n",
       "</style>\n",
       "<table border=\"1\" class=\"dataframe\">\n",
       "  <thead>\n",
       "    <tr style=\"text-align: right;\">\n",
       "      <th></th>\n",
       "      <th>Survived</th>\n",
       "      <th>Pclass</th>\n",
       "      <th>Name</th>\n",
       "      <th>Sex</th>\n",
       "      <th>Age</th>\n",
       "    </tr>\n",
       "  </thead>\n",
       "  <tbody>\n",
       "    <tr>\n",
       "      <th>0</th>\n",
       "      <td>0</td>\n",
       "      <td>3</td>\n",
       "      <td>Braund, Mr. Owen Harris</td>\n",
       "      <td>male</td>\n",
       "      <td>22.0</td>\n",
       "    </tr>\n",
       "    <tr>\n",
       "      <th>1</th>\n",
       "      <td>1</td>\n",
       "      <td>1</td>\n",
       "      <td>Cumings, Mrs. John Bradley (Florence Briggs Th...</td>\n",
       "      <td>female</td>\n",
       "      <td>38.0</td>\n",
       "    </tr>\n",
       "    <tr>\n",
       "      <th>2</th>\n",
       "      <td>1</td>\n",
       "      <td>3</td>\n",
       "      <td>Heikkinen, Miss. Laina</td>\n",
       "      <td>female</td>\n",
       "      <td>26.0</td>\n",
       "    </tr>\n",
       "    <tr>\n",
       "      <th>3</th>\n",
       "      <td>1</td>\n",
       "      <td>1</td>\n",
       "      <td>Futrelle, Mrs. Jacques Heath (Lily May Peel)</td>\n",
       "      <td>female</td>\n",
       "      <td>35.0</td>\n",
       "    </tr>\n",
       "    <tr>\n",
       "      <th>4</th>\n",
       "      <td>0</td>\n",
       "      <td>3</td>\n",
       "      <td>Allen, Mr. William Henry</td>\n",
       "      <td>male</td>\n",
       "      <td>35.0</td>\n",
       "    </tr>\n",
       "    <tr>\n",
       "      <th>...</th>\n",
       "      <td>...</td>\n",
       "      <td>...</td>\n",
       "      <td>...</td>\n",
       "      <td>...</td>\n",
       "      <td>...</td>\n",
       "    </tr>\n",
       "    <tr>\n",
       "      <th>886</th>\n",
       "      <td>0</td>\n",
       "      <td>2</td>\n",
       "      <td>Montvila, Rev. Juozas</td>\n",
       "      <td>male</td>\n",
       "      <td>27.0</td>\n",
       "    </tr>\n",
       "    <tr>\n",
       "      <th>887</th>\n",
       "      <td>1</td>\n",
       "      <td>1</td>\n",
       "      <td>Graham, Miss. Margaret Edith</td>\n",
       "      <td>female</td>\n",
       "      <td>19.0</td>\n",
       "    </tr>\n",
       "    <tr>\n",
       "      <th>888</th>\n",
       "      <td>0</td>\n",
       "      <td>3</td>\n",
       "      <td>Johnston, Miss. Catherine Helen \"Carrie\"</td>\n",
       "      <td>female</td>\n",
       "      <td>NaN</td>\n",
       "    </tr>\n",
       "    <tr>\n",
       "      <th>889</th>\n",
       "      <td>1</td>\n",
       "      <td>1</td>\n",
       "      <td>Behr, Mr. Karl Howell</td>\n",
       "      <td>male</td>\n",
       "      <td>26.0</td>\n",
       "    </tr>\n",
       "    <tr>\n",
       "      <th>890</th>\n",
       "      <td>0</td>\n",
       "      <td>3</td>\n",
       "      <td>Dooley, Mr. Patrick</td>\n",
       "      <td>male</td>\n",
       "      <td>32.0</td>\n",
       "    </tr>\n",
       "  </tbody>\n",
       "</table>\n",
       "<p>891 rows × 5 columns</p>\n",
       "</div>"
      ],
      "text/plain": [
       "     Survived  Pclass                                               Name  \\\n",
       "0           0       3                            Braund, Mr. Owen Harris   \n",
       "1           1       1  Cumings, Mrs. John Bradley (Florence Briggs Th...   \n",
       "2           1       3                             Heikkinen, Miss. Laina   \n",
       "3           1       1       Futrelle, Mrs. Jacques Heath (Lily May Peel)   \n",
       "4           0       3                           Allen, Mr. William Henry   \n",
       "..        ...     ...                                                ...   \n",
       "886         0       2                              Montvila, Rev. Juozas   \n",
       "887         1       1                       Graham, Miss. Margaret Edith   \n",
       "888         0       3           Johnston, Miss. Catherine Helen \"Carrie\"   \n",
       "889         1       1                              Behr, Mr. Karl Howell   \n",
       "890         0       3                                Dooley, Mr. Patrick   \n",
       "\n",
       "        Sex   Age  \n",
       "0      male  22.0  \n",
       "1    female  38.0  \n",
       "2    female  26.0  \n",
       "3    female  35.0  \n",
       "4      male  35.0  \n",
       "..      ...   ...  \n",
       "886    male  27.0  \n",
       "887  female  19.0  \n",
       "888  female   NaN  \n",
       "889    male  26.0  \n",
       "890    male  32.0  \n",
       "\n",
       "[891 rows x 5 columns]"
      ]
     },
     "execution_count": 201,
     "metadata": {},
     "output_type": "execute_result"
    }
   ],
   "source": [
    "df"
   ]
  },
  {
   "cell_type": "code",
   "execution_count": 205,
   "metadata": {},
   "outputs": [],
   "source": [
    "target = df.Survived\n",
    "inputs = df.drop(['Survived','Name'],axis='columns')"
   ]
  },
  {
   "cell_type": "code",
   "execution_count": 206,
   "metadata": {},
   "outputs": [
    {
     "data": {
      "text/html": [
       "<div>\n",
       "<style scoped>\n",
       "    .dataframe tbody tr th:only-of-type {\n",
       "        vertical-align: middle;\n",
       "    }\n",
       "\n",
       "    .dataframe tbody tr th {\n",
       "        vertical-align: top;\n",
       "    }\n",
       "\n",
       "    .dataframe thead th {\n",
       "        text-align: right;\n",
       "    }\n",
       "</style>\n",
       "<table border=\"1\" class=\"dataframe\">\n",
       "  <thead>\n",
       "    <tr style=\"text-align: right;\">\n",
       "      <th></th>\n",
       "      <th>Pclass</th>\n",
       "      <th>Sex</th>\n",
       "      <th>Age</th>\n",
       "    </tr>\n",
       "  </thead>\n",
       "  <tbody>\n",
       "    <tr>\n",
       "      <th>0</th>\n",
       "      <td>3</td>\n",
       "      <td>male</td>\n",
       "      <td>22.0</td>\n",
       "    </tr>\n",
       "    <tr>\n",
       "      <th>1</th>\n",
       "      <td>1</td>\n",
       "      <td>female</td>\n",
       "      <td>38.0</td>\n",
       "    </tr>\n",
       "    <tr>\n",
       "      <th>2</th>\n",
       "      <td>3</td>\n",
       "      <td>female</td>\n",
       "      <td>26.0</td>\n",
       "    </tr>\n",
       "    <tr>\n",
       "      <th>3</th>\n",
       "      <td>1</td>\n",
       "      <td>female</td>\n",
       "      <td>35.0</td>\n",
       "    </tr>\n",
       "    <tr>\n",
       "      <th>4</th>\n",
       "      <td>3</td>\n",
       "      <td>male</td>\n",
       "      <td>35.0</td>\n",
       "    </tr>\n",
       "    <tr>\n",
       "      <th>...</th>\n",
       "      <td>...</td>\n",
       "      <td>...</td>\n",
       "      <td>...</td>\n",
       "    </tr>\n",
       "    <tr>\n",
       "      <th>886</th>\n",
       "      <td>2</td>\n",
       "      <td>male</td>\n",
       "      <td>27.0</td>\n",
       "    </tr>\n",
       "    <tr>\n",
       "      <th>887</th>\n",
       "      <td>1</td>\n",
       "      <td>female</td>\n",
       "      <td>19.0</td>\n",
       "    </tr>\n",
       "    <tr>\n",
       "      <th>888</th>\n",
       "      <td>3</td>\n",
       "      <td>female</td>\n",
       "      <td>NaN</td>\n",
       "    </tr>\n",
       "    <tr>\n",
       "      <th>889</th>\n",
       "      <td>1</td>\n",
       "      <td>male</td>\n",
       "      <td>26.0</td>\n",
       "    </tr>\n",
       "    <tr>\n",
       "      <th>890</th>\n",
       "      <td>3</td>\n",
       "      <td>male</td>\n",
       "      <td>32.0</td>\n",
       "    </tr>\n",
       "  </tbody>\n",
       "</table>\n",
       "<p>891 rows × 3 columns</p>\n",
       "</div>"
      ],
      "text/plain": [
       "     Pclass     Sex   Age\n",
       "0         3    male  22.0\n",
       "1         1  female  38.0\n",
       "2         3  female  26.0\n",
       "3         1  female  35.0\n",
       "4         3    male  35.0\n",
       "..      ...     ...   ...\n",
       "886       2    male  27.0\n",
       "887       1  female  19.0\n",
       "888       3  female   NaN\n",
       "889       1    male  26.0\n",
       "890       3    male  32.0\n",
       "\n",
       "[891 rows x 3 columns]"
      ]
     },
     "execution_count": 206,
     "metadata": {},
     "output_type": "execute_result"
    }
   ],
   "source": [
    "inputs"
   ]
  },
  {
   "cell_type": "code",
   "execution_count": 208,
   "metadata": {},
   "outputs": [],
   "source": [
    "sex = pd.get_dummies(inputs.Sex)"
   ]
  },
  {
   "cell_type": "code",
   "execution_count": 212,
   "metadata": {},
   "outputs": [],
   "source": [
    "inputs = pd.concat([inputs,sex],axis='columns')"
   ]
  },
  {
   "cell_type": "code",
   "execution_count": 218,
   "metadata": {},
   "outputs": [],
   "source": [
    "inputs.drop('Sex',axis='columns',inplace=True)"
   ]
  },
  {
   "cell_type": "code",
   "execution_count": 219,
   "metadata": {},
   "outputs": [],
   "source": [
    "inputs.Age = inputs.Age.fillna(inputs.Age.mean())"
   ]
  },
  {
   "cell_type": "code",
   "execution_count": 220,
   "metadata": {},
   "outputs": [
    {
     "data": {
      "text/html": [
       "<div>\n",
       "<style scoped>\n",
       "    .dataframe tbody tr th:only-of-type {\n",
       "        vertical-align: middle;\n",
       "    }\n",
       "\n",
       "    .dataframe tbody tr th {\n",
       "        vertical-align: top;\n",
       "    }\n",
       "\n",
       "    .dataframe thead th {\n",
       "        text-align: right;\n",
       "    }\n",
       "</style>\n",
       "<table border=\"1\" class=\"dataframe\">\n",
       "  <thead>\n",
       "    <tr style=\"text-align: right;\">\n",
       "      <th></th>\n",
       "      <th>Pclass</th>\n",
       "      <th>Age</th>\n",
       "      <th>female</th>\n",
       "      <th>male</th>\n",
       "    </tr>\n",
       "  </thead>\n",
       "  <tbody>\n",
       "    <tr>\n",
       "      <th>0</th>\n",
       "      <td>3</td>\n",
       "      <td>22.000000</td>\n",
       "      <td>0</td>\n",
       "      <td>1</td>\n",
       "    </tr>\n",
       "    <tr>\n",
       "      <th>1</th>\n",
       "      <td>1</td>\n",
       "      <td>38.000000</td>\n",
       "      <td>1</td>\n",
       "      <td>0</td>\n",
       "    </tr>\n",
       "    <tr>\n",
       "      <th>2</th>\n",
       "      <td>3</td>\n",
       "      <td>26.000000</td>\n",
       "      <td>1</td>\n",
       "      <td>0</td>\n",
       "    </tr>\n",
       "    <tr>\n",
       "      <th>3</th>\n",
       "      <td>1</td>\n",
       "      <td>35.000000</td>\n",
       "      <td>1</td>\n",
       "      <td>0</td>\n",
       "    </tr>\n",
       "    <tr>\n",
       "      <th>4</th>\n",
       "      <td>3</td>\n",
       "      <td>35.000000</td>\n",
       "      <td>0</td>\n",
       "      <td>1</td>\n",
       "    </tr>\n",
       "    <tr>\n",
       "      <th>...</th>\n",
       "      <td>...</td>\n",
       "      <td>...</td>\n",
       "      <td>...</td>\n",
       "      <td>...</td>\n",
       "    </tr>\n",
       "    <tr>\n",
       "      <th>886</th>\n",
       "      <td>2</td>\n",
       "      <td>27.000000</td>\n",
       "      <td>0</td>\n",
       "      <td>1</td>\n",
       "    </tr>\n",
       "    <tr>\n",
       "      <th>887</th>\n",
       "      <td>1</td>\n",
       "      <td>19.000000</td>\n",
       "      <td>1</td>\n",
       "      <td>0</td>\n",
       "    </tr>\n",
       "    <tr>\n",
       "      <th>888</th>\n",
       "      <td>3</td>\n",
       "      <td>29.699118</td>\n",
       "      <td>1</td>\n",
       "      <td>0</td>\n",
       "    </tr>\n",
       "    <tr>\n",
       "      <th>889</th>\n",
       "      <td>1</td>\n",
       "      <td>26.000000</td>\n",
       "      <td>0</td>\n",
       "      <td>1</td>\n",
       "    </tr>\n",
       "    <tr>\n",
       "      <th>890</th>\n",
       "      <td>3</td>\n",
       "      <td>32.000000</td>\n",
       "      <td>0</td>\n",
       "      <td>1</td>\n",
       "    </tr>\n",
       "  </tbody>\n",
       "</table>\n",
       "<p>891 rows × 4 columns</p>\n",
       "</div>"
      ],
      "text/plain": [
       "     Pclass        Age  female  male\n",
       "0         3  22.000000       0     1\n",
       "1         1  38.000000       1     0\n",
       "2         3  26.000000       1     0\n",
       "3         1  35.000000       1     0\n",
       "4         3  35.000000       0     1\n",
       "..      ...        ...     ...   ...\n",
       "886       2  27.000000       0     1\n",
       "887       1  19.000000       1     0\n",
       "888       3  29.699118       1     0\n",
       "889       1  26.000000       0     1\n",
       "890       3  32.000000       0     1\n",
       "\n",
       "[891 rows x 4 columns]"
      ]
     },
     "execution_count": 220,
     "metadata": {},
     "output_type": "execute_result"
    }
   ],
   "source": [
    "inputs"
   ]
  },
  {
   "cell_type": "code",
   "execution_count": 221,
   "metadata": {},
   "outputs": [],
   "source": [
    "from sklearn.naive_bayes import GaussianNB\n",
    "model = GaussianNB()"
   ]
  },
  {
   "cell_type": "code",
   "execution_count": 222,
   "metadata": {},
   "outputs": [],
   "source": [
    "x_train,x_test,y_train,y_test = train_test_split(inputs,target,test_size=0.2)"
   ]
  },
  {
   "cell_type": "code",
   "execution_count": 223,
   "metadata": {},
   "outputs": [
    {
     "data": {
      "text/plain": [
       "GaussianNB()"
      ]
     },
     "execution_count": 223,
     "metadata": {},
     "output_type": "execute_result"
    }
   ],
   "source": [
    "model.fit(x_train,y_train)"
   ]
  },
  {
   "cell_type": "code",
   "execution_count": 224,
   "metadata": {},
   "outputs": [
    {
     "data": {
      "text/plain": [
       "0.7821229050279329"
      ]
     },
     "execution_count": 224,
     "metadata": {},
     "output_type": "execute_result"
    }
   ],
   "source": [
    "model.score(x_test,y_test)"
   ]
  },
  {
   "cell_type": "code",
   "execution_count": 227,
   "metadata": {},
   "outputs": [
    {
     "data": {
      "text/plain": [
       "array([0, 0, 1, 1, 0, 1, 0, 0, 0, 0], dtype=int64)"
      ]
     },
     "execution_count": 227,
     "metadata": {},
     "output_type": "execute_result"
    }
   ],
   "source": [
    "model.predict(x_test[:10])"
   ]
  },
  {
   "cell_type": "markdown",
   "metadata": {},
   "source": [
    "# Spam Email"
   ]
  },
  {
   "cell_type": "code",
   "execution_count": 283,
   "metadata": {},
   "outputs": [],
   "source": [
    "df = pd.read_csv('spam.csv')"
   ]
  },
  {
   "cell_type": "code",
   "execution_count": 284,
   "metadata": {},
   "outputs": [],
   "source": [
    "df.drop(['Unnamed: 2','Unnamed: 3','Unnamed: 4'],axis='columns',inplace=True)"
   ]
  },
  {
   "cell_type": "code",
   "execution_count": 285,
   "metadata": {},
   "outputs": [
    {
     "data": {
      "text/html": [
       "<div>\n",
       "<style scoped>\n",
       "    .dataframe tbody tr th:only-of-type {\n",
       "        vertical-align: middle;\n",
       "    }\n",
       "\n",
       "    .dataframe tbody tr th {\n",
       "        vertical-align: top;\n",
       "    }\n",
       "\n",
       "    .dataframe thead th {\n",
       "        text-align: right;\n",
       "    }\n",
       "</style>\n",
       "<table border=\"1\" class=\"dataframe\">\n",
       "  <thead>\n",
       "    <tr style=\"text-align: right;\">\n",
       "      <th></th>\n",
       "      <th>Category</th>\n",
       "      <th>Msg</th>\n",
       "    </tr>\n",
       "  </thead>\n",
       "  <tbody>\n",
       "    <tr>\n",
       "      <th>0</th>\n",
       "      <td>ham</td>\n",
       "      <td>Go until jurong point, crazy.. Available only ...</td>\n",
       "    </tr>\n",
       "    <tr>\n",
       "      <th>1</th>\n",
       "      <td>ham</td>\n",
       "      <td>Ok lar... Joking wif u oni...</td>\n",
       "    </tr>\n",
       "    <tr>\n",
       "      <th>2</th>\n",
       "      <td>spam</td>\n",
       "      <td>Free entry in 2 a wkly comp to win FA Cup fina...</td>\n",
       "    </tr>\n",
       "    <tr>\n",
       "      <th>3</th>\n",
       "      <td>ham</td>\n",
       "      <td>U dun say so early hor... U c already then say...</td>\n",
       "    </tr>\n",
       "    <tr>\n",
       "      <th>4</th>\n",
       "      <td>ham</td>\n",
       "      <td>Nah I don't think he goes to usf, he lives aro...</td>\n",
       "    </tr>\n",
       "    <tr>\n",
       "      <th>...</th>\n",
       "      <td>...</td>\n",
       "      <td>...</td>\n",
       "    </tr>\n",
       "    <tr>\n",
       "      <th>5567</th>\n",
       "      <td>spam</td>\n",
       "      <td>This is the 2nd time we have tried 2 contact u...</td>\n",
       "    </tr>\n",
       "    <tr>\n",
       "      <th>5568</th>\n",
       "      <td>ham</td>\n",
       "      <td>Will �_ b going to esplanade fr home?</td>\n",
       "    </tr>\n",
       "    <tr>\n",
       "      <th>5569</th>\n",
       "      <td>ham</td>\n",
       "      <td>Pity, * was in mood for that. So...any other s...</td>\n",
       "    </tr>\n",
       "    <tr>\n",
       "      <th>5570</th>\n",
       "      <td>ham</td>\n",
       "      <td>The guy did some bitching but I acted like i'd...</td>\n",
       "    </tr>\n",
       "    <tr>\n",
       "      <th>5571</th>\n",
       "      <td>ham</td>\n",
       "      <td>Rofl. Its true to its name</td>\n",
       "    </tr>\n",
       "  </tbody>\n",
       "</table>\n",
       "<p>5572 rows × 2 columns</p>\n",
       "</div>"
      ],
      "text/plain": [
       "     Category                                                Msg\n",
       "0         ham  Go until jurong point, crazy.. Available only ...\n",
       "1         ham                      Ok lar... Joking wif u oni...\n",
       "2        spam  Free entry in 2 a wkly comp to win FA Cup fina...\n",
       "3         ham  U dun say so early hor... U c already then say...\n",
       "4         ham  Nah I don't think he goes to usf, he lives aro...\n",
       "...       ...                                                ...\n",
       "5567     spam  This is the 2nd time we have tried 2 contact u...\n",
       "5568      ham              Will �_ b going to esplanade fr home?\n",
       "5569      ham  Pity, * was in mood for that. So...any other s...\n",
       "5570      ham  The guy did some bitching but I acted like i'd...\n",
       "5571      ham                         Rofl. Its true to its name\n",
       "\n",
       "[5572 rows x 2 columns]"
      ]
     },
     "execution_count": 285,
     "metadata": {},
     "output_type": "execute_result"
    }
   ],
   "source": [
    "df"
   ]
  },
  {
   "cell_type": "code",
   "execution_count": 286,
   "metadata": {},
   "outputs": [
    {
     "data": {
      "text/html": [
       "<div>\n",
       "<style scoped>\n",
       "    .dataframe tbody tr th:only-of-type {\n",
       "        vertical-align: middle;\n",
       "    }\n",
       "\n",
       "    .dataframe tbody tr th {\n",
       "        vertical-align: top;\n",
       "    }\n",
       "\n",
       "    .dataframe thead tr th {\n",
       "        text-align: left;\n",
       "    }\n",
       "\n",
       "    .dataframe thead tr:last-of-type th {\n",
       "        text-align: right;\n",
       "    }\n",
       "</style>\n",
       "<table border=\"1\" class=\"dataframe\">\n",
       "  <thead>\n",
       "    <tr>\n",
       "      <th></th>\n",
       "      <th colspan=\"4\" halign=\"left\">Msg</th>\n",
       "    </tr>\n",
       "    <tr>\n",
       "      <th></th>\n",
       "      <th>count</th>\n",
       "      <th>unique</th>\n",
       "      <th>top</th>\n",
       "      <th>freq</th>\n",
       "    </tr>\n",
       "    <tr>\n",
       "      <th>Category</th>\n",
       "      <th></th>\n",
       "      <th></th>\n",
       "      <th></th>\n",
       "      <th></th>\n",
       "    </tr>\n",
       "  </thead>\n",
       "  <tbody>\n",
       "    <tr>\n",
       "      <th>ham</th>\n",
       "      <td>4825</td>\n",
       "      <td>4516</td>\n",
       "      <td>Sorry, I'll call later</td>\n",
       "      <td>30</td>\n",
       "    </tr>\n",
       "    <tr>\n",
       "      <th>spam</th>\n",
       "      <td>747</td>\n",
       "      <td>653</td>\n",
       "      <td>Please call our customer service representativ...</td>\n",
       "      <td>4</td>\n",
       "    </tr>\n",
       "  </tbody>\n",
       "</table>\n",
       "</div>"
      ],
      "text/plain": [
       "           Msg                                                               \n",
       "         count unique                                                top freq\n",
       "Category                                                                     \n",
       "ham       4825   4516                             Sorry, I'll call later   30\n",
       "spam       747    653  Please call our customer service representativ...    4"
      ]
     },
     "execution_count": 286,
     "metadata": {},
     "output_type": "execute_result"
    }
   ],
   "source": [
    "df.groupby('Category').describe()"
   ]
  },
  {
   "cell_type": "code",
   "execution_count": 287,
   "metadata": {},
   "outputs": [],
   "source": [
    "df.Category = df.Category.map({'ham':0,'spam':1})"
   ]
  },
  {
   "cell_type": "code",
   "execution_count": 288,
   "metadata": {},
   "outputs": [
    {
     "data": {
      "text/html": [
       "<div>\n",
       "<style scoped>\n",
       "    .dataframe tbody tr th:only-of-type {\n",
       "        vertical-align: middle;\n",
       "    }\n",
       "\n",
       "    .dataframe tbody tr th {\n",
       "        vertical-align: top;\n",
       "    }\n",
       "\n",
       "    .dataframe thead th {\n",
       "        text-align: right;\n",
       "    }\n",
       "</style>\n",
       "<table border=\"1\" class=\"dataframe\">\n",
       "  <thead>\n",
       "    <tr style=\"text-align: right;\">\n",
       "      <th></th>\n",
       "      <th>Category</th>\n",
       "      <th>Msg</th>\n",
       "    </tr>\n",
       "  </thead>\n",
       "  <tbody>\n",
       "    <tr>\n",
       "      <th>0</th>\n",
       "      <td>0</td>\n",
       "      <td>Go until jurong point, crazy.. Available only ...</td>\n",
       "    </tr>\n",
       "    <tr>\n",
       "      <th>1</th>\n",
       "      <td>0</td>\n",
       "      <td>Ok lar... Joking wif u oni...</td>\n",
       "    </tr>\n",
       "    <tr>\n",
       "      <th>2</th>\n",
       "      <td>1</td>\n",
       "      <td>Free entry in 2 a wkly comp to win FA Cup fina...</td>\n",
       "    </tr>\n",
       "    <tr>\n",
       "      <th>3</th>\n",
       "      <td>0</td>\n",
       "      <td>U dun say so early hor... U c already then say...</td>\n",
       "    </tr>\n",
       "    <tr>\n",
       "      <th>4</th>\n",
       "      <td>0</td>\n",
       "      <td>Nah I don't think he goes to usf, he lives aro...</td>\n",
       "    </tr>\n",
       "    <tr>\n",
       "      <th>...</th>\n",
       "      <td>...</td>\n",
       "      <td>...</td>\n",
       "    </tr>\n",
       "    <tr>\n",
       "      <th>5567</th>\n",
       "      <td>1</td>\n",
       "      <td>This is the 2nd time we have tried 2 contact u...</td>\n",
       "    </tr>\n",
       "    <tr>\n",
       "      <th>5568</th>\n",
       "      <td>0</td>\n",
       "      <td>Will �_ b going to esplanade fr home?</td>\n",
       "    </tr>\n",
       "    <tr>\n",
       "      <th>5569</th>\n",
       "      <td>0</td>\n",
       "      <td>Pity, * was in mood for that. So...any other s...</td>\n",
       "    </tr>\n",
       "    <tr>\n",
       "      <th>5570</th>\n",
       "      <td>0</td>\n",
       "      <td>The guy did some bitching but I acted like i'd...</td>\n",
       "    </tr>\n",
       "    <tr>\n",
       "      <th>5571</th>\n",
       "      <td>0</td>\n",
       "      <td>Rofl. Its true to its name</td>\n",
       "    </tr>\n",
       "  </tbody>\n",
       "</table>\n",
       "<p>5572 rows × 2 columns</p>\n",
       "</div>"
      ],
      "text/plain": [
       "      Category                                                Msg\n",
       "0            0  Go until jurong point, crazy.. Available only ...\n",
       "1            0                      Ok lar... Joking wif u oni...\n",
       "2            1  Free entry in 2 a wkly comp to win FA Cup fina...\n",
       "3            0  U dun say so early hor... U c already then say...\n",
       "4            0  Nah I don't think he goes to usf, he lives aro...\n",
       "...        ...                                                ...\n",
       "5567         1  This is the 2nd time we have tried 2 contact u...\n",
       "5568         0              Will �_ b going to esplanade fr home?\n",
       "5569         0  Pity, * was in mood for that. So...any other s...\n",
       "5570         0  The guy did some bitching but I acted like i'd...\n",
       "5571         0                         Rofl. Its true to its name\n",
       "\n",
       "[5572 rows x 2 columns]"
      ]
     },
     "execution_count": 288,
     "metadata": {},
     "output_type": "execute_result"
    }
   ],
   "source": [
    "df"
   ]
  },
  {
   "cell_type": "code",
   "execution_count": 289,
   "metadata": {},
   "outputs": [],
   "source": [
    "x_train,x_test,y_train,y_test = train_test_split(df.Msg,df.Category,test_size=0.2)"
   ]
  },
  {
   "cell_type": "code",
   "execution_count": 290,
   "metadata": {},
   "outputs": [
    {
     "data": {
      "text/plain": [
       "array([[0, 0, 0, ..., 0, 0, 0],\n",
       "       [0, 0, 0, ..., 0, 0, 0],\n",
       "       [0, 0, 0, ..., 0, 0, 0],\n",
       "       ...,\n",
       "       [0, 0, 0, ..., 0, 0, 0],\n",
       "       [0, 0, 0, ..., 0, 0, 0],\n",
       "       [0, 0, 0, ..., 0, 0, 0]], dtype=int64)"
      ]
     },
     "execution_count": 290,
     "metadata": {},
     "output_type": "execute_result"
    }
   ],
   "source": [
    "from sklearn.feature_extraction.text import CountVectorizer\n",
    "v = CountVectorizer()\n",
    "x_train_count = v.fit_transform(x_train.values)  #convert the test in the msg to a number vector\n",
    "x_train_count.toarray()"
   ]
  },
  {
   "cell_type": "code",
   "execution_count": 291,
   "metadata": {},
   "outputs": [
    {
     "data": {
      "text/plain": [
       "MultinomialNB()"
      ]
     },
     "execution_count": 291,
     "metadata": {},
     "output_type": "execute_result"
    }
   ],
   "source": [
    "from sklearn.naive_bayes import MultinomialNB\n",
    "model = MultinomialNB()\n",
    "model.fit(x_train_count,y_train)"
   ]
  },
  {
   "cell_type": "code",
   "execution_count": 295,
   "metadata": {},
   "outputs": [
    {
     "data": {
      "text/plain": [
       "array([0, 1], dtype=int64)"
      ]
     },
     "execution_count": 295,
     "metadata": {},
     "output_type": "execute_result"
    }
   ],
   "source": [
    "email = [\n",
    "    'hey mohan please give me some money it is urgent.',\n",
    "    'Upto 20% discount on parking, exclusive offer just for you. Dont miss this reward.'\n",
    "]\n",
    "email_count = v.transform(email)\n",
    "model.predict(email_count)"
   ]
  },
  {
   "cell_type": "code",
   "execution_count": 275,
   "metadata": {},
   "outputs": [
    {
     "data": {
      "text/plain": [
       "0.9838565022421525"
      ]
     },
     "execution_count": 275,
     "metadata": {},
     "output_type": "execute_result"
    }
   ],
   "source": [
    "x_test_count = v.transform(x_test)\n",
    "model.score(x_test_count,y_test)"
   ]
  },
  {
   "cell_type": "markdown",
   "metadata": {},
   "source": [
    "Simplified Version of the upper code"
   ]
  },
  {
   "cell_type": "code",
   "execution_count": 296,
   "metadata": {},
   "outputs": [],
   "source": [
    "from sklearn.pipeline import Pipeline\n",
    "clf = Pipeline([\n",
    "    ('Vectorizer',CountVectorizer()),\n",
    "    ('nb',MultinomialNB())\n",
    "])"
   ]
  },
  {
   "cell_type": "code",
   "execution_count": 297,
   "metadata": {},
   "outputs": [
    {
     "data": {
      "text/plain": [
       "Pipeline(steps=[('Vectorizer', CountVectorizer()), ('nb', MultinomialNB())])"
      ]
     },
     "execution_count": 297,
     "metadata": {},
     "output_type": "execute_result"
    }
   ],
   "source": [
    "clf.fit(x_train,y_train)"
   ]
  },
  {
   "cell_type": "code",
   "execution_count": 298,
   "metadata": {},
   "outputs": [
    {
     "data": {
      "text/plain": [
       "0.9856502242152466"
      ]
     },
     "execution_count": 298,
     "metadata": {},
     "output_type": "execute_result"
    }
   ],
   "source": [
    "clf.score(x_test,y_test)"
   ]
  },
  {
   "cell_type": "code",
   "execution_count": 299,
   "metadata": {},
   "outputs": [
    {
     "data": {
      "text/plain": [
       "array([0, 0, 0, ..., 0, 0, 0], dtype=int64)"
      ]
     },
     "execution_count": 299,
     "metadata": {},
     "output_type": "execute_result"
    }
   ],
   "source": [
    "clf.predict(x_test)"
   ]
  },
  {
   "cell_type": "code",
   "execution_count": 300,
   "metadata": {},
   "outputs": [
    {
     "data": {
      "text/plain": [
       "array([0, 1], dtype=int64)"
      ]
     },
     "execution_count": 300,
     "metadata": {},
     "output_type": "execute_result"
    }
   ],
   "source": [
    "clf.predict(email)"
   ]
  },
  {
   "cell_type": "markdown",
   "metadata": {},
   "source": [
    "# Hyper Tuning"
   ]
  },
  {
   "cell_type": "code",
   "execution_count": 301,
   "metadata": {},
   "outputs": [],
   "source": [
    "from sklearn.datasets import load_iris\n",
    "iris = load_iris()"
   ]
  },
  {
   "cell_type": "code",
   "execution_count": 302,
   "metadata": {},
   "outputs": [
    {
     "data": {
      "text/plain": [
       "['DESCR',\n",
       " 'data',\n",
       " 'feature_names',\n",
       " 'filename',\n",
       " 'frame',\n",
       " 'target',\n",
       " 'target_names']"
      ]
     },
     "execution_count": 302,
     "metadata": {},
     "output_type": "execute_result"
    }
   ],
   "source": [
    "dir(iris)"
   ]
  },
  {
   "cell_type": "code",
   "execution_count": 307,
   "metadata": {},
   "outputs": [],
   "source": [
    "df = pd.DataFrame(iris.data,columns=iris.feature_names)"
   ]
  },
  {
   "cell_type": "code",
   "execution_count": 309,
   "metadata": {},
   "outputs": [],
   "source": [
    "df['target'] = iris.target"
   ]
  },
  {
   "cell_type": "code",
   "execution_count": 311,
   "metadata": {},
   "outputs": [],
   "source": [
    "df['flower'] = df.target.apply(lambda x:iris.target_names[x])"
   ]
  },
  {
   "cell_type": "code",
   "execution_count": 312,
   "metadata": {},
   "outputs": [
    {
     "data": {
      "text/html": [
       "<div>\n",
       "<style scoped>\n",
       "    .dataframe tbody tr th:only-of-type {\n",
       "        vertical-align: middle;\n",
       "    }\n",
       "\n",
       "    .dataframe tbody tr th {\n",
       "        vertical-align: top;\n",
       "    }\n",
       "\n",
       "    .dataframe thead th {\n",
       "        text-align: right;\n",
       "    }\n",
       "</style>\n",
       "<table border=\"1\" class=\"dataframe\">\n",
       "  <thead>\n",
       "    <tr style=\"text-align: right;\">\n",
       "      <th></th>\n",
       "      <th>sepal length (cm)</th>\n",
       "      <th>sepal width (cm)</th>\n",
       "      <th>petal length (cm)</th>\n",
       "      <th>petal width (cm)</th>\n",
       "      <th>target</th>\n",
       "      <th>flower</th>\n",
       "    </tr>\n",
       "  </thead>\n",
       "  <tbody>\n",
       "    <tr>\n",
       "      <th>0</th>\n",
       "      <td>5.1</td>\n",
       "      <td>3.5</td>\n",
       "      <td>1.4</td>\n",
       "      <td>0.2</td>\n",
       "      <td>0</td>\n",
       "      <td>setosa</td>\n",
       "    </tr>\n",
       "    <tr>\n",
       "      <th>1</th>\n",
       "      <td>4.9</td>\n",
       "      <td>3.0</td>\n",
       "      <td>1.4</td>\n",
       "      <td>0.2</td>\n",
       "      <td>0</td>\n",
       "      <td>setosa</td>\n",
       "    </tr>\n",
       "    <tr>\n",
       "      <th>2</th>\n",
       "      <td>4.7</td>\n",
       "      <td>3.2</td>\n",
       "      <td>1.3</td>\n",
       "      <td>0.2</td>\n",
       "      <td>0</td>\n",
       "      <td>setosa</td>\n",
       "    </tr>\n",
       "    <tr>\n",
       "      <th>3</th>\n",
       "      <td>4.6</td>\n",
       "      <td>3.1</td>\n",
       "      <td>1.5</td>\n",
       "      <td>0.2</td>\n",
       "      <td>0</td>\n",
       "      <td>setosa</td>\n",
       "    </tr>\n",
       "    <tr>\n",
       "      <th>4</th>\n",
       "      <td>5.0</td>\n",
       "      <td>3.6</td>\n",
       "      <td>1.4</td>\n",
       "      <td>0.2</td>\n",
       "      <td>0</td>\n",
       "      <td>setosa</td>\n",
       "    </tr>\n",
       "    <tr>\n",
       "      <th>...</th>\n",
       "      <td>...</td>\n",
       "      <td>...</td>\n",
       "      <td>...</td>\n",
       "      <td>...</td>\n",
       "      <td>...</td>\n",
       "      <td>...</td>\n",
       "    </tr>\n",
       "    <tr>\n",
       "      <th>145</th>\n",
       "      <td>6.7</td>\n",
       "      <td>3.0</td>\n",
       "      <td>5.2</td>\n",
       "      <td>2.3</td>\n",
       "      <td>2</td>\n",
       "      <td>virginica</td>\n",
       "    </tr>\n",
       "    <tr>\n",
       "      <th>146</th>\n",
       "      <td>6.3</td>\n",
       "      <td>2.5</td>\n",
       "      <td>5.0</td>\n",
       "      <td>1.9</td>\n",
       "      <td>2</td>\n",
       "      <td>virginica</td>\n",
       "    </tr>\n",
       "    <tr>\n",
       "      <th>147</th>\n",
       "      <td>6.5</td>\n",
       "      <td>3.0</td>\n",
       "      <td>5.2</td>\n",
       "      <td>2.0</td>\n",
       "      <td>2</td>\n",
       "      <td>virginica</td>\n",
       "    </tr>\n",
       "    <tr>\n",
       "      <th>148</th>\n",
       "      <td>6.2</td>\n",
       "      <td>3.4</td>\n",
       "      <td>5.4</td>\n",
       "      <td>2.3</td>\n",
       "      <td>2</td>\n",
       "      <td>virginica</td>\n",
       "    </tr>\n",
       "    <tr>\n",
       "      <th>149</th>\n",
       "      <td>5.9</td>\n",
       "      <td>3.0</td>\n",
       "      <td>5.1</td>\n",
       "      <td>1.8</td>\n",
       "      <td>2</td>\n",
       "      <td>virginica</td>\n",
       "    </tr>\n",
       "  </tbody>\n",
       "</table>\n",
       "<p>150 rows × 6 columns</p>\n",
       "</div>"
      ],
      "text/plain": [
       "     sepal length (cm)  sepal width (cm)  petal length (cm)  petal width (cm)  \\\n",
       "0                  5.1               3.5                1.4               0.2   \n",
       "1                  4.9               3.0                1.4               0.2   \n",
       "2                  4.7               3.2                1.3               0.2   \n",
       "3                  4.6               3.1                1.5               0.2   \n",
       "4                  5.0               3.6                1.4               0.2   \n",
       "..                 ...               ...                ...               ...   \n",
       "145                6.7               3.0                5.2               2.3   \n",
       "146                6.3               2.5                5.0               1.9   \n",
       "147                6.5               3.0                5.2               2.0   \n",
       "148                6.2               3.4                5.4               2.3   \n",
       "149                5.9               3.0                5.1               1.8   \n",
       "\n",
       "     target     flower  \n",
       "0         0     setosa  \n",
       "1         0     setosa  \n",
       "2         0     setosa  \n",
       "3         0     setosa  \n",
       "4         0     setosa  \n",
       "..      ...        ...  \n",
       "145       2  virginica  \n",
       "146       2  virginica  \n",
       "147       2  virginica  \n",
       "148       2  virginica  \n",
       "149       2  virginica  \n",
       "\n",
       "[150 rows x 6 columns]"
      ]
     },
     "execution_count": 312,
     "metadata": {},
     "output_type": "execute_result"
    }
   ],
   "source": [
    "df"
   ]
  },
  {
   "cell_type": "code",
   "execution_count": 313,
   "metadata": {},
   "outputs": [],
   "source": [
    "x_train,x_test,y_train,y_test = train_test_split(iris.data,iris.target,test_size=0.2)"
   ]
  },
  {
   "cell_type": "code",
   "execution_count": 317,
   "metadata": {},
   "outputs": [
    {
     "data": {
      "text/plain": [
       "{'rbf-1': 0.9800000000000001,\n",
       " 'rbf-10': 0.9800000000000001,\n",
       " 'rbf-20': 0.9666666666666668,\n",
       " 'linear-1': 0.9800000000000001,\n",
       " 'linear-10': 0.9733333333333334,\n",
       " 'linear-20': 0.9666666666666666}"
      ]
     },
     "execution_count": 317,
     "metadata": {},
     "output_type": "execute_result"
    }
   ],
   "source": [
    "kernels = ['rbf','linear']\n",
    "C = [1,10,20]\n",
    "avg_scores = {}\n",
    "for kval in kernels:\n",
    "    for cval in C:\n",
    "        cv_scores = cross_val_score(SVC(kernel=kval,C=cval,gamma='auto'),iris.data,iris.target,cv = 5)\n",
    "        avg_scores[kval + '-' +str(cval)] = np.average(cv_scores)\n",
    "avg_scores        "
   ]
  },
  {
   "cell_type": "markdown",
   "metadata": {},
   "source": [
    "Same code with inbuit method"
   ]
  },
  {
   "cell_type": "code",
   "execution_count": 320,
   "metadata": {},
   "outputs": [
    {
     "data": {
      "text/plain": [
       "{'mean_fit_time': array([0.0016017 , 0.00100293, 0.00139933, 0.0012022 , 0.00120134,\n",
       "        0.00099998]),\n",
       " 'std_fit_time': array([4.90864031e-04, 5.54977820e-06, 4.92670829e-04, 4.00624681e-04,\n",
       "        4.02117072e-04, 1.63381974e-06]),\n",
       " 'mean_score_time': array([0.00099888, 0.00020013, 0.0006032 , 0.        , 0.000599  ,\n",
       "        0.        ]),\n",
       " 'std_score_time': array([3.63648910e-06, 4.00257111e-04, 4.92534262e-04, 0.00000000e+00,\n",
       "        4.89084707e-04, 0.00000000e+00]),\n",
       " 'param_C': masked_array(data=[1, 1, 10, 10, 20, 20],\n",
       "              mask=[False, False, False, False, False, False],\n",
       "        fill_value='?',\n",
       "             dtype=object),\n",
       " 'param_kernel': masked_array(data=['rbf', 'linear', 'rbf', 'linear', 'rbf', 'linear'],\n",
       "              mask=[False, False, False, False, False, False],\n",
       "        fill_value='?',\n",
       "             dtype=object),\n",
       " 'params': [{'C': 1, 'kernel': 'rbf'},\n",
       "  {'C': 1, 'kernel': 'linear'},\n",
       "  {'C': 10, 'kernel': 'rbf'},\n",
       "  {'C': 10, 'kernel': 'linear'},\n",
       "  {'C': 20, 'kernel': 'rbf'},\n",
       "  {'C': 20, 'kernel': 'linear'}],\n",
       " 'split0_test_score': array([0.96666667, 0.96666667, 0.96666667, 1.        , 0.96666667,\n",
       "        1.        ]),\n",
       " 'split1_test_score': array([0.96666667, 1.        , 1.        , 1.        , 1.        ,\n",
       "        1.        ]),\n",
       " 'split2_test_score': array([0.96666667, 0.96666667, 0.96666667, 0.9       , 0.96666667,\n",
       "        0.9       ]),\n",
       " 'split3_test_score': array([0.93333333, 0.96666667, 0.96666667, 0.96666667, 0.96666667,\n",
       "        0.93333333]),\n",
       " 'split4_test_score': array([1., 1., 1., 1., 1., 1.]),\n",
       " 'mean_test_score': array([0.96666667, 0.98      , 0.98      , 0.97333333, 0.98      ,\n",
       "        0.96666667]),\n",
       " 'std_test_score': array([0.02108185, 0.01632993, 0.01632993, 0.03887301, 0.01632993,\n",
       "        0.0421637 ]),\n",
       " 'rank_test_score': array([5, 1, 1, 4, 1, 5])}"
      ]
     },
     "execution_count": 320,
     "metadata": {},
     "output_type": "execute_result"
    }
   ],
   "source": [
    "from sklearn.model_selection import GridSearchCV\n",
    "clf = GridSearchCV(SVC(),{\n",
    "    'C':[1,10,20],\n",
    "    'kernel':['rbf','linear']\n",
    "},cv=5,return_train_score=False)\n",
    "clf.fit(iris.data,iris.target)\n",
    "clf.cv_results_"
   ]
  },
  {
   "cell_type": "code",
   "execution_count": 321,
   "metadata": {},
   "outputs": [],
   "source": [
    "df = pd.DataFrame(clf.cv_results_)"
   ]
  },
  {
   "cell_type": "code",
   "execution_count": 322,
   "metadata": {},
   "outputs": [
    {
     "data": {
      "text/html": [
       "<div>\n",
       "<style scoped>\n",
       "    .dataframe tbody tr th:only-of-type {\n",
       "        vertical-align: middle;\n",
       "    }\n",
       "\n",
       "    .dataframe tbody tr th {\n",
       "        vertical-align: top;\n",
       "    }\n",
       "\n",
       "    .dataframe thead th {\n",
       "        text-align: right;\n",
       "    }\n",
       "</style>\n",
       "<table border=\"1\" class=\"dataframe\">\n",
       "  <thead>\n",
       "    <tr style=\"text-align: right;\">\n",
       "      <th></th>\n",
       "      <th>mean_fit_time</th>\n",
       "      <th>std_fit_time</th>\n",
       "      <th>mean_score_time</th>\n",
       "      <th>std_score_time</th>\n",
       "      <th>param_C</th>\n",
       "      <th>param_kernel</th>\n",
       "      <th>params</th>\n",
       "      <th>split0_test_score</th>\n",
       "      <th>split1_test_score</th>\n",
       "      <th>split2_test_score</th>\n",
       "      <th>split3_test_score</th>\n",
       "      <th>split4_test_score</th>\n",
       "      <th>mean_test_score</th>\n",
       "      <th>std_test_score</th>\n",
       "      <th>rank_test_score</th>\n",
       "    </tr>\n",
       "  </thead>\n",
       "  <tbody>\n",
       "    <tr>\n",
       "      <th>0</th>\n",
       "      <td>0.001602</td>\n",
       "      <td>0.000491</td>\n",
       "      <td>0.000999</td>\n",
       "      <td>0.000004</td>\n",
       "      <td>1</td>\n",
       "      <td>rbf</td>\n",
       "      <td>{'C': 1, 'kernel': 'rbf'}</td>\n",
       "      <td>0.966667</td>\n",
       "      <td>0.966667</td>\n",
       "      <td>0.966667</td>\n",
       "      <td>0.933333</td>\n",
       "      <td>1.0</td>\n",
       "      <td>0.966667</td>\n",
       "      <td>0.021082</td>\n",
       "      <td>5</td>\n",
       "    </tr>\n",
       "    <tr>\n",
       "      <th>1</th>\n",
       "      <td>0.001003</td>\n",
       "      <td>0.000006</td>\n",
       "      <td>0.000200</td>\n",
       "      <td>0.000400</td>\n",
       "      <td>1</td>\n",
       "      <td>linear</td>\n",
       "      <td>{'C': 1, 'kernel': 'linear'}</td>\n",
       "      <td>0.966667</td>\n",
       "      <td>1.000000</td>\n",
       "      <td>0.966667</td>\n",
       "      <td>0.966667</td>\n",
       "      <td>1.0</td>\n",
       "      <td>0.980000</td>\n",
       "      <td>0.016330</td>\n",
       "      <td>1</td>\n",
       "    </tr>\n",
       "    <tr>\n",
       "      <th>2</th>\n",
       "      <td>0.001399</td>\n",
       "      <td>0.000493</td>\n",
       "      <td>0.000603</td>\n",
       "      <td>0.000493</td>\n",
       "      <td>10</td>\n",
       "      <td>rbf</td>\n",
       "      <td>{'C': 10, 'kernel': 'rbf'}</td>\n",
       "      <td>0.966667</td>\n",
       "      <td>1.000000</td>\n",
       "      <td>0.966667</td>\n",
       "      <td>0.966667</td>\n",
       "      <td>1.0</td>\n",
       "      <td>0.980000</td>\n",
       "      <td>0.016330</td>\n",
       "      <td>1</td>\n",
       "    </tr>\n",
       "    <tr>\n",
       "      <th>3</th>\n",
       "      <td>0.001202</td>\n",
       "      <td>0.000401</td>\n",
       "      <td>0.000000</td>\n",
       "      <td>0.000000</td>\n",
       "      <td>10</td>\n",
       "      <td>linear</td>\n",
       "      <td>{'C': 10, 'kernel': 'linear'}</td>\n",
       "      <td>1.000000</td>\n",
       "      <td>1.000000</td>\n",
       "      <td>0.900000</td>\n",
       "      <td>0.966667</td>\n",
       "      <td>1.0</td>\n",
       "      <td>0.973333</td>\n",
       "      <td>0.038873</td>\n",
       "      <td>4</td>\n",
       "    </tr>\n",
       "    <tr>\n",
       "      <th>4</th>\n",
       "      <td>0.001201</td>\n",
       "      <td>0.000402</td>\n",
       "      <td>0.000599</td>\n",
       "      <td>0.000489</td>\n",
       "      <td>20</td>\n",
       "      <td>rbf</td>\n",
       "      <td>{'C': 20, 'kernel': 'rbf'}</td>\n",
       "      <td>0.966667</td>\n",
       "      <td>1.000000</td>\n",
       "      <td>0.966667</td>\n",
       "      <td>0.966667</td>\n",
       "      <td>1.0</td>\n",
       "      <td>0.980000</td>\n",
       "      <td>0.016330</td>\n",
       "      <td>1</td>\n",
       "    </tr>\n",
       "    <tr>\n",
       "      <th>5</th>\n",
       "      <td>0.001000</td>\n",
       "      <td>0.000002</td>\n",
       "      <td>0.000000</td>\n",
       "      <td>0.000000</td>\n",
       "      <td>20</td>\n",
       "      <td>linear</td>\n",
       "      <td>{'C': 20, 'kernel': 'linear'}</td>\n",
       "      <td>1.000000</td>\n",
       "      <td>1.000000</td>\n",
       "      <td>0.900000</td>\n",
       "      <td>0.933333</td>\n",
       "      <td>1.0</td>\n",
       "      <td>0.966667</td>\n",
       "      <td>0.042164</td>\n",
       "      <td>5</td>\n",
       "    </tr>\n",
       "  </tbody>\n",
       "</table>\n",
       "</div>"
      ],
      "text/plain": [
       "   mean_fit_time  std_fit_time  mean_score_time  std_score_time param_C  \\\n",
       "0       0.001602      0.000491         0.000999        0.000004       1   \n",
       "1       0.001003      0.000006         0.000200        0.000400       1   \n",
       "2       0.001399      0.000493         0.000603        0.000493      10   \n",
       "3       0.001202      0.000401         0.000000        0.000000      10   \n",
       "4       0.001201      0.000402         0.000599        0.000489      20   \n",
       "5       0.001000      0.000002         0.000000        0.000000      20   \n",
       "\n",
       "  param_kernel                         params  split0_test_score  \\\n",
       "0          rbf      {'C': 1, 'kernel': 'rbf'}           0.966667   \n",
       "1       linear   {'C': 1, 'kernel': 'linear'}           0.966667   \n",
       "2          rbf     {'C': 10, 'kernel': 'rbf'}           0.966667   \n",
       "3       linear  {'C': 10, 'kernel': 'linear'}           1.000000   \n",
       "4          rbf     {'C': 20, 'kernel': 'rbf'}           0.966667   \n",
       "5       linear  {'C': 20, 'kernel': 'linear'}           1.000000   \n",
       "\n",
       "   split1_test_score  split2_test_score  split3_test_score  split4_test_score  \\\n",
       "0           0.966667           0.966667           0.933333                1.0   \n",
       "1           1.000000           0.966667           0.966667                1.0   \n",
       "2           1.000000           0.966667           0.966667                1.0   \n",
       "3           1.000000           0.900000           0.966667                1.0   \n",
       "4           1.000000           0.966667           0.966667                1.0   \n",
       "5           1.000000           0.900000           0.933333                1.0   \n",
       "\n",
       "   mean_test_score  std_test_score  rank_test_score  \n",
       "0         0.966667        0.021082                5  \n",
       "1         0.980000        0.016330                1  \n",
       "2         0.980000        0.016330                1  \n",
       "3         0.973333        0.038873                4  \n",
       "4         0.980000        0.016330                1  \n",
       "5         0.966667        0.042164                5  "
      ]
     },
     "execution_count": 322,
     "metadata": {},
     "output_type": "execute_result"
    }
   ],
   "source": [
    "df"
   ]
  },
  {
   "cell_type": "code",
   "execution_count": 323,
   "metadata": {},
   "outputs": [
    {
     "data": {
      "text/html": [
       "<div>\n",
       "<style scoped>\n",
       "    .dataframe tbody tr th:only-of-type {\n",
       "        vertical-align: middle;\n",
       "    }\n",
       "\n",
       "    .dataframe tbody tr th {\n",
       "        vertical-align: top;\n",
       "    }\n",
       "\n",
       "    .dataframe thead th {\n",
       "        text-align: right;\n",
       "    }\n",
       "</style>\n",
       "<table border=\"1\" class=\"dataframe\">\n",
       "  <thead>\n",
       "    <tr style=\"text-align: right;\">\n",
       "      <th></th>\n",
       "      <th>param_C</th>\n",
       "      <th>param_kernel</th>\n",
       "      <th>mean_test_score</th>\n",
       "    </tr>\n",
       "  </thead>\n",
       "  <tbody>\n",
       "    <tr>\n",
       "      <th>0</th>\n",
       "      <td>1</td>\n",
       "      <td>rbf</td>\n",
       "      <td>0.966667</td>\n",
       "    </tr>\n",
       "    <tr>\n",
       "      <th>1</th>\n",
       "      <td>1</td>\n",
       "      <td>linear</td>\n",
       "      <td>0.980000</td>\n",
       "    </tr>\n",
       "    <tr>\n",
       "      <th>2</th>\n",
       "      <td>10</td>\n",
       "      <td>rbf</td>\n",
       "      <td>0.980000</td>\n",
       "    </tr>\n",
       "    <tr>\n",
       "      <th>3</th>\n",
       "      <td>10</td>\n",
       "      <td>linear</td>\n",
       "      <td>0.973333</td>\n",
       "    </tr>\n",
       "    <tr>\n",
       "      <th>4</th>\n",
       "      <td>20</td>\n",
       "      <td>rbf</td>\n",
       "      <td>0.980000</td>\n",
       "    </tr>\n",
       "    <tr>\n",
       "      <th>5</th>\n",
       "      <td>20</td>\n",
       "      <td>linear</td>\n",
       "      <td>0.966667</td>\n",
       "    </tr>\n",
       "  </tbody>\n",
       "</table>\n",
       "</div>"
      ],
      "text/plain": [
       "  param_C param_kernel  mean_test_score\n",
       "0       1          rbf         0.966667\n",
       "1       1       linear         0.980000\n",
       "2      10          rbf         0.980000\n",
       "3      10       linear         0.973333\n",
       "4      20          rbf         0.980000\n",
       "5      20       linear         0.966667"
      ]
     },
     "execution_count": 323,
     "metadata": {},
     "output_type": "execute_result"
    }
   ],
   "source": [
    "df[['param_C','param_kernel','mean_test_score']]"
   ]
  },
  {
   "cell_type": "code",
   "execution_count": 324,
   "metadata": {},
   "outputs": [
    {
     "data": {
      "text/plain": [
       "['__abstractmethods__',\n",
       " '__class__',\n",
       " '__delattr__',\n",
       " '__dict__',\n",
       " '__dir__',\n",
       " '__doc__',\n",
       " '__eq__',\n",
       " '__format__',\n",
       " '__ge__',\n",
       " '__getattribute__',\n",
       " '__getstate__',\n",
       " '__gt__',\n",
       " '__hash__',\n",
       " '__init__',\n",
       " '__init_subclass__',\n",
       " '__le__',\n",
       " '__lt__',\n",
       " '__module__',\n",
       " '__ne__',\n",
       " '__new__',\n",
       " '__reduce__',\n",
       " '__reduce_ex__',\n",
       " '__repr__',\n",
       " '__setattr__',\n",
       " '__setstate__',\n",
       " '__sizeof__',\n",
       " '__str__',\n",
       " '__subclasshook__',\n",
       " '__weakref__',\n",
       " '_abc_impl',\n",
       " '_check_is_fitted',\n",
       " '_check_n_features',\n",
       " '_check_refit_for_multimetric',\n",
       " '_estimator_type',\n",
       " '_format_results',\n",
       " '_get_param_names',\n",
       " '_get_tags',\n",
       " '_more_tags',\n",
       " '_pairwise',\n",
       " '_repr_html_',\n",
       " '_repr_html_inner',\n",
       " '_repr_mimebundle_',\n",
       " '_required_parameters',\n",
       " '_run_search',\n",
       " '_validate_data',\n",
       " 'best_estimator_',\n",
       " 'best_index_',\n",
       " 'best_params_',\n",
       " 'best_score_',\n",
       " 'classes_',\n",
       " 'cv',\n",
       " 'cv_results_',\n",
       " 'decision_function',\n",
       " 'error_score',\n",
       " 'estimator',\n",
       " 'fit',\n",
       " 'get_params',\n",
       " 'inverse_transform',\n",
       " 'multimetric_',\n",
       " 'n_features_in_',\n",
       " 'n_jobs',\n",
       " 'n_splits_',\n",
       " 'param_grid',\n",
       " 'pre_dispatch',\n",
       " 'predict',\n",
       " 'predict_log_proba',\n",
       " 'predict_proba',\n",
       " 'refit',\n",
       " 'refit_time_',\n",
       " 'return_train_score',\n",
       " 'score',\n",
       " 'score_samples',\n",
       " 'scorer_',\n",
       " 'scoring',\n",
       " 'set_params',\n",
       " 'transform',\n",
       " 'verbose']"
      ]
     },
     "execution_count": 324,
     "metadata": {},
     "output_type": "execute_result"
    }
   ],
   "source": [
    "dir(clf)"
   ]
  },
  {
   "cell_type": "code",
   "execution_count": 327,
   "metadata": {},
   "outputs": [
    {
     "data": {
      "text/plain": [
       "0.9800000000000001"
      ]
     },
     "execution_count": 327,
     "metadata": {},
     "output_type": "execute_result"
    }
   ],
   "source": [
    "clf.best_score_"
   ]
  },
  {
   "cell_type": "code",
   "execution_count": 328,
   "metadata": {},
   "outputs": [
    {
     "data": {
      "text/plain": [
       "{'C': 1, 'kernel': 'linear'}"
      ]
     },
     "execution_count": 328,
     "metadata": {},
     "output_type": "execute_result"
    }
   ],
   "source": [
    "clf.best_params_"
   ]
  },
  {
   "cell_type": "markdown",
   "metadata": {},
   "source": [
    "Another method for parameter selection which does not try all combination.just try the random n_iter combination"
   ]
  },
  {
   "cell_type": "code",
   "execution_count": 330,
   "metadata": {},
   "outputs": [],
   "source": [
    "from sklearn.model_selection import RandomizedSearchCV\n",
    "rs = RandomizedSearchCV(SVC(),{\n",
    "    'C':[1,10,20],\n",
    "    'kernel':['rbf','linear']\n",
    "},cv=5,return_train_score=False,n_iter=2)  #this will randomly select 2 pair as n_iter = 2"
   ]
  },
  {
   "cell_type": "code",
   "execution_count": 331,
   "metadata": {},
   "outputs": [
    {
     "data": {
      "text/plain": [
       "RandomizedSearchCV(cv=5, estimator=SVC(), n_iter=2,\n",
       "                   param_distributions={'C': [1, 10, 20],\n",
       "                                        'kernel': ['rbf', 'linear']})"
      ]
     },
     "execution_count": 331,
     "metadata": {},
     "output_type": "execute_result"
    }
   ],
   "source": [
    "rs.fit(iris.data,iris.target)"
   ]
  },
  {
   "cell_type": "code",
   "execution_count": 332,
   "metadata": {},
   "outputs": [],
   "source": [
    "df = pd.DataFrame(rs.cv_results_)"
   ]
  },
  {
   "cell_type": "code",
   "execution_count": 334,
   "metadata": {},
   "outputs": [
    {
     "data": {
      "text/html": [
       "<div>\n",
       "<style scoped>\n",
       "    .dataframe tbody tr th:only-of-type {\n",
       "        vertical-align: middle;\n",
       "    }\n",
       "\n",
       "    .dataframe tbody tr th {\n",
       "        vertical-align: top;\n",
       "    }\n",
       "\n",
       "    .dataframe thead th {\n",
       "        text-align: right;\n",
       "    }\n",
       "</style>\n",
       "<table border=\"1\" class=\"dataframe\">\n",
       "  <thead>\n",
       "    <tr style=\"text-align: right;\">\n",
       "      <th></th>\n",
       "      <th>param_C</th>\n",
       "      <th>param_kernel</th>\n",
       "      <th>mean_test_score</th>\n",
       "    </tr>\n",
       "  </thead>\n",
       "  <tbody>\n",
       "    <tr>\n",
       "      <th>0</th>\n",
       "      <td>20</td>\n",
       "      <td>linear</td>\n",
       "      <td>0.966667</td>\n",
       "    </tr>\n",
       "    <tr>\n",
       "      <th>1</th>\n",
       "      <td>1</td>\n",
       "      <td>rbf</td>\n",
       "      <td>0.966667</td>\n",
       "    </tr>\n",
       "  </tbody>\n",
       "</table>\n",
       "</div>"
      ],
      "text/plain": [
       "  param_C param_kernel  mean_test_score\n",
       "0      20       linear         0.966667\n",
       "1       1          rbf         0.966667"
      ]
     },
     "execution_count": 334,
     "metadata": {},
     "output_type": "execute_result"
    }
   ],
   "source": [
    "df[['param_C','param_kernel','mean_test_score']]"
   ]
  },
  {
   "cell_type": "code",
   "execution_count": 335,
   "metadata": {},
   "outputs": [
    {
     "data": {
      "text/plain": [
       "{'kernel': 'linear', 'C': 20}"
      ]
     },
     "execution_count": 335,
     "metadata": {},
     "output_type": "execute_result"
    }
   ],
   "source": [
    "rs.best_params_"
   ]
  },
  {
   "cell_type": "code",
   "execution_count": 336,
   "metadata": {},
   "outputs": [
    {
     "data": {
      "text/plain": [
       "0.9666666666666666"
      ]
     },
     "execution_count": 336,
     "metadata": {},
     "output_type": "execute_result"
    }
   ],
   "source": [
    "rs.best_score_"
   ]
  },
  {
   "cell_type": "markdown",
   "metadata": {},
   "source": [
    "# Best Model Selection"
   ]
  },
  {
   "cell_type": "code",
   "execution_count": 338,
   "metadata": {},
   "outputs": [],
   "source": [
    "model_params = {\n",
    "    'svm': {\n",
    "        'model': SVC(gamma='auto'),\n",
    "        'params' : {\n",
    "            'C': [1,10,20],\n",
    "            'kernel': ['rbf','linear']\n",
    "        }  \n",
    "    },\n",
    "    'random_forest': {\n",
    "        'model': RandomForestClassifier(),\n",
    "        'params' : {\n",
    "            'n_estimators': [1,5,10]\n",
    "        }\n",
    "    },\n",
    "    'logistic_regression' : {\n",
    "        'model': LogisticRegression(solver='liblinear',multi_class='auto'),\n",
    "        'params': {\n",
    "            'C': [1,5,10]\n",
    "        }\n",
    "    }\n",
    "}"
   ]
  },
  {
   "cell_type": "code",
   "execution_count": 339,
   "metadata": {},
   "outputs": [
    {
     "data": {
      "text/html": [
       "<div>\n",
       "<style scoped>\n",
       "    .dataframe tbody tr th:only-of-type {\n",
       "        vertical-align: middle;\n",
       "    }\n",
       "\n",
       "    .dataframe tbody tr th {\n",
       "        vertical-align: top;\n",
       "    }\n",
       "\n",
       "    .dataframe thead th {\n",
       "        text-align: right;\n",
       "    }\n",
       "</style>\n",
       "<table border=\"1\" class=\"dataframe\">\n",
       "  <thead>\n",
       "    <tr style=\"text-align: right;\">\n",
       "      <th></th>\n",
       "      <th>model</th>\n",
       "      <th>best_score</th>\n",
       "      <th>best_params</th>\n",
       "    </tr>\n",
       "  </thead>\n",
       "  <tbody>\n",
       "    <tr>\n",
       "      <th>0</th>\n",
       "      <td>svm</td>\n",
       "      <td>0.980000</td>\n",
       "      <td>{'C': 1, 'kernel': 'rbf'}</td>\n",
       "    </tr>\n",
       "    <tr>\n",
       "      <th>1</th>\n",
       "      <td>random_forest</td>\n",
       "      <td>0.960000</td>\n",
       "      <td>{'n_estimators': 10}</td>\n",
       "    </tr>\n",
       "    <tr>\n",
       "      <th>2</th>\n",
       "      <td>logistic_regression</td>\n",
       "      <td>0.966667</td>\n",
       "      <td>{'C': 5}</td>\n",
       "    </tr>\n",
       "  </tbody>\n",
       "</table>\n",
       "</div>"
      ],
      "text/plain": [
       "                 model  best_score                best_params\n",
       "0                  svm    0.980000  {'C': 1, 'kernel': 'rbf'}\n",
       "1        random_forest    0.960000       {'n_estimators': 10}\n",
       "2  logistic_regression    0.966667                   {'C': 5}"
      ]
     },
     "execution_count": 339,
     "metadata": {},
     "output_type": "execute_result"
    }
   ],
   "source": [
    "scores = []\n",
    "\n",
    "for model_name, mp in model_params.items():\n",
    "    clf =  GridSearchCV(mp['model'], mp['params'], cv=5, return_train_score=False)\n",
    "    clf.fit(iris.data, iris.target)\n",
    "    scores.append({\n",
    "        'model': model_name,\n",
    "        'best_score': clf.best_score_,\n",
    "        'best_params': clf.best_params_\n",
    "    })\n",
    "    \n",
    "df = pd.DataFrame(scores,columns=['model','best_score','best_params'])\n",
    "df"
   ]
  },
  {
   "cell_type": "code",
   "execution_count": 348,
   "metadata": {},
   "outputs": [
    {
     "name": "stdout",
     "output_type": "stream",
     "text": [
      "svm\n",
      "{'model': SVC(gamma='auto'), 'params': {'C': [1, 10, 20], 'kernel': ['rbf', 'linear']}}\n",
      "random_forest\n",
      "{'model': RandomForestClassifier(), 'params': {'n_estimators': [1, 5, 10]}}\n",
      "logistic_regression\n",
      "{'model': LogisticRegression(solver='liblinear'), 'params': {'C': [1, 5, 10]}}\n"
     ]
    }
   ],
   "source": [
    "for x,y in model_params.items():\n",
    "    print(x)\n",
    "    print(y)"
   ]
  },
  {
   "cell_type": "code",
   "execution_count": 344,
   "metadata": {},
   "outputs": [
    {
     "data": {
      "text/plain": [
       "{'svm': {'model': SVC(gamma='auto'),\n",
       "  'params': {'C': [1, 10, 20], 'kernel': ['rbf', 'linear']}},\n",
       " 'random_forest': {'model': RandomForestClassifier(),\n",
       "  'params': {'n_estimators': [1, 5, 10]}},\n",
       " 'logistic_regression': {'model': LogisticRegression(solver='liblinear'),\n",
       "  'params': {'C': [1, 5, 10]}}}"
      ]
     },
     "execution_count": 344,
     "metadata": {},
     "output_type": "execute_result"
    }
   ],
   "source": [
    "model_params"
   ]
  },
  {
   "cell_type": "markdown",
   "metadata": {},
   "source": [
    "# L1 and L2 Regularization"
   ]
  },
  {
   "cell_type": "code",
   "execution_count": 29,
   "metadata": {},
   "outputs": [],
   "source": [
    "import warnings\n",
    "warnings.filterwarnings('ignore')"
   ]
  },
  {
   "cell_type": "code",
   "execution_count": 30,
   "metadata": {},
   "outputs": [],
   "source": [
    "df = pd.read_csv('melb_data.csv')"
   ]
  },
  {
   "cell_type": "code",
   "execution_count": 31,
   "metadata": {},
   "outputs": [
    {
     "data": {
      "text/plain": [
       "Index(['Suburb', 'Address', 'Rooms', 'Type', 'Price', 'Method', 'SellerG',\n",
       "       'Date', 'Distance', 'Postcode', 'Bedroom2', 'Bathroom', 'Car',\n",
       "       'Landsize', 'BuildingArea', 'YearBuilt', 'CouncilArea', 'Lattitude',\n",
       "       'Longtitude', 'Regionname', 'Propertycount'],\n",
       "      dtype='object')"
      ]
     },
     "execution_count": 31,
     "metadata": {},
     "output_type": "execute_result"
    }
   ],
   "source": [
    "df.columns"
   ]
  },
  {
   "cell_type": "code",
   "execution_count": 32,
   "metadata": {},
   "outputs": [],
   "source": [
    "df = df[['Suburb','Rooms','Type','Method','SellerG','Distance','Bedroom2','Bathroom','Car',\n",
    "       'Landsize','BuildingArea','CouncilArea','Regionname','Propertycount','Price']]"
   ]
  },
  {
   "cell_type": "code",
   "execution_count": 42,
   "metadata": {},
   "outputs": [
    {
     "data": {
      "text/plain": [
       "Suburb           0\n",
       "Rooms            0\n",
       "Type             0\n",
       "Method           0\n",
       "SellerG          0\n",
       "Distance         0\n",
       "Bedroom2         0\n",
       "Bathroom         0\n",
       "Car              0\n",
       "Landsize         0\n",
       "BuildingArea     0\n",
       "CouncilArea      0\n",
       "Regionname       0\n",
       "Propertycount    0\n",
       "Price            0\n",
       "dtype: int64"
      ]
     },
     "execution_count": 42,
     "metadata": {},
     "output_type": "execute_result"
    }
   ],
   "source": [
    "  df.isna().sum()"
   ]
  },
  {
   "cell_type": "code",
   "execution_count": 34,
   "metadata": {},
   "outputs": [],
   "source": [
    "df.Car.fillna(0,inplace=True)"
   ]
  },
  {
   "cell_type": "code",
   "execution_count": 38,
   "metadata": {},
   "outputs": [],
   "source": [
    "df.BuildingArea.fillna(df.BuildingArea.mean(),inplace=True)"
   ]
  },
  {
   "cell_type": "code",
   "execution_count": 40,
   "metadata": {},
   "outputs": [
    {
     "data": {
      "text/html": [
       "<div>\n",
       "<style scoped>\n",
       "    .dataframe tbody tr th:only-of-type {\n",
       "        vertical-align: middle;\n",
       "    }\n",
       "\n",
       "    .dataframe tbody tr th {\n",
       "        vertical-align: top;\n",
       "    }\n",
       "\n",
       "    .dataframe thead th {\n",
       "        text-align: right;\n",
       "    }\n",
       "</style>\n",
       "<table border=\"1\" class=\"dataframe\">\n",
       "  <thead>\n",
       "    <tr style=\"text-align: right;\">\n",
       "      <th></th>\n",
       "      <th>Suburb</th>\n",
       "      <th>Rooms</th>\n",
       "      <th>Type</th>\n",
       "      <th>Method</th>\n",
       "      <th>SellerG</th>\n",
       "      <th>Distance</th>\n",
       "      <th>Bedroom2</th>\n",
       "      <th>Bathroom</th>\n",
       "      <th>Car</th>\n",
       "      <th>Landsize</th>\n",
       "      <th>BuildingArea</th>\n",
       "      <th>CouncilArea</th>\n",
       "      <th>Regionname</th>\n",
       "      <th>Propertycount</th>\n",
       "      <th>Price</th>\n",
       "    </tr>\n",
       "  </thead>\n",
       "  <tbody>\n",
       "    <tr>\n",
       "      <th>0</th>\n",
       "      <td>Abbotsford</td>\n",
       "      <td>2</td>\n",
       "      <td>h</td>\n",
       "      <td>S</td>\n",
       "      <td>Biggin</td>\n",
       "      <td>2.5</td>\n",
       "      <td>2</td>\n",
       "      <td>1</td>\n",
       "      <td>1.0</td>\n",
       "      <td>202</td>\n",
       "      <td>151.96765</td>\n",
       "      <td>Yarra</td>\n",
       "      <td>Northern Metropolitan</td>\n",
       "      <td>4019</td>\n",
       "      <td>1480000</td>\n",
       "    </tr>\n",
       "    <tr>\n",
       "      <th>1</th>\n",
       "      <td>Abbotsford</td>\n",
       "      <td>2</td>\n",
       "      <td>h</td>\n",
       "      <td>S</td>\n",
       "      <td>Biggin</td>\n",
       "      <td>2.5</td>\n",
       "      <td>2</td>\n",
       "      <td>1</td>\n",
       "      <td>0.0</td>\n",
       "      <td>156</td>\n",
       "      <td>79.00000</td>\n",
       "      <td>Yarra</td>\n",
       "      <td>Northern Metropolitan</td>\n",
       "      <td>4019</td>\n",
       "      <td>1035000</td>\n",
       "    </tr>\n",
       "    <tr>\n",
       "      <th>2</th>\n",
       "      <td>Abbotsford</td>\n",
       "      <td>3</td>\n",
       "      <td>h</td>\n",
       "      <td>SP</td>\n",
       "      <td>Biggin</td>\n",
       "      <td>2.5</td>\n",
       "      <td>3</td>\n",
       "      <td>2</td>\n",
       "      <td>0.0</td>\n",
       "      <td>134</td>\n",
       "      <td>150.00000</td>\n",
       "      <td>Yarra</td>\n",
       "      <td>Northern Metropolitan</td>\n",
       "      <td>4019</td>\n",
       "      <td>1465000</td>\n",
       "    </tr>\n",
       "    <tr>\n",
       "      <th>3</th>\n",
       "      <td>Abbotsford</td>\n",
       "      <td>3</td>\n",
       "      <td>h</td>\n",
       "      <td>PI</td>\n",
       "      <td>Biggin</td>\n",
       "      <td>2.5</td>\n",
       "      <td>3</td>\n",
       "      <td>2</td>\n",
       "      <td>1.0</td>\n",
       "      <td>94</td>\n",
       "      <td>151.96765</td>\n",
       "      <td>Yarra</td>\n",
       "      <td>Northern Metropolitan</td>\n",
       "      <td>4019</td>\n",
       "      <td>850000</td>\n",
       "    </tr>\n",
       "    <tr>\n",
       "      <th>4</th>\n",
       "      <td>Abbotsford</td>\n",
       "      <td>4</td>\n",
       "      <td>h</td>\n",
       "      <td>VB</td>\n",
       "      <td>Nelson</td>\n",
       "      <td>2.5</td>\n",
       "      <td>3</td>\n",
       "      <td>1</td>\n",
       "      <td>2.0</td>\n",
       "      <td>120</td>\n",
       "      <td>142.00000</td>\n",
       "      <td>Yarra</td>\n",
       "      <td>Northern Metropolitan</td>\n",
       "      <td>4019</td>\n",
       "      <td>1600000</td>\n",
       "    </tr>\n",
       "    <tr>\n",
       "      <th>...</th>\n",
       "      <td>...</td>\n",
       "      <td>...</td>\n",
       "      <td>...</td>\n",
       "      <td>...</td>\n",
       "      <td>...</td>\n",
       "      <td>...</td>\n",
       "      <td>...</td>\n",
       "      <td>...</td>\n",
       "      <td>...</td>\n",
       "      <td>...</td>\n",
       "      <td>...</td>\n",
       "      <td>...</td>\n",
       "      <td>...</td>\n",
       "      <td>...</td>\n",
       "      <td>...</td>\n",
       "    </tr>\n",
       "    <tr>\n",
       "      <th>13575</th>\n",
       "      <td>Wheelers Hill</td>\n",
       "      <td>4</td>\n",
       "      <td>h</td>\n",
       "      <td>S</td>\n",
       "      <td>Barry</td>\n",
       "      <td>16.7</td>\n",
       "      <td>4</td>\n",
       "      <td>2</td>\n",
       "      <td>2.0</td>\n",
       "      <td>652</td>\n",
       "      <td>151.96765</td>\n",
       "      <td>NaN</td>\n",
       "      <td>South-Eastern Metropolitan</td>\n",
       "      <td>7392</td>\n",
       "      <td>1245000</td>\n",
       "    </tr>\n",
       "    <tr>\n",
       "      <th>13576</th>\n",
       "      <td>Williamstown</td>\n",
       "      <td>3</td>\n",
       "      <td>h</td>\n",
       "      <td>SP</td>\n",
       "      <td>Williams</td>\n",
       "      <td>6.8</td>\n",
       "      <td>3</td>\n",
       "      <td>2</td>\n",
       "      <td>2.0</td>\n",
       "      <td>333</td>\n",
       "      <td>133.00000</td>\n",
       "      <td>NaN</td>\n",
       "      <td>Western Metropolitan</td>\n",
       "      <td>6380</td>\n",
       "      <td>1031000</td>\n",
       "    </tr>\n",
       "    <tr>\n",
       "      <th>13577</th>\n",
       "      <td>Williamstown</td>\n",
       "      <td>3</td>\n",
       "      <td>h</td>\n",
       "      <td>S</td>\n",
       "      <td>Raine</td>\n",
       "      <td>6.8</td>\n",
       "      <td>3</td>\n",
       "      <td>2</td>\n",
       "      <td>4.0</td>\n",
       "      <td>436</td>\n",
       "      <td>151.96765</td>\n",
       "      <td>NaN</td>\n",
       "      <td>Western Metropolitan</td>\n",
       "      <td>6380</td>\n",
       "      <td>1170000</td>\n",
       "    </tr>\n",
       "    <tr>\n",
       "      <th>13578</th>\n",
       "      <td>Williamstown</td>\n",
       "      <td>4</td>\n",
       "      <td>h</td>\n",
       "      <td>PI</td>\n",
       "      <td>Sweeney</td>\n",
       "      <td>6.8</td>\n",
       "      <td>4</td>\n",
       "      <td>1</td>\n",
       "      <td>5.0</td>\n",
       "      <td>866</td>\n",
       "      <td>157.00000</td>\n",
       "      <td>NaN</td>\n",
       "      <td>Western Metropolitan</td>\n",
       "      <td>6380</td>\n",
       "      <td>2500000</td>\n",
       "    </tr>\n",
       "    <tr>\n",
       "      <th>13579</th>\n",
       "      <td>Yarraville</td>\n",
       "      <td>4</td>\n",
       "      <td>h</td>\n",
       "      <td>SP</td>\n",
       "      <td>Village</td>\n",
       "      <td>6.3</td>\n",
       "      <td>4</td>\n",
       "      <td>1</td>\n",
       "      <td>1.0</td>\n",
       "      <td>362</td>\n",
       "      <td>112.00000</td>\n",
       "      <td>NaN</td>\n",
       "      <td>Western Metropolitan</td>\n",
       "      <td>6543</td>\n",
       "      <td>1285000</td>\n",
       "    </tr>\n",
       "  </tbody>\n",
       "</table>\n",
       "<p>13580 rows × 15 columns</p>\n",
       "</div>"
      ],
      "text/plain": [
       "              Suburb  Rooms Type Method   SellerG  Distance  Bedroom2  \\\n",
       "0         Abbotsford      2    h      S    Biggin       2.5         2   \n",
       "1         Abbotsford      2    h      S    Biggin       2.5         2   \n",
       "2         Abbotsford      3    h     SP    Biggin       2.5         3   \n",
       "3         Abbotsford      3    h     PI    Biggin       2.5         3   \n",
       "4         Abbotsford      4    h     VB    Nelson       2.5         3   \n",
       "...              ...    ...  ...    ...       ...       ...       ...   \n",
       "13575  Wheelers Hill      4    h      S     Barry      16.7         4   \n",
       "13576   Williamstown      3    h     SP  Williams       6.8         3   \n",
       "13577   Williamstown      3    h      S     Raine       6.8         3   \n",
       "13578   Williamstown      4    h     PI   Sweeney       6.8         4   \n",
       "13579     Yarraville      4    h     SP   Village       6.3         4   \n",
       "\n",
       "       Bathroom  Car  Landsize  BuildingArea CouncilArea  \\\n",
       "0             1  1.0       202     151.96765       Yarra   \n",
       "1             1  0.0       156      79.00000       Yarra   \n",
       "2             2  0.0       134     150.00000       Yarra   \n",
       "3             2  1.0        94     151.96765       Yarra   \n",
       "4             1  2.0       120     142.00000       Yarra   \n",
       "...         ...  ...       ...           ...         ...   \n",
       "13575         2  2.0       652     151.96765         NaN   \n",
       "13576         2  2.0       333     133.00000         NaN   \n",
       "13577         2  4.0       436     151.96765         NaN   \n",
       "13578         1  5.0       866     157.00000         NaN   \n",
       "13579         1  1.0       362     112.00000         NaN   \n",
       "\n",
       "                       Regionname  Propertycount    Price  \n",
       "0           Northern Metropolitan           4019  1480000  \n",
       "1           Northern Metropolitan           4019  1035000  \n",
       "2           Northern Metropolitan           4019  1465000  \n",
       "3           Northern Metropolitan           4019   850000  \n",
       "4           Northern Metropolitan           4019  1600000  \n",
       "...                           ...            ...      ...  \n",
       "13575  South-Eastern Metropolitan           7392  1245000  \n",
       "13576        Western Metropolitan           6380  1031000  \n",
       "13577        Western Metropolitan           6380  1170000  \n",
       "13578        Western Metropolitan           6380  2500000  \n",
       "13579        Western Metropolitan           6543  1285000  \n",
       "\n",
       "[13580 rows x 15 columns]"
      ]
     },
     "execution_count": 40,
     "metadata": {},
     "output_type": "execute_result"
    }
   ],
   "source": [
    "df"
   ]
  },
  {
   "cell_type": "code",
   "execution_count": 41,
   "metadata": {},
   "outputs": [],
   "source": [
    "df.dropna(inplace=True)"
   ]
  },
  {
   "cell_type": "code",
   "execution_count": 44,
   "metadata": {},
   "outputs": [],
   "source": [
    "df = pd.get_dummies(df,drop_first=True)"
   ]
  },
  {
   "cell_type": "code",
   "execution_count": 45,
   "metadata": {},
   "outputs": [
    {
     "data": {
      "text/html": [
       "<div>\n",
       "<style scoped>\n",
       "    .dataframe tbody tr th:only-of-type {\n",
       "        vertical-align: middle;\n",
       "    }\n",
       "\n",
       "    .dataframe tbody tr th {\n",
       "        vertical-align: top;\n",
       "    }\n",
       "\n",
       "    .dataframe thead th {\n",
       "        text-align: right;\n",
       "    }\n",
       "</style>\n",
       "<table border=\"1\" class=\"dataframe\">\n",
       "  <thead>\n",
       "    <tr style=\"text-align: right;\">\n",
       "      <th></th>\n",
       "      <th>Rooms</th>\n",
       "      <th>Distance</th>\n",
       "      <th>Bedroom2</th>\n",
       "      <th>Bathroom</th>\n",
       "      <th>Car</th>\n",
       "      <th>Landsize</th>\n",
       "      <th>BuildingArea</th>\n",
       "      <th>Propertycount</th>\n",
       "      <th>Price</th>\n",
       "      <th>Suburb_Aberfeldie</th>\n",
       "      <th>...</th>\n",
       "      <th>CouncilArea_Wyndham</th>\n",
       "      <th>CouncilArea_Yarra</th>\n",
       "      <th>CouncilArea_Yarra Ranges</th>\n",
       "      <th>Regionname_Eastern Victoria</th>\n",
       "      <th>Regionname_Northern Metropolitan</th>\n",
       "      <th>Regionname_Northern Victoria</th>\n",
       "      <th>Regionname_South-Eastern Metropolitan</th>\n",
       "      <th>Regionname_Southern Metropolitan</th>\n",
       "      <th>Regionname_Western Metropolitan</th>\n",
       "      <th>Regionname_Western Victoria</th>\n",
       "    </tr>\n",
       "  </thead>\n",
       "  <tbody>\n",
       "    <tr>\n",
       "      <th>0</th>\n",
       "      <td>2</td>\n",
       "      <td>2.5</td>\n",
       "      <td>2</td>\n",
       "      <td>1</td>\n",
       "      <td>1.0</td>\n",
       "      <td>202</td>\n",
       "      <td>151.96765</td>\n",
       "      <td>4019</td>\n",
       "      <td>1480000</td>\n",
       "      <td>0</td>\n",
       "      <td>...</td>\n",
       "      <td>0</td>\n",
       "      <td>1</td>\n",
       "      <td>0</td>\n",
       "      <td>0</td>\n",
       "      <td>1</td>\n",
       "      <td>0</td>\n",
       "      <td>0</td>\n",
       "      <td>0</td>\n",
       "      <td>0</td>\n",
       "      <td>0</td>\n",
       "    </tr>\n",
       "    <tr>\n",
       "      <th>1</th>\n",
       "      <td>2</td>\n",
       "      <td>2.5</td>\n",
       "      <td>2</td>\n",
       "      <td>1</td>\n",
       "      <td>0.0</td>\n",
       "      <td>156</td>\n",
       "      <td>79.00000</td>\n",
       "      <td>4019</td>\n",
       "      <td>1035000</td>\n",
       "      <td>0</td>\n",
       "      <td>...</td>\n",
       "      <td>0</td>\n",
       "      <td>1</td>\n",
       "      <td>0</td>\n",
       "      <td>0</td>\n",
       "      <td>1</td>\n",
       "      <td>0</td>\n",
       "      <td>0</td>\n",
       "      <td>0</td>\n",
       "      <td>0</td>\n",
       "      <td>0</td>\n",
       "    </tr>\n",
       "    <tr>\n",
       "      <th>2</th>\n",
       "      <td>3</td>\n",
       "      <td>2.5</td>\n",
       "      <td>3</td>\n",
       "      <td>2</td>\n",
       "      <td>0.0</td>\n",
       "      <td>134</td>\n",
       "      <td>150.00000</td>\n",
       "      <td>4019</td>\n",
       "      <td>1465000</td>\n",
       "      <td>0</td>\n",
       "      <td>...</td>\n",
       "      <td>0</td>\n",
       "      <td>1</td>\n",
       "      <td>0</td>\n",
       "      <td>0</td>\n",
       "      <td>1</td>\n",
       "      <td>0</td>\n",
       "      <td>0</td>\n",
       "      <td>0</td>\n",
       "      <td>0</td>\n",
       "      <td>0</td>\n",
       "    </tr>\n",
       "    <tr>\n",
       "      <th>3</th>\n",
       "      <td>3</td>\n",
       "      <td>2.5</td>\n",
       "      <td>3</td>\n",
       "      <td>2</td>\n",
       "      <td>1.0</td>\n",
       "      <td>94</td>\n",
       "      <td>151.96765</td>\n",
       "      <td>4019</td>\n",
       "      <td>850000</td>\n",
       "      <td>0</td>\n",
       "      <td>...</td>\n",
       "      <td>0</td>\n",
       "      <td>1</td>\n",
       "      <td>0</td>\n",
       "      <td>0</td>\n",
       "      <td>1</td>\n",
       "      <td>0</td>\n",
       "      <td>0</td>\n",
       "      <td>0</td>\n",
       "      <td>0</td>\n",
       "      <td>0</td>\n",
       "    </tr>\n",
       "    <tr>\n",
       "      <th>4</th>\n",
       "      <td>4</td>\n",
       "      <td>2.5</td>\n",
       "      <td>3</td>\n",
       "      <td>1</td>\n",
       "      <td>2.0</td>\n",
       "      <td>120</td>\n",
       "      <td>142.00000</td>\n",
       "      <td>4019</td>\n",
       "      <td>1600000</td>\n",
       "      <td>0</td>\n",
       "      <td>...</td>\n",
       "      <td>0</td>\n",
       "      <td>1</td>\n",
       "      <td>0</td>\n",
       "      <td>0</td>\n",
       "      <td>1</td>\n",
       "      <td>0</td>\n",
       "      <td>0</td>\n",
       "      <td>0</td>\n",
       "      <td>0</td>\n",
       "      <td>0</td>\n",
       "    </tr>\n",
       "    <tr>\n",
       "      <th>...</th>\n",
       "      <td>...</td>\n",
       "      <td>...</td>\n",
       "      <td>...</td>\n",
       "      <td>...</td>\n",
       "      <td>...</td>\n",
       "      <td>...</td>\n",
       "      <td>...</td>\n",
       "      <td>...</td>\n",
       "      <td>...</td>\n",
       "      <td>...</td>\n",
       "      <td>...</td>\n",
       "      <td>...</td>\n",
       "      <td>...</td>\n",
       "      <td>...</td>\n",
       "      <td>...</td>\n",
       "      <td>...</td>\n",
       "      <td>...</td>\n",
       "      <td>...</td>\n",
       "      <td>...</td>\n",
       "      <td>...</td>\n",
       "      <td>...</td>\n",
       "    </tr>\n",
       "    <tr>\n",
       "      <th>12208</th>\n",
       "      <td>3</td>\n",
       "      <td>6.8</td>\n",
       "      <td>3</td>\n",
       "      <td>1</td>\n",
       "      <td>0.0</td>\n",
       "      <td>296</td>\n",
       "      <td>151.96765</td>\n",
       "      <td>6380</td>\n",
       "      <td>1285000</td>\n",
       "      <td>0</td>\n",
       "      <td>...</td>\n",
       "      <td>0</td>\n",
       "      <td>0</td>\n",
       "      <td>0</td>\n",
       "      <td>0</td>\n",
       "      <td>0</td>\n",
       "      <td>0</td>\n",
       "      <td>0</td>\n",
       "      <td>0</td>\n",
       "      <td>1</td>\n",
       "      <td>0</td>\n",
       "    </tr>\n",
       "    <tr>\n",
       "      <th>12209</th>\n",
       "      <td>2</td>\n",
       "      <td>4.6</td>\n",
       "      <td>2</td>\n",
       "      <td>1</td>\n",
       "      <td>1.0</td>\n",
       "      <td>0</td>\n",
       "      <td>61.60000</td>\n",
       "      <td>4380</td>\n",
       "      <td>560000</td>\n",
       "      <td>0</td>\n",
       "      <td>...</td>\n",
       "      <td>0</td>\n",
       "      <td>0</td>\n",
       "      <td>0</td>\n",
       "      <td>0</td>\n",
       "      <td>0</td>\n",
       "      <td>0</td>\n",
       "      <td>0</td>\n",
       "      <td>1</td>\n",
       "      <td>0</td>\n",
       "      <td>0</td>\n",
       "    </tr>\n",
       "    <tr>\n",
       "      <th>12210</th>\n",
       "      <td>3</td>\n",
       "      <td>25.5</td>\n",
       "      <td>3</td>\n",
       "      <td>2</td>\n",
       "      <td>2.0</td>\n",
       "      <td>400</td>\n",
       "      <td>151.96765</td>\n",
       "      <td>2940</td>\n",
       "      <td>525300</td>\n",
       "      <td>0</td>\n",
       "      <td>...</td>\n",
       "      <td>0</td>\n",
       "      <td>0</td>\n",
       "      <td>0</td>\n",
       "      <td>0</td>\n",
       "      <td>1</td>\n",
       "      <td>0</td>\n",
       "      <td>0</td>\n",
       "      <td>0</td>\n",
       "      <td>0</td>\n",
       "      <td>0</td>\n",
       "    </tr>\n",
       "    <tr>\n",
       "      <th>12211</th>\n",
       "      <td>2</td>\n",
       "      <td>6.3</td>\n",
       "      <td>2</td>\n",
       "      <td>1</td>\n",
       "      <td>2.0</td>\n",
       "      <td>269</td>\n",
       "      <td>151.96765</td>\n",
       "      <td>6543</td>\n",
       "      <td>750000</td>\n",
       "      <td>0</td>\n",
       "      <td>...</td>\n",
       "      <td>0</td>\n",
       "      <td>0</td>\n",
       "      <td>0</td>\n",
       "      <td>0</td>\n",
       "      <td>0</td>\n",
       "      <td>0</td>\n",
       "      <td>0</td>\n",
       "      <td>0</td>\n",
       "      <td>1</td>\n",
       "      <td>0</td>\n",
       "    </tr>\n",
       "    <tr>\n",
       "      <th>12212</th>\n",
       "      <td>6</td>\n",
       "      <td>6.3</td>\n",
       "      <td>6</td>\n",
       "      <td>3</td>\n",
       "      <td>2.0</td>\n",
       "      <td>1087</td>\n",
       "      <td>388.50000</td>\n",
       "      <td>6543</td>\n",
       "      <td>2450000</td>\n",
       "      <td>0</td>\n",
       "      <td>...</td>\n",
       "      <td>0</td>\n",
       "      <td>0</td>\n",
       "      <td>0</td>\n",
       "      <td>0</td>\n",
       "      <td>0</td>\n",
       "      <td>0</td>\n",
       "      <td>0</td>\n",
       "      <td>0</td>\n",
       "      <td>1</td>\n",
       "      <td>0</td>\n",
       "    </tr>\n",
       "  </tbody>\n",
       "</table>\n",
       "<p>12211 rows × 613 columns</p>\n",
       "</div>"
      ],
      "text/plain": [
       "       Rooms  Distance  Bedroom2  Bathroom  Car  Landsize  BuildingArea  \\\n",
       "0          2       2.5         2         1  1.0       202     151.96765   \n",
       "1          2       2.5         2         1  0.0       156      79.00000   \n",
       "2          3       2.5         3         2  0.0       134     150.00000   \n",
       "3          3       2.5         3         2  1.0        94     151.96765   \n",
       "4          4       2.5         3         1  2.0       120     142.00000   \n",
       "...      ...       ...       ...       ...  ...       ...           ...   \n",
       "12208      3       6.8         3         1  0.0       296     151.96765   \n",
       "12209      2       4.6         2         1  1.0         0      61.60000   \n",
       "12210      3      25.5         3         2  2.0       400     151.96765   \n",
       "12211      2       6.3         2         1  2.0       269     151.96765   \n",
       "12212      6       6.3         6         3  2.0      1087     388.50000   \n",
       "\n",
       "       Propertycount    Price  Suburb_Aberfeldie  ...  CouncilArea_Wyndham  \\\n",
       "0               4019  1480000                  0  ...                    0   \n",
       "1               4019  1035000                  0  ...                    0   \n",
       "2               4019  1465000                  0  ...                    0   \n",
       "3               4019   850000                  0  ...                    0   \n",
       "4               4019  1600000                  0  ...                    0   \n",
       "...              ...      ...                ...  ...                  ...   \n",
       "12208           6380  1285000                  0  ...                    0   \n",
       "12209           4380   560000                  0  ...                    0   \n",
       "12210           2940   525300                  0  ...                    0   \n",
       "12211           6543   750000                  0  ...                    0   \n",
       "12212           6543  2450000                  0  ...                    0   \n",
       "\n",
       "       CouncilArea_Yarra  CouncilArea_Yarra Ranges  \\\n",
       "0                      1                         0   \n",
       "1                      1                         0   \n",
       "2                      1                         0   \n",
       "3                      1                         0   \n",
       "4                      1                         0   \n",
       "...                  ...                       ...   \n",
       "12208                  0                         0   \n",
       "12209                  0                         0   \n",
       "12210                  0                         0   \n",
       "12211                  0                         0   \n",
       "12212                  0                         0   \n",
       "\n",
       "       Regionname_Eastern Victoria  Regionname_Northern Metropolitan  \\\n",
       "0                                0                                 1   \n",
       "1                                0                                 1   \n",
       "2                                0                                 1   \n",
       "3                                0                                 1   \n",
       "4                                0                                 1   \n",
       "...                            ...                               ...   \n",
       "12208                            0                                 0   \n",
       "12209                            0                                 0   \n",
       "12210                            0                                 1   \n",
       "12211                            0                                 0   \n",
       "12212                            0                                 0   \n",
       "\n",
       "       Regionname_Northern Victoria  Regionname_South-Eastern Metropolitan  \\\n",
       "0                                 0                                      0   \n",
       "1                                 0                                      0   \n",
       "2                                 0                                      0   \n",
       "3                                 0                                      0   \n",
       "4                                 0                                      0   \n",
       "...                             ...                                    ...   \n",
       "12208                             0                                      0   \n",
       "12209                             0                                      0   \n",
       "12210                             0                                      0   \n",
       "12211                             0                                      0   \n",
       "12212                             0                                      0   \n",
       "\n",
       "       Regionname_Southern Metropolitan  Regionname_Western Metropolitan  \\\n",
       "0                                     0                                0   \n",
       "1                                     0                                0   \n",
       "2                                     0                                0   \n",
       "3                                     0                                0   \n",
       "4                                     0                                0   \n",
       "...                                 ...                              ...   \n",
       "12208                                 0                                1   \n",
       "12209                                 1                                0   \n",
       "12210                                 0                                0   \n",
       "12211                                 0                                1   \n",
       "12212                                 0                                1   \n",
       "\n",
       "       Regionname_Western Victoria  \n",
       "0                                0  \n",
       "1                                0  \n",
       "2                                0  \n",
       "3                                0  \n",
       "4                                0  \n",
       "...                            ...  \n",
       "12208                            0  \n",
       "12209                            0  \n",
       "12210                            0  \n",
       "12211                            0  \n",
       "12212                            0  \n",
       "\n",
       "[12211 rows x 613 columns]"
      ]
     },
     "execution_count": 45,
     "metadata": {},
     "output_type": "execute_result"
    }
   ],
   "source": [
    "df"
   ]
  },
  {
   "cell_type": "code",
   "execution_count": 52,
   "metadata": {},
   "outputs": [],
   "source": [
    "inputs = df.drop('Price',axis=1)\n",
    "target = df.Price"
   ]
  },
  {
   "cell_type": "code",
   "execution_count": 76,
   "metadata": {},
   "outputs": [],
   "source": [
    "from sklearn.model_selection import train_test_split\n",
    "x_train,x_test,y_train,y_test = train_test_split(inputs,target,test_size=0.2)"
   ]
  },
  {
   "cell_type": "code",
   "execution_count": 77,
   "metadata": {},
   "outputs": [
    {
     "data": {
      "text/plain": [
       "LinearRegression()"
      ]
     },
     "execution_count": 77,
     "metadata": {},
     "output_type": "execute_result"
    }
   ],
   "source": [
    "from sklearn.linear_model import LinearRegression\n",
    "model = LinearRegression()\n",
    "model.fit(x_train,y_train)"
   ]
  },
  {
   "cell_type": "code",
   "execution_count": 78,
   "metadata": {},
   "outputs": [
    {
     "data": {
      "text/plain": [
       "-168646156517.89777"
      ]
     },
     "execution_count": 78,
     "metadata": {},
     "output_type": "execute_result"
    }
   ],
   "source": [
    "model.score(x_test,y_test)"
   ]
  },
  {
   "cell_type": "code",
   "execution_count": 79,
   "metadata": {},
   "outputs": [
    {
     "data": {
      "text/plain": [
       "0.7016438106517096"
      ]
     },
     "execution_count": 79,
     "metadata": {},
     "output_type": "execute_result"
    }
   ],
   "source": [
    "model.score(x_train,y_train)"
   ]
  },
  {
   "cell_type": "code",
   "execution_count": 90,
   "metadata": {},
   "outputs": [
    {
     "data": {
      "text/plain": [
       "Lasso(alpha=50, max_iter=100, tol=0.1)"
      ]
     },
     "execution_count": 90,
     "metadata": {},
     "output_type": "execute_result"
    }
   ],
   "source": [
    "from sklearn.linear_model import Lasso\n",
    "model = Lasso(alpha=50,max_iter=100,tol=0.1) #L1 regularization\n",
    "model.fit(x_train,y_train)"
   ]
  },
  {
   "cell_type": "code",
   "execution_count": 91,
   "metadata": {},
   "outputs": [
    {
     "data": {
      "text/plain": [
       "0.6822081574276164"
      ]
     },
     "execution_count": 91,
     "metadata": {},
     "output_type": "execute_result"
    }
   ],
   "source": [
    "model.score(x_test,y_test)"
   ]
  },
  {
   "cell_type": "code",
   "execution_count": 92,
   "metadata": {},
   "outputs": [
    {
     "data": {
      "text/plain": [
       "0.6972340683272821"
      ]
     },
     "execution_count": 92,
     "metadata": {},
     "output_type": "execute_result"
    }
   ],
   "source": [
    "model.score(x_train,y_train)"
   ]
  },
  {
   "cell_type": "code",
   "execution_count": 93,
   "metadata": {},
   "outputs": [],
   "source": [
    "from sklearn.linear_model import Ridge\n",
    "model = Ridge(alpha=50,max_iter=100,tol=0.1) #L2 Regularization"
   ]
  },
  {
   "cell_type": "code",
   "execution_count": 94,
   "metadata": {},
   "outputs": [
    {
     "data": {
      "text/plain": [
       "Ridge(alpha=50, max_iter=100, tol=0.1)"
      ]
     },
     "execution_count": 94,
     "metadata": {},
     "output_type": "execute_result"
    }
   ],
   "source": [
    "model.fit(x_train,y_train)"
   ]
  },
  {
   "cell_type": "code",
   "execution_count": 95,
   "metadata": {},
   "outputs": [
    {
     "data": {
      "text/plain": [
       "0.663374814424767"
      ]
     },
     "execution_count": 95,
     "metadata": {},
     "output_type": "execute_result"
    }
   ],
   "source": [
    "model.score(x_test,y_test)"
   ]
  },
  {
   "cell_type": "code",
   "execution_count": 96,
   "metadata": {},
   "outputs": [
    {
     "data": {
      "text/plain": [
       "0.6729147296268658"
      ]
     },
     "execution_count": 96,
     "metadata": {},
     "output_type": "execute_result"
    }
   ],
   "source": [
    "model.score(x_train,y_train)"
   ]
  }
 ],
 "metadata": {
  "kernelspec": {
   "display_name": "Python 3",
   "language": "python",
   "name": "python3"
  },
  "language_info": {
   "codemirror_mode": {
    "name": "ipython",
    "version": 3
   },
   "file_extension": ".py",
   "mimetype": "text/x-python",
   "name": "python",
   "nbconvert_exporter": "python",
   "pygments_lexer": "ipython3",
   "version": "3.8.5"
  }
 },
 "nbformat": 4,
 "nbformat_minor": 4
}
