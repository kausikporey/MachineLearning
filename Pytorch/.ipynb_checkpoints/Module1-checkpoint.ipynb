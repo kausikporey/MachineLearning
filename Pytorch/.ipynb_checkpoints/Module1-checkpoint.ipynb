{
 "cells": [
  {
   "cell_type": "code",
   "execution_count": 279,
   "metadata": {},
   "outputs": [],
   "source": [
    "import torch\n",
    "import numpy as np\n",
    "import pandas as pd\n",
    "import matplotlib.pyplot as plt"
   ]
  },
  {
   "cell_type": "markdown",
   "metadata": {},
   "source": [
    "# 1-D Tensor"
   ]
  },
  {
   "cell_type": "code",
   "execution_count": 57,
   "metadata": {},
   "outputs": [
    {
     "name": "stdout",
     "output_type": "stream",
     "text": [
      "Data type of tensor : torch.int64 and Type of the tensor : torch.LongTensor\n"
     ]
    }
   ],
   "source": [
    "tensor1 = torch.tensor([5,6,7,8,9])\n",
    "dtype_tensor = tensor1.dtype\n",
    "type_tensor = tensor1.type()\n",
    "print('Data type of tensor : {} and Type of the tensor : {}'.format(dtype_tensor,type_tensor))"
   ]
  },
  {
   "cell_type": "code",
   "execution_count": 58,
   "metadata": {},
   "outputs": [
    {
     "name": "stdout",
     "output_type": "stream",
     "text": [
      "Data type of tensor : torch.int64 and Type of the tensor : torch.LongTensor\n"
     ]
    },
    {
     "name": "stderr",
     "output_type": "stream",
     "text": [
      "<ipython-input-58-2b2349006994>:2: DeprecationWarning: an integer is required (got type float).  Implicit conversion to integers using __int__ is deprecated, and may be removed in a future version of Python.\n",
      "  tensor2 = torch.tensor(list_floats,dtype=torch.int64)\n"
     ]
    },
    {
     "data": {
      "text/plain": [
       "tensor([0, 4, 6, 8, 2])"
      ]
     },
     "execution_count": 58,
     "metadata": {},
     "output_type": "execute_result"
    }
   ],
   "source": [
    "list_floats = [0.3,4.5,6.7,8.9,2]\n",
    "tensor2 = torch.tensor(list_floats,dtype=torch.int64)\n",
    "type_tensor = tensor2.type()\n",
    "dtype_tensor = tensor2.dtype\n",
    "print('Data type of tensor : {} and Type of the tensor : {}'.format(dtype_tensor,type_tensor))\n",
    "tensor2"
   ]
  },
  {
   "cell_type": "code",
   "execution_count": 59,
   "metadata": {},
   "outputs": [
    {
     "name": "stdout",
     "output_type": "stream",
     "text": [
      "Data type of tensor : torch.float32 and Type of the tensor : torch.FloatTensor\n"
     ]
    },
    {
     "data": {
      "text/plain": [
       "tensor([3., 2., 5., 6.])"
      ]
     },
     "execution_count": 59,
     "metadata": {},
     "output_type": "execute_result"
    }
   ],
   "source": [
    "tensor3 = torch.FloatTensor([3,2,5,6])\n",
    "type_tensor = tensor3.type()\n",
    "dtype_tensor = tensor3.dtype\n",
    "print('Data type of tensor : {} and Type of the tensor : {}'.format(dtype_tensor,type_tensor))\n",
    "tensor3"
   ]
  },
  {
   "cell_type": "code",
   "execution_count": 63,
   "metadata": {},
   "outputs": [
    {
     "name": "stdout",
     "output_type": "stream",
     "text": [
      "Data type of tensor : torch.int64 and Type of the tensor : torch.LongTensor\n"
     ]
    },
    {
     "data": {
      "text/plain": [
       "tensor([3, 2, 5, 6])"
      ]
     },
     "execution_count": 63,
     "metadata": {},
     "output_type": "execute_result"
    }
   ],
   "source": [
    "tensor4 = tensor3.type(torch.LongTensor)\n",
    "type_tensor = tensor4.type()\n",
    "dtype_tensor = tensor4.dtype\n",
    "print('Data type of tensor : {} and Type of the tensor : {}'.format(dtype_tensor,type_tensor))\n",
    "tensor4"
   ]
  },
  {
   "cell_type": "code",
   "execution_count": 69,
   "metadata": {},
   "outputs": [
    {
     "name": "stdout",
     "output_type": "stream",
     "text": [
      "The size of the new_float_tensor:  torch.Size([4])\n",
      "The dimension of the new_float_tensor:  1\n"
     ]
    }
   ],
   "source": [
    "tensor_size = tensor4.size()\n",
    "tensor_dimension = tensor4.ndimension()\n",
    "print(\"The size of the new_float_tensor: \", tensor_size)\n",
    "print(\"The dimension of the new_float_tensor: \",tensor_dimension)"
   ]
  },
  {
   "cell_type": "code",
   "execution_count": 73,
   "metadata": {},
   "outputs": [
    {
     "name": "stdout",
     "output_type": "stream",
     "text": [
      "The dimension of the new_float_tensor:  2\n"
     ]
    }
   ],
   "source": [
    "twoD_tensor = tensor4.view(4,1)\n",
    "#twoD_tensor = tensor4.view(-1,1) same as the upper line\n",
    "print(\"The dimension of the new_float_tensor: \",twoD_tensor.ndimension())"
   ]
  },
  {
   "cell_type": "code",
   "execution_count": 75,
   "metadata": {},
   "outputs": [
    {
     "data": {
      "text/plain": [
       "tensor([3, 4, 5, 6, 7, 8], dtype=torch.int32)"
      ]
     },
     "execution_count": 75,
     "metadata": {},
     "output_type": "execute_result"
    }
   ],
   "source": [
    "numpy_array = np.array([3,4,5,6,7,8]) \n",
    "tensor5 = torch.from_numpy(numpy_array) #convert from numpy array to tensor\n",
    "tensor5"
   ]
  },
  {
   "cell_type": "code",
   "execution_count": 78,
   "metadata": {},
   "outputs": [
    {
     "data": {
      "text/plain": [
       "array([3, 4, 5, 6, 7, 8])"
      ]
     },
     "execution_count": 78,
     "metadata": {},
     "output_type": "execute_result"
    }
   ],
   "source": [
    "numpy_array2 = tensor5.numpy()  #convert from tensor to numpy array\n",
    "numpy_array2"
   ]
  },
  {
   "cell_type": "code",
   "execution_count": 80,
   "metadata": {},
   "outputs": [
    {
     "data": {
      "text/plain": [
       "array([0, 0, 0, 0, 0, 0])"
      ]
     },
     "execution_count": 80,
     "metadata": {},
     "output_type": "execute_result"
    }
   ],
   "source": [
    "numpy_array2[:] = 0 #set all the elment of array to zero\n",
    "numpy_array2"
   ]
  },
  {
   "cell_type": "code",
   "execution_count": 85,
   "metadata": {},
   "outputs": [
    {
     "data": {
      "text/plain": [
       "tensor([2, 3, 4, 5, 6])"
      ]
     },
     "execution_count": 85,
     "metadata": {},
     "output_type": "execute_result"
    }
   ],
   "source": [
    "pandas_series = pd.Series([2,3,4,5,6])\n",
    "tensor6 = torch.from_numpy(pandas_series.values) #convert a pandas series to tensor\n",
    "tensor6"
   ]
  },
  {
   "cell_type": "code",
   "execution_count": 86,
   "metadata": {},
   "outputs": [
    {
     "data": {
      "text/plain": [
       "tensor(2)"
      ]
     },
     "execution_count": 86,
     "metadata": {},
     "output_type": "execute_result"
    }
   ],
   "source": [
    "tensor6[0]"
   ]
  },
  {
   "cell_type": "code",
   "execution_count": 88,
   "metadata": {},
   "outputs": [
    {
     "data": {
      "text/plain": [
       "2"
      ]
     },
     "execution_count": 88,
     "metadata": {},
     "output_type": "execute_result"
    }
   ],
   "source": [
    "tensor6[0].item() #access the element of tensor"
   ]
  },
  {
   "cell_type": "code",
   "execution_count": 90,
   "metadata": {},
   "outputs": [
    {
     "data": {
      "text/plain": [
       "[2, 3, 4, 5, 6]"
      ]
     },
     "execution_count": 90,
     "metadata": {},
     "output_type": "execute_result"
    }
   ],
   "source": [
    "tensor6.tolist() #convert a tensor to a list"
   ]
  },
  {
   "cell_type": "code",
   "execution_count": 115,
   "metadata": {},
   "outputs": [
    {
     "data": {
      "text/plain": [
       "tensor([ 3,  2,  9,  4, 78,  8])"
      ]
     },
     "execution_count": 115,
     "metadata": {},
     "output_type": "execute_result"
    }
   ],
   "source": [
    "tensor7 = torch.tensor([3,2,56,7,78,8])\n",
    "tensor7[2:4] = torch.tensor([9,4])\n",
    "tensor7"
   ]
  },
  {
   "cell_type": "code",
   "execution_count": 116,
   "metadata": {},
   "outputs": [
    {
     "data": {
      "text/plain": [
       "tensor([ 3,  2,  9,  6, 78,  8])"
      ]
     },
     "execution_count": 116,
     "metadata": {},
     "output_type": "execute_result"
    }
   ],
   "source": [
    "tensor7[3] = 6\n",
    "tensor7"
   ]
  },
  {
   "cell_type": "code",
   "execution_count": 117,
   "metadata": {},
   "outputs": [
    {
     "data": {
      "text/plain": [
       "tensor([ 9,  6, 78])"
      ]
     },
     "execution_count": 117,
     "metadata": {},
     "output_type": "execute_result"
    }
   ],
   "source": [
    "subset_tensor7 = tensor7[2:5]\n",
    "subset_tensor7"
   ]
  },
  {
   "cell_type": "code",
   "execution_count": 120,
   "metadata": {},
   "outputs": [
    {
     "data": {
      "text/plain": [
       "tensor([ 9, 78])"
      ]
     },
     "execution_count": 120,
     "metadata": {},
     "output_type": "execute_result"
    }
   ],
   "source": [
    "index = [2,4]\n",
    "subset_tensor7 = tensor7[index]\n",
    "subset_tensor7"
   ]
  },
  {
   "cell_type": "code",
   "execution_count": 122,
   "metadata": {},
   "outputs": [
    {
     "data": {
      "text/plain": [
       "tensor([3, 2, 0, 6, 0, 8])"
      ]
     },
     "execution_count": 122,
     "metadata": {},
     "output_type": "execute_result"
    }
   ],
   "source": [
    "tensor7[index] = 0\n",
    "tensor7"
   ]
  },
  {
   "cell_type": "code",
   "execution_count": 124,
   "metadata": {},
   "outputs": [
    {
     "data": {
      "text/plain": [
       "tensor(5.4286)"
      ]
     },
     "execution_count": 124,
     "metadata": {},
     "output_type": "execute_result"
    }
   ],
   "source": [
    "tensor8 = torch.tensor([4,5,6,7,8,3,5],dtype = torch.float32)\n",
    "tensor8.mean()"
   ]
  },
  {
   "cell_type": "code",
   "execution_count": 125,
   "metadata": {},
   "outputs": [
    {
     "data": {
      "text/plain": [
       "tensor(8.)"
      ]
     },
     "execution_count": 125,
     "metadata": {},
     "output_type": "execute_result"
    }
   ],
   "source": [
    "tensor8.max()"
   ]
  },
  {
   "cell_type": "code",
   "execution_count": 126,
   "metadata": {},
   "outputs": [
    {
     "data": {
      "text/plain": [
       "tensor(3.)"
      ]
     },
     "execution_count": 126,
     "metadata": {},
     "output_type": "execute_result"
    }
   ],
   "source": [
    "tensor8.min()"
   ]
  },
  {
   "cell_type": "code",
   "execution_count": 127,
   "metadata": {},
   "outputs": [
    {
     "data": {
      "text/plain": [
       "tensor(5.)"
      ]
     },
     "execution_count": 127,
     "metadata": {},
     "output_type": "execute_result"
    }
   ],
   "source": [
    "tensor8.median()"
   ]
  },
  {
   "cell_type": "code",
   "execution_count": 132,
   "metadata": {},
   "outputs": [
    {
     "data": {
      "text/plain": [
       "torch.return_types.mode(\n",
       "values=tensor(5.),\n",
       "indices=tensor(6))"
      ]
     },
     "execution_count": 132,
     "metadata": {},
     "output_type": "execute_result"
    }
   ],
   "source": [
    "tensor8.mode()"
   ]
  },
  {
   "cell_type": "code",
   "execution_count": 133,
   "metadata": {},
   "outputs": [
    {
     "data": {
      "text/plain": [
       "tensor(1.7182)"
      ]
     },
     "execution_count": 133,
     "metadata": {},
     "output_type": "execute_result"
    }
   ],
   "source": [
    "tensor8.std()"
   ]
  },
  {
   "cell_type": "code",
   "execution_count": 137,
   "metadata": {},
   "outputs": [
    {
     "data": {
      "text/plain": [
       "tensor([ 0.0000e+00,  1.0000e+00, -8.7423e-08])"
      ]
     },
     "execution_count": 137,
     "metadata": {},
     "output_type": "execute_result"
    }
   ],
   "source": [
    "tensor9 = torch.tensor([0,np.pi/2,np.pi])\n",
    "new_tensor = torch.sin(tensor9)\n",
    "new_tensor"
   ]
  },
  {
   "cell_type": "code",
   "execution_count": 142,
   "metadata": {},
   "outputs": [
    {
     "data": {
      "text/plain": [
       "tensor([-2, -1,  0,  1,  2])"
      ]
     },
     "execution_count": 142,
     "metadata": {},
     "output_type": "execute_result"
    }
   ],
   "source": [
    "tensor10 = torch.linspace(-2,2,5)\n",
    "tensor10.type(torch.LongTensor)"
   ]
  },
  {
   "cell_type": "code",
   "execution_count": 145,
   "metadata": {},
   "outputs": [],
   "source": [
    "tensor11 = torch.linspace(0,2*np.pi,100)\n",
    "new_tensor = torch.sin(tensor11)"
   ]
  },
  {
   "cell_type": "code",
   "execution_count": 146,
   "metadata": {},
   "outputs": [
    {
     "data": {
      "text/plain": [
       "[<matplotlib.lines.Line2D at 0x25de8b1b190>]"
      ]
     },
     "execution_count": 146,
     "metadata": {},
     "output_type": "execute_result"
    },
    {
     "data": {
      "image/png": "[encoded data removed]",
      "text/plain": [
       "<Figure size 432x288 with 1 Axes>"
      ]
     },
     "metadata": {
      "needs_background": "light"
     },
     "output_type": "display_data"
    }
   ],
   "source": [
    "plt.plot(tensor11.numpy(),new_tensor.numpy())"
   ]
  },
  {
   "cell_type": "code",
   "execution_count": 148,
   "metadata": {},
   "outputs": [
    {
     "data": {
      "text/plain": [
       "tensor([3, 3])"
      ]
     },
     "execution_count": 148,
     "metadata": {},
     "output_type": "execute_result"
    }
   ],
   "source": [
    "u = torch.tensor([1,0])\n",
    "v = torch.tensor([2,3])\n",
    "w = u+v #addition of two tensor\n",
    "w"
   ]
  },
  {
   "cell_type": "code",
   "execution_count": 150,
   "metadata": {},
   "outputs": [
    {
     "data": {
      "text/plain": [
       "tensor([2, 0])"
      ]
     },
     "execution_count": 150,
     "metadata": {},
     "output_type": "execute_result"
    }
   ],
   "source": [
    "u = torch.tensor([1,0])\n",
    "v = torch.tensor([2,3])\n",
    "w = u*v #multiplication of two tensor\n",
    "w"
   ]
  },
  {
   "cell_type": "code",
   "execution_count": 151,
   "metadata": {},
   "outputs": [
    {
     "data": {
      "text/plain": [
       "tensor(2)"
      ]
     },
     "execution_count": 151,
     "metadata": {},
     "output_type": "execute_result"
    }
   ],
   "source": [
    "u = torch.tensor([1,0])\n",
    "v = torch.tensor([2,3])\n",
    "w = torch.dot(u,v) #dot product of two tensor\n",
    "w"
   ]
  },
  {
   "cell_type": "code",
   "execution_count": 155,
   "metadata": {},
   "outputs": [
    {
     "data": {
      "text/plain": [
       "tensor([2, 1])"
      ]
     },
     "execution_count": 155,
     "metadata": {},
     "output_type": "execute_result"
    }
   ],
   "source": [
    "w = u+1 #addition of scaler value with tensor\n",
    "w"
   ]
  },
  {
   "cell_type": "code",
   "execution_count": 154,
   "metadata": {},
   "outputs": [
    {
     "data": {
      "text/plain": [
       "tensor([4, 0])"
      ]
     },
     "execution_count": 154,
     "metadata": {},
     "output_type": "execute_result"
    }
   ],
   "source": [
    "w = u*4 #multiplication of scaler value with tensor\n",
    "w"
   ]
  },
  {
   "cell_type": "markdown",
   "metadata": {},
   "source": [
    "# 2D Tensor"
   ]
  },
  {
   "cell_type": "code",
   "execution_count": 7,
   "metadata": {},
   "outputs": [],
   "source": [
    "lst  = [[1,2,3],[4,5,6],[7,8,9]]\n",
    "twoD_tensor =  torch.tensor(lst)"
   ]
  },
  {
   "cell_type": "code",
   "execution_count": 8,
   "metadata": {},
   "outputs": [
    {
     "name": "stdout",
     "output_type": "stream",
     "text": [
      "The dimension of twoD_tensor:  2\n",
      "The shape of twoD_tensor:  torch.Size([3, 3])\n",
      "The shape of twoD_tensor:  torch.Size([3, 3])\n",
      "The number of elements in twoD_tensor:  9\n"
     ]
    }
   ],
   "source": [
    "print(\"The dimension of twoD_tensor: \", twoD_tensor.ndimension())\n",
    "print(\"The shape of twoD_tensor: \", twoD_tensor.shape)\n",
    "print(\"The shape of twoD_tensor: \", twoD_tensor.size())\n",
    "print(\"The number of elements in twoD_tensor: \", twoD_tensor.numel())"
   ]
  },
  {
   "cell_type": "code",
   "execution_count": 12,
   "metadata": {},
   "outputs": [],
   "source": [
    "numpy_array = twoD_tensor.numpy()"
   ]
  },
  {
   "cell_type": "code",
   "execution_count": 13,
   "metadata": {},
   "outputs": [
    {
     "data": {
      "text/plain": [
       "tensor([[1, 2, 3],\n",
       "        [4, 5, 6],\n",
       "        [7, 8, 9]])"
      ]
     },
     "execution_count": 13,
     "metadata": {},
     "output_type": "execute_result"
    }
   ],
   "source": [
    "torch.from_numpy(numpy_array)"
   ]
  },
  {
   "cell_type": "code",
   "execution_count": 34,
   "metadata": {},
   "outputs": [
    {
     "name": "stdout",
     "output_type": "stream",
     "text": [
      "   a  b\n",
      "0  2  5\n",
      "1  3  6\n",
      "2  4  7\n"
     ]
    }
   ],
   "source": [
    "lst = {'a':[2,3,4],'b':[5,6,7]}\n",
    "df = pd.DataFrame(lst)\n",
    "print(df)"
   ]
  },
  {
   "cell_type": "code",
   "execution_count": 36,
   "metadata": {},
   "outputs": [
    {
     "data": {
      "text/plain": [
       "tensor([[2, 5],\n",
       "        [3, 6],\n",
       "        [4, 7]])"
      ]
     },
     "execution_count": 36,
     "metadata": {},
     "output_type": "execute_result"
    }
   ],
   "source": [
    "tensor2 = torch.from_numpy(df.values)\n",
    "tensor2"
   ]
  },
  {
   "cell_type": "code",
   "execution_count": 58,
   "metadata": {},
   "outputs": [
    {
     "data": {
      "text/plain": [
       "tensor([[3, 6],\n",
       "        [4, 7]])"
      ]
     },
     "execution_count": 58,
     "metadata": {},
     "output_type": "execute_result"
    }
   ],
   "source": [
    "subset = tensor2[1:3]\n",
    "subset"
   ]
  },
  {
   "cell_type": "code",
   "execution_count": 59,
   "metadata": {},
   "outputs": [
    {
     "data": {
      "text/plain": [
       "tensor([[5, 5],\n",
       "        [3, 6],\n",
       "        [4, 7]])"
      ]
     },
     "execution_count": 59,
     "metadata": {},
     "output_type": "execute_result"
    }
   ],
   "source": [
    "tensor2[0][0] = 5\n",
    "tensor2"
   ]
  },
  {
   "cell_type": "code",
   "execution_count": 75,
   "metadata": {},
   "outputs": [
    {
     "data": {
      "text/plain": [
       "tensor(5)"
      ]
     },
     "execution_count": 75,
     "metadata": {},
     "output_type": "execute_result"
    }
   ],
   "source": [
    "tensor2[0,1]"
   ]
  },
  {
   "cell_type": "code",
   "execution_count": 77,
   "metadata": {},
   "outputs": [
    {
     "data": {
      "text/plain": [
       "tensor([[3, 1],\n",
       "        [1, 3]])"
      ]
     },
     "execution_count": 77,
     "metadata": {},
     "output_type": "execute_result"
    }
   ],
   "source": [
    "x = torch.tensor([[1,0],[0,1]])\n",
    "y = torch.tensor([[2,1],[1,2]])\n",
    "w = x+y\n",
    "w"
   ]
  },
  {
   "cell_type": "code",
   "execution_count": 83,
   "metadata": {},
   "outputs": [
    {
     "data": {
      "text/plain": [
       "tensor([[4, 2],\n",
       "        [2, 4]])"
      ]
     },
     "execution_count": 83,
     "metadata": {},
     "output_type": "execute_result"
    }
   ],
   "source": [
    "y = 2*y\n",
    "y"
   ]
  },
  {
   "cell_type": "code",
   "execution_count": 85,
   "metadata": {},
   "outputs": [
    {
     "data": {
      "text/plain": [
       "tensor([[4, 0],\n",
       "        [0, 4]])"
      ]
     },
     "execution_count": 85,
     "metadata": {},
     "output_type": "execute_result"
    }
   ],
   "source": [
    "w = x*y\n",
    "w"
   ]
  },
  {
   "cell_type": "code",
   "execution_count": 86,
   "metadata": {},
   "outputs": [
    {
     "data": {
      "text/plain": [
       "tensor([[4, 2],\n",
       "        [2, 4]])"
      ]
     },
     "execution_count": 86,
     "metadata": {},
     "output_type": "execute_result"
    }
   ],
   "source": [
    "w = torch.mm(x,y)\n",
    "w"
   ]
  },
  {
   "cell_type": "markdown",
   "metadata": {},
   "source": [
    "# Derivatives"
   ]
  },
  {
   "cell_type": "code",
   "execution_count": 111,
   "metadata": {},
   "outputs": [
    {
     "data": {
      "text/plain": [
       "tensor(4.)"
      ]
     },
     "execution_count": 111,
     "metadata": {},
     "output_type": "execute_result"
    }
   ],
   "source": [
    "x = torch.tensor(2.0,requires_grad=True)\n",
    "y = x**2\n",
    "y\n",
    "y.backward()\n",
    "x.grad"
   ]
  },
  {
   "cell_type": "code",
   "execution_count": 112,
   "metadata": {},
   "outputs": [
    {
     "name": "stdout",
     "output_type": "stream",
     "text": [
      "data: tensor(2.)\n",
      "grad_fn: None\n",
      "grad: tensor(4.)\n",
      "is_leaf: True\n",
      "requires_grad: True\n",
      "data: tensor(4.)\n",
      "grad_fn: <PowBackward0 object at 0x00000216148AB4C0>\n",
      "grad: None\n",
      "is_leaf: False\n",
      "requires_grad: True\n"
     ]
    },
    {
     "name": "stderr",
     "output_type": "stream",
     "text": [
      "<ipython-input-112-0227a22ce4dd>:8: UserWarning: The .grad attribute of a Tensor that is not a leaf Tensor is being accessed. Its .grad attribute won't be populated during autograd.backward(). If you indeed want the gradient for a non-leaf Tensor, use .retain_grad() on the non-leaf Tensor. If you access the non-leaf Tensor by mistake, make sure you access the leaf Tensor instead. See github.com/pytorch/pytorch/pull/30531 for more informations.\n",
      "  print('grad:',y.grad)\n"
     ]
    }
   ],
   "source": [
    "print('data:',x.data)\n",
    "print('grad_fn:',x.grad_fn)\n",
    "print('grad:',x.grad)\n",
    "print(\"is_leaf:\",x.is_leaf)\n",
    "print(\"requires_grad:\",x.requires_grad)\n",
    "print('data:',y.data)\n",
    "print('grad_fn:',y.grad_fn)\n",
    "print('grad:',y.grad)\n",
    "print(\"is_leaf:\",y.is_leaf)\n",
    "print(\"requires_grad:\",y.requires_grad)"
   ]
  },
  {
   "cell_type": "code",
   "execution_count": 131,
   "metadata": {},
   "outputs": [
    {
     "data": {
      "text/plain": [
       "tensor(8.)"
      ]
     },
     "execution_count": 131,
     "metadata": {},
     "output_type": "execute_result"
    }
   ],
   "source": [
    "x = torch.tensor(3.0,requires_grad=True)\n",
    "y = x**2 + 2*x + 1\n",
    "y.backward()\n",
    "x.grad"
   ]
  },
  {
   "cell_type": "code",
   "execution_count": 139,
   "metadata": {},
   "outputs": [
    {
     "data": {
      "text/plain": [
       "tensor(10.2000)"
      ]
     },
     "execution_count": 139,
     "metadata": {},
     "output_type": "execute_result"
    }
   ],
   "source": [
    "u = torch.tensor(3.0,requires_grad=True)\n",
    "v = torch.tensor(4.2,requires_grad=True)\n",
    "f = u*v + u**2\n",
    "f.backward()\n",
    "u.grad"
   ]
  },
  {
   "cell_type": "code",
   "execution_count": 140,
   "metadata": {},
   "outputs": [
    {
     "data": {
      "text/plain": [
       "tensor(3.)"
      ]
     },
     "execution_count": 140,
     "metadata": {},
     "output_type": "execute_result"
    }
   ],
   "source": [
    "v.grad"
   ]
  },
  {
   "cell_type": "code",
   "execution_count": 206,
   "metadata": {},
   "outputs": [
    {
     "data": {
      "text/plain": [
       "tensor([-10.0000,  -7.7778,  -5.5556,  -3.3333,  -1.1111,   1.1111,   3.3333,\n",
       "          5.5556,   7.7778,  10.0000], requires_grad=True)"
      ]
     },
     "execution_count": 206,
     "metadata": {},
     "output_type": "execute_result"
    }
   ],
   "source": [
    "x = torch.linspace(-10,10,10,requires_grad=True)\n",
    "Y = x**2\n",
    "Y\n",
    "x"
   ]
  },
  {
   "cell_type": "code",
   "execution_count": 207,
   "metadata": {},
   "outputs": [],
   "source": [
    "y = torch.sum(Y)\n",
    "y.backward()"
   ]
  },
  {
   "cell_type": "code",
   "execution_count": 208,
   "metadata": {},
   "outputs": [
    {
     "data": {
      "image/png": "[encoded data removed]",
      "text/plain": [
       "<Figure size 432x288 with 1 Axes>"
      ]
     },
     "metadata": {
      "needs_background": "light"
     },
     "output_type": "display_data"
    }
   ],
   "source": [
    "plt.plot(x.detach().numpy(), Y.detach().numpy(), label = 'function')\n",
    "plt.plot(x.detach().numpy(), x.grad.numpy(), label = 'derivative')\n",
    "plt.xlabel('x')\n",
    "plt.legend()\n",
    "plt.show()"
   ]
  },
  {
   "cell_type": "code",
   "execution_count": 193,
   "metadata": {},
   "outputs": [
    {
     "data": {
      "text/plain": [
       "array(407.4074, dtype=float32)"
      ]
     },
     "execution_count": 193,
     "metadata": {},
     "output_type": "execute_result"
    }
   ],
   "source": [
    "y.detach().numpy()"
   ]
  },
  {
   "cell_type": "code",
   "execution_count": 200,
   "metadata": {},
   "outputs": [],
   "source": [
    "x = torch.tensor([2.0,3.3,4],requires_grad = True)\n",
    "y = x**2\n",
    "Y = torch.sum(y)\n",
    "Y.backward()"
   ]
  },
  {
   "cell_type": "markdown",
   "metadata": {},
   "source": [
    "# Simple Dataset"
   ]
  },
  {
   "cell_type": "code",
   "execution_count": 280,
   "metadata": {},
   "outputs": [
    {
     "data": {
      "text/plain": [
       "<torch._C.Generator at 0x21616c3a170>"
      ]
     },
     "execution_count": 280,
     "metadata": {},
     "output_type": "execute_result"
    }
   ],
   "source": [
    "from torch.utils.data import Dataset\n",
    "torch.manual_seed(1)  #when we use random we use seed to get the same value every time we run the program"
   ]
  },
  {
   "cell_type": "code",
   "execution_count": 286,
   "metadata": {},
   "outputs": [],
   "source": [
    "class toy_set(Dataset):\n",
    "    def __init__(self,length=100,transform=None):\n",
    "        self.len = length\n",
    "        self.transform = transform\n",
    "        self.x = 2*torch.ones(length,2)\n",
    "        self.y = torch.ones(length,1)\n",
    "        \n",
    "    def __getitem__(self,index):\n",
    "        sample = self.x[index],self.y[index]\n",
    "        if self.transform:\n",
    "            sample = self.transform(sample)\n",
    "        return sample\n",
    "    def __len__(self):\n",
    "        return self.len"
   ]
  },
  {
   "cell_type": "code",
   "execution_count": 287,
   "metadata": {},
   "outputs": [
    {
     "name": "stdout",
     "output_type": "stream",
     "text": [
      "index :  0 ; X :  tensor([2., 2.]) ; y :  tensor([1.])\n",
      "index :  1 ; X :  tensor([2., 2.]) ; y :  tensor([1.])\n",
      "index :  2 ; X :  tensor([2., 2.]) ; y :  tensor([1.])\n"
     ]
    }
   ],
   "source": [
    "our_dataset = toy_set()\n",
    "for i in range(3):\n",
    "    x,y = our_dataset[i]\n",
    "    print(\"index : \",i ,'; X : ',x,'; y : ',y )"
   ]
  },
  {
   "cell_type": "code",
   "execution_count": 288,
   "metadata": {},
   "outputs": [
    {
     "name": "stdout",
     "output_type": "stream",
     "text": [
      "tensor([2., 2.]) tensor([1.])\n"
     ]
    }
   ],
   "source": [
    "x,y = our_dataset[0]\n",
    "print(x,y)"
   ]
  },
  {
   "cell_type": "code",
   "execution_count": 289,
   "metadata": {},
   "outputs": [],
   "source": [
    "class add_mult(object):\n",
    "    def __init__(self,addx = 1,muly = 2):\n",
    "        self.addx = addx\n",
    "        self.muly = muly\n",
    "    def __call__(self,sample):\n",
    "        x = sample[0]\n",
    "        y = sample[1]\n",
    "        x = x + self.addx\n",
    "        y = y + self.muly\n",
    "        sample = x,y\n",
    "        return sample"
   ]
  },
  {
   "cell_type": "code",
   "execution_count": 290,
   "metadata": {},
   "outputs": [],
   "source": [
    "a_m = add_mult(3,2)"
   ]
  },
  {
   "cell_type": "code",
   "execution_count": 268,
   "metadata": {},
   "outputs": [
    {
     "name": "stdout",
     "output_type": "stream",
     "text": [
      "Index:  0 Original x:  tensor([2., 2.]) Original y:  tensor([1.])\n",
      "Index:  0 Transformed x_: tensor([5., 5.]) Transformed y_: tensor([3.])\n",
      "Index:  1 Original x:  tensor([2., 2.]) Original y:  tensor([1.])\n",
      "Index:  1 Transformed x_: tensor([5., 5.]) Transformed y_: tensor([3.])\n",
      "Index:  2 Original x:  tensor([2., 2.]) Original y:  tensor([1.])\n",
      "Index:  2 Transformed x_: tensor([5., 5.]) Transformed y_: tensor([3.])\n",
      "Index:  3 Original x:  tensor([2., 2.]) Original y:  tensor([1.])\n",
      "Index:  3 Transformed x_: tensor([5., 5.]) Transformed y_: tensor([3.])\n",
      "Index:  4 Original x:  tensor([2., 2.]) Original y:  tensor([1.])\n",
      "Index:  4 Transformed x_: tensor([5., 5.]) Transformed y_: tensor([3.])\n",
      "Index:  5 Original x:  tensor([2., 2.]) Original y:  tensor([1.])\n",
      "Index:  5 Transformed x_: tensor([5., 5.]) Transformed y_: tensor([3.])\n",
      "Index:  6 Original x:  tensor([2., 2.]) Original y:  tensor([1.])\n",
      "Index:  6 Transformed x_: tensor([5., 5.]) Transformed y_: tensor([3.])\n",
      "Index:  7 Original x:  tensor([2., 2.]) Original y:  tensor([1.])\n",
      "Index:  7 Transformed x_: tensor([5., 5.]) Transformed y_: tensor([3.])\n",
      "Index:  8 Original x:  tensor([2., 2.]) Original y:  tensor([1.])\n",
      "Index:  8 Transformed x_: tensor([5., 5.]) Transformed y_: tensor([3.])\n",
      "Index:  9 Original x:  tensor([2., 2.]) Original y:  tensor([1.])\n",
      "Index:  9 Transformed x_: tensor([5., 5.]) Transformed y_: tensor([3.])\n"
     ]
    }
   ],
   "source": [
    "for i in range(10):\n",
    "    x,y = our_dataset[i]\n",
    "    print('Index: ', i, 'Original x: ', x, 'Original y: ', y)\n",
    "    x_,y_ = a_m(our_dataset[i])\n",
    "    print('Index: ', i, 'Transformed x_:', x_, 'Transformed y_:', y_)"
   ]
  },
  {
   "cell_type": "code",
   "execution_count": 271,
   "metadata": {},
   "outputs": [],
   "source": [
    "# Create a new data_set object with add_mult object as transform\n",
    "\n",
    "cust_data_set = toy_set(transform = a_m)"
   ]
  },
  {
   "cell_type": "code",
   "execution_count": 273,
   "metadata": {},
   "outputs": [
    {
     "name": "stdout",
     "output_type": "stream",
     "text": [
      "Index:  0 Original x:  tensor([2., 2.]) Original y:  tensor([1.])\n",
      "Index:  0 Transformed x_: tensor([5., 5.]) Transformed y_: tensor([3.])\n",
      "Index:  1 Original x:  tensor([2., 2.]) Original y:  tensor([1.])\n",
      "Index:  1 Transformed x_: tensor([5., 5.]) Transformed y_: tensor([3.])\n",
      "Index:  2 Original x:  tensor([2., 2.]) Original y:  tensor([1.])\n",
      "Index:  2 Transformed x_: tensor([5., 5.]) Transformed y_: tensor([3.])\n",
      "Index:  3 Original x:  tensor([2., 2.]) Original y:  tensor([1.])\n",
      "Index:  3 Transformed x_: tensor([5., 5.]) Transformed y_: tensor([3.])\n",
      "Index:  4 Original x:  tensor([2., 2.]) Original y:  tensor([1.])\n",
      "Index:  4 Transformed x_: tensor([5., 5.]) Transformed y_: tensor([3.])\n",
      "Index:  5 Original x:  tensor([2., 2.]) Original y:  tensor([1.])\n",
      "Index:  5 Transformed x_: tensor([5., 5.]) Transformed y_: tensor([3.])\n",
      "Index:  6 Original x:  tensor([2., 2.]) Original y:  tensor([1.])\n",
      "Index:  6 Transformed x_: tensor([5., 5.]) Transformed y_: tensor([3.])\n",
      "Index:  7 Original x:  tensor([2., 2.]) Original y:  tensor([1.])\n",
      "Index:  7 Transformed x_: tensor([5., 5.]) Transformed y_: tensor([3.])\n",
      "Index:  8 Original x:  tensor([2., 2.]) Original y:  tensor([1.])\n",
      "Index:  8 Transformed x_: tensor([5., 5.]) Transformed y_: tensor([3.])\n",
      "Index:  9 Original x:  tensor([2., 2.]) Original y:  tensor([1.])\n",
      "Index:  9 Transformed x_: tensor([5., 5.]) Transformed y_: tensor([3.])\n"
     ]
    }
   ],
   "source": [
    "# Use loop to print out first 10 elements in dataset\n",
    "\n",
    "for i in range(10):\n",
    "    x, y = our_dataset[i]\n",
    "    print('Index: ', i, 'Original x: ', x, 'Original y: ', y)\n",
    "    x_, y_ = cust_data_set[i]\n",
    "    print('Index: ', i, 'Transformed x_:', x_, 'Transformed y_:', y_)"
   ]
  },
  {
   "cell_type": "code",
   "execution_count": 298,
   "metadata": {},
   "outputs": [
    {
     "data": {
      "text/plain": [
       "(tensor([5., 5.]), tensor([3.]))"
      ]
     },
     "execution_count": 298,
     "metadata": {},
     "output_type": "execute_result"
    }
   ],
   "source": [
    "cust_data_set[0]"
   ]
  },
  {
   "cell_type": "code",
   "execution_count": 304,
   "metadata": {},
   "outputs": [],
   "source": [
    "from torchvision import transforms"
   ]
  },
  {
   "cell_type": "code",
   "execution_count": 308,
   "metadata": {},
   "outputs": [],
   "source": [
    "class mult(object):\n",
    "    def __init__(self,mul=100):\n",
    "        self.mult = 100\n",
    "    def __call__(self,sample):\n",
    "        x = sample[0]\n",
    "        y = sample[1]\n",
    "        x = x * self.mult\n",
    "        y = y * self.mult\n",
    "        sample = x,y\n",
    "        return sample"
   ]
  },
  {
   "cell_type": "code",
   "execution_count": 309,
   "metadata": {},
   "outputs": [],
   "source": [
    "data_transform = transforms.Compose([add_mult(),mult()])"
   ]
  },
  {
   "cell_type": "code",
   "execution_count": 312,
   "metadata": {},
   "outputs": [
    {
     "name": "stdout",
     "output_type": "stream",
     "text": [
      "Tranformed x : tensor([300., 300.]) and Transformed y : tensor([300.])\n"
     ]
    }
   ],
   "source": [
    "data_transform(our_dataset[0])\n",
    "x,y = our_dataset[0]\n",
    "x_,y_ = data_transform(our_dataset[0])\n",
    "print('Tranformed x : {} and Transformed y : {}'.format(x_,y_))"
   ]
  },
  {
   "cell_type": "code",
   "execution_count": 313,
   "metadata": {},
   "outputs": [
    {
     "name": "stdout",
     "output_type": "stream",
     "text": [
      "Index:  0 Original x:  tensor([2., 2.]) Original y:  tensor([1.])\n",
      "Index:  0 Transformed x_: tensor([5., 5.]) Transformed y_: tensor([3.])\n",
      "Index:  0 Compose Transformed x_co:  tensor([300., 300.]) Compose Transformed y_co:  tensor([300.])\n",
      "Index:  1 Original x:  tensor([2., 2.]) Original y:  tensor([1.])\n",
      "Index:  1 Transformed x_: tensor([5., 5.]) Transformed y_: tensor([3.])\n",
      "Index:  1 Compose Transformed x_co:  tensor([300., 300.]) Compose Transformed y_co:  tensor([300.])\n",
      "Index:  2 Original x:  tensor([2., 2.]) Original y:  tensor([1.])\n",
      "Index:  2 Transformed x_: tensor([5., 5.]) Transformed y_: tensor([3.])\n",
      "Index:  2 Compose Transformed x_co:  tensor([300., 300.]) Compose Transformed y_co:  tensor([300.])\n"
     ]
    }
   ],
   "source": [
    "# Use loop to print out first 3 elements in dataset\n",
    "compose_data_set = toy_set(transform = data_transform)\n",
    "for i in range(3):\n",
    "    x, y = our_dataset[i]\n",
    "    print('Index: ', i, 'Original x: ', x, 'Original y: ', y)\n",
    "    x_, y_ = cust_data_set[i]\n",
    "    print('Index: ', i, 'Transformed x_:', x_, 'Transformed y_:', y_)\n",
    "    x_co, y_co = compose_data_set[i]\n",
    "    print('Index: ', i, 'Compose Transformed x_co: ', x_co ,'Compose Transformed y_co: ',y_co)"
   ]
  },
  {
   "cell_type": "code",
   "execution_count": 320,
   "metadata": {},
   "outputs": [
    {
     "name": "stdout",
     "output_type": "stream",
     "text": [
      "(tensor([300., 300.]), tensor([300.]))\n",
      "(tensor([300., 300.]), tensor([300.]))\n",
      "(tensor([300., 300.]), tensor([300.]))\n",
      "(tensor([300., 300.]), tensor([300.]))\n",
      "(tensor([300., 300.]), tensor([300.]))\n",
      "(tensor([300., 300.]), tensor([300.]))\n",
      "(tensor([300., 300.]), tensor([300.]))\n",
      "(tensor([300., 300.]), tensor([300.]))\n",
      "(tensor([300., 300.]), tensor([300.]))\n",
      "(tensor([300., 300.]), tensor([300.]))\n",
      "(tensor([300., 300.]), tensor([300.]))\n",
      "(tensor([300., 300.]), tensor([300.]))\n",
      "(tensor([300., 300.]), tensor([300.]))\n",
      "(tensor([300., 300.]), tensor([300.]))\n",
      "(tensor([300., 300.]), tensor([300.]))\n",
      "(tensor([300., 300.]), tensor([300.]))\n",
      "(tensor([300., 300.]), tensor([300.]))\n",
      "(tensor([300., 300.]), tensor([300.]))\n",
      "(tensor([300., 300.]), tensor([300.]))\n",
      "(tensor([300., 300.]), tensor([300.]))\n",
      "(tensor([300., 300.]), tensor([300.]))\n",
      "(tensor([300., 300.]), tensor([300.]))\n",
      "(tensor([300., 300.]), tensor([300.]))\n",
      "(tensor([300., 300.]), tensor([300.]))\n",
      "(tensor([300., 300.]), tensor([300.]))\n",
      "(tensor([300., 300.]), tensor([300.]))\n",
      "(tensor([300., 300.]), tensor([300.]))\n",
      "(tensor([300., 300.]), tensor([300.]))\n",
      "(tensor([300., 300.]), tensor([300.]))\n",
      "(tensor([300., 300.]), tensor([300.]))\n",
      "(tensor([300., 300.]), tensor([300.]))\n",
      "(tensor([300., 300.]), tensor([300.]))\n",
      "(tensor([300., 300.]), tensor([300.]))\n",
      "(tensor([300., 300.]), tensor([300.]))\n",
      "(tensor([300., 300.]), tensor([300.]))\n",
      "(tensor([300., 300.]), tensor([300.]))\n",
      "(tensor([300., 300.]), tensor([300.]))\n",
      "(tensor([300., 300.]), tensor([300.]))\n",
      "(tensor([300., 300.]), tensor([300.]))\n",
      "(tensor([300., 300.]), tensor([300.]))\n",
      "(tensor([300., 300.]), tensor([300.]))\n",
      "(tensor([300., 300.]), tensor([300.]))\n",
      "(tensor([300., 300.]), tensor([300.]))\n",
      "(tensor([300., 300.]), tensor([300.]))\n",
      "(tensor([300., 300.]), tensor([300.]))\n",
      "(tensor([300., 300.]), tensor([300.]))\n",
      "(tensor([300., 300.]), tensor([300.]))\n",
      "(tensor([300., 300.]), tensor([300.]))\n",
      "(tensor([300., 300.]), tensor([300.]))\n",
      "(tensor([300., 300.]), tensor([300.]))\n",
      "(tensor([300., 300.]), tensor([300.]))\n",
      "(tensor([300., 300.]), tensor([300.]))\n",
      "(tensor([300., 300.]), tensor([300.]))\n",
      "(tensor([300., 300.]), tensor([300.]))\n",
      "(tensor([300., 300.]), tensor([300.]))\n",
      "(tensor([300., 300.]), tensor([300.]))\n",
      "(tensor([300., 300.]), tensor([300.]))\n",
      "(tensor([300., 300.]), tensor([300.]))\n",
      "(tensor([300., 300.]), tensor([300.]))\n",
      "(tensor([300., 300.]), tensor([300.]))\n",
      "(tensor([300., 300.]), tensor([300.]))\n",
      "(tensor([300., 300.]), tensor([300.]))\n",
      "(tensor([300., 300.]), tensor([300.]))\n",
      "(tensor([300., 300.]), tensor([300.]))\n",
      "(tensor([300., 300.]), tensor([300.]))\n",
      "(tensor([300., 300.]), tensor([300.]))\n",
      "(tensor([300., 300.]), tensor([300.]))\n",
      "(tensor([300., 300.]), tensor([300.]))\n",
      "(tensor([300., 300.]), tensor([300.]))\n",
      "(tensor([300., 300.]), tensor([300.]))\n",
      "(tensor([300., 300.]), tensor([300.]))\n",
      "(tensor([300., 300.]), tensor([300.]))\n",
      "(tensor([300., 300.]), tensor([300.]))\n",
      "(tensor([300., 300.]), tensor([300.]))\n",
      "(tensor([300., 300.]), tensor([300.]))\n",
      "(tensor([300., 300.]), tensor([300.]))\n",
      "(tensor([300., 300.]), tensor([300.]))\n",
      "(tensor([300., 300.]), tensor([300.]))\n",
      "(tensor([300., 300.]), tensor([300.]))\n",
      "(tensor([300., 300.]), tensor([300.]))\n",
      "(tensor([300., 300.]), tensor([300.]))\n",
      "(tensor([300., 300.]), tensor([300.]))\n",
      "(tensor([300., 300.]), tensor([300.]))\n",
      "(tensor([300., 300.]), tensor([300.]))\n",
      "(tensor([300., 300.]), tensor([300.]))\n",
      "(tensor([300., 300.]), tensor([300.]))\n",
      "(tensor([300., 300.]), tensor([300.]))\n",
      "(tensor([300., 300.]), tensor([300.]))\n",
      "(tensor([300., 300.]), tensor([300.]))\n",
      "(tensor([300., 300.]), tensor([300.]))\n",
      "(tensor([300., 300.]), tensor([300.]))\n",
      "(tensor([300., 300.]), tensor([300.]))\n",
      "(tensor([300., 300.]), tensor([300.]))\n",
      "(tensor([300., 300.]), tensor([300.]))\n",
      "(tensor([300., 300.]), tensor([300.]))\n",
      "(tensor([300., 300.]), tensor([300.]))\n",
      "(tensor([300., 300.]), tensor([300.]))\n",
      "(tensor([300., 300.]), tensor([300.]))\n",
      "(tensor([300., 300.]), tensor([300.]))\n",
      "(tensor([300., 300.]), tensor([300.]))\n"
     ]
    }
   ],
   "source": [
    "final_dataset = toy_set(transform = data_transform)\n",
    "for i in range(len(final_dataset)):\n",
    "    print(final_dataset[i])"
   ]
  },
  {
   "cell_type": "markdown",
   "metadata": {},
   "source": [
    "# Images Dataset"
   ]
  },
  {
   "cell_type": "code",
   "execution_count": 372,
   "metadata": {},
   "outputs": [
    {
     "data": {
      "text/html": [
       "<div>\n",
       "<style scoped>\n",
       "    .dataframe tbody tr th:only-of-type {\n",
       "        vertical-align: middle;\n",
       "    }\n",
       "\n",
       "    .dataframe tbody tr th {\n",
       "        vertical-align: top;\n",
       "    }\n",
       "\n",
       "    .dataframe thead th {\n",
       "        text-align: right;\n",
       "    }\n",
       "</style>\n",
       "<table border=\"1\" class=\"dataframe\">\n",
       "  <thead>\n",
       "    <tr style=\"text-align: right;\">\n",
       "      <th></th>\n",
       "      <th>category</th>\n",
       "      <th>image</th>\n",
       "    </tr>\n",
       "  </thead>\n",
       "  <tbody>\n",
       "    <tr>\n",
       "      <th>0</th>\n",
       "      <td>Ankle boot</td>\n",
       "      <td>img/fashion0.png</td>\n",
       "    </tr>\n",
       "    <tr>\n",
       "      <th>1</th>\n",
       "      <td>T-shirt</td>\n",
       "      <td>img/fashion1.png</td>\n",
       "    </tr>\n",
       "    <tr>\n",
       "      <th>2</th>\n",
       "      <td>T-shirt</td>\n",
       "      <td>img/fashion2.png</td>\n",
       "    </tr>\n",
       "    <tr>\n",
       "      <th>3</th>\n",
       "      <td>Dress</td>\n",
       "      <td>img/fashion3.png</td>\n",
       "    </tr>\n",
       "    <tr>\n",
       "      <th>4</th>\n",
       "      <td>T-shirt</td>\n",
       "      <td>img/fashion4.png</td>\n",
       "    </tr>\n",
       "  </tbody>\n",
       "</table>\n",
       "</div>"
      ],
      "text/plain": [
       "     category             image\n",
       "0  Ankle boot  img/fashion0.png\n",
       "1     T-shirt  img/fashion1.png\n",
       "2     T-shirt  img/fashion2.png\n",
       "3       Dress  img/fashion3.png\n",
       "4     T-shirt  img/fashion4.png"
      ]
     },
     "execution_count": 372,
     "metadata": {},
     "output_type": "execute_result"
    }
   ],
   "source": [
    "csv_file = 'https://cf-courses-data.s3.us.cloud-object-storage.appdomain.cloud/IBMDeveloperSkillsNetwork-DL0110EN-SkillsNetwork/labs/Week1/data/index.csv'\n",
    "df = pd.read_csv(csv_file)\n",
    "df.head()"
   ]
  },
  {
   "cell_type": "code",
   "execution_count": 373,
   "metadata": {},
   "outputs": [],
   "source": [
    "def show_data(data_sample,shape=(28,28)):\n",
    "    plt.imshow(data_sample[0].numpy().reshape(shape),cmap = 'gray')\n",
    "    plt.title('y = '+data_sample[1])"
   ]
  },
  {
   "cell_type": "code",
   "execution_count": 374,
   "metadata": {},
   "outputs": [
    {
     "data": {
      "text/plain": [
       "<torch._C.Generator at 0x21616c3a170>"
      ]
     },
     "execution_count": 374,
     "metadata": {},
     "output_type": "execute_result"
    }
   ],
   "source": [
    "import torch \n",
    "import matplotlib.pylab as plt\n",
    "import numpy as np\n",
    "from torch.utils.data import Dataset, DataLoader\n",
    "from PIL import Image\n",
    "import pandas as pd\n",
    "import os\n",
    "torch.manual_seed(0)"
   ]
  },
  {
   "cell_type": "code",
   "execution_count": 375,
   "metadata": {},
   "outputs": [
    {
     "data": {
      "text/plain": [
       "'img/fashion0.png'"
      ]
     },
     "execution_count": 375,
     "metadata": {},
     "output_type": "execute_result"
    }
   ],
   "source": [
    "df.iloc[0,1]"
   ]
  },
  {
   "cell_type": "code",
   "execution_count": 376,
   "metadata": {},
   "outputs": [
    {
     "name": "stdout",
     "output_type": "stream",
     "text": [
      "File name: img/fashion1.png\n",
      "class or y: T-shirt\n"
     ]
    }
   ],
   "source": [
    "print('File name:', df.iloc[1, 1])\n",
    "print('class or y:', df.iloc[1, 0])"
   ]
  },
  {
   "cell_type": "code",
   "execution_count": 408,
   "metadata": {},
   "outputs": [
    {
     "name": "stdout",
     "output_type": "stream",
     "text": [
      "The number of rows:  60000\n"
     ]
    }
   ],
   "source": [
    "# Print out the total number of rows in traing dataset\n",
    "\n",
    "print('The number of rows: ', df.shape[0])"
   ]
  },
  {
   "cell_type": "code",
   "execution_count": 378,
   "metadata": {},
   "outputs": [
    {
     "data": {
      "text/plain": [
       "<matplotlib.image.AxesImage at 0x2163a2d8880>"
      ]
     },
     "execution_count": 378,
     "metadata": {},
     "output_type": "execute_result"
    },
    {
     "data": {
      "image/png": "[encoded data removed]",
      "text/plain": [
       "<Figure size 432x288 with 1 Axes>"
      ]
     },
     "metadata": {
      "needs_background": "light"
     },
     "output_type": "display_data"
    }
   ],
   "source": [
    "image = plt.imread(df.iloc[1,1])\n",
    "plt.imshow(image,cmap='gray')"
   ]
  },
  {
   "cell_type": "code",
   "execution_count": 379,
   "metadata": {},
   "outputs": [
    {
     "data": {
      "text/plain": [
       "'img/fashion0.png'"
      ]
     },
     "execution_count": 379,
     "metadata": {},
     "output_type": "execute_result"
    }
   ],
   "source": [
    "df.iloc[0,1]"
   ]
  },
  {
   "cell_type": "code",
   "execution_count": 389,
   "metadata": {},
   "outputs": [],
   "source": [
    "class Dataset(Dataset):\n",
    "    def __init__(self,csv_file,data_dir,transform=None):\n",
    "        # Image directory\n",
    "        self.data_dir = data_dir\n",
    "        # The transform is goint to be used on image\n",
    "        self.transform = transform\n",
    "        data_dir_csv_file = os.path.join(self.data_dir,csv_file)\n",
    "        # Load the CSV file contians image info\n",
    "        self.data_name= pd.read_csv(data_dir_csv_file)\n",
    "        # Number of images in dataset\n",
    "        self.len=self.data_name.shape[0]\n",
    "        \n",
    "    def __len__(self):\n",
    "        return self.len\n",
    "    \n",
    "    def __getitem__(self,index):\n",
    "        # Image file path\n",
    "        img_name = os.path.join(self.data_dir,self.data_name.iloc[index,1])\n",
    "        # Open image file\n",
    "        image = Image.open(img_name)\n",
    "        #the class label for the image\n",
    "        y = self.data_name.iloc[index,0]\n",
    "        # If there is any transform method, apply it onto the image\n",
    "        if self.transform:\n",
    "            image = self.transform(image)\n",
    "\n",
    "        return image, y"
   ]
  },
  {
   "cell_type": "code",
   "execution_count": 390,
   "metadata": {},
   "outputs": [],
   "source": [
    "dataset = Dataset(csv_file=csv_file,data_dir=directory)"
   ]
  },
  {
   "cell_type": "code",
   "execution_count": 398,
   "metadata": {},
   "outputs": [
    {
     "data": {
      "image/png": "[encoded data removed]",
      "text/plain": [
       "<Figure size 432x288 with 1 Axes>"
      ]
     },
     "metadata": {
      "needs_background": "light"
     },
     "output_type": "display_data"
    }
   ],
   "source": [
    "image = dataset[0][0]\n",
    "y = dataset[0][1]\n",
    "plt.imshow(image,vmin=0,vmax=255)\n",
    "plt.title(y)\n",
    "plt.show()"
   ]
  },
  {
   "cell_type": "code",
   "execution_count": 399,
   "metadata": {},
   "outputs": [],
   "source": [
    "import torchvision.transforms as transforms"
   ]
  },
  {
   "cell_type": "code",
   "execution_count": 405,
   "metadata": {},
   "outputs": [
    {
     "name": "stdout",
     "output_type": "stream",
     "text": [
      "The shape of the first element tensor:  torch.Size([1, 20, 20])\n"
     ]
    }
   ],
   "source": [
    "# Combine two transforms: crop and convert to tensor. Apply the compose to MNIST dataset\n",
    "\n",
    "croptensor_data_transform = transforms.Compose([transforms.CenterCrop(20), transforms.ToTensor()])\n",
    "dataset = Dataset(csv_file=csv_file , data_dir=directory,transform=croptensor_data_transform )\n",
    "print(\"The shape of the first element tensor: \", dataset[0][0].shape)"
   ]
  },
  {
   "cell_type": "code",
   "execution_count": 406,
   "metadata": {},
   "outputs": [
    {
     "data": {
      "image/png": "[encoded data removed]",
      "text/plain": [
       "<Figure size 432x288 with 1 Axes>"
      ]
     },
     "metadata": {
      "needs_background": "light"
     },
     "output_type": "display_data"
    }
   ],
   "source": [
    "# Plot the first element in the dataset\n",
    "\n",
    "show_data(dataset[0],shape = (20, 20))"
   ]
  },
  {
   "cell_type": "code",
   "execution_count": 402,
   "metadata": {},
   "outputs": [
    {
     "data": {
      "image/png": "[encoded data removed]",
      "text/plain": [
       "<Figure size 432x288 with 1 Axes>"
      ]
     },
     "metadata": {
      "needs_background": "light"
     },
     "output_type": "display_data"
    }
   ],
   "source": [
    "# Plot the second element in the dataset\n",
    "\n",
    "show_data(dataset[1],shape = (20, 20))"
   ]
  },
  {
   "cell_type": "code",
   "execution_count": 403,
   "metadata": {},
   "outputs": [
    {
     "data": {
      "image/png": "[encoded data removed]",
      "text/plain": [
       "<Figure size 432x288 with 1 Axes>"
      ]
     },
     "metadata": {
      "needs_background": "light"
     },
     "output_type": "display_data"
    }
   ],
   "source": [
    "# Construct the compose. Apply it on MNIST dataset. Plot the image out.\n",
    "\n",
    "fliptensor_data_transform = transforms.Compose([transforms.RandomVerticalFlip(p=1),transforms.ToTensor()])\n",
    "dataset = Dataset(csv_file=csv_file , data_dir=directory,transform=fliptensor_data_transform )\n",
    "show_data(dataset[1])"
   ]
  },
  {
   "cell_type": "code",
   "execution_count": 412,
   "metadata": {},
   "outputs": [
    {
     "data": {
      "text/plain": [
       "(tensor([[[0.0000, 0.0000, 0.0000, 0.0000, 0.0000, 0.0000, 0.0000, 0.0000,\n",
       "           0.0118, 0.0000, 0.1412, 0.5333, 0.4980, 0.2431, 0.2118, 0.0000,\n",
       "           0.0000, 0.0000, 0.0039, 0.0118],\n",
       "          [0.0000, 0.0000, 0.0000, 0.0000, 0.0000, 0.0000, 0.0000, 0.0000,\n",
       "           0.0235, 0.0000, 0.4000, 0.8000, 0.6902, 0.5255, 0.5647, 0.4824,\n",
       "           0.0902, 0.0000, 0.0000, 0.0000],\n",
       "          [0.0000, 0.0000, 0.0000, 0.0000, 0.0000, 0.0000, 0.0000, 0.0000,\n",
       "           0.0000, 0.0000, 0.6078, 0.9255, 0.8118, 0.6980, 0.4196, 0.6118,\n",
       "           0.6314, 0.4275, 0.2510, 0.0902],\n",
       "          [0.0000, 0.0000, 0.0000, 0.0000, 0.0000, 0.0000, 0.0000, 0.0039,\n",
       "           0.0000, 0.2706, 0.8118, 0.8745, 0.8549, 0.8471, 0.8471, 0.6392,\n",
       "           0.4980, 0.4745, 0.4784, 0.5725],\n",
       "          [0.0000, 0.0000, 0.0000, 0.0000, 0.0000, 0.0039, 0.0039, 0.0039,\n",
       "           0.0000, 0.7843, 0.9098, 0.9098, 0.9137, 0.8980, 0.8745, 0.8745,\n",
       "           0.8431, 0.8353, 0.6431, 0.4980],\n",
       "          [0.0000, 0.0000, 0.0000, 0.0000, 0.0000, 0.0000, 0.0000, 0.0000,\n",
       "           0.0000, 0.7176, 0.8824, 0.8471, 0.8745, 0.8941, 0.9216, 0.8902,\n",
       "           0.8784, 0.8706, 0.8784, 0.8667],\n",
       "          [0.0000, 0.0000, 0.0000, 0.0000, 0.0000, 0.0000, 0.0000, 0.0000,\n",
       "           0.0000, 0.7569, 0.8941, 0.8549, 0.8353, 0.7765, 0.7059, 0.8314,\n",
       "           0.8235, 0.8275, 0.8353, 0.8745],\n",
       "          [0.0000, 0.0000, 0.0000, 0.0000, 0.0000, 0.0039, 0.0118, 0.0000,\n",
       "           0.0471, 0.8588, 0.8627, 0.8314, 0.8549, 0.7529, 0.6627, 0.8902,\n",
       "           0.8157, 0.8549, 0.8784, 0.8314],\n",
       "          [0.0000, 0.0000, 0.0000, 0.0000, 0.0000, 0.0000, 0.0235, 0.0000,\n",
       "           0.3882, 0.9569, 0.8706, 0.8627, 0.8549, 0.7961, 0.7765, 0.8667,\n",
       "           0.8431, 0.8353, 0.8706, 0.8627],\n",
       "          [0.0000, 0.0000, 0.0000, 0.0000, 0.0000, 0.0157, 0.0000, 0.0000,\n",
       "           0.2157, 0.9255, 0.8941, 0.9020, 0.8941, 0.9412, 0.9098, 0.8353,\n",
       "           0.8549, 0.8745, 0.9176, 0.8510],\n",
       "          [0.0235, 0.0275, 0.0078, 0.0000, 0.0000, 0.0000, 0.0000, 0.0000,\n",
       "           0.9294, 0.8863, 0.8510, 0.8745, 0.8706, 0.8588, 0.8706, 0.8667,\n",
       "           0.8471, 0.8745, 0.8980, 0.8431],\n",
       "          [0.0000, 0.0000, 0.0000, 0.0000, 0.0000, 0.2431, 0.5686, 0.8000,\n",
       "           0.8941, 0.8118, 0.8353, 0.8667, 0.8549, 0.8157, 0.8275, 0.8549,\n",
       "           0.8784, 0.8745, 0.8588, 0.8431],\n",
       "          [0.0706, 0.1725, 0.3216, 0.4196, 0.7412, 0.8941, 0.8627, 0.8706,\n",
       "           0.8510, 0.8863, 0.7843, 0.8039, 0.8275, 0.9020, 0.8784, 0.9176,\n",
       "           0.6902, 0.7373, 0.9804, 0.9725],\n",
       "          [0.8784, 0.8667, 0.8784, 0.8157, 0.8000, 0.8392, 0.8157, 0.8196,\n",
       "           0.7843, 0.6235, 0.9608, 0.7569, 0.8078, 0.8745, 1.0000, 1.0000,\n",
       "           0.8667, 0.9176, 0.8667, 0.8275],\n",
       "          [0.8667, 0.8275, 0.8275, 0.8392, 0.8039, 0.8039, 0.8039, 0.8627,\n",
       "           0.9412, 0.3137, 0.5882, 1.0000, 0.8980, 0.8667, 0.7373, 0.6039,\n",
       "           0.7490, 0.8235, 0.8000, 0.8196],\n",
       "          [0.8706, 0.8980, 0.8980, 0.9176, 0.9765, 0.8627, 0.7608, 0.8431,\n",
       "           0.8510, 0.9451, 0.2549, 0.2863, 0.4157, 0.4588, 0.6588, 0.8588,\n",
       "           0.8667, 0.8431, 0.8510, 0.8745],\n",
       "          [0.7569, 0.8039, 0.8275, 0.8824, 0.8471, 0.7255, 0.7725, 0.8078,\n",
       "           0.7765, 0.8353, 0.9412, 0.7647, 0.8902, 0.9608, 0.9373, 0.8745,\n",
       "           0.8549, 0.8314, 0.8196, 0.8706],\n",
       "          [0.8353, 0.7725, 0.7255, 0.7451, 0.7608, 0.7529, 0.7922, 0.8392,\n",
       "           0.8588, 0.8667, 0.8627, 0.9255, 0.8824, 0.8471, 0.7804, 0.8078,\n",
       "           0.7294, 0.7098, 0.6941, 0.6745],\n",
       "          [0.7020, 0.6706, 0.7176, 0.7686, 0.8000, 0.8235, 0.8353, 0.8118,\n",
       "           0.8275, 0.8235, 0.7843, 0.7686, 0.7608, 0.7490, 0.7647, 0.7490,\n",
       "           0.7765, 0.7529, 0.6902, 0.6118],\n",
       "          [0.8314, 0.7490, 0.6863, 0.6745, 0.6863, 0.7098, 0.7255, 0.7373,\n",
       "           0.7412, 0.7373, 0.7569, 0.7765, 0.8000, 0.8196, 0.8235, 0.8235,\n",
       "           0.8275, 0.7373, 0.7373, 0.7608]]]),\n",
       " 'Ankle boot')"
      ]
     },
     "execution_count": 412,
     "metadata": {},
     "output_type": "execute_result"
    }
   ],
   "source": [
    "dataset[0]"
   ]
  },
  {
   "cell_type": "code",
   "execution_count": null,
   "metadata": {},
   "outputs": [],
   "source": []
  }
 ],
 "metadata": {
  "kernelspec": {
   "display_name": "Python 3",
   "language": "python",
   "name": "python3"
  },
  "language_info": {
   "codemirror_mode": {
    "name": "ipython",
    "version": 3
   },
   "file_extension": ".py",
   "mimetype": "text/x-python",
   "name": "python",
   "nbconvert_exporter": "python",
   "pygments_lexer": "ipython3",
   "version": "3.8.5"
  }
 },
 "nbformat": 4,
 "nbformat_minor": 4
}
