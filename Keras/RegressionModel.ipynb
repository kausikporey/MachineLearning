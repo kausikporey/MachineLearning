{
 "cells": [
  {
   "cell_type": "code",
   "execution_count": 2,
   "metadata": {},
   "outputs": [
    {
     "data": {
      "text/html": [
       "<div>\n",
       "<style scoped>\n",
       "    .dataframe tbody tr th:only-of-type {\n",
       "        vertical-align: middle;\n",
       "    }\n",
       "\n",
       "    .dataframe tbody tr th {\n",
       "        vertical-align: top;\n",
       "    }\n",
       "\n",
       "    .dataframe thead th {\n",
       "        text-align: right;\n",
       "    }\n",
       "</style>\n",
       "<table border=\"1\" class=\"dataframe\">\n",
       "  <thead>\n",
       "    <tr style=\"text-align: right;\">\n",
       "      <th></th>\n",
       "      <th>Cement</th>\n",
       "      <th>Blast Furnace Slag</th>\n",
       "      <th>Fly Ash</th>\n",
       "      <th>Water</th>\n",
       "      <th>Superplasticizer</th>\n",
       "      <th>Coarse Aggregate</th>\n",
       "      <th>Fine Aggregate</th>\n",
       "      <th>Age</th>\n",
       "      <th>Strength</th>\n",
       "    </tr>\n",
       "  </thead>\n",
       "  <tbody>\n",
       "    <tr>\n",
       "      <th>0</th>\n",
       "      <td>540.0</td>\n",
       "      <td>0.0</td>\n",
       "      <td>0.0</td>\n",
       "      <td>162.0</td>\n",
       "      <td>2.5</td>\n",
       "      <td>1040.0</td>\n",
       "      <td>676.0</td>\n",
       "      <td>28</td>\n",
       "      <td>79.99</td>\n",
       "    </tr>\n",
       "    <tr>\n",
       "      <th>1</th>\n",
       "      <td>540.0</td>\n",
       "      <td>0.0</td>\n",
       "      <td>0.0</td>\n",
       "      <td>162.0</td>\n",
       "      <td>2.5</td>\n",
       "      <td>1055.0</td>\n",
       "      <td>676.0</td>\n",
       "      <td>28</td>\n",
       "      <td>61.89</td>\n",
       "    </tr>\n",
       "    <tr>\n",
       "      <th>2</th>\n",
       "      <td>332.5</td>\n",
       "      <td>142.5</td>\n",
       "      <td>0.0</td>\n",
       "      <td>228.0</td>\n",
       "      <td>0.0</td>\n",
       "      <td>932.0</td>\n",
       "      <td>594.0</td>\n",
       "      <td>270</td>\n",
       "      <td>40.27</td>\n",
       "    </tr>\n",
       "    <tr>\n",
       "      <th>3</th>\n",
       "      <td>332.5</td>\n",
       "      <td>142.5</td>\n",
       "      <td>0.0</td>\n",
       "      <td>228.0</td>\n",
       "      <td>0.0</td>\n",
       "      <td>932.0</td>\n",
       "      <td>594.0</td>\n",
       "      <td>365</td>\n",
       "      <td>41.05</td>\n",
       "    </tr>\n",
       "    <tr>\n",
       "      <th>4</th>\n",
       "      <td>198.6</td>\n",
       "      <td>132.4</td>\n",
       "      <td>0.0</td>\n",
       "      <td>192.0</td>\n",
       "      <td>0.0</td>\n",
       "      <td>978.4</td>\n",
       "      <td>825.5</td>\n",
       "      <td>360</td>\n",
       "      <td>44.30</td>\n",
       "    </tr>\n",
       "  </tbody>\n",
       "</table>\n",
       "</div>"
      ],
      "text/plain": [
       "   Cement  Blast Furnace Slag  Fly Ash  Water  Superplasticizer  \\\n",
       "0   540.0                 0.0      0.0  162.0               2.5   \n",
       "1   540.0                 0.0      0.0  162.0               2.5   \n",
       "2   332.5               142.5      0.0  228.0               0.0   \n",
       "3   332.5               142.5      0.0  228.0               0.0   \n",
       "4   198.6               132.4      0.0  192.0               0.0   \n",
       "\n",
       "   Coarse Aggregate  Fine Aggregate  Age  Strength  \n",
       "0            1040.0           676.0   28     79.99  \n",
       "1            1055.0           676.0   28     61.89  \n",
       "2             932.0           594.0  270     40.27  \n",
       "3             932.0           594.0  365     41.05  \n",
       "4             978.4           825.5  360     44.30  "
      ]
     },
     "execution_count": 2,
     "metadata": {},
     "output_type": "execute_result"
    }
   ],
   "source": [
    "import keras\n",
    "import pandas as pd\n",
    "concrete_data = pd.read_csv('https://s3-api.us-geo.objectstorage.softlayer.net/cf-courses-data/CognitiveClass/DL0101EN/labs/data/concrete_data.csv')\n",
    "concrete_data.head()"
   ]
  },
  {
   "cell_type": "code",
   "execution_count": 23,
   "metadata": {},
   "outputs": [
    {
     "data": {
      "text/plain": [
       "(1030, 9)"
      ]
     },
     "execution_count": 23,
     "metadata": {},
     "output_type": "execute_result"
    }
   ],
   "source": [
    "concrete_data.shape\n",
    "#concrete_data.describe()\n",
    "#concrete_data.isnull().sum()"
   ]
  },
  {
   "cell_type": "code",
   "execution_count": 7,
   "metadata": {},
   "outputs": [],
   "source": [
    "concrete_data_columns = concrete_data.columns\n",
    "predictors = concrete_data[concrete_data_columns[concrete_data_columns != 'Strength']]\n",
    "target = concrete_data['Strength']"
   ]
  },
  {
   "cell_type": "code",
   "execution_count": 9,
   "metadata": {},
   "outputs": [
    {
     "data": {
      "text/plain": [
       "Cement                 540.0\n",
       "Blast Furnace Slag       0.0\n",
       "Fly Ash                  0.0\n",
       "Water                  162.0\n",
       "Superplasticizer         2.5\n",
       "Coarse Aggregate      1040.0\n",
       "Fine Aggregate         676.0\n",
       "Age                     28.0\n",
       "Name: 0, dtype: float64"
      ]
     },
     "execution_count": 9,
     "metadata": {},
     "output_type": "execute_result"
    }
   ],
   "source": [
    "predictors.head()\n",
    "predictors.loc[0]"
   ]
  },
  {
   "cell_type": "code",
   "execution_count": 17,
   "metadata": {},
   "outputs": [
    {
     "data": {
      "text/plain": [
       "0    79.99\n",
       "1    61.89\n",
       "2    40.27\n",
       "3    41.05\n",
       "4    44.30\n",
       "Name: Strength, dtype: float64"
      ]
     },
     "execution_count": 17,
     "metadata": {},
     "output_type": "execute_result"
    }
   ],
   "source": [
    "target.head()"
   ]
  },
  {
   "cell_type": "code",
   "execution_count": 28,
   "metadata": {},
   "outputs": [
    {
     "data": {
      "text/html": [
       "<div>\n",
       "<style scoped>\n",
       "    .dataframe tbody tr th:only-of-type {\n",
       "        vertical-align: middle;\n",
       "    }\n",
       "\n",
       "    .dataframe tbody tr th {\n",
       "        vertical-align: top;\n",
       "    }\n",
       "\n",
       "    .dataframe thead th {\n",
       "        text-align: right;\n",
       "    }\n",
       "</style>\n",
       "<table border=\"1\" class=\"dataframe\">\n",
       "  <thead>\n",
       "    <tr style=\"text-align: right;\">\n",
       "      <th></th>\n",
       "      <th>Cement</th>\n",
       "      <th>Blast Furnace Slag</th>\n",
       "      <th>Fly Ash</th>\n",
       "      <th>Water</th>\n",
       "      <th>Superplasticizer</th>\n",
       "      <th>Coarse Aggregate</th>\n",
       "      <th>Fine Aggregate</th>\n",
       "      <th>Age</th>\n",
       "    </tr>\n",
       "  </thead>\n",
       "  <tbody>\n",
       "    <tr>\n",
       "      <th>0</th>\n",
       "      <td>2.476712</td>\n",
       "      <td>-0.856472</td>\n",
       "      <td>-0.846733</td>\n",
       "      <td>-0.916319</td>\n",
       "      <td>-0.620147</td>\n",
       "      <td>0.862735</td>\n",
       "      <td>-1.217079</td>\n",
       "      <td>-0.279597</td>\n",
       "    </tr>\n",
       "    <tr>\n",
       "      <th>1</th>\n",
       "      <td>2.476712</td>\n",
       "      <td>-0.856472</td>\n",
       "      <td>-0.846733</td>\n",
       "      <td>-0.916319</td>\n",
       "      <td>-0.620147</td>\n",
       "      <td>1.055651</td>\n",
       "      <td>-1.217079</td>\n",
       "      <td>-0.279597</td>\n",
       "    </tr>\n",
       "    <tr>\n",
       "      <th>2</th>\n",
       "      <td>0.491187</td>\n",
       "      <td>0.795140</td>\n",
       "      <td>-0.846733</td>\n",
       "      <td>2.174405</td>\n",
       "      <td>-1.038638</td>\n",
       "      <td>-0.526262</td>\n",
       "      <td>-2.239829</td>\n",
       "      <td>3.551340</td>\n",
       "    </tr>\n",
       "    <tr>\n",
       "      <th>3</th>\n",
       "      <td>0.491187</td>\n",
       "      <td>0.795140</td>\n",
       "      <td>-0.846733</td>\n",
       "      <td>2.174405</td>\n",
       "      <td>-1.038638</td>\n",
       "      <td>-0.526262</td>\n",
       "      <td>-2.239829</td>\n",
       "      <td>5.055221</td>\n",
       "    </tr>\n",
       "    <tr>\n",
       "      <th>4</th>\n",
       "      <td>-0.790075</td>\n",
       "      <td>0.678079</td>\n",
       "      <td>-0.846733</td>\n",
       "      <td>0.488555</td>\n",
       "      <td>-1.038638</td>\n",
       "      <td>0.070492</td>\n",
       "      <td>0.647569</td>\n",
       "      <td>4.976069</td>\n",
       "    </tr>\n",
       "  </tbody>\n",
       "</table>\n",
       "</div>"
      ],
      "text/plain": [
       "     Cement  Blast Furnace Slag   Fly Ash     Water  Superplasticizer  \\\n",
       "0  2.476712           -0.856472 -0.846733 -0.916319         -0.620147   \n",
       "1  2.476712           -0.856472 -0.846733 -0.916319         -0.620147   \n",
       "2  0.491187            0.795140 -0.846733  2.174405         -1.038638   \n",
       "3  0.491187            0.795140 -0.846733  2.174405         -1.038638   \n",
       "4 -0.790075            0.678079 -0.846733  0.488555         -1.038638   \n",
       "\n",
       "   Coarse Aggregate  Fine Aggregate       Age  \n",
       "0          0.862735       -1.217079 -0.279597  \n",
       "1          1.055651       -1.217079 -0.279597  \n",
       "2         -0.526262       -2.239829  3.551340  \n",
       "3         -0.526262       -2.239829  5.055221  \n",
       "4          0.070492        0.647569  4.976069  "
      ]
     },
     "execution_count": 28,
     "metadata": {},
     "output_type": "execute_result"
    }
   ],
   "source": [
    "predictors_norm = (predictors-predictors.mean())/predictors.std()#to scale the data\n",
    "predictors_norm.head()"
   ]
  },
  {
   "cell_type": "code",
   "execution_count": 26,
   "metadata": {},
   "outputs": [
    {
     "name": "stdout",
     "output_type": "stream",
     "text": [
      "<class 'tuple'>\n"
     ]
    }
   ],
   "source": [
    "n_cols = predictors.shape\n",
    "print(type(n_cols))"
   ]
  },
  {
   "cell_type": "code",
   "execution_count": 17,
   "metadata": {},
   "outputs": [],
   "source": [
    "from keras.models import Sequential\n",
    "from keras.layers import Dense #dense layer means all the next layer node are connected to its all previos layer node\n",
    "def regressionModel():\n",
    "    model = Sequential()\n",
    "    model.add(Dense(5,activation='relu',input_shape=(n_cols))) #relu is the most popular activation function for hidden layer\n",
    "    model.add(Dense(5,activation='relu')) # 5 is the number of node in the layer\n",
    "    model.add(Dense(1)) #output layer\n",
    "\n",
    "    model.compile(optimizer='adam',loss='mean_squared_error')\n",
    "    return model"
   ]
  },
  {
   "cell_type": "code",
   "execution_count": 18,
   "metadata": {},
   "outputs": [
    {
     "name": "stdout",
     "output_type": "stream",
     "text": [
      "Model: \"sequential_1\"\n",
      "_________________________________________________________________\n",
      "Layer (type)                 Output Shape              Param #   \n",
      "=================================================================\n",
      "dense (Dense)                (None, 1030, 5)           45        \n",
      "_________________________________________________________________\n",
      "dense_1 (Dense)              (None, 1030, 5)           30        \n",
      "_________________________________________________________________\n",
      "dense_2 (Dense)              (None, 1030, 1)           6         \n",
      "=================================================================\n",
      "Total params: 81\n",
      "Trainable params: 81\n",
      "Non-trainable params: 0\n",
      "_________________________________________________________________\n"
     ]
    }
   ],
   "source": [
    "model = regressionModel()\n",
    "model.summary()"
   ]
  },
  {
   "cell_type": "code",
   "execution_count": 29,
   "metadata": {
    "tags": []
   },
   "outputs": [
    {
     "name": "stdout",
     "output_type": "stream",
     "text": [
      "Epoch 1/50\n",
      "26/26 - 0s - loss: 49.4125 - val_loss: 99.3913\n",
      "Epoch 2/50\n",
      "26/26 - 0s - loss: 49.1905 - val_loss: 97.5402\n",
      "Epoch 3/50\n",
      "26/26 - 0s - loss: 49.0142 - val_loss: 98.5636\n",
      "Epoch 4/50\n",
      "26/26 - 0s - loss: 48.8700 - val_loss: 99.7705\n",
      "Epoch 5/50\n",
      "26/26 - 0s - loss: 48.5086 - val_loss: 97.7398\n",
      "Epoch 6/50\n",
      "26/26 - 0s - loss: 48.4281 - val_loss: 98.8654\n",
      "Epoch 7/50\n",
      "26/26 - 0s - loss: 48.2380 - val_loss: 97.8726\n",
      "Epoch 8/50\n",
      "26/26 - 0s - loss: 48.0683 - val_loss: 98.1858\n",
      "Epoch 9/50\n",
      "26/26 - 0s - loss: 47.9775 - val_loss: 98.0146\n",
      "Epoch 10/50\n",
      "26/26 - 0s - loss: 47.9460 - val_loss: 99.2117\n",
      "Epoch 11/50\n",
      "26/26 - 0s - loss: 47.7938 - val_loss: 99.4175\n",
      "Epoch 12/50\n",
      "26/26 - 0s - loss: 47.4490 - val_loss: 96.7587\n",
      "Epoch 13/50\n",
      "26/26 - 0s - loss: 47.3753 - val_loss: 98.0937\n",
      "Epoch 14/50\n",
      "26/26 - 0s - loss: 47.1360 - val_loss: 99.0881\n",
      "Epoch 15/50\n",
      "26/26 - 0s - loss: 46.9507 - val_loss: 98.8977\n",
      "Epoch 16/50\n",
      "26/26 - 0s - loss: 46.8922 - val_loss: 98.7327\n",
      "Epoch 17/50\n",
      "26/26 - 0s - loss: 46.8084 - val_loss: 97.8923\n",
      "Epoch 18/50\n",
      "26/26 - 0s - loss: 46.7034 - val_loss: 97.7861\n",
      "Epoch 19/50\n",
      "26/26 - 0s - loss: 46.5543 - val_loss: 99.3027\n",
      "Epoch 20/50\n",
      "26/26 - 0s - loss: 46.4194 - val_loss: 97.6972\n",
      "Epoch 21/50\n",
      "26/26 - 0s - loss: 46.2678 - val_loss: 98.1708\n",
      "Epoch 22/50\n",
      "26/26 - 0s - loss: 46.2347 - val_loss: 98.2977\n",
      "Epoch 23/50\n",
      "26/26 - 0s - loss: 46.1972 - val_loss: 99.6319\n",
      "Epoch 24/50\n",
      "26/26 - 0s - loss: 46.0913 - val_loss: 99.7056\n",
      "Epoch 25/50\n",
      "26/26 - 0s - loss: 45.7445 - val_loss: 97.6353\n",
      "Epoch 26/50\n",
      "26/26 - 0s - loss: 45.6611 - val_loss: 98.4859\n",
      "Epoch 27/50\n",
      "26/26 - 0s - loss: 45.4142 - val_loss: 98.1505\n",
      "Epoch 28/50\n",
      "26/26 - 0s - loss: 45.4558 - val_loss: 98.4264\n",
      "Epoch 29/50\n",
      "26/26 - 0s - loss: 45.1746 - val_loss: 99.5508\n",
      "Epoch 30/50\n",
      "26/26 - 0s - loss: 45.2528 - val_loss: 97.9691\n",
      "Epoch 31/50\n",
      "26/26 - 0s - loss: 44.9803 - val_loss: 98.9901\n",
      "Epoch 32/50\n",
      "26/26 - 0s - loss: 44.9905 - val_loss: 97.0043\n",
      "Epoch 33/50\n",
      "26/26 - 0s - loss: 44.7189 - val_loss: 98.3527\n",
      "Epoch 34/50\n",
      "26/26 - 0s - loss: 44.8405 - val_loss: 97.7208\n",
      "Epoch 35/50\n",
      "26/26 - 0s - loss: 44.6054 - val_loss: 97.5214\n",
      "Epoch 36/50\n",
      "26/26 - 0s - loss: 44.5701 - val_loss: 97.2209\n",
      "Epoch 37/50\n",
      "26/26 - 0s - loss: 44.4693 - val_loss: 96.6292\n",
      "Epoch 38/50\n",
      "26/26 - 0s - loss: 44.3743 - val_loss: 96.4494\n",
      "Epoch 39/50\n",
      "26/26 - 0s - loss: 44.2639 - val_loss: 97.4519\n",
      "Epoch 40/50\n",
      "26/26 - 0s - loss: 44.1901 - val_loss: 96.6031\n",
      "Epoch 41/50\n",
      "26/26 - 0s - loss: 44.0745 - val_loss: 97.3084\n",
      "Epoch 42/50\n",
      "26/26 - 0s - loss: 44.2657 - val_loss: 97.2731\n",
      "Epoch 43/50\n",
      "26/26 - 0s - loss: 43.7706 - val_loss: 97.0845\n",
      "Epoch 44/50\n",
      "26/26 - 0s - loss: 44.0099 - val_loss: 96.9611\n",
      "Epoch 45/50\n",
      "26/26 - 0s - loss: 43.6944 - val_loss: 98.1390\n",
      "Epoch 46/50\n",
      "26/26 - 0s - loss: 43.5761 - val_loss: 95.8390\n",
      "Epoch 47/50\n",
      "26/26 - 0s - loss: 43.6340 - val_loss: 97.8661\n",
      "Epoch 48/50\n",
      "26/26 - 0s - loss: 43.5057 - val_loss: 95.9001\n",
      "Epoch 49/50\n",
      "26/26 - 0s - loss: 43.3261 - val_loss: 96.5913\n",
      "Epoch 50/50\n",
      "26/26 - 0s - loss: 43.1887 - val_loss: 96.7402\n"
     ]
    },
    {
     "data": {
      "text/plain": [
       "<tensorflow.python.keras.callbacks.History at 0x2603c0c7160>"
      ]
     },
     "execution_count": 29,
     "metadata": {},
     "output_type": "execute_result"
    }
   ],
   "source": [
    "model.fit(predictors_norm,target,validation_split=0.2,epochs=50,verbose=2)"
   ]
  },
  {
   "cell_type": "code",
   "execution_count": null,
   "metadata": {},
   "outputs": [],
   "source": [
    "keras.backend.clear_session() #to clear the session"
   ]
  }
 ],
 "metadata": {
  "kernelspec": {
   "display_name": "Python 3.8.5 64-bit",
   "language": "python",
   "name": "python38564bit9cd8148d371b4612a82fdac355baf468"
  },
  "language_info": {
   "codemirror_mode": {
    "name": "ipython",
    "version": 3
   },
   "file_extension": ".py",
   "mimetype": "text/x-python",
   "name": "python",
   "nbconvert_exporter": "python",
   "pygments_lexer": "ipython3",
   "version": "3.8.5"
  }
 },
 "nbformat": 4,
 "nbformat_minor": 2
}
